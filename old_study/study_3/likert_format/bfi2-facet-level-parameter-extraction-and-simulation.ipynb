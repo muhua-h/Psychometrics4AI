{
 "cells": [
  {
   "cell_type": "markdown",
   "source": [
    "# Set Up"
   ],
   "metadata": {
    "collapsed": false
   },
   "id": "389ff845e6a1a01e"
  },
  {
   "cell_type": "code",
   "outputs": [
    {
     "data": {
      "text/plain": "     case_id   age sex  ethnicity  rel_acquaintance  rel_friend  rel_roommate  \\\n0          1  27.0   M        2.0               NaN         NaN           NaN   \n1          2  26.0   M        3.0               NaN         NaN           NaN   \n2          3  24.0   F        4.0               NaN         NaN           NaN   \n3          4  33.0   M        3.0               NaN         1.0           NaN   \n4          5  23.0   F        5.0               NaN         NaN           NaN   \n..       ...   ...  ..        ...               ...         ...           ...   \n465      466  20.0   F        3.0               NaN         NaN           NaN   \n466      467  27.0   M        4.0               NaN         NaN           NaN   \n467      468  21.0   F        3.0               NaN         NaN           NaN   \n468      469  20.0   F        3.0               NaN         NaN           NaN   \n469      470  21.0   M        2.0               NaN         NaN           NaN   \n\n     rel_boygirlfriend  rel_relative  rel_other  ... tneo_n3_dep  tneo_n4_sel  \\\n0                  NaN           NaN        NaN  ...       51.25        40.18   \n1                  NaN           NaN        NaN  ...       69.63        60.64   \n2                  NaN           NaN        NaN  ...       60.44        74.27   \n3                  NaN           NaN        NaN  ...       67.79        58.36   \n4                  NaN           NaN        NaN  ...       62.28        67.45   \n..                 ...           ...        ...  ...         ...          ...   \n465                NaN           NaN        NaN  ...       38.38        40.18   \n466                NaN           NaN        NaN  ...       76.99        72.00   \n467                NaN           NaN        NaN  ...       54.93        62.91   \n468                NaN           NaN        NaN  ...       47.57        37.91   \n469                NaN           NaN        NaN  ...       49.41        44.73   \n\n     tneo_n5_imp  tneo_n6_vul  tneo_o1_fan  tneo_o2_aes  tneo_o3_fee  \\\n0          64.00        55.10        46.64        46.97         66.7   \n1          66.27        65.31        54.84        56.44         51.7   \n2          54.91        65.31        75.33        56.44         56.7   \n3          64.00        52.55        54.84        50.76         36.7   \n4          41.27        60.20        50.74        48.86         49.2   \n..           ...          ...          ...          ...          ...   \n465        23.09        27.04        56.89        73.48         69.2   \n466        68.55        75.51        71.23        75.38         61.7   \n467        39.00        62.76        52.79        62.12         69.2   \n468        57.18        39.80        63.03        45.08         36.7   \n469        50.36        29.59        69.18        67.80         64.2   \n\n     tneo_o4_act  tneo_o5_ide  tneo_o6_val  \n0          57.07        41.98        58.04  \n1          51.63        51.90        45.78  \n2          40.76        51.90        58.04  \n3          65.22        63.81        58.04  \n4          46.20        38.02        38.43  \n..           ...          ...          ...  \n465        57.07        71.75        67.84  \n466        67.93        67.78        58.04  \n467        59.78        47.94        62.94  \n468        59.78        41.98        55.59  \n469        76.09        73.73        50.69  \n\n[470 rows x 704 columns]",
      "text/html": "<div>\n<style scoped>\n    .dataframe tbody tr th:only-of-type {\n        vertical-align: middle;\n    }\n\n    .dataframe tbody tr th {\n        vertical-align: top;\n    }\n\n    .dataframe thead th {\n        text-align: right;\n    }\n</style>\n<table border=\"1\" class=\"dataframe\">\n  <thead>\n    <tr style=\"text-align: right;\">\n      <th></th>\n      <th>case_id</th>\n      <th>age</th>\n      <th>sex</th>\n      <th>ethnicity</th>\n      <th>rel_acquaintance</th>\n      <th>rel_friend</th>\n      <th>rel_roommate</th>\n      <th>rel_boygirlfriend</th>\n      <th>rel_relative</th>\n      <th>rel_other</th>\n      <th>...</th>\n      <th>tneo_n3_dep</th>\n      <th>tneo_n4_sel</th>\n      <th>tneo_n5_imp</th>\n      <th>tneo_n6_vul</th>\n      <th>tneo_o1_fan</th>\n      <th>tneo_o2_aes</th>\n      <th>tneo_o3_fee</th>\n      <th>tneo_o4_act</th>\n      <th>tneo_o5_ide</th>\n      <th>tneo_o6_val</th>\n    </tr>\n  </thead>\n  <tbody>\n    <tr>\n      <th>0</th>\n      <td>1</td>\n      <td>27.0</td>\n      <td>M</td>\n      <td>2.0</td>\n      <td>NaN</td>\n      <td>NaN</td>\n      <td>NaN</td>\n      <td>NaN</td>\n      <td>NaN</td>\n      <td>NaN</td>\n      <td>...</td>\n      <td>51.25</td>\n      <td>40.18</td>\n      <td>64.00</td>\n      <td>55.10</td>\n      <td>46.64</td>\n      <td>46.97</td>\n      <td>66.7</td>\n      <td>57.07</td>\n      <td>41.98</td>\n      <td>58.04</td>\n    </tr>\n    <tr>\n      <th>1</th>\n      <td>2</td>\n      <td>26.0</td>\n      <td>M</td>\n      <td>3.0</td>\n      <td>NaN</td>\n      <td>NaN</td>\n      <td>NaN</td>\n      <td>NaN</td>\n      <td>NaN</td>\n      <td>NaN</td>\n      <td>...</td>\n      <td>69.63</td>\n      <td>60.64</td>\n      <td>66.27</td>\n      <td>65.31</td>\n      <td>54.84</td>\n      <td>56.44</td>\n      <td>51.7</td>\n      <td>51.63</td>\n      <td>51.90</td>\n      <td>45.78</td>\n    </tr>\n    <tr>\n      <th>2</th>\n      <td>3</td>\n      <td>24.0</td>\n      <td>F</td>\n      <td>4.0</td>\n      <td>NaN</td>\n      <td>NaN</td>\n      <td>NaN</td>\n      <td>NaN</td>\n      <td>NaN</td>\n      <td>NaN</td>\n      <td>...</td>\n      <td>60.44</td>\n      <td>74.27</td>\n      <td>54.91</td>\n      <td>65.31</td>\n      <td>75.33</td>\n      <td>56.44</td>\n      <td>56.7</td>\n      <td>40.76</td>\n      <td>51.90</td>\n      <td>58.04</td>\n    </tr>\n    <tr>\n      <th>3</th>\n      <td>4</td>\n      <td>33.0</td>\n      <td>M</td>\n      <td>3.0</td>\n      <td>NaN</td>\n      <td>1.0</td>\n      <td>NaN</td>\n      <td>NaN</td>\n      <td>NaN</td>\n      <td>NaN</td>\n      <td>...</td>\n      <td>67.79</td>\n      <td>58.36</td>\n      <td>64.00</td>\n      <td>52.55</td>\n      <td>54.84</td>\n      <td>50.76</td>\n      <td>36.7</td>\n      <td>65.22</td>\n      <td>63.81</td>\n      <td>58.04</td>\n    </tr>\n    <tr>\n      <th>4</th>\n      <td>5</td>\n      <td>23.0</td>\n      <td>F</td>\n      <td>5.0</td>\n      <td>NaN</td>\n      <td>NaN</td>\n      <td>NaN</td>\n      <td>NaN</td>\n      <td>NaN</td>\n      <td>NaN</td>\n      <td>...</td>\n      <td>62.28</td>\n      <td>67.45</td>\n      <td>41.27</td>\n      <td>60.20</td>\n      <td>50.74</td>\n      <td>48.86</td>\n      <td>49.2</td>\n      <td>46.20</td>\n      <td>38.02</td>\n      <td>38.43</td>\n    </tr>\n    <tr>\n      <th>...</th>\n      <td>...</td>\n      <td>...</td>\n      <td>...</td>\n      <td>...</td>\n      <td>...</td>\n      <td>...</td>\n      <td>...</td>\n      <td>...</td>\n      <td>...</td>\n      <td>...</td>\n      <td>...</td>\n      <td>...</td>\n      <td>...</td>\n      <td>...</td>\n      <td>...</td>\n      <td>...</td>\n      <td>...</td>\n      <td>...</td>\n      <td>...</td>\n      <td>...</td>\n      <td>...</td>\n    </tr>\n    <tr>\n      <th>465</th>\n      <td>466</td>\n      <td>20.0</td>\n      <td>F</td>\n      <td>3.0</td>\n      <td>NaN</td>\n      <td>NaN</td>\n      <td>NaN</td>\n      <td>NaN</td>\n      <td>NaN</td>\n      <td>NaN</td>\n      <td>...</td>\n      <td>38.38</td>\n      <td>40.18</td>\n      <td>23.09</td>\n      <td>27.04</td>\n      <td>56.89</td>\n      <td>73.48</td>\n      <td>69.2</td>\n      <td>57.07</td>\n      <td>71.75</td>\n      <td>67.84</td>\n    </tr>\n    <tr>\n      <th>466</th>\n      <td>467</td>\n      <td>27.0</td>\n      <td>M</td>\n      <td>4.0</td>\n      <td>NaN</td>\n      <td>NaN</td>\n      <td>NaN</td>\n      <td>NaN</td>\n      <td>NaN</td>\n      <td>NaN</td>\n      <td>...</td>\n      <td>76.99</td>\n      <td>72.00</td>\n      <td>68.55</td>\n      <td>75.51</td>\n      <td>71.23</td>\n      <td>75.38</td>\n      <td>61.7</td>\n      <td>67.93</td>\n      <td>67.78</td>\n      <td>58.04</td>\n    </tr>\n    <tr>\n      <th>467</th>\n      <td>468</td>\n      <td>21.0</td>\n      <td>F</td>\n      <td>3.0</td>\n      <td>NaN</td>\n      <td>NaN</td>\n      <td>NaN</td>\n      <td>NaN</td>\n      <td>NaN</td>\n      <td>NaN</td>\n      <td>...</td>\n      <td>54.93</td>\n      <td>62.91</td>\n      <td>39.00</td>\n      <td>62.76</td>\n      <td>52.79</td>\n      <td>62.12</td>\n      <td>69.2</td>\n      <td>59.78</td>\n      <td>47.94</td>\n      <td>62.94</td>\n    </tr>\n    <tr>\n      <th>468</th>\n      <td>469</td>\n      <td>20.0</td>\n      <td>F</td>\n      <td>3.0</td>\n      <td>NaN</td>\n      <td>NaN</td>\n      <td>NaN</td>\n      <td>NaN</td>\n      <td>NaN</td>\n      <td>NaN</td>\n      <td>...</td>\n      <td>47.57</td>\n      <td>37.91</td>\n      <td>57.18</td>\n      <td>39.80</td>\n      <td>63.03</td>\n      <td>45.08</td>\n      <td>36.7</td>\n      <td>59.78</td>\n      <td>41.98</td>\n      <td>55.59</td>\n    </tr>\n    <tr>\n      <th>469</th>\n      <td>470</td>\n      <td>21.0</td>\n      <td>M</td>\n      <td>2.0</td>\n      <td>NaN</td>\n      <td>NaN</td>\n      <td>NaN</td>\n      <td>NaN</td>\n      <td>NaN</td>\n      <td>NaN</td>\n      <td>...</td>\n      <td>49.41</td>\n      <td>44.73</td>\n      <td>50.36</td>\n      <td>29.59</td>\n      <td>69.18</td>\n      <td>67.80</td>\n      <td>64.2</td>\n      <td>76.09</td>\n      <td>73.73</td>\n      <td>50.69</td>\n    </tr>\n  </tbody>\n</table>\n<p>470 rows × 704 columns</p>\n</div>"
     },
     "execution_count": 1,
     "metadata": {},
     "output_type": "execute_result"
    }
   ],
   "source": [
    "import pandas as pd\n",
    "import numpy as np\n",
    "import random\n",
    "\n",
    "random.seed(1234)\n",
    "np.random.seed(1234)  # Sets the seed specifically for NumPy's random number generator\n",
    "\n",
    "\n",
    "# load data\n",
    "data = pd.read_csv('data.csv')\n",
    "data"
   ],
   "metadata": {
    "collapsed": false,
    "ExecuteTime": {
     "end_time": "2024-04-17T05:30:11.645548Z",
     "start_time": "2024-04-17T05:30:11.138774Z"
    }
   },
   "id": "a8c8c5bebb73bff8",
   "execution_count": 1
  },
  {
   "cell_type": "code",
   "outputs": [
    {
     "data": {
      "text/plain": "     case_id   age sex  ethnicity  rel_acquaintance  rel_friend  rel_roommate  \\\n0          1  27.0   M        2.0               NaN         NaN           NaN   \n1          2  26.0   M        3.0               NaN         NaN           NaN   \n2          3  24.0   F        4.0               NaN         NaN           NaN   \n3          4  33.0   M        3.0               NaN         1.0           NaN   \n4          5  23.0   F        5.0               NaN         NaN           NaN   \n..       ...   ...  ..        ...               ...         ...           ...   \n465      466  20.0   F        3.0               NaN         NaN           NaN   \n466      467  27.0   M        4.0               NaN         NaN           NaN   \n467      468  21.0   F        3.0               NaN         NaN           NaN   \n468      469  20.0   F        3.0               NaN         NaN           NaN   \n469      470  21.0   M        2.0               NaN         NaN           NaN   \n\n     rel_boygirlfriend  rel_relative  rel_other  ... reversed_bfi51  \\\n0                  NaN           NaN        NaN  ...              5   \n1                  NaN           NaN        NaN  ...              2   \n2                  NaN           NaN        NaN  ...              2   \n3                  NaN           NaN        NaN  ...              4   \n4                  NaN           NaN        NaN  ...              3   \n..                 ...           ...        ...  ...            ...   \n465                NaN           NaN        NaN  ...              5   \n466                NaN           NaN        NaN  ...              2   \n467                NaN           NaN        NaN  ...              2   \n468                NaN           NaN        NaN  ...              4   \n469                NaN           NaN        NaN  ...              5   \n\n     reversed_bfi52  reversed_bfi53  reversed_bfi54  reversed_bfi55  \\\n0                 5               4               3               2   \n1                 4               4               4               4   \n2                 5               3               4               5   \n3                 4               2               5               4   \n4                 4               4               2               3   \n..              ...             ...             ...             ...   \n465               5               5               2               5   \n466               4               3               4               5   \n467               5               5               2               4   \n468               5               4               1               4   \n469               5               4               1               5   \n\n     reversed_bfi56  reversed_bfi57  reversed_bfi58  reversed_bfi59  \\\n0                 5               5               2               1   \n1                 4               3               2               4   \n2                 2               4               5               1   \n3                 4               4               2               2   \n4                 3               3               4               3   \n..              ...             ...             ...             ...   \n465               2               4               3               1   \n466               3               5               2               3   \n467               5               5               5               2   \n468               5               5               4               2   \n469               5               5               4               2   \n\n     reversed_bfi60  \n0                 1  \n1                 4  \n2                 4  \n3                 4  \n4                 3  \n..              ...  \n465               4  \n466               3  \n467               4  \n468               5  \n469               5  \n\n[470 rows x 764 columns]",
      "text/html": "<div>\n<style scoped>\n    .dataframe tbody tr th:only-of-type {\n        vertical-align: middle;\n    }\n\n    .dataframe tbody tr th {\n        vertical-align: top;\n    }\n\n    .dataframe thead th {\n        text-align: right;\n    }\n</style>\n<table border=\"1\" class=\"dataframe\">\n  <thead>\n    <tr style=\"text-align: right;\">\n      <th></th>\n      <th>case_id</th>\n      <th>age</th>\n      <th>sex</th>\n      <th>ethnicity</th>\n      <th>rel_acquaintance</th>\n      <th>rel_friend</th>\n      <th>rel_roommate</th>\n      <th>rel_boygirlfriend</th>\n      <th>rel_relative</th>\n      <th>rel_other</th>\n      <th>...</th>\n      <th>reversed_bfi51</th>\n      <th>reversed_bfi52</th>\n      <th>reversed_bfi53</th>\n      <th>reversed_bfi54</th>\n      <th>reversed_bfi55</th>\n      <th>reversed_bfi56</th>\n      <th>reversed_bfi57</th>\n      <th>reversed_bfi58</th>\n      <th>reversed_bfi59</th>\n      <th>reversed_bfi60</th>\n    </tr>\n  </thead>\n  <tbody>\n    <tr>\n      <th>0</th>\n      <td>1</td>\n      <td>27.0</td>\n      <td>M</td>\n      <td>2.0</td>\n      <td>NaN</td>\n      <td>NaN</td>\n      <td>NaN</td>\n      <td>NaN</td>\n      <td>NaN</td>\n      <td>NaN</td>\n      <td>...</td>\n      <td>5</td>\n      <td>5</td>\n      <td>4</td>\n      <td>3</td>\n      <td>2</td>\n      <td>5</td>\n      <td>5</td>\n      <td>2</td>\n      <td>1</td>\n      <td>1</td>\n    </tr>\n    <tr>\n      <th>1</th>\n      <td>2</td>\n      <td>26.0</td>\n      <td>M</td>\n      <td>3.0</td>\n      <td>NaN</td>\n      <td>NaN</td>\n      <td>NaN</td>\n      <td>NaN</td>\n      <td>NaN</td>\n      <td>NaN</td>\n      <td>...</td>\n      <td>2</td>\n      <td>4</td>\n      <td>4</td>\n      <td>4</td>\n      <td>4</td>\n      <td>4</td>\n      <td>3</td>\n      <td>2</td>\n      <td>4</td>\n      <td>4</td>\n    </tr>\n    <tr>\n      <th>2</th>\n      <td>3</td>\n      <td>24.0</td>\n      <td>F</td>\n      <td>4.0</td>\n      <td>NaN</td>\n      <td>NaN</td>\n      <td>NaN</td>\n      <td>NaN</td>\n      <td>NaN</td>\n      <td>NaN</td>\n      <td>...</td>\n      <td>2</td>\n      <td>5</td>\n      <td>3</td>\n      <td>4</td>\n      <td>5</td>\n      <td>2</td>\n      <td>4</td>\n      <td>5</td>\n      <td>1</td>\n      <td>4</td>\n    </tr>\n    <tr>\n      <th>3</th>\n      <td>4</td>\n      <td>33.0</td>\n      <td>M</td>\n      <td>3.0</td>\n      <td>NaN</td>\n      <td>1.0</td>\n      <td>NaN</td>\n      <td>NaN</td>\n      <td>NaN</td>\n      <td>NaN</td>\n      <td>...</td>\n      <td>4</td>\n      <td>4</td>\n      <td>2</td>\n      <td>5</td>\n      <td>4</td>\n      <td>4</td>\n      <td>4</td>\n      <td>2</td>\n      <td>2</td>\n      <td>4</td>\n    </tr>\n    <tr>\n      <th>4</th>\n      <td>5</td>\n      <td>23.0</td>\n      <td>F</td>\n      <td>5.0</td>\n      <td>NaN</td>\n      <td>NaN</td>\n      <td>NaN</td>\n      <td>NaN</td>\n      <td>NaN</td>\n      <td>NaN</td>\n      <td>...</td>\n      <td>3</td>\n      <td>4</td>\n      <td>4</td>\n      <td>2</td>\n      <td>3</td>\n      <td>3</td>\n      <td>3</td>\n      <td>4</td>\n      <td>3</td>\n      <td>3</td>\n    </tr>\n    <tr>\n      <th>...</th>\n      <td>...</td>\n      <td>...</td>\n      <td>...</td>\n      <td>...</td>\n      <td>...</td>\n      <td>...</td>\n      <td>...</td>\n      <td>...</td>\n      <td>...</td>\n      <td>...</td>\n      <td>...</td>\n      <td>...</td>\n      <td>...</td>\n      <td>...</td>\n      <td>...</td>\n      <td>...</td>\n      <td>...</td>\n      <td>...</td>\n      <td>...</td>\n      <td>...</td>\n      <td>...</td>\n    </tr>\n    <tr>\n      <th>465</th>\n      <td>466</td>\n      <td>20.0</td>\n      <td>F</td>\n      <td>3.0</td>\n      <td>NaN</td>\n      <td>NaN</td>\n      <td>NaN</td>\n      <td>NaN</td>\n      <td>NaN</td>\n      <td>NaN</td>\n      <td>...</td>\n      <td>5</td>\n      <td>5</td>\n      <td>5</td>\n      <td>2</td>\n      <td>5</td>\n      <td>2</td>\n      <td>4</td>\n      <td>3</td>\n      <td>1</td>\n      <td>4</td>\n    </tr>\n    <tr>\n      <th>466</th>\n      <td>467</td>\n      <td>27.0</td>\n      <td>M</td>\n      <td>4.0</td>\n      <td>NaN</td>\n      <td>NaN</td>\n      <td>NaN</td>\n      <td>NaN</td>\n      <td>NaN</td>\n      <td>NaN</td>\n      <td>...</td>\n      <td>2</td>\n      <td>4</td>\n      <td>3</td>\n      <td>4</td>\n      <td>5</td>\n      <td>3</td>\n      <td>5</td>\n      <td>2</td>\n      <td>3</td>\n      <td>3</td>\n    </tr>\n    <tr>\n      <th>467</th>\n      <td>468</td>\n      <td>21.0</td>\n      <td>F</td>\n      <td>3.0</td>\n      <td>NaN</td>\n      <td>NaN</td>\n      <td>NaN</td>\n      <td>NaN</td>\n      <td>NaN</td>\n      <td>NaN</td>\n      <td>...</td>\n      <td>2</td>\n      <td>5</td>\n      <td>5</td>\n      <td>2</td>\n      <td>4</td>\n      <td>5</td>\n      <td>5</td>\n      <td>5</td>\n      <td>2</td>\n      <td>4</td>\n    </tr>\n    <tr>\n      <th>468</th>\n      <td>469</td>\n      <td>20.0</td>\n      <td>F</td>\n      <td>3.0</td>\n      <td>NaN</td>\n      <td>NaN</td>\n      <td>NaN</td>\n      <td>NaN</td>\n      <td>NaN</td>\n      <td>NaN</td>\n      <td>...</td>\n      <td>4</td>\n      <td>5</td>\n      <td>4</td>\n      <td>1</td>\n      <td>4</td>\n      <td>5</td>\n      <td>5</td>\n      <td>4</td>\n      <td>2</td>\n      <td>5</td>\n    </tr>\n    <tr>\n      <th>469</th>\n      <td>470</td>\n      <td>21.0</td>\n      <td>M</td>\n      <td>2.0</td>\n      <td>NaN</td>\n      <td>NaN</td>\n      <td>NaN</td>\n      <td>NaN</td>\n      <td>NaN</td>\n      <td>NaN</td>\n      <td>...</td>\n      <td>5</td>\n      <td>5</td>\n      <td>4</td>\n      <td>1</td>\n      <td>5</td>\n      <td>5</td>\n      <td>5</td>\n      <td>4</td>\n      <td>2</td>\n      <td>5</td>\n    </tr>\n  </tbody>\n</table>\n<p>470 rows × 764 columns</p>\n</div>"
     },
     "execution_count": 2,
     "metadata": {},
     "output_type": "execute_result"
    }
   ],
   "source": [
    "# Define the mapping for reverse coding based on the scheme provided\n",
    "reverse_coding_map = {\n",
    "    'bfi1': 'reversed_bfi1', 'bfi2': 'reversed_bfi2', 'bfi3R': 'reversed_bfi3', 'bfi4R': 'reversed_bfi4',\n",
    "    'bfi5R': 'reversed_bfi5', 'bfi6': 'reversed_bfi6', 'bfi7': 'reversed_bfi7', 'bfi8R': 'reversed_bfi8',\n",
    "    'bfi9R': 'reversed_bfi9', 'bfi10': 'reversed_bfi10', 'bfi11R': 'reversed_bfi11', 'bfi12R': 'reversed_bfi12',\n",
    "    'bfi13': 'reversed_bfi13', 'bfi14': 'reversed_bfi14', 'bfi15': 'reversed_bfi15', 'bfi16R': 'reversed_bfi16',\n",
    "    'bfi17R': 'reversed_bfi17', 'bfi18': 'reversed_bfi18', 'bfi19': 'reversed_bfi19', 'bfi20': 'reversed_bfi20',\n",
    "    'bfi21': 'reversed_bfi21', 'bfi22R': 'reversed_bfi22', 'bfi23R': 'reversed_bfi23', 'bfi24R': 'reversed_bfi24',\n",
    "    'bfi25R': 'reversed_bfi25', 'bfi26R': 'reversed_bfi26', 'bfi27': 'reversed_bfi27', 'bfi28R': 'reversed_bfi28',\n",
    "    'bfi29R': 'reversed_bfi29', 'bfi30R': 'reversed_bfi30', 'bfi31R': 'reversed_bfi31', 'bfi32': 'reversed_bfi32',\n",
    "    'bfi33': 'reversed_bfi33', 'bfi34': 'reversed_bfi34', 'bfi35': 'reversed_bfi35', 'bfi36R': 'reversed_bfi36',\n",
    "    'bfi37R': 'reversed_bfi37', 'bfi38': 'reversed_bfi38', 'bfi39': 'reversed_bfi39', 'bfi40': 'reversed_bfi40',\n",
    "    'bfi41': 'reversed_bfi41', 'bfi42R': 'reversed_bfi42', 'bfi43': 'reversed_bfi43', 'bfi44R': 'reversed_bfi44',\n",
    "    'bfi45R': 'reversed_bfi45', 'bfi46': 'reversed_bfi46', 'bfi47R': 'reversed_bfi47', 'bfi48R': 'reversed_bfi48',\n",
    "    'bfi49R': 'reversed_bfi49', 'bfi50R': 'reversed_bfi50', 'bfi51R': 'reversed_bfi51', 'bfi52': 'reversed_bfi52',\n",
    "    'bfi53': 'reversed_bfi53', 'bfi54': 'reversed_bfi54', 'bfi55R': 'reversed_bfi55', 'bfi56': 'reversed_bfi56',\n",
    "    'bfi57': 'reversed_bfi57', 'bfi58R': 'reversed_bfi58', 'bfi59': 'reversed_bfi59', 'bfi60': 'reversed_bfi60'\n",
    "}\n",
    "\n",
    "# Perform reverse coding\n",
    "for original, reversed_var in reverse_coding_map.items():\n",
    "    if original.endswith('R'):  # Reverse coded\n",
    "        data[reversed_var] = 6 - data[original[:-1]]\n",
    "    else:  # Not reverse coded\n",
    "        data[reversed_var] = data[original]\n",
    "\n",
    "# Display the first few rows of the new variables to confirm\n",
    "data"
   ],
   "metadata": {
    "collapsed": false,
    "ExecuteTime": {
     "end_time": "2024-04-17T05:30:11.696713Z",
     "start_time": "2024-04-17T05:30:11.623118Z"
    }
   },
   "id": "b7db64b6b3ea362b",
   "execution_count": 2
  },
  {
   "cell_type": "markdown",
   "source": [
    "# Create functions "
   ],
   "metadata": {
    "collapsed": false
   },
   "id": "57c6173aaa3c7cb8"
  },
  {
   "cell_type": "code",
   "outputs": [],
   "source": [
    "# save the subset data to a new csv file\n",
    "data.to_csv('bfi2.csv', index=False)"
   ],
   "metadata": {
    "collapsed": false,
    "ExecuteTime": {
     "end_time": "2024-04-17T05:30:11.841750Z",
     "start_time": "2024-04-17T05:30:11.684418Z"
    }
   },
   "id": "7533f4e6727e8123",
   "execution_count": 3
  },
  {
   "cell_type": "code",
   "outputs": [],
   "source": [
    "def domain_stats(df, domain_prefix):\n",
    "    \"\"\"\n",
    "    Compute the mean and standard deviation for columns that start with the specified domain prefix.\n",
    "    \n",
    "    Parameters:\n",
    "    - df (pd.DataFrame): The input DataFrame.\n",
    "    - domain_prefix (str): The prefix of the columns for which to compute the statistics.\n",
    "    \n",
    "    Returns:\n",
    "    - pd.DataFrame: A DataFrame containing the mean and standard deviation for each column that starts with the specified prefix.\n",
    "    \"\"\"\n",
    "    # Filter the columns that start with the domain prefix\n",
    "    filtered_columns = [col for col in df.columns if col.startswith(domain_prefix)]\n",
    "    domain_df = df[filtered_columns]\n",
    "    \n",
    "    # Compute mean and standard deviation\n",
    "    means = domain_df.mean()\n",
    "    std_devs = domain_df.std()\n",
    "    \n",
    "    # Create a result DataFrame\n",
    "    result_df = pd.DataFrame([means, std_devs], index=[\"Mean\", \"Standard Deviation\"])\n",
    "    return result_df"
   ],
   "metadata": {
    "collapsed": false,
    "ExecuteTime": {
     "end_time": "2024-04-17T05:30:11.842668Z",
     "start_time": "2024-04-17T05:30:11.780727Z"
    }
   },
   "id": "287d2252be692cc9",
   "execution_count": 4
  },
  {
   "cell_type": "code",
   "outputs": [],
   "source": [
    "def domain_correlation(df, domain_prefix):\n",
    "    \"\"\"\n",
    "    Compute the correlation matrix for columns that start with the specified domain prefix.\n",
    "    \n",
    "    Parameters:\n",
    "    - df (pd.DataFrame): The input DataFrame.\n",
    "    - domain_prefix (str): The prefix of the columns for which to compute the correlation matrix.\n",
    "    \n",
    "    Returns:\n",
    "    - pd.DataFrame: A 3x3 DataFrame containing the correlation matrix for the first three columns that start with the specified prefix.\n",
    "    \"\"\"\n",
    "    # Filter columns that start with the domain prefix\n",
    "    filtered_columns = [col for col in df.columns if col.startswith(domain_prefix)]\n",
    "    # Select only the first three columns that match the prefix, if available\n",
    "    filtered_columns = filtered_columns[:3]\n",
    "    domain_df = df[filtered_columns]\n",
    "    \n",
    "    # Compute the correlation matrix\n",
    "    correlation_matrix = domain_df.corr()\n",
    "    \n",
    "    # Return only the top left 3x3 section of the correlation matrix\n",
    "    return correlation_matrix.iloc[:3, :3]"
   ],
   "metadata": {
    "collapsed": false,
    "ExecuteTime": {
     "end_time": "2024-04-17T05:30:11.870433Z",
     "start_time": "2024-04-17T05:30:11.805324Z"
    }
   },
   "id": "89056564a02911",
   "execution_count": 5
  },
  {
   "cell_type": "code",
   "outputs": [
    {
     "data": {
      "text/plain": "{'Extraversion': 0.4610554748141877,\n 'Agreeableness': 0.3821996228465807,\n 'Conscientiousness': 0.40613896396510524,\n 'Neuroticism': 0.5055967450877641,\n 'Openness': 0.4570178582963769}"
     },
     "execution_count": 6,
     "metadata": {},
     "output_type": "execute_result"
    }
   ],
   "source": [
    "# Domains with their facets defined\n",
    "domains = {\n",
    "    \"Extraversion\": [['reversed_bfi1', 'reversed_bfi16', 'reversed_bfi31', 'reversed_bfi46'], \n",
    "                      ['reversed_bfi6', 'reversed_bfi21', 'reversed_bfi36', 'reversed_bfi51'], \n",
    "                      ['reversed_bfi11', 'reversed_bfi26', 'reversed_bfi41', 'reversed_bfi56']],\n",
    "    \"Agreeableness\": [['reversed_bfi2', 'reversed_bfi17', 'reversed_bfi32', 'reversed_bfi47'], \n",
    "                       ['reversed_bfi7', 'reversed_bfi22', 'reversed_bfi37', 'reversed_bfi52'], \n",
    "                       ['reversed_bfi12', 'reversed_bfi27', 'reversed_bfi42', 'reversed_bfi57']],\n",
    "    \"Conscientiousness\": [['reversed_bfi3', 'reversed_bfi18', 'reversed_bfi33', 'reversed_bfi48'], \n",
    "                           ['reversed_bfi8', 'reversed_bfi23', 'reversed_bfi38', 'reversed_bfi53'], \n",
    "                           ['reversed_bfi13', 'reversed_bfi28', 'reversed_bfi43', 'reversed_bfi58']],\n",
    "    \"Neuroticism\": [['reversed_bfi4', 'reversed_bfi19', 'reversed_bfi34', 'reversed_bfi49'], \n",
    "                     ['reversed_bfi9', 'reversed_bfi24', 'reversed_bfi39', 'reversed_bfi54'], \n",
    "                     ['reversed_bfi14', 'reversed_bfi29', 'reversed_bfi44', 'reversed_bfi59']],\n",
    "    \"Openness\": [['reversed_bfi10', 'reversed_bfi25', 'reversed_bfi40', 'reversed_bfi55'], \n",
    "                  ['reversed_bfi5', 'reversed_bfi20', 'reversed_bfi35', 'reversed_bfi50'], \n",
    "                  ['reversed_bfi15', 'reversed_bfi30', 'reversed_bfi45', 'reversed_bfi60']]\n",
    "}\n",
    "\n",
    "# Function to calculate average correlation excluding the diagonal\n",
    "def average_correlation(items):\n",
    "    # Subset the data for the items\n",
    "    subset = data[items]\n",
    "    # Calculate the correlation matrix\n",
    "    corr_matrix = subset.corr()\n",
    "    # Flatten the matrix and exclude diagonal (self-correlation)\n",
    "    correlations = corr_matrix.values[np.triu_indices_from(corr_matrix, k=1)]\n",
    "    # Calculate the mean of the correlations\n",
    "    return np.mean(correlations)\n",
    "\n",
    "# Dictionary to hold the average correlations for each domain\n",
    "domain_avg_correlations = {}\n",
    "\n",
    "# Calculate the average of the average correlations for each domain\n",
    "for domain, facets in domains.items():\n",
    "    avg_corrs = [average_correlation(facet) for facet in facets]\n",
    "    domain_avg_correlations[domain] = np.mean(avg_corrs)\n",
    "\n",
    "domain_avg_correlations"
   ],
   "metadata": {
    "collapsed": false,
    "ExecuteTime": {
     "end_time": "2024-04-17T05:30:11.902665Z",
     "start_time": "2024-04-17T05:30:11.875545Z"
    }
   },
   "id": "d4946dd0eaf46024",
   "execution_count": 6
  },
  {
   "cell_type": "code",
   "outputs": [
    {
     "data": {
      "text/plain": "0.4424017330020029"
     },
     "execution_count": 7,
     "metadata": {},
     "output_type": "execute_result"
    }
   ],
   "source": [
    "# get the average of domain_avg_correlations\n",
    "average_domain_avg_correlations = np.mean(list(domain_avg_correlations.values()))\n",
    "average_domain_avg_correlations"
   ],
   "metadata": {
    "collapsed": false,
    "ExecuteTime": {
     "end_time": "2024-04-17T05:30:11.915166Z",
     "start_time": "2024-04-17T05:30:11.902150Z"
    }
   },
   "id": "9703e5d3ab0cd240",
   "execution_count": 7
  },
  {
   "cell_type": "code",
   "outputs": [],
   "source": [
    "def simulate_item_responses(means, std_devs, corr_matrix, intra_group_corr, n_simulations):\n",
    "    \"\"\"\n",
    "    Simulate item responses based on group characteristics and correlations.\n",
    "\n",
    "    Parameters:\n",
    "    - means (np.array): Array of means for each group.\n",
    "    - std_devs (np.array): Array of standard deviations for each group.\n",
    "    - corr_matrix (np.array): Correlation matrix between the groups.\n",
    "    - intra_group_corr (float): Correlation coefficient for items within the same group.\n",
    "    - n_simulations (int): Number of simulations to generate.\n",
    "\n",
    "    Returns:\n",
    "    - np.array: Matrix of simulated responses (n_simulations x num_items).\n",
    "    \"\"\"\n",
    "    num_groups = len(means)\n",
    "    num_items_per_group = 4  # Assuming 4 items per group\n",
    "    num_items = num_groups * num_items_per_group\n",
    "\n",
    "    # Construct the covariance matrix from correlations and standard deviations\n",
    "    cov_matrix = np.outer(std_devs, std_devs) * corr_matrix\n",
    "\n",
    "    # Generate group-level scores\n",
    "    group_scores = np.random.multivariate_normal(means, cov_matrix, size=n_simulations)\n",
    "\n",
    "    # Placeholder for item scores\n",
    "    item_scores = np.zeros((n_simulations, num_items))\n",
    "\n",
    "    # Calculate item-level standard deviation within groups\n",
    "    item_std_dev_within_group = np.sqrt((1 - intra_group_corr) * std_devs**2)\n",
    "\n",
    "    # Generate item scores\n",
    "    for group_index in range(num_groups):\n",
    "        start_idx = group_index * num_items_per_group\n",
    "        end_idx = start_idx + num_items_per_group\n",
    "        \n",
    "        for i in range(num_items_per_group):\n",
    "            item_errors = np.random.normal(0, item_std_dev_within_group[group_index], n_simulations)\n",
    "            item_scores[:, start_idx + i] = group_scores[:, group_index] + item_errors\n",
    "\n",
    "    # Convert scores to integers and ensure they are within the range [1, 5]\n",
    "    bounded_item_scores = np.clip(np.round(item_scores), 1, 5)\n",
    "\n",
    "    return bounded_item_scores"
   ],
   "metadata": {
    "collapsed": false,
    "ExecuteTime": {
     "end_time": "2024-04-17T05:30:11.937190Z",
     "start_time": "2024-04-17T05:30:11.916491Z"
    }
   },
   "id": "f348f980f850e180",
   "execution_count": 8
  },
  {
   "cell_type": "markdown",
   "source": [
    "# Extraversion "
   ],
   "metadata": {
    "collapsed": false
   },
   "id": "3f0b25b7a6dd8887"
  },
  {
   "cell_type": "markdown",
   "source": [
    "## Extract parameters for Extraversion"
   ],
   "metadata": {
    "collapsed": false
   },
   "id": "b9e32981fe752cd3"
  },
  {
   "cell_type": "code",
   "outputs": [
    {
     "data": {
      "text/plain": "                    bfi2_e_sociability  bfi2_e_assertiveness  \\\nMean                          3.020213              3.278723   \nStandard Deviation            0.962858              0.838807   \n\n                    bfi2_e_energy_level    bfi2_e  \nMean                           3.528191  3.275851  \nStandard Deviation             0.746440  0.714430  ",
      "text/html": "<div>\n<style scoped>\n    .dataframe tbody tr th:only-of-type {\n        vertical-align: middle;\n    }\n\n    .dataframe tbody tr th {\n        vertical-align: top;\n    }\n\n    .dataframe thead th {\n        text-align: right;\n    }\n</style>\n<table border=\"1\" class=\"dataframe\">\n  <thead>\n    <tr style=\"text-align: right;\">\n      <th></th>\n      <th>bfi2_e_sociability</th>\n      <th>bfi2_e_assertiveness</th>\n      <th>bfi2_e_energy_level</th>\n      <th>bfi2_e</th>\n    </tr>\n  </thead>\n  <tbody>\n    <tr>\n      <th>Mean</th>\n      <td>3.020213</td>\n      <td>3.278723</td>\n      <td>3.528191</td>\n      <td>3.275851</td>\n    </tr>\n    <tr>\n      <th>Standard Deviation</th>\n      <td>0.962858</td>\n      <td>0.838807</td>\n      <td>0.746440</td>\n      <td>0.714430</td>\n    </tr>\n  </tbody>\n</table>\n</div>"
     },
     "execution_count": 9,
     "metadata": {},
     "output_type": "execute_result"
    }
   ],
   "source": [
    "# Test the function with 'bfi2_e' as the domain prefix\n",
    "domain_stat_e = domain_stats(data, 'bfi2_e')\n",
    "domain_stat_e"
   ],
   "metadata": {
    "collapsed": false,
    "ExecuteTime": {
     "end_time": "2024-04-17T05:30:11.986505Z",
     "start_time": "2024-04-17T05:30:11.937793Z"
    }
   },
   "id": "5d77abf1c2f8ebdc",
   "execution_count": 9
  },
  {
   "cell_type": "code",
   "outputs": [
    {
     "data": {
      "text/plain": "                      bfi2_e_sociability  bfi2_e_assertiveness  \\\nbfi2_e_sociability              1.000000              0.593938   \nbfi2_e_assertiveness            0.593938              1.000000   \nbfi2_e_energy_level             0.625359              0.437577   \n\n                      bfi2_e_energy_level  \nbfi2_e_sociability               0.625359  \nbfi2_e_assertiveness             0.437577  \nbfi2_e_energy_level              1.000000  ",
      "text/html": "<div>\n<style scoped>\n    .dataframe tbody tr th:only-of-type {\n        vertical-align: middle;\n    }\n\n    .dataframe tbody tr th {\n        vertical-align: top;\n    }\n\n    .dataframe thead th {\n        text-align: right;\n    }\n</style>\n<table border=\"1\" class=\"dataframe\">\n  <thead>\n    <tr style=\"text-align: right;\">\n      <th></th>\n      <th>bfi2_e_sociability</th>\n      <th>bfi2_e_assertiveness</th>\n      <th>bfi2_e_energy_level</th>\n    </tr>\n  </thead>\n  <tbody>\n    <tr>\n      <th>bfi2_e_sociability</th>\n      <td>1.000000</td>\n      <td>0.593938</td>\n      <td>0.625359</td>\n    </tr>\n    <tr>\n      <th>bfi2_e_assertiveness</th>\n      <td>0.593938</td>\n      <td>1.000000</td>\n      <td>0.437577</td>\n    </tr>\n    <tr>\n      <th>bfi2_e_energy_level</th>\n      <td>0.625359</td>\n      <td>0.437577</td>\n      <td>1.000000</td>\n    </tr>\n  </tbody>\n</table>\n</div>"
     },
     "execution_count": 10,
     "metadata": {},
     "output_type": "execute_result"
    }
   ],
   "source": [
    "# Test the function with 'bfi2_e' as the domain prefix\n",
    "correlation_e = domain_correlation(data, 'bfi2_e')\n",
    "correlation_e"
   ],
   "metadata": {
    "collapsed": false,
    "ExecuteTime": {
     "end_time": "2024-04-17T05:30:11.989906Z",
     "start_time": "2024-04-17T05:30:11.969805Z"
    }
   },
   "id": "b2b0f5c17174456b",
   "execution_count": 10
  },
  {
   "cell_type": "markdown",
   "source": [
    "## Simulate item responses for Extraversion"
   ],
   "metadata": {
    "collapsed": false
   },
   "id": "3f762a2079140c09"
  },
  {
   "cell_type": "code",
   "outputs": [],
   "source": [
    "means = np.array(domain_stat_e.loc['Mean'].values[:3])\n",
    "std_devs = np.array(domain_stat_e.loc['Standard Deviation'].values[:3])\n",
    "corr_matrix = domain_correlation(data, 'bfi2_e')\n",
    "intra_group_corr = average_domain_avg_correlations #0.44\n",
    "n_simulations = 200\n",
    "\n",
    "simulated_data_e = simulate_item_responses(means, std_devs, corr_matrix, intra_group_corr, n_simulations)"
   ],
   "metadata": {
    "collapsed": false,
    "ExecuteTime": {
     "end_time": "2024-04-17T05:30:12.035643Z",
     "start_time": "2024-04-17T05:30:11.992990Z"
    }
   },
   "id": "9f0b078cd3ee8a76",
   "execution_count": 11
  },
  {
   "cell_type": "code",
   "outputs": [
    {
     "data": {
      "text/plain": "array([[3., 4., 2., ..., 4., 2., 3.],\n       [4., 4., 3., ..., 2., 3., 4.],\n       [3., 3., 2., ..., 3., 4., 4.],\n       ...,\n       [2., 3., 1., ..., 3., 5., 4.],\n       [3., 4., 2., ..., 4., 4., 5.],\n       [4., 4., 4., ..., 3., 3., 4.]])"
     },
     "execution_count": 12,
     "metadata": {},
     "output_type": "execute_result"
    }
   ],
   "source": [
    "simulated_data_e"
   ],
   "metadata": {
    "collapsed": false,
    "ExecuteTime": {
     "end_time": "2024-04-17T05:30:12.048560Z",
     "start_time": "2024-04-17T05:30:12.021869Z"
    }
   },
   "id": "7297288879d8c450",
   "execution_count": 12
  },
  {
   "cell_type": "code",
   "outputs": [
    {
     "data": {
      "text/plain": "     simulated_bfi1  simulated_bfi16  simulated_bfi31  simulated_bfi46  \\\n0               3.0              4.0              2.0              3.0   \n1               4.0              4.0              3.0              3.0   \n2               3.0              3.0              2.0              1.0   \n3               5.0              5.0              4.0              5.0   \n4               3.0              2.0              3.0              3.0   \n..              ...              ...              ...              ...   \n195             1.0              3.0              2.0              4.0   \n196             4.0              5.0              4.0              4.0   \n197             2.0              3.0              1.0              2.0   \n198             3.0              4.0              2.0              3.0   \n199             4.0              4.0              4.0              4.0   \n\n     simulated_bfi6  simulated_bfi21  simulated_bfi36  simulated_bfi51  \\\n0               2.0              2.0              3.0              1.0   \n1               3.0              3.0              3.0              4.0   \n2               1.0              2.0              3.0              2.0   \n3               5.0              5.0              5.0              5.0   \n4               1.0              2.0              2.0              3.0   \n..              ...              ...              ...              ...   \n195             3.0              3.0              3.0              3.0   \n196             5.0              3.0              5.0              4.0   \n197             5.0              4.0              4.0              4.0   \n198             3.0              3.0              5.0              3.0   \n199             5.0              5.0              4.0              5.0   \n\n     simulated_bfi11  simulated_bfi26  simulated_bfi41  simulated_bfi56  \n0                3.0              4.0              2.0              3.0  \n1                3.0              2.0              3.0              4.0  \n2                4.0              3.0              4.0              4.0  \n3                4.0              4.0              4.0              4.0  \n4                4.0              2.0              4.0              4.0  \n..               ...              ...              ...              ...  \n195              3.0              3.0              4.0              4.0  \n196              3.0              2.0              3.0              3.0  \n197              5.0              3.0              5.0              4.0  \n198              4.0              4.0              4.0              5.0  \n199              3.0              3.0              3.0              4.0  \n\n[200 rows x 12 columns]",
      "text/html": "<div>\n<style scoped>\n    .dataframe tbody tr th:only-of-type {\n        vertical-align: middle;\n    }\n\n    .dataframe tbody tr th {\n        vertical-align: top;\n    }\n\n    .dataframe thead th {\n        text-align: right;\n    }\n</style>\n<table border=\"1\" class=\"dataframe\">\n  <thead>\n    <tr style=\"text-align: right;\">\n      <th></th>\n      <th>simulated_bfi1</th>\n      <th>simulated_bfi16</th>\n      <th>simulated_bfi31</th>\n      <th>simulated_bfi46</th>\n      <th>simulated_bfi6</th>\n      <th>simulated_bfi21</th>\n      <th>simulated_bfi36</th>\n      <th>simulated_bfi51</th>\n      <th>simulated_bfi11</th>\n      <th>simulated_bfi26</th>\n      <th>simulated_bfi41</th>\n      <th>simulated_bfi56</th>\n    </tr>\n  </thead>\n  <tbody>\n    <tr>\n      <th>0</th>\n      <td>3.0</td>\n      <td>4.0</td>\n      <td>2.0</td>\n      <td>3.0</td>\n      <td>2.0</td>\n      <td>2.0</td>\n      <td>3.0</td>\n      <td>1.0</td>\n      <td>3.0</td>\n      <td>4.0</td>\n      <td>2.0</td>\n      <td>3.0</td>\n    </tr>\n    <tr>\n      <th>1</th>\n      <td>4.0</td>\n      <td>4.0</td>\n      <td>3.0</td>\n      <td>3.0</td>\n      <td>3.0</td>\n      <td>3.0</td>\n      <td>3.0</td>\n      <td>4.0</td>\n      <td>3.0</td>\n      <td>2.0</td>\n      <td>3.0</td>\n      <td>4.0</td>\n    </tr>\n    <tr>\n      <th>2</th>\n      <td>3.0</td>\n      <td>3.0</td>\n      <td>2.0</td>\n      <td>1.0</td>\n      <td>1.0</td>\n      <td>2.0</td>\n      <td>3.0</td>\n      <td>2.0</td>\n      <td>4.0</td>\n      <td>3.0</td>\n      <td>4.0</td>\n      <td>4.0</td>\n    </tr>\n    <tr>\n      <th>3</th>\n      <td>5.0</td>\n      <td>5.0</td>\n      <td>4.0</td>\n      <td>5.0</td>\n      <td>5.0</td>\n      <td>5.0</td>\n      <td>5.0</td>\n      <td>5.0</td>\n      <td>4.0</td>\n      <td>4.0</td>\n      <td>4.0</td>\n      <td>4.0</td>\n    </tr>\n    <tr>\n      <th>4</th>\n      <td>3.0</td>\n      <td>2.0</td>\n      <td>3.0</td>\n      <td>3.0</td>\n      <td>1.0</td>\n      <td>2.0</td>\n      <td>2.0</td>\n      <td>3.0</td>\n      <td>4.0</td>\n      <td>2.0</td>\n      <td>4.0</td>\n      <td>4.0</td>\n    </tr>\n    <tr>\n      <th>...</th>\n      <td>...</td>\n      <td>...</td>\n      <td>...</td>\n      <td>...</td>\n      <td>...</td>\n      <td>...</td>\n      <td>...</td>\n      <td>...</td>\n      <td>...</td>\n      <td>...</td>\n      <td>...</td>\n      <td>...</td>\n    </tr>\n    <tr>\n      <th>195</th>\n      <td>1.0</td>\n      <td>3.0</td>\n      <td>2.0</td>\n      <td>4.0</td>\n      <td>3.0</td>\n      <td>3.0</td>\n      <td>3.0</td>\n      <td>3.0</td>\n      <td>3.0</td>\n      <td>3.0</td>\n      <td>4.0</td>\n      <td>4.0</td>\n    </tr>\n    <tr>\n      <th>196</th>\n      <td>4.0</td>\n      <td>5.0</td>\n      <td>4.0</td>\n      <td>4.0</td>\n      <td>5.0</td>\n      <td>3.0</td>\n      <td>5.0</td>\n      <td>4.0</td>\n      <td>3.0</td>\n      <td>2.0</td>\n      <td>3.0</td>\n      <td>3.0</td>\n    </tr>\n    <tr>\n      <th>197</th>\n      <td>2.0</td>\n      <td>3.0</td>\n      <td>1.0</td>\n      <td>2.0</td>\n      <td>5.0</td>\n      <td>4.0</td>\n      <td>4.0</td>\n      <td>4.0</td>\n      <td>5.0</td>\n      <td>3.0</td>\n      <td>5.0</td>\n      <td>4.0</td>\n    </tr>\n    <tr>\n      <th>198</th>\n      <td>3.0</td>\n      <td>4.0</td>\n      <td>2.0</td>\n      <td>3.0</td>\n      <td>3.0</td>\n      <td>3.0</td>\n      <td>5.0</td>\n      <td>3.0</td>\n      <td>4.0</td>\n      <td>4.0</td>\n      <td>4.0</td>\n      <td>5.0</td>\n    </tr>\n    <tr>\n      <th>199</th>\n      <td>4.0</td>\n      <td>4.0</td>\n      <td>4.0</td>\n      <td>4.0</td>\n      <td>5.0</td>\n      <td>5.0</td>\n      <td>4.0</td>\n      <td>5.0</td>\n      <td>3.0</td>\n      <td>3.0</td>\n      <td>3.0</td>\n      <td>4.0</td>\n    </tr>\n  </tbody>\n</table>\n<p>200 rows × 12 columns</p>\n</div>"
     },
     "execution_count": 13,
     "metadata": {},
     "output_type": "execute_result"
    }
   ],
   "source": [
    "extraversion_name = ['simulated_bfi1', 'simulated_bfi16', 'simulated_bfi31', 'simulated_bfi46', \n",
    "                     'simulated_bfi6', 'simulated_bfi21', 'simulated_bfi36', 'simulated_bfi51', \n",
    "                     'simulated_bfi11', 'simulated_bfi26', 'simulated_bfi41', 'simulated_bfi56']\n",
    "\n",
    "# assign variable names to the simulated data\n",
    "simulated_data_e = pd.DataFrame(simulated_data_e, columns=extraversion_name)\n",
    "\n",
    "simulated_data_e"
   ],
   "metadata": {
    "collapsed": false,
    "ExecuteTime": {
     "end_time": "2024-04-17T05:30:12.141661Z",
     "start_time": "2024-04-17T05:30:12.058183Z"
    }
   },
   "id": "3d82cf74b7aea2a7",
   "execution_count": 13
  },
  {
   "cell_type": "markdown",
   "source": [
    "# Agreeableness"
   ],
   "metadata": {
    "collapsed": false
   },
   "id": "8e06682656819840"
  },
  {
   "cell_type": "markdown",
   "source": [
    "## Extract parameters for Agreeableness"
   ],
   "metadata": {
    "collapsed": false
   },
   "id": "4dde0319de79ad13"
  },
  {
   "cell_type": "code",
   "outputs": [
    {
     "data": {
      "text/plain": "                    bfi2_a_compassion  bfi2_a_respectfulness  bfi2_a_trust  \\\nMean                         3.852128               3.953723      3.339894   \nStandard Deviation           0.747559               0.664643      0.775614   \n\n                      bfi2_a  \nMean                3.715128  \nStandard Deviation  0.600391  ",
      "text/html": "<div>\n<style scoped>\n    .dataframe tbody tr th:only-of-type {\n        vertical-align: middle;\n    }\n\n    .dataframe tbody tr th {\n        vertical-align: top;\n    }\n\n    .dataframe thead th {\n        text-align: right;\n    }\n</style>\n<table border=\"1\" class=\"dataframe\">\n  <thead>\n    <tr style=\"text-align: right;\">\n      <th></th>\n      <th>bfi2_a_compassion</th>\n      <th>bfi2_a_respectfulness</th>\n      <th>bfi2_a_trust</th>\n      <th>bfi2_a</th>\n    </tr>\n  </thead>\n  <tbody>\n    <tr>\n      <th>Mean</th>\n      <td>3.852128</td>\n      <td>3.953723</td>\n      <td>3.339894</td>\n      <td>3.715128</td>\n    </tr>\n    <tr>\n      <th>Standard Deviation</th>\n      <td>0.747559</td>\n      <td>0.664643</td>\n      <td>0.775614</td>\n      <td>0.600391</td>\n    </tr>\n  </tbody>\n</table>\n</div>"
     },
     "execution_count": 14,
     "metadata": {},
     "output_type": "execute_result"
    }
   ],
   "source": [
    "# Test the function with 'bfi2_a' as the domain prefix\n",
    "domain_stat_a = domain_stats(data, 'bfi2_a')\n",
    "domain_stat_a"
   ],
   "metadata": {
    "collapsed": false,
    "ExecuteTime": {
     "end_time": "2024-04-17T05:30:12.153521Z",
     "start_time": "2024-04-17T05:30:12.119107Z"
    }
   },
   "id": "ce6601751bc48c18",
   "execution_count": 14
  },
  {
   "cell_type": "code",
   "outputs": [
    {
     "data": {
      "text/plain": "                       bfi2_a_compassion  bfi2_a_respectfulness  bfi2_a_trust\nbfi2_a_compassion               1.000000               0.513497      0.529301\nbfi2_a_respectfulness           0.513497               1.000000      0.501578\nbfi2_a_trust                    0.529301               0.501578      1.000000",
      "text/html": "<div>\n<style scoped>\n    .dataframe tbody tr th:only-of-type {\n        vertical-align: middle;\n    }\n\n    .dataframe tbody tr th {\n        vertical-align: top;\n    }\n\n    .dataframe thead th {\n        text-align: right;\n    }\n</style>\n<table border=\"1\" class=\"dataframe\">\n  <thead>\n    <tr style=\"text-align: right;\">\n      <th></th>\n      <th>bfi2_a_compassion</th>\n      <th>bfi2_a_respectfulness</th>\n      <th>bfi2_a_trust</th>\n    </tr>\n  </thead>\n  <tbody>\n    <tr>\n      <th>bfi2_a_compassion</th>\n      <td>1.000000</td>\n      <td>0.513497</td>\n      <td>0.529301</td>\n    </tr>\n    <tr>\n      <th>bfi2_a_respectfulness</th>\n      <td>0.513497</td>\n      <td>1.000000</td>\n      <td>0.501578</td>\n    </tr>\n    <tr>\n      <th>bfi2_a_trust</th>\n      <td>0.529301</td>\n      <td>0.501578</td>\n      <td>1.000000</td>\n    </tr>\n  </tbody>\n</table>\n</div>"
     },
     "execution_count": 15,
     "metadata": {},
     "output_type": "execute_result"
    }
   ],
   "source": [
    "# Test the function with 'bfi2_a' as the domain prefix\n",
    "correlation_a = domain_correlation(data, 'bfi2_a')\n",
    "correlation_a"
   ],
   "metadata": {
    "collapsed": false,
    "ExecuteTime": {
     "end_time": "2024-04-17T05:30:12.213507Z",
     "start_time": "2024-04-17T05:30:12.157795Z"
    }
   },
   "id": "f006ec2a4d1cab1c",
   "execution_count": 15
  },
  {
   "cell_type": "markdown",
   "source": [
    "## Simulate item responses for Agreeableness"
   ],
   "metadata": {
    "collapsed": false
   },
   "id": "7eac155d894b8a2b"
  },
  {
   "cell_type": "code",
   "outputs": [],
   "source": [
    "means = np.array(domain_stat_a.loc['Mean'].values[:3])\n",
    "std_devs = np.array(domain_stat_a.loc['Standard Deviation'].values[:3])\n",
    "corr_matrix = domain_correlation(data, 'bfi2_a')\n",
    "intra_group_corr = average_domain_avg_correlations #0.44\n",
    "n_simulations = 200\n",
    "\n",
    "simulated_data_a = simulate_item_responses(means, std_devs, corr_matrix, intra_group_corr, n_simulations)"
   ],
   "metadata": {
    "collapsed": false,
    "ExecuteTime": {
     "end_time": "2024-04-17T05:30:12.274992Z",
     "start_time": "2024-04-17T05:30:12.205771Z"
    }
   },
   "id": "1ed3d2bd3237f379",
   "execution_count": 16
  },
  {
   "cell_type": "code",
   "outputs": [
    {
     "data": {
      "text/plain": "     simulated_bfi2  simulated_bfi17  simulated_bfi32  simulated_bfi47  \\\n0               4.0              4.0              3.0              4.0   \n1               2.0              2.0              2.0              3.0   \n2               3.0              3.0              3.0              2.0   \n3               4.0              3.0              5.0              3.0   \n4               5.0              5.0              5.0              5.0   \n..              ...              ...              ...              ...   \n195             4.0              5.0              5.0              5.0   \n196             2.0              2.0              4.0              2.0   \n197             3.0              4.0              3.0              4.0   \n198             3.0              3.0              4.0              2.0   \n199             4.0              4.0              5.0              4.0   \n\n     simulated_bfi7  simulated_bfi22  simulated_bfi37  simulated_bfi52  \\\n0               4.0              3.0              5.0              5.0   \n1               4.0              4.0              4.0              4.0   \n2               4.0              3.0              4.0              3.0   \n3               3.0              3.0              4.0              3.0   \n4               4.0              4.0              5.0              5.0   \n..              ...              ...              ...              ...   \n195             4.0              5.0              4.0              5.0   \n196             3.0              3.0              3.0              3.0   \n197             3.0              4.0              4.0              3.0   \n198             4.0              4.0              5.0              4.0   \n199             2.0              4.0              3.0              3.0   \n\n     simulated_bfi12  simulated_bfi27  simulated_bfi42  simulated_bfi57  \n0                4.0              3.0              3.0              4.0  \n1                2.0              2.0              3.0              2.0  \n2                2.0              2.0              2.0              2.0  \n3                4.0              2.0              2.0              2.0  \n4                4.0              4.0              3.0              3.0  \n..               ...              ...              ...              ...  \n195              5.0              5.0              5.0              4.0  \n196              1.0              2.0              1.0              1.0  \n197              4.0              2.0              3.0              3.0  \n198              3.0              4.0              4.0              4.0  \n199              4.0              3.0              3.0              3.0  \n\n[200 rows x 12 columns]",
      "text/html": "<div>\n<style scoped>\n    .dataframe tbody tr th:only-of-type {\n        vertical-align: middle;\n    }\n\n    .dataframe tbody tr th {\n        vertical-align: top;\n    }\n\n    .dataframe thead th {\n        text-align: right;\n    }\n</style>\n<table border=\"1\" class=\"dataframe\">\n  <thead>\n    <tr style=\"text-align: right;\">\n      <th></th>\n      <th>simulated_bfi2</th>\n      <th>simulated_bfi17</th>\n      <th>simulated_bfi32</th>\n      <th>simulated_bfi47</th>\n      <th>simulated_bfi7</th>\n      <th>simulated_bfi22</th>\n      <th>simulated_bfi37</th>\n      <th>simulated_bfi52</th>\n      <th>simulated_bfi12</th>\n      <th>simulated_bfi27</th>\n      <th>simulated_bfi42</th>\n      <th>simulated_bfi57</th>\n    </tr>\n  </thead>\n  <tbody>\n    <tr>\n      <th>0</th>\n      <td>4.0</td>\n      <td>4.0</td>\n      <td>3.0</td>\n      <td>4.0</td>\n      <td>4.0</td>\n      <td>3.0</td>\n      <td>5.0</td>\n      <td>5.0</td>\n      <td>4.0</td>\n      <td>3.0</td>\n      <td>3.0</td>\n      <td>4.0</td>\n    </tr>\n    <tr>\n      <th>1</th>\n      <td>2.0</td>\n      <td>2.0</td>\n      <td>2.0</td>\n      <td>3.0</td>\n      <td>4.0</td>\n      <td>4.0</td>\n      <td>4.0</td>\n      <td>4.0</td>\n      <td>2.0</td>\n      <td>2.0</td>\n      <td>3.0</td>\n      <td>2.0</td>\n    </tr>\n    <tr>\n      <th>2</th>\n      <td>3.0</td>\n      <td>3.0</td>\n      <td>3.0</td>\n      <td>2.0</td>\n      <td>4.0</td>\n      <td>3.0</td>\n      <td>4.0</td>\n      <td>3.0</td>\n      <td>2.0</td>\n      <td>2.0</td>\n      <td>2.0</td>\n      <td>2.0</td>\n    </tr>\n    <tr>\n      <th>3</th>\n      <td>4.0</td>\n      <td>3.0</td>\n      <td>5.0</td>\n      <td>3.0</td>\n      <td>3.0</td>\n      <td>3.0</td>\n      <td>4.0</td>\n      <td>3.0</td>\n      <td>4.0</td>\n      <td>2.0</td>\n      <td>2.0</td>\n      <td>2.0</td>\n    </tr>\n    <tr>\n      <th>4</th>\n      <td>5.0</td>\n      <td>5.0</td>\n      <td>5.0</td>\n      <td>5.0</td>\n      <td>4.0</td>\n      <td>4.0</td>\n      <td>5.0</td>\n      <td>5.0</td>\n      <td>4.0</td>\n      <td>4.0</td>\n      <td>3.0</td>\n      <td>3.0</td>\n    </tr>\n    <tr>\n      <th>...</th>\n      <td>...</td>\n      <td>...</td>\n      <td>...</td>\n      <td>...</td>\n      <td>...</td>\n      <td>...</td>\n      <td>...</td>\n      <td>...</td>\n      <td>...</td>\n      <td>...</td>\n      <td>...</td>\n      <td>...</td>\n    </tr>\n    <tr>\n      <th>195</th>\n      <td>4.0</td>\n      <td>5.0</td>\n      <td>5.0</td>\n      <td>5.0</td>\n      <td>4.0</td>\n      <td>5.0</td>\n      <td>4.0</td>\n      <td>5.0</td>\n      <td>5.0</td>\n      <td>5.0</td>\n      <td>5.0</td>\n      <td>4.0</td>\n    </tr>\n    <tr>\n      <th>196</th>\n      <td>2.0</td>\n      <td>2.0</td>\n      <td>4.0</td>\n      <td>2.0</td>\n      <td>3.0</td>\n      <td>3.0</td>\n      <td>3.0</td>\n      <td>3.0</td>\n      <td>1.0</td>\n      <td>2.0</td>\n      <td>1.0</td>\n      <td>1.0</td>\n    </tr>\n    <tr>\n      <th>197</th>\n      <td>3.0</td>\n      <td>4.0</td>\n      <td>3.0</td>\n      <td>4.0</td>\n      <td>3.0</td>\n      <td>4.0</td>\n      <td>4.0</td>\n      <td>3.0</td>\n      <td>4.0</td>\n      <td>2.0</td>\n      <td>3.0</td>\n      <td>3.0</td>\n    </tr>\n    <tr>\n      <th>198</th>\n      <td>3.0</td>\n      <td>3.0</td>\n      <td>4.0</td>\n      <td>2.0</td>\n      <td>4.0</td>\n      <td>4.0</td>\n      <td>5.0</td>\n      <td>4.0</td>\n      <td>3.0</td>\n      <td>4.0</td>\n      <td>4.0</td>\n      <td>4.0</td>\n    </tr>\n    <tr>\n      <th>199</th>\n      <td>4.0</td>\n      <td>4.0</td>\n      <td>5.0</td>\n      <td>4.0</td>\n      <td>2.0</td>\n      <td>4.0</td>\n      <td>3.0</td>\n      <td>3.0</td>\n      <td>4.0</td>\n      <td>3.0</td>\n      <td>3.0</td>\n      <td>3.0</td>\n    </tr>\n  </tbody>\n</table>\n<p>200 rows × 12 columns</p>\n</div>"
     },
     "execution_count": 17,
     "metadata": {},
     "output_type": "execute_result"
    }
   ],
   "source": [
    "# assign variable names to the simulated data\n",
    "agreeableness_name = ['simulated_bfi2', 'simulated_bfi17', 'simulated_bfi32', 'simulated_bfi47', \n",
    "                      'simulated_bfi7', 'simulated_bfi22', 'simulated_bfi37', 'simulated_bfi52', \n",
    "                      'simulated_bfi12', 'simulated_bfi27', 'simulated_bfi42', 'simulated_bfi57']\n",
    "\n",
    "simulated_data_a = pd.DataFrame(simulated_data_a, columns=agreeableness_name)\n",
    "simulated_data_a"
   ],
   "metadata": {
    "collapsed": false,
    "ExecuteTime": {
     "end_time": "2024-04-17T05:30:12.324537Z",
     "start_time": "2024-04-17T05:30:12.260743Z"
    }
   },
   "id": "705e6b494b2df994",
   "execution_count": 17
  },
  {
   "cell_type": "markdown",
   "source": [
    "# Conscientiousness"
   ],
   "metadata": {
    "collapsed": false
   },
   "id": "26b7d007bee913d9"
  },
  {
   "cell_type": "markdown",
   "source": [
    "## Extract parameters for Conscientiousness"
   ],
   "metadata": {
    "collapsed": false
   },
   "id": "afea10b195792d58"
  },
  {
   "cell_type": "code",
   "outputs": [
    {
     "data": {
      "text/plain": "                    bfi2_c_organization  bfi2_c_productiveness  \\\nMean                           3.604255               3.337766   \nStandard Deviation             0.881450               0.781335   \n\n                    bfi2_c_responsibility    bfi2_c  \nMean                             3.479255  3.473830  \nStandard Deviation               0.677439  0.647734  ",
      "text/html": "<div>\n<style scoped>\n    .dataframe tbody tr th:only-of-type {\n        vertical-align: middle;\n    }\n\n    .dataframe tbody tr th {\n        vertical-align: top;\n    }\n\n    .dataframe thead th {\n        text-align: right;\n    }\n</style>\n<table border=\"1\" class=\"dataframe\">\n  <thead>\n    <tr style=\"text-align: right;\">\n      <th></th>\n      <th>bfi2_c_organization</th>\n      <th>bfi2_c_productiveness</th>\n      <th>bfi2_c_responsibility</th>\n      <th>bfi2_c</th>\n    </tr>\n  </thead>\n  <tbody>\n    <tr>\n      <th>Mean</th>\n      <td>3.604255</td>\n      <td>3.337766</td>\n      <td>3.479255</td>\n      <td>3.473830</td>\n    </tr>\n    <tr>\n      <th>Standard Deviation</th>\n      <td>0.881450</td>\n      <td>0.781335</td>\n      <td>0.677439</td>\n      <td>0.647734</td>\n    </tr>\n  </tbody>\n</table>\n</div>"
     },
     "execution_count": 18,
     "metadata": {},
     "output_type": "execute_result"
    }
   ],
   "source": [
    "# Test the function with 'bfi2_c' as the domain prefix\n",
    "domain_stat_c = domain_stats(data, 'bfi2_c')\n",
    "domain_stat_c"
   ],
   "metadata": {
    "collapsed": false,
    "ExecuteTime": {
     "end_time": "2024-04-17T05:30:12.382932Z",
     "start_time": "2024-04-17T05:30:12.329106Z"
    }
   },
   "id": "7c170931680deb3a",
   "execution_count": 18
  },
  {
   "cell_type": "code",
   "outputs": [
    {
     "data": {
      "text/plain": "                       bfi2_c_organization  bfi2_c_productiveness  \\\nbfi2_c_organization               1.000000               0.523057   \nbfi2_c_productiveness             0.523057               1.000000   \nbfi2_c_responsibility             0.501303               0.577980   \n\n                       bfi2_c_responsibility  \nbfi2_c_organization                 0.501303  \nbfi2_c_productiveness               0.577980  \nbfi2_c_responsibility               1.000000  ",
      "text/html": "<div>\n<style scoped>\n    .dataframe tbody tr th:only-of-type {\n        vertical-align: middle;\n    }\n\n    .dataframe tbody tr th {\n        vertical-align: top;\n    }\n\n    .dataframe thead th {\n        text-align: right;\n    }\n</style>\n<table border=\"1\" class=\"dataframe\">\n  <thead>\n    <tr style=\"text-align: right;\">\n      <th></th>\n      <th>bfi2_c_organization</th>\n      <th>bfi2_c_productiveness</th>\n      <th>bfi2_c_responsibility</th>\n    </tr>\n  </thead>\n  <tbody>\n    <tr>\n      <th>bfi2_c_organization</th>\n      <td>1.000000</td>\n      <td>0.523057</td>\n      <td>0.501303</td>\n    </tr>\n    <tr>\n      <th>bfi2_c_productiveness</th>\n      <td>0.523057</td>\n      <td>1.000000</td>\n      <td>0.577980</td>\n    </tr>\n    <tr>\n      <th>bfi2_c_responsibility</th>\n      <td>0.501303</td>\n      <td>0.577980</td>\n      <td>1.000000</td>\n    </tr>\n  </tbody>\n</table>\n</div>"
     },
     "execution_count": 19,
     "metadata": {},
     "output_type": "execute_result"
    }
   ],
   "source": [
    "# Test the function with 'bfi2_c' as the domain prefix\n",
    "correlation_c = domain_correlation(data, 'bfi2_c')\n",
    "correlation_c"
   ],
   "metadata": {
    "collapsed": false,
    "ExecuteTime": {
     "end_time": "2024-04-17T05:30:12.431982Z",
     "start_time": "2024-04-17T05:30:12.385367Z"
    }
   },
   "id": "c7aaebe77880176a",
   "execution_count": 19
  },
  {
   "cell_type": "markdown",
   "source": [
    "## Simulate item responses for Conscientiousness"
   ],
   "metadata": {
    "collapsed": false
   },
   "id": "13ff5de163a18063"
  },
  {
   "cell_type": "code",
   "outputs": [],
   "source": [
    "# Define the means, standard deviations, correlation matrix, intra-group correlation, and number of simulations\n",
    "means = np.array(domain_stat_c.loc['Mean'].values[:3])\n",
    "std_devs = np.array(domain_stat_c.loc['Standard Deviation'].values[:3])\n",
    "corr_matrix = domain_correlation(data, 'bfi2_c')\n",
    "intra_group_corr = average_domain_avg_correlations #0.44\n",
    "n_simulations = 200\n",
    "\n",
    "# Simulate item responses for Conscientiousness\n",
    "simulated_data_c = simulate_item_responses(means, std_devs, corr_matrix, intra_group_corr, n_simulations)"
   ],
   "metadata": {
    "collapsed": false,
    "ExecuteTime": {
     "end_time": "2024-04-17T05:30:12.465947Z",
     "start_time": "2024-04-17T05:30:12.422830Z"
    }
   },
   "id": "a2fd763b65882abd",
   "execution_count": 20
  },
  {
   "cell_type": "code",
   "outputs": [
    {
     "data": {
      "text/plain": "     simulated_bfi3  simulated_bfi18  simulated_bfi33  simulated_bfi48  \\\n0               1.0              2.0              1.0              3.0   \n1               5.0              5.0              5.0              4.0   \n2               3.0              3.0              4.0              4.0   \n3               3.0              2.0              2.0              2.0   \n4               2.0              2.0              3.0              2.0   \n..              ...              ...              ...              ...   \n195             3.0              3.0              3.0              3.0   \n196             4.0              4.0              4.0              5.0   \n197             2.0              2.0              3.0              3.0   \n198             5.0              4.0              3.0              5.0   \n199             3.0              3.0              3.0              3.0   \n\n     simulated_bfi8  simulated_bfi23  simulated_bfi38  simulated_bfi53  \\\n0               3.0              3.0              3.0              2.0   \n1               4.0              3.0              3.0              3.0   \n2               4.0              4.0              4.0              5.0   \n3               4.0              2.0              4.0              4.0   \n4               3.0              3.0              3.0              3.0   \n..              ...              ...              ...              ...   \n195             2.0              4.0              2.0              3.0   \n196             3.0              3.0              2.0              4.0   \n197             3.0              2.0              2.0              4.0   \n198             4.0              3.0              4.0              2.0   \n199             4.0              2.0              3.0              3.0   \n\n     simulated_bfi13  simulated_bfi28  simulated_bfi43  simulated_bfi58  \n0                3.0              3.0              2.0              2.0  \n1                4.0              4.0              4.0              5.0  \n2                4.0              4.0              3.0              4.0  \n3                3.0              3.0              3.0              3.0  \n4                2.0              2.0              2.0              3.0  \n..               ...              ...              ...              ...  \n195              4.0              4.0              4.0              4.0  \n196              3.0              4.0              4.0              4.0  \n197              2.0              2.0              3.0              3.0  \n198              4.0              5.0              4.0              4.0  \n199              4.0              3.0              4.0              4.0  \n\n[200 rows x 12 columns]",
      "text/html": "<div>\n<style scoped>\n    .dataframe tbody tr th:only-of-type {\n        vertical-align: middle;\n    }\n\n    .dataframe tbody tr th {\n        vertical-align: top;\n    }\n\n    .dataframe thead th {\n        text-align: right;\n    }\n</style>\n<table border=\"1\" class=\"dataframe\">\n  <thead>\n    <tr style=\"text-align: right;\">\n      <th></th>\n      <th>simulated_bfi3</th>\n      <th>simulated_bfi18</th>\n      <th>simulated_bfi33</th>\n      <th>simulated_bfi48</th>\n      <th>simulated_bfi8</th>\n      <th>simulated_bfi23</th>\n      <th>simulated_bfi38</th>\n      <th>simulated_bfi53</th>\n      <th>simulated_bfi13</th>\n      <th>simulated_bfi28</th>\n      <th>simulated_bfi43</th>\n      <th>simulated_bfi58</th>\n    </tr>\n  </thead>\n  <tbody>\n    <tr>\n      <th>0</th>\n      <td>1.0</td>\n      <td>2.0</td>\n      <td>1.0</td>\n      <td>3.0</td>\n      <td>3.0</td>\n      <td>3.0</td>\n      <td>3.0</td>\n      <td>2.0</td>\n      <td>3.0</td>\n      <td>3.0</td>\n      <td>2.0</td>\n      <td>2.0</td>\n    </tr>\n    <tr>\n      <th>1</th>\n      <td>5.0</td>\n      <td>5.0</td>\n      <td>5.0</td>\n      <td>4.0</td>\n      <td>4.0</td>\n      <td>3.0</td>\n      <td>3.0</td>\n      <td>3.0</td>\n      <td>4.0</td>\n      <td>4.0</td>\n      <td>4.0</td>\n      <td>5.0</td>\n    </tr>\n    <tr>\n      <th>2</th>\n      <td>3.0</td>\n      <td>3.0</td>\n      <td>4.0</td>\n      <td>4.0</td>\n      <td>4.0</td>\n      <td>4.0</td>\n      <td>4.0</td>\n      <td>5.0</td>\n      <td>4.0</td>\n      <td>4.0</td>\n      <td>3.0</td>\n      <td>4.0</td>\n    </tr>\n    <tr>\n      <th>3</th>\n      <td>3.0</td>\n      <td>2.0</td>\n      <td>2.0</td>\n      <td>2.0</td>\n      <td>4.0</td>\n      <td>2.0</td>\n      <td>4.0</td>\n      <td>4.0</td>\n      <td>3.0</td>\n      <td>3.0</td>\n      <td>3.0</td>\n      <td>3.0</td>\n    </tr>\n    <tr>\n      <th>4</th>\n      <td>2.0</td>\n      <td>2.0</td>\n      <td>3.0</td>\n      <td>2.0</td>\n      <td>3.0</td>\n      <td>3.0</td>\n      <td>3.0</td>\n      <td>3.0</td>\n      <td>2.0</td>\n      <td>2.0</td>\n      <td>2.0</td>\n      <td>3.0</td>\n    </tr>\n    <tr>\n      <th>...</th>\n      <td>...</td>\n      <td>...</td>\n      <td>...</td>\n      <td>...</td>\n      <td>...</td>\n      <td>...</td>\n      <td>...</td>\n      <td>...</td>\n      <td>...</td>\n      <td>...</td>\n      <td>...</td>\n      <td>...</td>\n    </tr>\n    <tr>\n      <th>195</th>\n      <td>3.0</td>\n      <td>3.0</td>\n      <td>3.0</td>\n      <td>3.0</td>\n      <td>2.0</td>\n      <td>4.0</td>\n      <td>2.0</td>\n      <td>3.0</td>\n      <td>4.0</td>\n      <td>4.0</td>\n      <td>4.0</td>\n      <td>4.0</td>\n    </tr>\n    <tr>\n      <th>196</th>\n      <td>4.0</td>\n      <td>4.0</td>\n      <td>4.0</td>\n      <td>5.0</td>\n      <td>3.0</td>\n      <td>3.0</td>\n      <td>2.0</td>\n      <td>4.0</td>\n      <td>3.0</td>\n      <td>4.0</td>\n      <td>4.0</td>\n      <td>4.0</td>\n    </tr>\n    <tr>\n      <th>197</th>\n      <td>2.0</td>\n      <td>2.0</td>\n      <td>3.0</td>\n      <td>3.0</td>\n      <td>3.0</td>\n      <td>2.0</td>\n      <td>2.0</td>\n      <td>4.0</td>\n      <td>2.0</td>\n      <td>2.0</td>\n      <td>3.0</td>\n      <td>3.0</td>\n    </tr>\n    <tr>\n      <th>198</th>\n      <td>5.0</td>\n      <td>4.0</td>\n      <td>3.0</td>\n      <td>5.0</td>\n      <td>4.0</td>\n      <td>3.0</td>\n      <td>4.0</td>\n      <td>2.0</td>\n      <td>4.0</td>\n      <td>5.0</td>\n      <td>4.0</td>\n      <td>4.0</td>\n    </tr>\n    <tr>\n      <th>199</th>\n      <td>3.0</td>\n      <td>3.0</td>\n      <td>3.0</td>\n      <td>3.0</td>\n      <td>4.0</td>\n      <td>2.0</td>\n      <td>3.0</td>\n      <td>3.0</td>\n      <td>4.0</td>\n      <td>3.0</td>\n      <td>4.0</td>\n      <td>4.0</td>\n    </tr>\n  </tbody>\n</table>\n<p>200 rows × 12 columns</p>\n</div>"
     },
     "execution_count": 21,
     "metadata": {},
     "output_type": "execute_result"
    }
   ],
   "source": [
    "# assign variable names to the simulated data\n",
    "conscientiousness_name = ['simulated_bfi3', 'simulated_bfi18', 'simulated_bfi33', 'simulated_bfi48', \n",
    "                          'simulated_bfi8', 'simulated_bfi23', 'simulated_bfi38', 'simulated_bfi53', \n",
    "                          'simulated_bfi13', 'simulated_bfi28', 'simulated_bfi43', 'simulated_bfi58']\n",
    "\n",
    "simulated_data_c = pd.DataFrame(simulated_data_c, columns=conscientiousness_name)\n",
    "simulated_data_c"
   ],
   "metadata": {
    "collapsed": false,
    "ExecuteTime": {
     "end_time": "2024-04-17T05:30:12.502145Z",
     "start_time": "2024-04-17T05:30:12.457600Z"
    }
   },
   "id": "eb758d5cfd4b2696",
   "execution_count": 21
  },
  {
   "cell_type": "markdown",
   "source": [
    "# Neuroticism"
   ],
   "metadata": {
    "collapsed": false
   },
   "id": "4860e6f81e6c84e4"
  },
  {
   "cell_type": "markdown",
   "source": [
    "## Extract parameters for Neuroticism"
   ],
   "metadata": {
    "collapsed": false
   },
   "id": "6bd26694dc1b69b1"
  },
  {
   "cell_type": "code",
   "outputs": [
    {
     "data": {
      "text/plain": "                    bfi2_n_anxiety  bfi2_n_depression  \\\nMean                      3.425000           2.565957   \nStandard Deviation        0.841259           0.923030   \n\n                    bfi2_n_emotional_volatility    bfi2_n  \nMean                                   2.743617  2.911638  \nStandard Deviation                     0.954292  0.768512  ",
      "text/html": "<div>\n<style scoped>\n    .dataframe tbody tr th:only-of-type {\n        vertical-align: middle;\n    }\n\n    .dataframe tbody tr th {\n        vertical-align: top;\n    }\n\n    .dataframe thead th {\n        text-align: right;\n    }\n</style>\n<table border=\"1\" class=\"dataframe\">\n  <thead>\n    <tr style=\"text-align: right;\">\n      <th></th>\n      <th>bfi2_n_anxiety</th>\n      <th>bfi2_n_depression</th>\n      <th>bfi2_n_emotional_volatility</th>\n      <th>bfi2_n</th>\n    </tr>\n  </thead>\n  <tbody>\n    <tr>\n      <th>Mean</th>\n      <td>3.425000</td>\n      <td>2.565957</td>\n      <td>2.743617</td>\n      <td>2.911638</td>\n    </tr>\n    <tr>\n      <th>Standard Deviation</th>\n      <td>0.841259</td>\n      <td>0.923030</td>\n      <td>0.954292</td>\n      <td>0.768512</td>\n    </tr>\n  </tbody>\n</table>\n</div>"
     },
     "execution_count": 22,
     "metadata": {},
     "output_type": "execute_result"
    }
   ],
   "source": [
    "# Test the function with 'bfi2_n' as the domain prefix\n",
    "domain_stat_n = domain_stats(data, 'bfi2_n')\n",
    "domain_stat_n"
   ],
   "metadata": {
    "collapsed": false,
    "ExecuteTime": {
     "end_time": "2024-04-17T05:30:12.538667Z",
     "start_time": "2024-04-17T05:30:12.507005Z"
    }
   },
   "id": "eba3d76956b85536",
   "execution_count": 22
  },
  {
   "cell_type": "code",
   "outputs": [
    {
     "data": {
      "text/plain": "                             bfi2_n_anxiety  bfi2_n_depression  \\\nbfi2_n_anxiety                     1.000000           0.558478   \nbfi2_n_depression                  0.558478           1.000000   \nbfi2_n_emotional_volatility        0.575573           0.598226   \n\n                             bfi2_n_emotional_volatility  \nbfi2_n_anxiety                                  0.575573  \nbfi2_n_depression                               0.598226  \nbfi2_n_emotional_volatility                     1.000000  ",
      "text/html": "<div>\n<style scoped>\n    .dataframe tbody tr th:only-of-type {\n        vertical-align: middle;\n    }\n\n    .dataframe tbody tr th {\n        vertical-align: top;\n    }\n\n    .dataframe thead th {\n        text-align: right;\n    }\n</style>\n<table border=\"1\" class=\"dataframe\">\n  <thead>\n    <tr style=\"text-align: right;\">\n      <th></th>\n      <th>bfi2_n_anxiety</th>\n      <th>bfi2_n_depression</th>\n      <th>bfi2_n_emotional_volatility</th>\n    </tr>\n  </thead>\n  <tbody>\n    <tr>\n      <th>bfi2_n_anxiety</th>\n      <td>1.000000</td>\n      <td>0.558478</td>\n      <td>0.575573</td>\n    </tr>\n    <tr>\n      <th>bfi2_n_depression</th>\n      <td>0.558478</td>\n      <td>1.000000</td>\n      <td>0.598226</td>\n    </tr>\n    <tr>\n      <th>bfi2_n_emotional_volatility</th>\n      <td>0.575573</td>\n      <td>0.598226</td>\n      <td>1.000000</td>\n    </tr>\n  </tbody>\n</table>\n</div>"
     },
     "execution_count": 23,
     "metadata": {},
     "output_type": "execute_result"
    }
   ],
   "source": [
    "# Test the function with 'bfi2_n' as the domain prefix\n",
    "correlation_n = domain_correlation(data, 'bfi2_n')\n",
    "correlation_n"
   ],
   "metadata": {
    "collapsed": false,
    "ExecuteTime": {
     "end_time": "2024-04-17T05:30:12.619335Z",
     "start_time": "2024-04-17T05:30:12.540970Z"
    }
   },
   "id": "26b336d9d5bd7359",
   "execution_count": 23
  },
  {
   "cell_type": "markdown",
   "source": [
    "## Simulate item responses for Neuroticism"
   ],
   "metadata": {
    "collapsed": false
   },
   "id": "ae753fb16e3aff14"
  },
  {
   "cell_type": "code",
   "outputs": [],
   "source": [
    "# Define the means, standard deviations, correlation matrix, intra-group correlation, and number of simulations\n",
    "means = np.array(domain_stat_n.loc['Mean'].values[:3])\n",
    "std_devs = np.array(domain_stat_n.loc['Standard Deviation'].values[:3])\n",
    "corr_matrix = domain_correlation(data, 'bfi2_n')\n",
    "intra_group_corr = average_domain_avg_correlations #0.44\n",
    "n_simulations = 200\n",
    "\n",
    "# Simulate item responses for Neuroticism\n",
    "simulated_data_n = simulate_item_responses(means, std_devs, corr_matrix, intra_group_corr, n_simulations)"
   ],
   "metadata": {
    "collapsed": false,
    "ExecuteTime": {
     "end_time": "2024-04-17T05:30:12.678874Z",
     "start_time": "2024-04-17T05:30:12.621705Z"
    }
   },
   "id": "abd2c7e9831a90de",
   "execution_count": 24
  },
  {
   "cell_type": "code",
   "outputs": [
    {
     "data": {
      "text/plain": "     simulated_bfi4  simulated_bfi19  simulated_bfi34  simulated_bfi49  \\\n0               5.0              5.0              5.0              4.0   \n1               2.0              4.0              4.0              3.0   \n2               5.0              5.0              5.0              5.0   \n3               4.0              5.0              4.0              4.0   \n4               4.0              4.0              4.0              5.0   \n..              ...              ...              ...              ...   \n195             5.0              3.0              4.0              5.0   \n196             3.0              2.0              1.0              1.0   \n197             4.0              3.0              5.0              3.0   \n198             2.0              2.0              3.0              4.0   \n199             3.0              3.0              4.0              2.0   \n\n     simulated_bfi9  simulated_bfi24  simulated_bfi39  simulated_bfi54  \\\n0               1.0              2.0              3.0              2.0   \n1               3.0              3.0              3.0              2.0   \n2               2.0              2.0              2.0              2.0   \n3               4.0              5.0              3.0              5.0   \n4               3.0              4.0              2.0              3.0   \n..              ...              ...              ...              ...   \n195             3.0              4.0              3.0              3.0   \n196             3.0              3.0              3.0              3.0   \n197             4.0              4.0              3.0              3.0   \n198             3.0              2.0              3.0              2.0   \n199             2.0              1.0              2.0              2.0   \n\n     simulated_bfi14  simulated_bfi29  simulated_bfi44  simulated_bfi59  \n0                5.0              4.0              5.0              4.0  \n1                4.0              5.0              5.0              4.0  \n2                5.0              4.0              5.0              4.0  \n3                2.0              2.0              2.0              3.0  \n4                2.0              1.0              2.0              2.0  \n..               ...              ...              ...              ...  \n195              5.0              4.0              3.0              4.0  \n196              2.0              2.0              2.0              2.0  \n197              4.0              4.0              4.0              2.0  \n198              3.0              2.0              4.0              2.0  \n199              2.0              2.0              2.0              3.0  \n\n[200 rows x 12 columns]",
      "text/html": "<div>\n<style scoped>\n    .dataframe tbody tr th:only-of-type {\n        vertical-align: middle;\n    }\n\n    .dataframe tbody tr th {\n        vertical-align: top;\n    }\n\n    .dataframe thead th {\n        text-align: right;\n    }\n</style>\n<table border=\"1\" class=\"dataframe\">\n  <thead>\n    <tr style=\"text-align: right;\">\n      <th></th>\n      <th>simulated_bfi4</th>\n      <th>simulated_bfi19</th>\n      <th>simulated_bfi34</th>\n      <th>simulated_bfi49</th>\n      <th>simulated_bfi9</th>\n      <th>simulated_bfi24</th>\n      <th>simulated_bfi39</th>\n      <th>simulated_bfi54</th>\n      <th>simulated_bfi14</th>\n      <th>simulated_bfi29</th>\n      <th>simulated_bfi44</th>\n      <th>simulated_bfi59</th>\n    </tr>\n  </thead>\n  <tbody>\n    <tr>\n      <th>0</th>\n      <td>5.0</td>\n      <td>5.0</td>\n      <td>5.0</td>\n      <td>4.0</td>\n      <td>1.0</td>\n      <td>2.0</td>\n      <td>3.0</td>\n      <td>2.0</td>\n      <td>5.0</td>\n      <td>4.0</td>\n      <td>5.0</td>\n      <td>4.0</td>\n    </tr>\n    <tr>\n      <th>1</th>\n      <td>2.0</td>\n      <td>4.0</td>\n      <td>4.0</td>\n      <td>3.0</td>\n      <td>3.0</td>\n      <td>3.0</td>\n      <td>3.0</td>\n      <td>2.0</td>\n      <td>4.0</td>\n      <td>5.0</td>\n      <td>5.0</td>\n      <td>4.0</td>\n    </tr>\n    <tr>\n      <th>2</th>\n      <td>5.0</td>\n      <td>5.0</td>\n      <td>5.0</td>\n      <td>5.0</td>\n      <td>2.0</td>\n      <td>2.0</td>\n      <td>2.0</td>\n      <td>2.0</td>\n      <td>5.0</td>\n      <td>4.0</td>\n      <td>5.0</td>\n      <td>4.0</td>\n    </tr>\n    <tr>\n      <th>3</th>\n      <td>4.0</td>\n      <td>5.0</td>\n      <td>4.0</td>\n      <td>4.0</td>\n      <td>4.0</td>\n      <td>5.0</td>\n      <td>3.0</td>\n      <td>5.0</td>\n      <td>2.0</td>\n      <td>2.0</td>\n      <td>2.0</td>\n      <td>3.0</td>\n    </tr>\n    <tr>\n      <th>4</th>\n      <td>4.0</td>\n      <td>4.0</td>\n      <td>4.0</td>\n      <td>5.0</td>\n      <td>3.0</td>\n      <td>4.0</td>\n      <td>2.0</td>\n      <td>3.0</td>\n      <td>2.0</td>\n      <td>1.0</td>\n      <td>2.0</td>\n      <td>2.0</td>\n    </tr>\n    <tr>\n      <th>...</th>\n      <td>...</td>\n      <td>...</td>\n      <td>...</td>\n      <td>...</td>\n      <td>...</td>\n      <td>...</td>\n      <td>...</td>\n      <td>...</td>\n      <td>...</td>\n      <td>...</td>\n      <td>...</td>\n      <td>...</td>\n    </tr>\n    <tr>\n      <th>195</th>\n      <td>5.0</td>\n      <td>3.0</td>\n      <td>4.0</td>\n      <td>5.0</td>\n      <td>3.0</td>\n      <td>4.0</td>\n      <td>3.0</td>\n      <td>3.0</td>\n      <td>5.0</td>\n      <td>4.0</td>\n      <td>3.0</td>\n      <td>4.0</td>\n    </tr>\n    <tr>\n      <th>196</th>\n      <td>3.0</td>\n      <td>2.0</td>\n      <td>1.0</td>\n      <td>1.0</td>\n      <td>3.0</td>\n      <td>3.0</td>\n      <td>3.0</td>\n      <td>3.0</td>\n      <td>2.0</td>\n      <td>2.0</td>\n      <td>2.0</td>\n      <td>2.0</td>\n    </tr>\n    <tr>\n      <th>197</th>\n      <td>4.0</td>\n      <td>3.0</td>\n      <td>5.0</td>\n      <td>3.0</td>\n      <td>4.0</td>\n      <td>4.0</td>\n      <td>3.0</td>\n      <td>3.0</td>\n      <td>4.0</td>\n      <td>4.0</td>\n      <td>4.0</td>\n      <td>2.0</td>\n    </tr>\n    <tr>\n      <th>198</th>\n      <td>2.0</td>\n      <td>2.0</td>\n      <td>3.0</td>\n      <td>4.0</td>\n      <td>3.0</td>\n      <td>2.0</td>\n      <td>3.0</td>\n      <td>2.0</td>\n      <td>3.0</td>\n      <td>2.0</td>\n      <td>4.0</td>\n      <td>2.0</td>\n    </tr>\n    <tr>\n      <th>199</th>\n      <td>3.0</td>\n      <td>3.0</td>\n      <td>4.0</td>\n      <td>2.0</td>\n      <td>2.0</td>\n      <td>1.0</td>\n      <td>2.0</td>\n      <td>2.0</td>\n      <td>2.0</td>\n      <td>2.0</td>\n      <td>2.0</td>\n      <td>3.0</td>\n    </tr>\n  </tbody>\n</table>\n<p>200 rows × 12 columns</p>\n</div>"
     },
     "execution_count": 25,
     "metadata": {},
     "output_type": "execute_result"
    }
   ],
   "source": [
    "# assign variable names to the simulated data\n",
    "neuroticism_name = ['simulated_bfi4', 'simulated_bfi19', 'simulated_bfi34', 'simulated_bfi49', \n",
    "                    'simulated_bfi9', 'simulated_bfi24', 'simulated_bfi39', 'simulated_bfi54', \n",
    "                    'simulated_bfi14', 'simulated_bfi29', 'simulated_bfi44', 'simulated_bfi59']\n",
    "\n",
    "simulated_data_n = pd.DataFrame(simulated_data_n, columns=neuroticism_name)\n",
    "simulated_data_n"
   ],
   "metadata": {
    "collapsed": false,
    "ExecuteTime": {
     "end_time": "2024-04-17T05:30:12.724944Z",
     "start_time": "2024-04-17T05:30:12.671570Z"
    }
   },
   "id": "4d848b7b590094ea",
   "execution_count": 25
  },
  {
   "cell_type": "markdown",
   "source": [
    "# Openness"
   ],
   "metadata": {
    "collapsed": false
   },
   "id": "67ae46dd7f0e62c2"
  },
  {
   "cell_type": "markdown",
   "source": [
    "## Extract parameters for Openness"
   ],
   "metadata": {
    "collapsed": false
   },
   "id": "fd34ad519c03425c"
  },
  {
   "cell_type": "code",
   "outputs": [
    {
     "data": {
      "text/plain": "                    bfi2_o_intellectual_curiosity  \\\nMean                                     3.823404   \nStandard Deviation                       0.722532   \n\n                    bfi2_o_aesthetic_sensitivity  bfi2_o_creative_imagination  \\\nMean                                    3.573936                     3.521277   \nStandard Deviation                      0.904995                     0.774269   \n\n                      bfi2_o  \nMean                3.639532  \nStandard Deviation  0.638165  ",
      "text/html": "<div>\n<style scoped>\n    .dataframe tbody tr th:only-of-type {\n        vertical-align: middle;\n    }\n\n    .dataframe tbody tr th {\n        vertical-align: top;\n    }\n\n    .dataframe thead th {\n        text-align: right;\n    }\n</style>\n<table border=\"1\" class=\"dataframe\">\n  <thead>\n    <tr style=\"text-align: right;\">\n      <th></th>\n      <th>bfi2_o_intellectual_curiosity</th>\n      <th>bfi2_o_aesthetic_sensitivity</th>\n      <th>bfi2_o_creative_imagination</th>\n      <th>bfi2_o</th>\n    </tr>\n  </thead>\n  <tbody>\n    <tr>\n      <th>Mean</th>\n      <td>3.823404</td>\n      <td>3.573936</td>\n      <td>3.521277</td>\n      <td>3.639532</td>\n    </tr>\n    <tr>\n      <th>Standard Deviation</th>\n      <td>0.722532</td>\n      <td>0.904995</td>\n      <td>0.774269</td>\n      <td>0.638165</td>\n    </tr>\n  </tbody>\n</table>\n</div>"
     },
     "execution_count": 26,
     "metadata": {},
     "output_type": "execute_result"
    }
   ],
   "source": [
    "# Test the function with 'bfi2_o' as the domain prefix\n",
    "domain_stat_o = domain_stats(data, 'bfi2_o')\n",
    "domain_stat_o"
   ],
   "metadata": {
    "collapsed": false,
    "ExecuteTime": {
     "end_time": "2024-04-17T05:30:12.797815Z",
     "start_time": "2024-04-17T05:30:12.726866Z"
    }
   },
   "id": "dc3a75a52d60154c",
   "execution_count": 26
  },
  {
   "cell_type": "code",
   "outputs": [
    {
     "data": {
      "text/plain": "                               bfi2_o_intellectual_curiosity  \\\nbfi2_o_intellectual_curiosity                       1.000000   \nbfi2_o_aesthetic_sensitivity                        0.437393   \nbfi2_o_creative_imagination                         0.475049   \n\n                               bfi2_o_aesthetic_sensitivity  \\\nbfi2_o_intellectual_curiosity                      0.437393   \nbfi2_o_aesthetic_sensitivity                       1.000000   \nbfi2_o_creative_imagination                        0.444297   \n\n                               bfi2_o_creative_imagination  \nbfi2_o_intellectual_curiosity                     0.475049  \nbfi2_o_aesthetic_sensitivity                      0.444297  \nbfi2_o_creative_imagination                       1.000000  ",
      "text/html": "<div>\n<style scoped>\n    .dataframe tbody tr th:only-of-type {\n        vertical-align: middle;\n    }\n\n    .dataframe tbody tr th {\n        vertical-align: top;\n    }\n\n    .dataframe thead th {\n        text-align: right;\n    }\n</style>\n<table border=\"1\" class=\"dataframe\">\n  <thead>\n    <tr style=\"text-align: right;\">\n      <th></th>\n      <th>bfi2_o_intellectual_curiosity</th>\n      <th>bfi2_o_aesthetic_sensitivity</th>\n      <th>bfi2_o_creative_imagination</th>\n    </tr>\n  </thead>\n  <tbody>\n    <tr>\n      <th>bfi2_o_intellectual_curiosity</th>\n      <td>1.000000</td>\n      <td>0.437393</td>\n      <td>0.475049</td>\n    </tr>\n    <tr>\n      <th>bfi2_o_aesthetic_sensitivity</th>\n      <td>0.437393</td>\n      <td>1.000000</td>\n      <td>0.444297</td>\n    </tr>\n    <tr>\n      <th>bfi2_o_creative_imagination</th>\n      <td>0.475049</td>\n      <td>0.444297</td>\n      <td>1.000000</td>\n    </tr>\n  </tbody>\n</table>\n</div>"
     },
     "execution_count": 27,
     "metadata": {},
     "output_type": "execute_result"
    }
   ],
   "source": [
    "# Test the function with 'bfi2_o' as the domain prefix\n",
    "correlation_o = domain_correlation(data, 'bfi2_o')\n",
    "correlation_o"
   ],
   "metadata": {
    "collapsed": false,
    "ExecuteTime": {
     "end_time": "2024-04-17T05:30:12.834611Z",
     "start_time": "2024-04-17T05:30:12.787845Z"
    }
   },
   "id": "d2c0419a4b8759b2",
   "execution_count": 27
  },
  {
   "cell_type": "markdown",
   "source": [
    "## Simulate item responses for Openness"
   ],
   "metadata": {
    "collapsed": false
   },
   "id": "e4492ed246c806aa"
  },
  {
   "cell_type": "code",
   "outputs": [],
   "source": [
    "# Define the means, standard deviations, correlation matrix, intra-group correlation, and number of simulations\n",
    "means = np.array(domain_stat_o.loc['Mean'].values[:3])\n",
    "std_devs = np.array(domain_stat_o.loc['Standard Deviation'].values[:3])\n",
    "corr_matrix = domain_correlation(data, 'bfi2_o')\n",
    "intra_group_corr = average_domain_avg_correlations #0.44\n",
    "n_simulations = 200\n",
    "\n",
    "# Simulate item responses for Openness\n",
    "simulated_data_o = simulate_item_responses(means, std_devs, corr_matrix, intra_group_corr, n_simulations)"
   ],
   "metadata": {
    "collapsed": false,
    "ExecuteTime": {
     "end_time": "2024-04-17T05:30:12.884729Z",
     "start_time": "2024-04-17T05:30:12.832209Z"
    }
   },
   "id": "25c4906d0ca1292d",
   "execution_count": 28
  },
  {
   "cell_type": "code",
   "outputs": [
    {
     "data": {
      "text/plain": "     simulated_bfi10  simulated_bfi25  simulated_bfi40  simulated_bfi55  \\\n0                4.0              4.0              4.0              4.0   \n1                3.0              2.0              2.0              3.0   \n2                4.0              4.0              3.0              3.0   \n3                5.0              4.0              5.0              5.0   \n4                5.0              4.0              5.0              4.0   \n..               ...              ...              ...              ...   \n195              5.0              5.0              4.0              5.0   \n196              3.0              4.0              3.0              4.0   \n197              5.0              4.0              5.0              4.0   \n198              4.0              1.0              4.0              3.0   \n199              4.0              3.0              3.0              4.0   \n\n     simulated_bfi5  simulated_bfi20  simulated_bfi35  simulated_bfi50  \\\n0               5.0              4.0              4.0              5.0   \n1               4.0              4.0              3.0              2.0   \n2               5.0              5.0              5.0              4.0   \n3               5.0              5.0              4.0              3.0   \n4               4.0              4.0              4.0              4.0   \n..              ...              ...              ...              ...   \n195             5.0              4.0              4.0              2.0   \n196             4.0              5.0              5.0              4.0   \n197             4.0              3.0              3.0              4.0   \n198             3.0              2.0              2.0              3.0   \n199             2.0              3.0              3.0              3.0   \n\n     simulated_bfi15  simulated_bfi30  simulated_bfi45  simulated_bfi60  \n0                3.0              3.0              4.0              3.0  \n1                2.0              3.0              3.0              4.0  \n2                5.0              4.0              4.0              4.0  \n3                4.0              4.0              4.0              3.0  \n4                5.0              5.0              4.0              4.0  \n..               ...              ...              ...              ...  \n195              5.0              4.0              4.0              5.0  \n196              4.0              3.0              5.0              3.0  \n197              5.0              4.0              5.0              5.0  \n198              3.0              3.0              3.0              3.0  \n199              1.0              3.0              3.0              3.0  \n\n[200 rows x 12 columns]",
      "text/html": "<div>\n<style scoped>\n    .dataframe tbody tr th:only-of-type {\n        vertical-align: middle;\n    }\n\n    .dataframe tbody tr th {\n        vertical-align: top;\n    }\n\n    .dataframe thead th {\n        text-align: right;\n    }\n</style>\n<table border=\"1\" class=\"dataframe\">\n  <thead>\n    <tr style=\"text-align: right;\">\n      <th></th>\n      <th>simulated_bfi10</th>\n      <th>simulated_bfi25</th>\n      <th>simulated_bfi40</th>\n      <th>simulated_bfi55</th>\n      <th>simulated_bfi5</th>\n      <th>simulated_bfi20</th>\n      <th>simulated_bfi35</th>\n      <th>simulated_bfi50</th>\n      <th>simulated_bfi15</th>\n      <th>simulated_bfi30</th>\n      <th>simulated_bfi45</th>\n      <th>simulated_bfi60</th>\n    </tr>\n  </thead>\n  <tbody>\n    <tr>\n      <th>0</th>\n      <td>4.0</td>\n      <td>4.0</td>\n      <td>4.0</td>\n      <td>4.0</td>\n      <td>5.0</td>\n      <td>4.0</td>\n      <td>4.0</td>\n      <td>5.0</td>\n      <td>3.0</td>\n      <td>3.0</td>\n      <td>4.0</td>\n      <td>3.0</td>\n    </tr>\n    <tr>\n      <th>1</th>\n      <td>3.0</td>\n      <td>2.0</td>\n      <td>2.0</td>\n      <td>3.0</td>\n      <td>4.0</td>\n      <td>4.0</td>\n      <td>3.0</td>\n      <td>2.0</td>\n      <td>2.0</td>\n      <td>3.0</td>\n      <td>3.0</td>\n      <td>4.0</td>\n    </tr>\n    <tr>\n      <th>2</th>\n      <td>4.0</td>\n      <td>4.0</td>\n      <td>3.0</td>\n      <td>3.0</td>\n      <td>5.0</td>\n      <td>5.0</td>\n      <td>5.0</td>\n      <td>4.0</td>\n      <td>5.0</td>\n      <td>4.0</td>\n      <td>4.0</td>\n      <td>4.0</td>\n    </tr>\n    <tr>\n      <th>3</th>\n      <td>5.0</td>\n      <td>4.0</td>\n      <td>5.0</td>\n      <td>5.0</td>\n      <td>5.0</td>\n      <td>5.0</td>\n      <td>4.0</td>\n      <td>3.0</td>\n      <td>4.0</td>\n      <td>4.0</td>\n      <td>4.0</td>\n      <td>3.0</td>\n    </tr>\n    <tr>\n      <th>4</th>\n      <td>5.0</td>\n      <td>4.0</td>\n      <td>5.0</td>\n      <td>4.0</td>\n      <td>4.0</td>\n      <td>4.0</td>\n      <td>4.0</td>\n      <td>4.0</td>\n      <td>5.0</td>\n      <td>5.0</td>\n      <td>4.0</td>\n      <td>4.0</td>\n    </tr>\n    <tr>\n      <th>...</th>\n      <td>...</td>\n      <td>...</td>\n      <td>...</td>\n      <td>...</td>\n      <td>...</td>\n      <td>...</td>\n      <td>...</td>\n      <td>...</td>\n      <td>...</td>\n      <td>...</td>\n      <td>...</td>\n      <td>...</td>\n    </tr>\n    <tr>\n      <th>195</th>\n      <td>5.0</td>\n      <td>5.0</td>\n      <td>4.0</td>\n      <td>5.0</td>\n      <td>5.0</td>\n      <td>4.0</td>\n      <td>4.0</td>\n      <td>2.0</td>\n      <td>5.0</td>\n      <td>4.0</td>\n      <td>4.0</td>\n      <td>5.0</td>\n    </tr>\n    <tr>\n      <th>196</th>\n      <td>3.0</td>\n      <td>4.0</td>\n      <td>3.0</td>\n      <td>4.0</td>\n      <td>4.0</td>\n      <td>5.0</td>\n      <td>5.0</td>\n      <td>4.0</td>\n      <td>4.0</td>\n      <td>3.0</td>\n      <td>5.0</td>\n      <td>3.0</td>\n    </tr>\n    <tr>\n      <th>197</th>\n      <td>5.0</td>\n      <td>4.0</td>\n      <td>5.0</td>\n      <td>4.0</td>\n      <td>4.0</td>\n      <td>3.0</td>\n      <td>3.0</td>\n      <td>4.0</td>\n      <td>5.0</td>\n      <td>4.0</td>\n      <td>5.0</td>\n      <td>5.0</td>\n    </tr>\n    <tr>\n      <th>198</th>\n      <td>4.0</td>\n      <td>1.0</td>\n      <td>4.0</td>\n      <td>3.0</td>\n      <td>3.0</td>\n      <td>2.0</td>\n      <td>2.0</td>\n      <td>3.0</td>\n      <td>3.0</td>\n      <td>3.0</td>\n      <td>3.0</td>\n      <td>3.0</td>\n    </tr>\n    <tr>\n      <th>199</th>\n      <td>4.0</td>\n      <td>3.0</td>\n      <td>3.0</td>\n      <td>4.0</td>\n      <td>2.0</td>\n      <td>3.0</td>\n      <td>3.0</td>\n      <td>3.0</td>\n      <td>1.0</td>\n      <td>3.0</td>\n      <td>3.0</td>\n      <td>3.0</td>\n    </tr>\n  </tbody>\n</table>\n<p>200 rows × 12 columns</p>\n</div>"
     },
     "execution_count": 29,
     "metadata": {},
     "output_type": "execute_result"
    }
   ],
   "source": [
    "# assign variable names to the simulated data\n",
    "openness_name = ['simulated_bfi10', 'simulated_bfi25', 'simulated_bfi40', 'simulated_bfi55', \n",
    "                  'simulated_bfi5', 'simulated_bfi20', 'simulated_bfi35', 'simulated_bfi50', \n",
    "                  'simulated_bfi15', 'simulated_bfi30', 'simulated_bfi45', 'simulated_bfi60']\n",
    "\n",
    "simulated_data_o = pd.DataFrame(simulated_data_o, columns=openness_name)\n",
    "simulated_data_o"
   ],
   "metadata": {
    "collapsed": false,
    "ExecuteTime": {
     "end_time": "2024-04-17T05:30:12.945135Z",
     "start_time": "2024-04-17T05:30:12.893478Z"
    }
   },
   "id": "5686c9ed588a5c2c",
   "execution_count": 29
  },
  {
   "cell_type": "markdown",
   "source": [
    "# Combine all the simulated data"
   ],
   "metadata": {
    "collapsed": false
   },
   "id": "a441ed3c5042be6b"
  },
  {
   "cell_type": "code",
   "outputs": [
    {
     "data": {
      "text/plain": "     simulated_bfi1  simulated_bfi16  simulated_bfi31  simulated_bfi46  \\\n0               3.0              4.0              2.0              3.0   \n1               4.0              4.0              3.0              3.0   \n2               3.0              3.0              2.0              1.0   \n3               5.0              5.0              4.0              5.0   \n4               3.0              2.0              3.0              3.0   \n..              ...              ...              ...              ...   \n195             1.0              3.0              2.0              4.0   \n196             4.0              5.0              4.0              4.0   \n197             2.0              3.0              1.0              2.0   \n198             3.0              4.0              2.0              3.0   \n199             4.0              4.0              4.0              4.0   \n\n     simulated_bfi6  simulated_bfi21  simulated_bfi36  simulated_bfi51  \\\n0               2.0              2.0              3.0              1.0   \n1               3.0              3.0              3.0              4.0   \n2               1.0              2.0              3.0              2.0   \n3               5.0              5.0              5.0              5.0   \n4               1.0              2.0              2.0              3.0   \n..              ...              ...              ...              ...   \n195             3.0              3.0              3.0              3.0   \n196             5.0              3.0              5.0              4.0   \n197             5.0              4.0              4.0              4.0   \n198             3.0              3.0              5.0              3.0   \n199             5.0              5.0              4.0              5.0   \n\n     simulated_bfi11  simulated_bfi26  ...  simulated_bfi40  simulated_bfi55  \\\n0                3.0              4.0  ...              4.0              4.0   \n1                3.0              2.0  ...              2.0              3.0   \n2                4.0              3.0  ...              3.0              3.0   \n3                4.0              4.0  ...              5.0              5.0   \n4                4.0              2.0  ...              5.0              4.0   \n..               ...              ...  ...              ...              ...   \n195              3.0              3.0  ...              4.0              5.0   \n196              3.0              2.0  ...              3.0              4.0   \n197              5.0              3.0  ...              5.0              4.0   \n198              4.0              4.0  ...              4.0              3.0   \n199              3.0              3.0  ...              3.0              4.0   \n\n     simulated_bfi5  simulated_bfi20  simulated_bfi35  simulated_bfi50  \\\n0               5.0              4.0              4.0              5.0   \n1               4.0              4.0              3.0              2.0   \n2               5.0              5.0              5.0              4.0   \n3               5.0              5.0              4.0              3.0   \n4               4.0              4.0              4.0              4.0   \n..              ...              ...              ...              ...   \n195             5.0              4.0              4.0              2.0   \n196             4.0              5.0              5.0              4.0   \n197             4.0              3.0              3.0              4.0   \n198             3.0              2.0              2.0              3.0   \n199             2.0              3.0              3.0              3.0   \n\n     simulated_bfi15  simulated_bfi30  simulated_bfi45  simulated_bfi60  \n0                3.0              3.0              4.0              3.0  \n1                2.0              3.0              3.0              4.0  \n2                5.0              4.0              4.0              4.0  \n3                4.0              4.0              4.0              3.0  \n4                5.0              5.0              4.0              4.0  \n..               ...              ...              ...              ...  \n195              5.0              4.0              4.0              5.0  \n196              4.0              3.0              5.0              3.0  \n197              5.0              4.0              5.0              5.0  \n198              3.0              3.0              3.0              3.0  \n199              1.0              3.0              3.0              3.0  \n\n[200 rows x 60 columns]",
      "text/html": "<div>\n<style scoped>\n    .dataframe tbody tr th:only-of-type {\n        vertical-align: middle;\n    }\n\n    .dataframe tbody tr th {\n        vertical-align: top;\n    }\n\n    .dataframe thead th {\n        text-align: right;\n    }\n</style>\n<table border=\"1\" class=\"dataframe\">\n  <thead>\n    <tr style=\"text-align: right;\">\n      <th></th>\n      <th>simulated_bfi1</th>\n      <th>simulated_bfi16</th>\n      <th>simulated_bfi31</th>\n      <th>simulated_bfi46</th>\n      <th>simulated_bfi6</th>\n      <th>simulated_bfi21</th>\n      <th>simulated_bfi36</th>\n      <th>simulated_bfi51</th>\n      <th>simulated_bfi11</th>\n      <th>simulated_bfi26</th>\n      <th>...</th>\n      <th>simulated_bfi40</th>\n      <th>simulated_bfi55</th>\n      <th>simulated_bfi5</th>\n      <th>simulated_bfi20</th>\n      <th>simulated_bfi35</th>\n      <th>simulated_bfi50</th>\n      <th>simulated_bfi15</th>\n      <th>simulated_bfi30</th>\n      <th>simulated_bfi45</th>\n      <th>simulated_bfi60</th>\n    </tr>\n  </thead>\n  <tbody>\n    <tr>\n      <th>0</th>\n      <td>3.0</td>\n      <td>4.0</td>\n      <td>2.0</td>\n      <td>3.0</td>\n      <td>2.0</td>\n      <td>2.0</td>\n      <td>3.0</td>\n      <td>1.0</td>\n      <td>3.0</td>\n      <td>4.0</td>\n      <td>...</td>\n      <td>4.0</td>\n      <td>4.0</td>\n      <td>5.0</td>\n      <td>4.0</td>\n      <td>4.0</td>\n      <td>5.0</td>\n      <td>3.0</td>\n      <td>3.0</td>\n      <td>4.0</td>\n      <td>3.0</td>\n    </tr>\n    <tr>\n      <th>1</th>\n      <td>4.0</td>\n      <td>4.0</td>\n      <td>3.0</td>\n      <td>3.0</td>\n      <td>3.0</td>\n      <td>3.0</td>\n      <td>3.0</td>\n      <td>4.0</td>\n      <td>3.0</td>\n      <td>2.0</td>\n      <td>...</td>\n      <td>2.0</td>\n      <td>3.0</td>\n      <td>4.0</td>\n      <td>4.0</td>\n      <td>3.0</td>\n      <td>2.0</td>\n      <td>2.0</td>\n      <td>3.0</td>\n      <td>3.0</td>\n      <td>4.0</td>\n    </tr>\n    <tr>\n      <th>2</th>\n      <td>3.0</td>\n      <td>3.0</td>\n      <td>2.0</td>\n      <td>1.0</td>\n      <td>1.0</td>\n      <td>2.0</td>\n      <td>3.0</td>\n      <td>2.0</td>\n      <td>4.0</td>\n      <td>3.0</td>\n      <td>...</td>\n      <td>3.0</td>\n      <td>3.0</td>\n      <td>5.0</td>\n      <td>5.0</td>\n      <td>5.0</td>\n      <td>4.0</td>\n      <td>5.0</td>\n      <td>4.0</td>\n      <td>4.0</td>\n      <td>4.0</td>\n    </tr>\n    <tr>\n      <th>3</th>\n      <td>5.0</td>\n      <td>5.0</td>\n      <td>4.0</td>\n      <td>5.0</td>\n      <td>5.0</td>\n      <td>5.0</td>\n      <td>5.0</td>\n      <td>5.0</td>\n      <td>4.0</td>\n      <td>4.0</td>\n      <td>...</td>\n      <td>5.0</td>\n      <td>5.0</td>\n      <td>5.0</td>\n      <td>5.0</td>\n      <td>4.0</td>\n      <td>3.0</td>\n      <td>4.0</td>\n      <td>4.0</td>\n      <td>4.0</td>\n      <td>3.0</td>\n    </tr>\n    <tr>\n      <th>4</th>\n      <td>3.0</td>\n      <td>2.0</td>\n      <td>3.0</td>\n      <td>3.0</td>\n      <td>1.0</td>\n      <td>2.0</td>\n      <td>2.0</td>\n      <td>3.0</td>\n      <td>4.0</td>\n      <td>2.0</td>\n      <td>...</td>\n      <td>5.0</td>\n      <td>4.0</td>\n      <td>4.0</td>\n      <td>4.0</td>\n      <td>4.0</td>\n      <td>4.0</td>\n      <td>5.0</td>\n      <td>5.0</td>\n      <td>4.0</td>\n      <td>4.0</td>\n    </tr>\n    <tr>\n      <th>...</th>\n      <td>...</td>\n      <td>...</td>\n      <td>...</td>\n      <td>...</td>\n      <td>...</td>\n      <td>...</td>\n      <td>...</td>\n      <td>...</td>\n      <td>...</td>\n      <td>...</td>\n      <td>...</td>\n      <td>...</td>\n      <td>...</td>\n      <td>...</td>\n      <td>...</td>\n      <td>...</td>\n      <td>...</td>\n      <td>...</td>\n      <td>...</td>\n      <td>...</td>\n      <td>...</td>\n    </tr>\n    <tr>\n      <th>195</th>\n      <td>1.0</td>\n      <td>3.0</td>\n      <td>2.0</td>\n      <td>4.0</td>\n      <td>3.0</td>\n      <td>3.0</td>\n      <td>3.0</td>\n      <td>3.0</td>\n      <td>3.0</td>\n      <td>3.0</td>\n      <td>...</td>\n      <td>4.0</td>\n      <td>5.0</td>\n      <td>5.0</td>\n      <td>4.0</td>\n      <td>4.0</td>\n      <td>2.0</td>\n      <td>5.0</td>\n      <td>4.0</td>\n      <td>4.0</td>\n      <td>5.0</td>\n    </tr>\n    <tr>\n      <th>196</th>\n      <td>4.0</td>\n      <td>5.0</td>\n      <td>4.0</td>\n      <td>4.0</td>\n      <td>5.0</td>\n      <td>3.0</td>\n      <td>5.0</td>\n      <td>4.0</td>\n      <td>3.0</td>\n      <td>2.0</td>\n      <td>...</td>\n      <td>3.0</td>\n      <td>4.0</td>\n      <td>4.0</td>\n      <td>5.0</td>\n      <td>5.0</td>\n      <td>4.0</td>\n      <td>4.0</td>\n      <td>3.0</td>\n      <td>5.0</td>\n      <td>3.0</td>\n    </tr>\n    <tr>\n      <th>197</th>\n      <td>2.0</td>\n      <td>3.0</td>\n      <td>1.0</td>\n      <td>2.0</td>\n      <td>5.0</td>\n      <td>4.0</td>\n      <td>4.0</td>\n      <td>4.0</td>\n      <td>5.0</td>\n      <td>3.0</td>\n      <td>...</td>\n      <td>5.0</td>\n      <td>4.0</td>\n      <td>4.0</td>\n      <td>3.0</td>\n      <td>3.0</td>\n      <td>4.0</td>\n      <td>5.0</td>\n      <td>4.0</td>\n      <td>5.0</td>\n      <td>5.0</td>\n    </tr>\n    <tr>\n      <th>198</th>\n      <td>3.0</td>\n      <td>4.0</td>\n      <td>2.0</td>\n      <td>3.0</td>\n      <td>3.0</td>\n      <td>3.0</td>\n      <td>5.0</td>\n      <td>3.0</td>\n      <td>4.0</td>\n      <td>4.0</td>\n      <td>...</td>\n      <td>4.0</td>\n      <td>3.0</td>\n      <td>3.0</td>\n      <td>2.0</td>\n      <td>2.0</td>\n      <td>3.0</td>\n      <td>3.0</td>\n      <td>3.0</td>\n      <td>3.0</td>\n      <td>3.0</td>\n    </tr>\n    <tr>\n      <th>199</th>\n      <td>4.0</td>\n      <td>4.0</td>\n      <td>4.0</td>\n      <td>4.0</td>\n      <td>5.0</td>\n      <td>5.0</td>\n      <td>4.0</td>\n      <td>5.0</td>\n      <td>3.0</td>\n      <td>3.0</td>\n      <td>...</td>\n      <td>3.0</td>\n      <td>4.0</td>\n      <td>2.0</td>\n      <td>3.0</td>\n      <td>3.0</td>\n      <td>3.0</td>\n      <td>1.0</td>\n      <td>3.0</td>\n      <td>3.0</td>\n      <td>3.0</td>\n    </tr>\n  </tbody>\n</table>\n<p>200 rows × 60 columns</p>\n</div>"
     },
     "execution_count": 30,
     "metadata": {},
     "output_type": "execute_result"
    }
   ],
   "source": [
    "simulated_data = pd.concat([simulated_data_e, simulated_data_a, simulated_data_c, simulated_data_n, simulated_data_o], axis=1)\n",
    "simulated_data"
   ],
   "metadata": {
    "collapsed": false,
    "ExecuteTime": {
     "end_time": "2024-04-17T05:30:12.995543Z",
     "start_time": "2024-04-17T05:30:12.946460Z"
    }
   },
   "id": "3e7132deb71f59e1",
   "execution_count": 30
  },
  {
   "cell_type": "code",
   "outputs": [
    {
     "data": {
      "text/plain": "     simulated_bfi1  simulated_bfi16  simulated_bfi31  simulated_bfi46  \\\n0               3.0              4.0              2.0              3.0   \n1               4.0              4.0              3.0              3.0   \n2               3.0              3.0              2.0              1.0   \n3               5.0              5.0              4.0              5.0   \n4               3.0              2.0              3.0              3.0   \n..              ...              ...              ...              ...   \n195             1.0              3.0              2.0              4.0   \n196             4.0              5.0              4.0              4.0   \n197             2.0              3.0              1.0              2.0   \n198             3.0              4.0              2.0              3.0   \n199             4.0              4.0              4.0              4.0   \n\n     simulated_bfi6  simulated_bfi21  simulated_bfi36  simulated_bfi51  \\\n0               2.0              2.0              3.0              1.0   \n1               3.0              3.0              3.0              4.0   \n2               1.0              2.0              3.0              2.0   \n3               5.0              5.0              5.0              5.0   \n4               1.0              2.0              2.0              3.0   \n..              ...              ...              ...              ...   \n195             3.0              3.0              3.0              3.0   \n196             5.0              3.0              5.0              4.0   \n197             5.0              4.0              4.0              4.0   \n198             3.0              3.0              5.0              3.0   \n199             5.0              5.0              4.0              5.0   \n\n     simulated_bfi11  simulated_bfi26  ...  bfi_n_depression  \\\n0                3.0              4.0  ...              2.00   \n1                3.0              2.0  ...              2.75   \n2                4.0              3.0  ...              2.00   \n3                4.0              4.0  ...              4.25   \n4                4.0              2.0  ...              3.00   \n..               ...              ...  ...               ...   \n195              3.0              3.0  ...              3.25   \n196              3.0              2.0  ...              3.00   \n197              5.0              3.0  ...              3.50   \n198              4.0              4.0  ...              2.50   \n199              3.0              3.0  ...              1.75   \n\n     bfi_n_emotional_volatility  bfi_o_intellectual_curiosity  \\\n0                          4.50                          4.00   \n1                          4.50                          2.50   \n2                          4.50                          3.50   \n3                          2.25                          4.75   \n4                          1.75                          4.50   \n..                          ...                           ...   \n195                        4.00                          4.75   \n196                        2.00                          3.50   \n197                        3.50                          4.50   \n198                        2.75                          3.00   \n199                        2.25                          3.50   \n\n     bfi_o_aesthetic_sensitivity  bfi_o_creative_imagination     bfi_e  \\\n0                           4.50                        3.25  2.666667   \n1                           3.25                        3.00  3.250000   \n2                           4.75                        4.25  2.666667   \n3                           4.25                        3.75  4.583333   \n4                           4.00                        4.50  2.750000   \n..                           ...                         ...       ...   \n195                         3.75                        4.50  3.000000   \n196                         4.50                        3.75  3.750000   \n197                         3.50                        4.75  3.500000   \n198                         2.50                        3.00  3.583333   \n199                         2.75                        2.50  4.000000   \n\n        bfi_a     bfi_c     bfi_n     bfi_o  \n0    3.833333  2.333333  3.750000  3.916667  \n1    2.833333  4.083333  3.500000  2.916667  \n2    2.750000  3.833333  3.833333  4.166667  \n3    3.166667  2.916667  3.583333  4.250000  \n4    4.333333  2.500000  3.000000  4.333333  \n..        ...       ...       ...       ...  \n195  4.666667  3.250000  3.833333  4.333333  \n196  2.250000  3.666667  2.250000  3.916667  \n197  3.333333  2.583333  3.583333  4.250000  \n198  3.666667  3.916667  2.666667  2.833333  \n199  3.500000  3.250000  2.333333  2.916667  \n\n[200 rows x 80 columns]",
      "text/html": "<div>\n<style scoped>\n    .dataframe tbody tr th:only-of-type {\n        vertical-align: middle;\n    }\n\n    .dataframe tbody tr th {\n        vertical-align: top;\n    }\n\n    .dataframe thead th {\n        text-align: right;\n    }\n</style>\n<table border=\"1\" class=\"dataframe\">\n  <thead>\n    <tr style=\"text-align: right;\">\n      <th></th>\n      <th>simulated_bfi1</th>\n      <th>simulated_bfi16</th>\n      <th>simulated_bfi31</th>\n      <th>simulated_bfi46</th>\n      <th>simulated_bfi6</th>\n      <th>simulated_bfi21</th>\n      <th>simulated_bfi36</th>\n      <th>simulated_bfi51</th>\n      <th>simulated_bfi11</th>\n      <th>simulated_bfi26</th>\n      <th>...</th>\n      <th>bfi_n_depression</th>\n      <th>bfi_n_emotional_volatility</th>\n      <th>bfi_o_intellectual_curiosity</th>\n      <th>bfi_o_aesthetic_sensitivity</th>\n      <th>bfi_o_creative_imagination</th>\n      <th>bfi_e</th>\n      <th>bfi_a</th>\n      <th>bfi_c</th>\n      <th>bfi_n</th>\n      <th>bfi_o</th>\n    </tr>\n  </thead>\n  <tbody>\n    <tr>\n      <th>0</th>\n      <td>3.0</td>\n      <td>4.0</td>\n      <td>2.0</td>\n      <td>3.0</td>\n      <td>2.0</td>\n      <td>2.0</td>\n      <td>3.0</td>\n      <td>1.0</td>\n      <td>3.0</td>\n      <td>4.0</td>\n      <td>...</td>\n      <td>2.00</td>\n      <td>4.50</td>\n      <td>4.00</td>\n      <td>4.50</td>\n      <td>3.25</td>\n      <td>2.666667</td>\n      <td>3.833333</td>\n      <td>2.333333</td>\n      <td>3.750000</td>\n      <td>3.916667</td>\n    </tr>\n    <tr>\n      <th>1</th>\n      <td>4.0</td>\n      <td>4.0</td>\n      <td>3.0</td>\n      <td>3.0</td>\n      <td>3.0</td>\n      <td>3.0</td>\n      <td>3.0</td>\n      <td>4.0</td>\n      <td>3.0</td>\n      <td>2.0</td>\n      <td>...</td>\n      <td>2.75</td>\n      <td>4.50</td>\n      <td>2.50</td>\n      <td>3.25</td>\n      <td>3.00</td>\n      <td>3.250000</td>\n      <td>2.833333</td>\n      <td>4.083333</td>\n      <td>3.500000</td>\n      <td>2.916667</td>\n    </tr>\n    <tr>\n      <th>2</th>\n      <td>3.0</td>\n      <td>3.0</td>\n      <td>2.0</td>\n      <td>1.0</td>\n      <td>1.0</td>\n      <td>2.0</td>\n      <td>3.0</td>\n      <td>2.0</td>\n      <td>4.0</td>\n      <td>3.0</td>\n      <td>...</td>\n      <td>2.00</td>\n      <td>4.50</td>\n      <td>3.50</td>\n      <td>4.75</td>\n      <td>4.25</td>\n      <td>2.666667</td>\n      <td>2.750000</td>\n      <td>3.833333</td>\n      <td>3.833333</td>\n      <td>4.166667</td>\n    </tr>\n    <tr>\n      <th>3</th>\n      <td>5.0</td>\n      <td>5.0</td>\n      <td>4.0</td>\n      <td>5.0</td>\n      <td>5.0</td>\n      <td>5.0</td>\n      <td>5.0</td>\n      <td>5.0</td>\n      <td>4.0</td>\n      <td>4.0</td>\n      <td>...</td>\n      <td>4.25</td>\n      <td>2.25</td>\n      <td>4.75</td>\n      <td>4.25</td>\n      <td>3.75</td>\n      <td>4.583333</td>\n      <td>3.166667</td>\n      <td>2.916667</td>\n      <td>3.583333</td>\n      <td>4.250000</td>\n    </tr>\n    <tr>\n      <th>4</th>\n      <td>3.0</td>\n      <td>2.0</td>\n      <td>3.0</td>\n      <td>3.0</td>\n      <td>1.0</td>\n      <td>2.0</td>\n      <td>2.0</td>\n      <td>3.0</td>\n      <td>4.0</td>\n      <td>2.0</td>\n      <td>...</td>\n      <td>3.00</td>\n      <td>1.75</td>\n      <td>4.50</td>\n      <td>4.00</td>\n      <td>4.50</td>\n      <td>2.750000</td>\n      <td>4.333333</td>\n      <td>2.500000</td>\n      <td>3.000000</td>\n      <td>4.333333</td>\n    </tr>\n    <tr>\n      <th>...</th>\n      <td>...</td>\n      <td>...</td>\n      <td>...</td>\n      <td>...</td>\n      <td>...</td>\n      <td>...</td>\n      <td>...</td>\n      <td>...</td>\n      <td>...</td>\n      <td>...</td>\n      <td>...</td>\n      <td>...</td>\n      <td>...</td>\n      <td>...</td>\n      <td>...</td>\n      <td>...</td>\n      <td>...</td>\n      <td>...</td>\n      <td>...</td>\n      <td>...</td>\n      <td>...</td>\n    </tr>\n    <tr>\n      <th>195</th>\n      <td>1.0</td>\n      <td>3.0</td>\n      <td>2.0</td>\n      <td>4.0</td>\n      <td>3.0</td>\n      <td>3.0</td>\n      <td>3.0</td>\n      <td>3.0</td>\n      <td>3.0</td>\n      <td>3.0</td>\n      <td>...</td>\n      <td>3.25</td>\n      <td>4.00</td>\n      <td>4.75</td>\n      <td>3.75</td>\n      <td>4.50</td>\n      <td>3.000000</td>\n      <td>4.666667</td>\n      <td>3.250000</td>\n      <td>3.833333</td>\n      <td>4.333333</td>\n    </tr>\n    <tr>\n      <th>196</th>\n      <td>4.0</td>\n      <td>5.0</td>\n      <td>4.0</td>\n      <td>4.0</td>\n      <td>5.0</td>\n      <td>3.0</td>\n      <td>5.0</td>\n      <td>4.0</td>\n      <td>3.0</td>\n      <td>2.0</td>\n      <td>...</td>\n      <td>3.00</td>\n      <td>2.00</td>\n      <td>3.50</td>\n      <td>4.50</td>\n      <td>3.75</td>\n      <td>3.750000</td>\n      <td>2.250000</td>\n      <td>3.666667</td>\n      <td>2.250000</td>\n      <td>3.916667</td>\n    </tr>\n    <tr>\n      <th>197</th>\n      <td>2.0</td>\n      <td>3.0</td>\n      <td>1.0</td>\n      <td>2.0</td>\n      <td>5.0</td>\n      <td>4.0</td>\n      <td>4.0</td>\n      <td>4.0</td>\n      <td>5.0</td>\n      <td>3.0</td>\n      <td>...</td>\n      <td>3.50</td>\n      <td>3.50</td>\n      <td>4.50</td>\n      <td>3.50</td>\n      <td>4.75</td>\n      <td>3.500000</td>\n      <td>3.333333</td>\n      <td>2.583333</td>\n      <td>3.583333</td>\n      <td>4.250000</td>\n    </tr>\n    <tr>\n      <th>198</th>\n      <td>3.0</td>\n      <td>4.0</td>\n      <td>2.0</td>\n      <td>3.0</td>\n      <td>3.0</td>\n      <td>3.0</td>\n      <td>5.0</td>\n      <td>3.0</td>\n      <td>4.0</td>\n      <td>4.0</td>\n      <td>...</td>\n      <td>2.50</td>\n      <td>2.75</td>\n      <td>3.00</td>\n      <td>2.50</td>\n      <td>3.00</td>\n      <td>3.583333</td>\n      <td>3.666667</td>\n      <td>3.916667</td>\n      <td>2.666667</td>\n      <td>2.833333</td>\n    </tr>\n    <tr>\n      <th>199</th>\n      <td>4.0</td>\n      <td>4.0</td>\n      <td>4.0</td>\n      <td>4.0</td>\n      <td>5.0</td>\n      <td>5.0</td>\n      <td>4.0</td>\n      <td>5.0</td>\n      <td>3.0</td>\n      <td>3.0</td>\n      <td>...</td>\n      <td>1.75</td>\n      <td>2.25</td>\n      <td>3.50</td>\n      <td>2.75</td>\n      <td>2.50</td>\n      <td>4.000000</td>\n      <td>3.500000</td>\n      <td>3.250000</td>\n      <td>2.333333</td>\n      <td>2.916667</td>\n    </tr>\n  </tbody>\n</table>\n<p>200 rows × 80 columns</p>\n</div>"
     },
     "execution_count": 31,
     "metadata": {},
     "output_type": "execute_result"
    }
   ],
   "source": [
    "## calculate facet scores \n",
    "simulated_data['bfi_e_sociability'] = (simulated_data['simulated_bfi1'] + simulated_data['simulated_bfi16'] + simulated_data['simulated_bfi31'] + simulated_data['simulated_bfi46'])/4\n",
    "\n",
    "simulated_data['bfi_e_assertiveness'] = (simulated_data['simulated_bfi6'] + simulated_data['simulated_bfi21'] + simulated_data['simulated_bfi36'] + simulated_data['simulated_bfi51'])/4\n",
    "\n",
    "simulated_data['bfi_e_energy_level'] = (simulated_data['simulated_bfi11'] + simulated_data['simulated_bfi26'] + simulated_data['simulated_bfi41'] + simulated_data['simulated_bfi56'])/4\n",
    "\n",
    "simulated_data['bfi_a_compassion'] = (simulated_data['simulated_bfi2'] + simulated_data['simulated_bfi17'] + simulated_data['simulated_bfi32'] + simulated_data['simulated_bfi47'])/4\n",
    "\n",
    "simulated_data['bfi_a_respectfulness'] = (simulated_data['simulated_bfi7'] + simulated_data['simulated_bfi22'] + simulated_data['simulated_bfi37'] + simulated_data['simulated_bfi52'])/4\n",
    "\n",
    "simulated_data['bfi_a_trust'] = (simulated_data['simulated_bfi12'] + simulated_data['simulated_bfi27'] + simulated_data['simulated_bfi42'] + simulated_data['simulated_bfi57'])/4\n",
    "\n",
    "simulated_data['bfi_c_organization'] = (simulated_data['simulated_bfi3'] + simulated_data['simulated_bfi18'] + simulated_data['simulated_bfi33'] + simulated_data['simulated_bfi48'])/4\n",
    "\n",
    "simulated_data['bfi_c_productiveness'] = (simulated_data['simulated_bfi8'] + simulated_data['simulated_bfi23'] + simulated_data['simulated_bfi38'] + simulated_data['simulated_bfi53'])/4\n",
    "\n",
    "simulated_data['bfi_c_responsibility'] = (simulated_data['simulated_bfi13'] + simulated_data['simulated_bfi28'] + simulated_data['simulated_bfi43'] + simulated_data['simulated_bfi58'])/4\n",
    "\n",
    "simulated_data['bfi_n_anxiety'] = (simulated_data['simulated_bfi4'] + simulated_data['simulated_bfi19'] + simulated_data['simulated_bfi34'] + simulated_data['simulated_bfi49'])/4\n",
    "\n",
    "simulated_data['bfi_n_depression'] = (simulated_data['simulated_bfi9'] + simulated_data['simulated_bfi24'] + simulated_data['simulated_bfi39'] + simulated_data['simulated_bfi54'])/4\n",
    "\n",
    "simulated_data['bfi_n_emotional_volatility'] = (simulated_data['simulated_bfi14'] + simulated_data['simulated_bfi29'] + simulated_data['simulated_bfi44'] + simulated_data['simulated_bfi59'])/4\n",
    "\n",
    "simulated_data['bfi_o_intellectual_curiosity'] = (simulated_data['simulated_bfi10'] + simulated_data['simulated_bfi25'] + simulated_data['simulated_bfi40'] + simulated_data['simulated_bfi55'])/4\n",
    "\n",
    "simulated_data['bfi_o_aesthetic_sensitivity'] = (simulated_data['simulated_bfi5'] + simulated_data['simulated_bfi20'] + simulated_data['simulated_bfi35'] + simulated_data['simulated_bfi50'])/4\n",
    "\n",
    "simulated_data['bfi_o_creative_imagination'] = (simulated_data['simulated_bfi15'] + simulated_data['simulated_bfi30'] + simulated_data['simulated_bfi45'] + simulated_data['simulated_bfi60'])/4\n",
    "\n",
    "## Domain Scores\n",
    "\n",
    "# calculate domain scores\n",
    "simulated_data['bfi_e'] = (simulated_data['bfi_e_sociability'] + simulated_data['bfi_e_assertiveness'] + simulated_data['bfi_e_energy_level'])/3\n",
    "\n",
    "simulated_data['bfi_a'] = (simulated_data['bfi_a_compassion'] + simulated_data['bfi_a_respectfulness'] + simulated_data['bfi_a_trust'])/3\n",
    "\n",
    "simulated_data['bfi_c'] = (simulated_data['bfi_c_organization'] + simulated_data['bfi_c_productiveness'] + simulated_data['bfi_c_responsibility'])/3\n",
    "\n",
    "simulated_data['bfi_n'] = (simulated_data['bfi_n_anxiety'] + simulated_data['bfi_n_depression'] + simulated_data['bfi_n_emotional_volatility'])/3\n",
    "\n",
    "simulated_data['bfi_o'] = (simulated_data['bfi_o_intellectual_curiosity'] + simulated_data['bfi_o_aesthetic_sensitivity'] + simulated_data['bfi_o_creative_imagination'])/3\n",
    "\n",
    "simulated_data"
   ],
   "metadata": {
    "collapsed": false,
    "ExecuteTime": {
     "end_time": "2024-04-17T05:30:13.045246Z",
     "start_time": "2024-04-17T05:30:12.988926Z"
    }
   },
   "id": "b6fd07b3b4e06eeb",
   "execution_count": 31
  },
  {
   "cell_type": "code",
   "outputs": [
    {
     "data": {
      "text/plain": "     simulated_bfi1  simulated_bfi16  simulated_bfi31  simulated_bfi46  \\\n0               3.0              2.0              4.0              3.0   \n1               4.0              2.0              3.0              3.0   \n2               3.0              3.0              4.0              1.0   \n3               5.0              1.0              2.0              5.0   \n4               3.0              4.0              3.0              3.0   \n..              ...              ...              ...              ...   \n195             1.0              3.0              4.0              4.0   \n196             4.0              1.0              2.0              4.0   \n197             2.0              3.0              5.0              2.0   \n198             3.0              2.0              4.0              3.0   \n199             4.0              2.0              2.0              4.0   \n\n     simulated_bfi6  simulated_bfi21  simulated_bfi36  simulated_bfi51  \\\n0               2.0              2.0              3.0              5.0   \n1               3.0              3.0              3.0              2.0   \n2               1.0              2.0              3.0              4.0   \n3               5.0              5.0              1.0              1.0   \n4               1.0              2.0              4.0              3.0   \n..              ...              ...              ...              ...   \n195             3.0              3.0              3.0              3.0   \n196             5.0              3.0              1.0              2.0   \n197             5.0              4.0              2.0              2.0   \n198             3.0              3.0              1.0              3.0   \n199             5.0              5.0              2.0              1.0   \n\n     simulated_bfi11  simulated_bfi26  ...  bfi_n_depression  \\\n0                3.0              2.0  ...              2.00   \n1                3.0              4.0  ...              2.75   \n2                2.0              3.0  ...              2.00   \n3                2.0              2.0  ...              4.25   \n4                2.0              4.0  ...              3.00   \n..               ...              ...  ...               ...   \n195              3.0              3.0  ...              3.25   \n196              3.0              4.0  ...              3.00   \n197              1.0              3.0  ...              3.50   \n198              2.0              2.0  ...              2.50   \n199              3.0              3.0  ...              1.75   \n\n     bfi_n_emotional_volatility  bfi_o_intellectual_curiosity  \\\n0                          4.50                          4.00   \n1                          4.50                          2.50   \n2                          4.50                          3.50   \n3                          2.25                          4.75   \n4                          1.75                          4.50   \n..                          ...                           ...   \n195                        4.00                          4.75   \n196                        2.00                          3.50   \n197                        3.50                          4.50   \n198                        2.75                          3.00   \n199                        2.25                          3.50   \n\n     bfi_o_aesthetic_sensitivity  bfi_o_creative_imagination     bfi_e  \\\n0                           4.50                        3.25  2.666667   \n1                           3.25                        3.00  3.250000   \n2                           4.75                        4.25  2.666667   \n3                           4.25                        3.75  4.583333   \n4                           4.00                        4.50  2.750000   \n..                           ...                         ...       ...   \n195                         3.75                        4.50  3.000000   \n196                         4.50                        3.75  3.750000   \n197                         3.50                        4.75  3.500000   \n198                         2.50                        3.00  3.583333   \n199                         2.75                        2.50  4.000000   \n\n        bfi_a     bfi_c     bfi_n     bfi_o  \n0    3.833333  2.333333  3.750000  3.916667  \n1    2.833333  4.083333  3.500000  2.916667  \n2    2.750000  3.833333  3.833333  4.166667  \n3    3.166667  2.916667  3.583333  4.250000  \n4    4.333333  2.500000  3.000000  4.333333  \n..        ...       ...       ...       ...  \n195  4.666667  3.250000  3.833333  4.333333  \n196  2.250000  3.666667  2.250000  3.916667  \n197  3.333333  2.583333  3.583333  4.250000  \n198  3.666667  3.916667  2.666667  2.833333  \n199  3.500000  3.250000  2.333333  2.916667  \n\n[200 rows x 80 columns]",
      "text/html": "<div>\n<style scoped>\n    .dataframe tbody tr th:only-of-type {\n        vertical-align: middle;\n    }\n\n    .dataframe tbody tr th {\n        vertical-align: top;\n    }\n\n    .dataframe thead th {\n        text-align: right;\n    }\n</style>\n<table border=\"1\" class=\"dataframe\">\n  <thead>\n    <tr style=\"text-align: right;\">\n      <th></th>\n      <th>simulated_bfi1</th>\n      <th>simulated_bfi16</th>\n      <th>simulated_bfi31</th>\n      <th>simulated_bfi46</th>\n      <th>simulated_bfi6</th>\n      <th>simulated_bfi21</th>\n      <th>simulated_bfi36</th>\n      <th>simulated_bfi51</th>\n      <th>simulated_bfi11</th>\n      <th>simulated_bfi26</th>\n      <th>...</th>\n      <th>bfi_n_depression</th>\n      <th>bfi_n_emotional_volatility</th>\n      <th>bfi_o_intellectual_curiosity</th>\n      <th>bfi_o_aesthetic_sensitivity</th>\n      <th>bfi_o_creative_imagination</th>\n      <th>bfi_e</th>\n      <th>bfi_a</th>\n      <th>bfi_c</th>\n      <th>bfi_n</th>\n      <th>bfi_o</th>\n    </tr>\n  </thead>\n  <tbody>\n    <tr>\n      <th>0</th>\n      <td>3.0</td>\n      <td>2.0</td>\n      <td>4.0</td>\n      <td>3.0</td>\n      <td>2.0</td>\n      <td>2.0</td>\n      <td>3.0</td>\n      <td>5.0</td>\n      <td>3.0</td>\n      <td>2.0</td>\n      <td>...</td>\n      <td>2.00</td>\n      <td>4.50</td>\n      <td>4.00</td>\n      <td>4.50</td>\n      <td>3.25</td>\n      <td>2.666667</td>\n      <td>3.833333</td>\n      <td>2.333333</td>\n      <td>3.750000</td>\n      <td>3.916667</td>\n    </tr>\n    <tr>\n      <th>1</th>\n      <td>4.0</td>\n      <td>2.0</td>\n      <td>3.0</td>\n      <td>3.0</td>\n      <td>3.0</td>\n      <td>3.0</td>\n      <td>3.0</td>\n      <td>2.0</td>\n      <td>3.0</td>\n      <td>4.0</td>\n      <td>...</td>\n      <td>2.75</td>\n      <td>4.50</td>\n      <td>2.50</td>\n      <td>3.25</td>\n      <td>3.00</td>\n      <td>3.250000</td>\n      <td>2.833333</td>\n      <td>4.083333</td>\n      <td>3.500000</td>\n      <td>2.916667</td>\n    </tr>\n    <tr>\n      <th>2</th>\n      <td>3.0</td>\n      <td>3.0</td>\n      <td>4.0</td>\n      <td>1.0</td>\n      <td>1.0</td>\n      <td>2.0</td>\n      <td>3.0</td>\n      <td>4.0</td>\n      <td>2.0</td>\n      <td>3.0</td>\n      <td>...</td>\n      <td>2.00</td>\n      <td>4.50</td>\n      <td>3.50</td>\n      <td>4.75</td>\n      <td>4.25</td>\n      <td>2.666667</td>\n      <td>2.750000</td>\n      <td>3.833333</td>\n      <td>3.833333</td>\n      <td>4.166667</td>\n    </tr>\n    <tr>\n      <th>3</th>\n      <td>5.0</td>\n      <td>1.0</td>\n      <td>2.0</td>\n      <td>5.0</td>\n      <td>5.0</td>\n      <td>5.0</td>\n      <td>1.0</td>\n      <td>1.0</td>\n      <td>2.0</td>\n      <td>2.0</td>\n      <td>...</td>\n      <td>4.25</td>\n      <td>2.25</td>\n      <td>4.75</td>\n      <td>4.25</td>\n      <td>3.75</td>\n      <td>4.583333</td>\n      <td>3.166667</td>\n      <td>2.916667</td>\n      <td>3.583333</td>\n      <td>4.250000</td>\n    </tr>\n    <tr>\n      <th>4</th>\n      <td>3.0</td>\n      <td>4.0</td>\n      <td>3.0</td>\n      <td>3.0</td>\n      <td>1.0</td>\n      <td>2.0</td>\n      <td>4.0</td>\n      <td>3.0</td>\n      <td>2.0</td>\n      <td>4.0</td>\n      <td>...</td>\n      <td>3.00</td>\n      <td>1.75</td>\n      <td>4.50</td>\n      <td>4.00</td>\n      <td>4.50</td>\n      <td>2.750000</td>\n      <td>4.333333</td>\n      <td>2.500000</td>\n      <td>3.000000</td>\n      <td>4.333333</td>\n    </tr>\n    <tr>\n      <th>...</th>\n      <td>...</td>\n      <td>...</td>\n      <td>...</td>\n      <td>...</td>\n      <td>...</td>\n      <td>...</td>\n      <td>...</td>\n      <td>...</td>\n      <td>...</td>\n      <td>...</td>\n      <td>...</td>\n      <td>...</td>\n      <td>...</td>\n      <td>...</td>\n      <td>...</td>\n      <td>...</td>\n      <td>...</td>\n      <td>...</td>\n      <td>...</td>\n      <td>...</td>\n      <td>...</td>\n    </tr>\n    <tr>\n      <th>195</th>\n      <td>1.0</td>\n      <td>3.0</td>\n      <td>4.0</td>\n      <td>4.0</td>\n      <td>3.0</td>\n      <td>3.0</td>\n      <td>3.0</td>\n      <td>3.0</td>\n      <td>3.0</td>\n      <td>3.0</td>\n      <td>...</td>\n      <td>3.25</td>\n      <td>4.00</td>\n      <td>4.75</td>\n      <td>3.75</td>\n      <td>4.50</td>\n      <td>3.000000</td>\n      <td>4.666667</td>\n      <td>3.250000</td>\n      <td>3.833333</td>\n      <td>4.333333</td>\n    </tr>\n    <tr>\n      <th>196</th>\n      <td>4.0</td>\n      <td>1.0</td>\n      <td>2.0</td>\n      <td>4.0</td>\n      <td>5.0</td>\n      <td>3.0</td>\n      <td>1.0</td>\n      <td>2.0</td>\n      <td>3.0</td>\n      <td>4.0</td>\n      <td>...</td>\n      <td>3.00</td>\n      <td>2.00</td>\n      <td>3.50</td>\n      <td>4.50</td>\n      <td>3.75</td>\n      <td>3.750000</td>\n      <td>2.250000</td>\n      <td>3.666667</td>\n      <td>2.250000</td>\n      <td>3.916667</td>\n    </tr>\n    <tr>\n      <th>197</th>\n      <td>2.0</td>\n      <td>3.0</td>\n      <td>5.0</td>\n      <td>2.0</td>\n      <td>5.0</td>\n      <td>4.0</td>\n      <td>2.0</td>\n      <td>2.0</td>\n      <td>1.0</td>\n      <td>3.0</td>\n      <td>...</td>\n      <td>3.50</td>\n      <td>3.50</td>\n      <td>4.50</td>\n      <td>3.50</td>\n      <td>4.75</td>\n      <td>3.500000</td>\n      <td>3.333333</td>\n      <td>2.583333</td>\n      <td>3.583333</td>\n      <td>4.250000</td>\n    </tr>\n    <tr>\n      <th>198</th>\n      <td>3.0</td>\n      <td>2.0</td>\n      <td>4.0</td>\n      <td>3.0</td>\n      <td>3.0</td>\n      <td>3.0</td>\n      <td>1.0</td>\n      <td>3.0</td>\n      <td>2.0</td>\n      <td>2.0</td>\n      <td>...</td>\n      <td>2.50</td>\n      <td>2.75</td>\n      <td>3.00</td>\n      <td>2.50</td>\n      <td>3.00</td>\n      <td>3.583333</td>\n      <td>3.666667</td>\n      <td>3.916667</td>\n      <td>2.666667</td>\n      <td>2.833333</td>\n    </tr>\n    <tr>\n      <th>199</th>\n      <td>4.0</td>\n      <td>2.0</td>\n      <td>2.0</td>\n      <td>4.0</td>\n      <td>5.0</td>\n      <td>5.0</td>\n      <td>2.0</td>\n      <td>1.0</td>\n      <td>3.0</td>\n      <td>3.0</td>\n      <td>...</td>\n      <td>1.75</td>\n      <td>2.25</td>\n      <td>3.50</td>\n      <td>2.75</td>\n      <td>2.50</td>\n      <td>4.000000</td>\n      <td>3.500000</td>\n      <td>3.250000</td>\n      <td>2.333333</td>\n      <td>2.916667</td>\n    </tr>\n  </tbody>\n</table>\n<p>200 rows × 80 columns</p>\n</div>"
     },
     "execution_count": 32,
     "metadata": {},
     "output_type": "execute_result"
    }
   ],
   "source": [
    "# create reversing mapping\n",
    "reverse_simulated_data = simulated_data.copy()\n",
    "\n",
    "reverse_coding_map = {'simulated_bfi1': 'bfi1',\n",
    " 'simulated_bfi2': 'bfi2',\n",
    " 'simulated_bfi3': 'bfi3R',\n",
    " 'simulated_bfi4': 'bfi4R',\n",
    " 'simulated_bfi5': 'bfi5R',\n",
    " 'simulated_bfi6': 'bfi6',\n",
    " 'simulated_bfi7': 'bfi7',\n",
    " 'simulated_bfi8': 'bfi8R',\n",
    " 'simulated_bfi9': 'bfi9R',\n",
    " 'simulated_bfi10': 'bfi10',\n",
    " 'simulated_bfi11': 'bfi11R',\n",
    " 'simulated_bfi12': 'bfi12R',\n",
    " 'simulated_bfi13': 'bfi13',\n",
    " 'simulated_bfi14': 'bfi14',\n",
    " 'simulated_bfi15': 'bfi15',\n",
    " 'simulated_bfi16': 'bfi16R',\n",
    " 'simulated_bfi17': 'bfi17R',\n",
    " 'simulated_bfi18': 'bfi18',\n",
    " 'simulated_bfi19': 'bfi19',\n",
    " 'simulated_bfi20': 'bfi20',\n",
    " 'simulated_bfi21': 'bfi21',\n",
    " 'simulated_bfi22': 'bfi22R',\n",
    " 'simulated_bfi23': 'bfi23R',\n",
    " 'simulated_bfi24': 'bfi24R',\n",
    " 'simulated_bfi25': 'bfi25R',\n",
    " 'simulated_bfi26': 'bfi26R',\n",
    " 'simulated_bfi27': 'bfi27',\n",
    " 'simulated_bfi28': 'bfi28R',\n",
    " 'simulated_bfi29': 'bfi29R',\n",
    " 'simulated_bfi30': 'bfi30R',\n",
    " 'simulated_bfi31': 'bfi31R',\n",
    " 'simulated_bfi32': 'bfi32',\n",
    " 'simulated_bfi33': 'bfi33',\n",
    " 'simulated_bfi34': 'bfi34',\n",
    " 'simulated_bfi35': 'bfi35',\n",
    " 'simulated_bfi36': 'bfi36R',\n",
    " 'simulated_bfi37': 'bfi37R',\n",
    " 'simulated_bfi38': 'bfi38',\n",
    " 'simulated_bfi39': 'bfi39',\n",
    " 'simulated_bfi40': 'bfi40',\n",
    " 'simulated_bfi41': 'bfi41',\n",
    " 'simulated_bfi42': 'bfi42R',\n",
    " 'simulated_bfi43': 'bfi43',\n",
    " 'simulated_bfi44': 'bfi44R',\n",
    " 'simulated_bfi45': 'bfi45R',\n",
    " 'simulated_bfi46': 'bfi46',\n",
    " 'simulated_bfi47': 'bfi47R',\n",
    " 'simulated_bfi48': 'bfi48R',\n",
    " 'simulated_bfi49': 'bfi49R',\n",
    " 'simulated_bfi50': 'bfi50R',\n",
    " 'simulated_bfi51': 'bfi51R',\n",
    " 'simulated_bfi52': 'bfi52',\n",
    " 'simulated_bfi53': 'bfi53',\n",
    " 'simulated_bfi54': 'bfi54',\n",
    " 'simulated_bfi55': 'bfi55R',\n",
    " 'simulated_bfi56': 'bfi56',\n",
    " 'simulated_bfi57': 'bfi57',\n",
    " 'simulated_bfi58': 'bfi58R',\n",
    " 'simulated_bfi59': 'bfi59',\n",
    " 'simulated_bfi60': 'bfi60'}\n",
    "\n",
    "# Perform reverse coding\n",
    "for key, value in reverse_coding_map.items():\n",
    "    if value.endswith('R'):  # Reverse coded\n",
    "        reverse_simulated_data[key] = 6 - reverse_simulated_data[key]\n",
    "    else:  # Not reverse coded\n",
    "        reverse_simulated_data[key] = reverse_simulated_data[key]\n",
    "        \n",
    "reverse_simulated_data"
   ],
   "metadata": {
    "collapsed": false,
    "ExecuteTime": {
     "end_time": "2024-04-17T05:30:13.106115Z",
     "start_time": "2024-04-17T05:30:13.038388Z"
    }
   },
   "id": "edec8b3e02083c1b",
   "execution_count": 32
  },
  {
   "cell_type": "code",
   "outputs": [
    {
     "data": {
      "text/plain": "     bfi1  bfi16  bfi31  bfi46  bfi6  bfi21  bfi36  bfi51  bfi11  bfi26  ...  \\\n0     3.0    2.0    4.0    3.0   2.0    2.0    3.0    5.0    3.0    2.0  ...   \n1     4.0    2.0    3.0    3.0   3.0    3.0    3.0    2.0    3.0    4.0  ...   \n2     3.0    3.0    4.0    1.0   1.0    2.0    3.0    4.0    2.0    3.0  ...   \n3     5.0    1.0    2.0    5.0   5.0    5.0    1.0    1.0    2.0    2.0  ...   \n4     3.0    4.0    3.0    3.0   1.0    2.0    4.0    3.0    2.0    4.0  ...   \n..    ...    ...    ...    ...   ...    ...    ...    ...    ...    ...  ...   \n195   1.0    3.0    4.0    4.0   3.0    3.0    3.0    3.0    3.0    3.0  ...   \n196   4.0    1.0    2.0    4.0   5.0    3.0    1.0    2.0    3.0    4.0  ...   \n197   2.0    3.0    5.0    2.0   5.0    4.0    2.0    2.0    1.0    3.0  ...   \n198   3.0    2.0    4.0    3.0   3.0    3.0    1.0    3.0    2.0    2.0  ...   \n199   4.0    2.0    2.0    4.0   5.0    5.0    2.0    1.0    3.0    3.0  ...   \n\n     bfi_n_depression  bfi_n_emotional_volatility  \\\n0                2.00                        4.50   \n1                2.75                        4.50   \n2                2.00                        4.50   \n3                4.25                        2.25   \n4                3.00                        1.75   \n..                ...                         ...   \n195              3.25                        4.00   \n196              3.00                        2.00   \n197              3.50                        3.50   \n198              2.50                        2.75   \n199              1.75                        2.25   \n\n     bfi_o_intellectual_curiosity  bfi_o_aesthetic_sensitivity  \\\n0                            4.00                         4.50   \n1                            2.50                         3.25   \n2                            3.50                         4.75   \n3                            4.75                         4.25   \n4                            4.50                         4.00   \n..                            ...                          ...   \n195                          4.75                         3.75   \n196                          3.50                         4.50   \n197                          4.50                         3.50   \n198                          3.00                         2.50   \n199                          3.50                         2.75   \n\n     bfi_o_creative_imagination     bfi_e     bfi_a     bfi_c     bfi_n  \\\n0                          3.25  2.666667  3.833333  2.333333  3.750000   \n1                          3.00  3.250000  2.833333  4.083333  3.500000   \n2                          4.25  2.666667  2.750000  3.833333  3.833333   \n3                          3.75  4.583333  3.166667  2.916667  3.583333   \n4                          4.50  2.750000  4.333333  2.500000  3.000000   \n..                          ...       ...       ...       ...       ...   \n195                        4.50  3.000000  4.666667  3.250000  3.833333   \n196                        3.75  3.750000  2.250000  3.666667  2.250000   \n197                        4.75  3.500000  3.333333  2.583333  3.583333   \n198                        3.00  3.583333  3.666667  3.916667  2.666667   \n199                        2.50  4.000000  3.500000  3.250000  2.333333   \n\n        bfi_o  \n0    3.916667  \n1    2.916667  \n2    4.166667  \n3    4.250000  \n4    4.333333  \n..        ...  \n195  4.333333  \n196  3.916667  \n197  4.250000  \n198  2.833333  \n199  2.916667  \n\n[200 rows x 80 columns]",
      "text/html": "<div>\n<style scoped>\n    .dataframe tbody tr th:only-of-type {\n        vertical-align: middle;\n    }\n\n    .dataframe tbody tr th {\n        vertical-align: top;\n    }\n\n    .dataframe thead th {\n        text-align: right;\n    }\n</style>\n<table border=\"1\" class=\"dataframe\">\n  <thead>\n    <tr style=\"text-align: right;\">\n      <th></th>\n      <th>bfi1</th>\n      <th>bfi16</th>\n      <th>bfi31</th>\n      <th>bfi46</th>\n      <th>bfi6</th>\n      <th>bfi21</th>\n      <th>bfi36</th>\n      <th>bfi51</th>\n      <th>bfi11</th>\n      <th>bfi26</th>\n      <th>...</th>\n      <th>bfi_n_depression</th>\n      <th>bfi_n_emotional_volatility</th>\n      <th>bfi_o_intellectual_curiosity</th>\n      <th>bfi_o_aesthetic_sensitivity</th>\n      <th>bfi_o_creative_imagination</th>\n      <th>bfi_e</th>\n      <th>bfi_a</th>\n      <th>bfi_c</th>\n      <th>bfi_n</th>\n      <th>bfi_o</th>\n    </tr>\n  </thead>\n  <tbody>\n    <tr>\n      <th>0</th>\n      <td>3.0</td>\n      <td>2.0</td>\n      <td>4.0</td>\n      <td>3.0</td>\n      <td>2.0</td>\n      <td>2.0</td>\n      <td>3.0</td>\n      <td>5.0</td>\n      <td>3.0</td>\n      <td>2.0</td>\n      <td>...</td>\n      <td>2.00</td>\n      <td>4.50</td>\n      <td>4.00</td>\n      <td>4.50</td>\n      <td>3.25</td>\n      <td>2.666667</td>\n      <td>3.833333</td>\n      <td>2.333333</td>\n      <td>3.750000</td>\n      <td>3.916667</td>\n    </tr>\n    <tr>\n      <th>1</th>\n      <td>4.0</td>\n      <td>2.0</td>\n      <td>3.0</td>\n      <td>3.0</td>\n      <td>3.0</td>\n      <td>3.0</td>\n      <td>3.0</td>\n      <td>2.0</td>\n      <td>3.0</td>\n      <td>4.0</td>\n      <td>...</td>\n      <td>2.75</td>\n      <td>4.50</td>\n      <td>2.50</td>\n      <td>3.25</td>\n      <td>3.00</td>\n      <td>3.250000</td>\n      <td>2.833333</td>\n      <td>4.083333</td>\n      <td>3.500000</td>\n      <td>2.916667</td>\n    </tr>\n    <tr>\n      <th>2</th>\n      <td>3.0</td>\n      <td>3.0</td>\n      <td>4.0</td>\n      <td>1.0</td>\n      <td>1.0</td>\n      <td>2.0</td>\n      <td>3.0</td>\n      <td>4.0</td>\n      <td>2.0</td>\n      <td>3.0</td>\n      <td>...</td>\n      <td>2.00</td>\n      <td>4.50</td>\n      <td>3.50</td>\n      <td>4.75</td>\n      <td>4.25</td>\n      <td>2.666667</td>\n      <td>2.750000</td>\n      <td>3.833333</td>\n      <td>3.833333</td>\n      <td>4.166667</td>\n    </tr>\n    <tr>\n      <th>3</th>\n      <td>5.0</td>\n      <td>1.0</td>\n      <td>2.0</td>\n      <td>5.0</td>\n      <td>5.0</td>\n      <td>5.0</td>\n      <td>1.0</td>\n      <td>1.0</td>\n      <td>2.0</td>\n      <td>2.0</td>\n      <td>...</td>\n      <td>4.25</td>\n      <td>2.25</td>\n      <td>4.75</td>\n      <td>4.25</td>\n      <td>3.75</td>\n      <td>4.583333</td>\n      <td>3.166667</td>\n      <td>2.916667</td>\n      <td>3.583333</td>\n      <td>4.250000</td>\n    </tr>\n    <tr>\n      <th>4</th>\n      <td>3.0</td>\n      <td>4.0</td>\n      <td>3.0</td>\n      <td>3.0</td>\n      <td>1.0</td>\n      <td>2.0</td>\n      <td>4.0</td>\n      <td>3.0</td>\n      <td>2.0</td>\n      <td>4.0</td>\n      <td>...</td>\n      <td>3.00</td>\n      <td>1.75</td>\n      <td>4.50</td>\n      <td>4.00</td>\n      <td>4.50</td>\n      <td>2.750000</td>\n      <td>4.333333</td>\n      <td>2.500000</td>\n      <td>3.000000</td>\n      <td>4.333333</td>\n    </tr>\n    <tr>\n      <th>...</th>\n      <td>...</td>\n      <td>...</td>\n      <td>...</td>\n      <td>...</td>\n      <td>...</td>\n      <td>...</td>\n      <td>...</td>\n      <td>...</td>\n      <td>...</td>\n      <td>...</td>\n      <td>...</td>\n      <td>...</td>\n      <td>...</td>\n      <td>...</td>\n      <td>...</td>\n      <td>...</td>\n      <td>...</td>\n      <td>...</td>\n      <td>...</td>\n      <td>...</td>\n      <td>...</td>\n    </tr>\n    <tr>\n      <th>195</th>\n      <td>1.0</td>\n      <td>3.0</td>\n      <td>4.0</td>\n      <td>4.0</td>\n      <td>3.0</td>\n      <td>3.0</td>\n      <td>3.0</td>\n      <td>3.0</td>\n      <td>3.0</td>\n      <td>3.0</td>\n      <td>...</td>\n      <td>3.25</td>\n      <td>4.00</td>\n      <td>4.75</td>\n      <td>3.75</td>\n      <td>4.50</td>\n      <td>3.000000</td>\n      <td>4.666667</td>\n      <td>3.250000</td>\n      <td>3.833333</td>\n      <td>4.333333</td>\n    </tr>\n    <tr>\n      <th>196</th>\n      <td>4.0</td>\n      <td>1.0</td>\n      <td>2.0</td>\n      <td>4.0</td>\n      <td>5.0</td>\n      <td>3.0</td>\n      <td>1.0</td>\n      <td>2.0</td>\n      <td>3.0</td>\n      <td>4.0</td>\n      <td>...</td>\n      <td>3.00</td>\n      <td>2.00</td>\n      <td>3.50</td>\n      <td>4.50</td>\n      <td>3.75</td>\n      <td>3.750000</td>\n      <td>2.250000</td>\n      <td>3.666667</td>\n      <td>2.250000</td>\n      <td>3.916667</td>\n    </tr>\n    <tr>\n      <th>197</th>\n      <td>2.0</td>\n      <td>3.0</td>\n      <td>5.0</td>\n      <td>2.0</td>\n      <td>5.0</td>\n      <td>4.0</td>\n      <td>2.0</td>\n      <td>2.0</td>\n      <td>1.0</td>\n      <td>3.0</td>\n      <td>...</td>\n      <td>3.50</td>\n      <td>3.50</td>\n      <td>4.50</td>\n      <td>3.50</td>\n      <td>4.75</td>\n      <td>3.500000</td>\n      <td>3.333333</td>\n      <td>2.583333</td>\n      <td>3.583333</td>\n      <td>4.250000</td>\n    </tr>\n    <tr>\n      <th>198</th>\n      <td>3.0</td>\n      <td>2.0</td>\n      <td>4.0</td>\n      <td>3.0</td>\n      <td>3.0</td>\n      <td>3.0</td>\n      <td>1.0</td>\n      <td>3.0</td>\n      <td>2.0</td>\n      <td>2.0</td>\n      <td>...</td>\n      <td>2.50</td>\n      <td>2.75</td>\n      <td>3.00</td>\n      <td>2.50</td>\n      <td>3.00</td>\n      <td>3.583333</td>\n      <td>3.666667</td>\n      <td>3.916667</td>\n      <td>2.666667</td>\n      <td>2.833333</td>\n    </tr>\n    <tr>\n      <th>199</th>\n      <td>4.0</td>\n      <td>2.0</td>\n      <td>2.0</td>\n      <td>4.0</td>\n      <td>5.0</td>\n      <td>5.0</td>\n      <td>2.0</td>\n      <td>1.0</td>\n      <td>3.0</td>\n      <td>3.0</td>\n      <td>...</td>\n      <td>1.75</td>\n      <td>2.25</td>\n      <td>3.50</td>\n      <td>2.75</td>\n      <td>2.50</td>\n      <td>4.000000</td>\n      <td>3.500000</td>\n      <td>3.250000</td>\n      <td>2.333333</td>\n      <td>2.916667</td>\n    </tr>\n  </tbody>\n</table>\n<p>200 rows × 80 columns</p>\n</div>"
     },
     "execution_count": 33,
     "metadata": {},
     "output_type": "execute_result"
    }
   ],
   "source": [
    "# remove the 'simulated_' prefix from the variable names\n",
    "reverse_simulated_data.columns = reverse_simulated_data.columns.str.replace('simulated_', '')\n",
    "\n",
    "reverse_simulated_data"
   ],
   "metadata": {
    "collapsed": false,
    "ExecuteTime": {
     "end_time": "2024-04-17T05:30:13.107642Z",
     "start_time": "2024-04-17T05:30:13.057658Z"
    }
   },
   "id": "24cbaad9646b8b53",
   "execution_count": 33
  },
  {
   "cell_type": "code",
   "outputs": [],
   "source": [
    "# save the simulated data to a new csv file\n",
    "reverse_simulated_data.to_csv('facet_lvl_simulated_data.csv', index=False)"
   ],
   "metadata": {
    "collapsed": false,
    "ExecuteTime": {
     "end_time": "2024-04-17T05:30:13.139327Z",
     "start_time": "2024-04-17T05:30:13.092466Z"
    }
   },
   "id": "1c20b9b4c15457aa",
   "execution_count": 34
  },
  {
   "cell_type": "markdown",
   "source": [],
   "metadata": {
    "collapsed": false
   },
   "id": "55aea099c7850ad4"
  }
 ],
 "metadata": {
  "kernelspec": {
   "display_name": "Python 3",
   "language": "python",
   "name": "python3"
  },
  "language_info": {
   "codemirror_mode": {
    "name": "ipython",
    "version": 2
   },
   "file_extension": ".py",
   "mimetype": "text/x-python",
   "name": "python",
   "nbconvert_exporter": "python",
   "pygments_lexer": "ipython2",
   "version": "2.7.6"
  }
 },
 "nbformat": 4,
 "nbformat_minor": 5
}
