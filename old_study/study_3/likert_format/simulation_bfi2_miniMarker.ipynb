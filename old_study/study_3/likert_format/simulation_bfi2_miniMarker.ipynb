{
 "cells": [
  {
   "cell_type": "markdown",
   "source": [
    "# Data simulation\n",
    "\n",
    "This workbook is used to simulate Personality data from BFI-2 to Mini-marker. "
   ],
   "metadata": {
    "collapsed": false
   },
   "id": "8a75a90bc585f763"
  },
  {
   "cell_type": "code",
   "outputs": [],
   "source": [
    "import pandas as pd"
   ],
   "metadata": {
    "collapsed": true
   },
   "id": "initial_id",
   "execution_count": null
  },
  {
   "cell_type": "code",
   "outputs": [],
   "source": [
    "# load facet_lvl_simulated_data.csv\n",
    "data = pd.read_csv('facet_lvl_simulated_data.csv')\n",
    "\n",
    "# change the value type of the first 60 columns from decimal to integer\n",
    "data = data.astype({col: 'int' for col in data.columns[:60]})"
   ],
   "metadata": {
    "collapsed": false
   },
   "id": "27828c8285f3bb21",
   "execution_count": null
  },
  {
   "cell_type": "code",
   "outputs": [],
   "source": [
    "# view the first 5 rows of the data\n",
    "data.head()"
   ],
   "metadata": {
    "collapsed": false
   },
   "id": "d551c7706fdbe0d8",
   "execution_count": null
  },
  {
   "cell_type": "code",
   "outputs": [],
   "source": [
    "# Generate column names for tda1 to tda40\n",
    "tda_columns = [f\"tda{i}\" for i in range(1, 41)]\n",
    "\n",
    "# Generate column names for sbfi1 to sbfi60\n",
    "bfi_columns = [f\"bfi{i}\" for i in range(1, 61)]\n",
    "\n",
    "# Concatenate the two lists of column names\n",
    "selected_columns = tda_columns + bfi_columns"
   ],
   "metadata": {
    "collapsed": false
   },
   "id": "bdbcb531d2d5e6e0",
   "execution_count": null
  },
  {
   "cell_type": "code",
   "outputs": [],
   "source": [
    "from schema_bfi2 import likert_scale\n",
    "\n",
    "# Function to map the numeric values to strings\n",
    "def convert_values_to_string(series, mapping):\n",
    "    # Copy the series to not alter the original data\n",
    "    series_converted = series.copy()\n",
    "    # Apply the string mapping\n",
    "    if series.name in mapping:\n",
    "        series_converted = series_converted.apply(lambda x: f\"{mapping[series.name]} {x};\")\n",
    "    return series_converted\n",
    "\n",
    "# Apply the mapping function to each row of the dataset\n",
    "mapped_data = data[bfi_columns].apply(lambda df: convert_values_to_string(df, likert_scale))\n",
    "mapped_data['combined_bfi2'] = mapped_data[['bfi' + str(i) for i in range(1, 61)]].apply(lambda row: ' '.join(row), axis=1)\n",
    "\n",
    "data['combined_bfi2'] = mapped_data['combined_bfi2']\n",
    "\n",
    "data.head()"
   ],
   "metadata": {
    "collapsed": false
   },
   "id": "61f8b182531c8576",
   "execution_count": null
  },
  {
   "cell_type": "markdown",
   "source": [
    "## Generate prompts"
   ],
   "metadata": {
    "collapsed": false
   },
   "id": "eb5e6337380b4db"
  },
  {
   "cell_type": "code",
   "outputs": [],
   "source": [
    "import os\n",
    "from mini_marker_prompt import get_prompt\n",
    "\n",
    "api_key = os.getenv('OPENAI_API_KEY')\n",
    "\n",
    "api_key"
   ],
   "metadata": {
    "collapsed": false
   },
   "id": "aacef44e64299c95",
   "execution_count": null
  },
  {
   "cell_type": "markdown",
   "source": [
    "## Test with a single participant\n",
    "Let us first test the framework with a single participant."
   ],
   "metadata": {
    "collapsed": false
   },
   "id": "a8ee10f7752102ed"
  },
  {
   "cell_type": "code",
   "outputs": [],
   "source": [
    "person1 = data.iloc[0]\n",
    "\n",
    "prompt = get_prompt(person1['combined_bfi2'])\n",
    "\n",
    "print(prompt)"
   ],
   "metadata": {
    "collapsed": false
   },
   "id": "a2ada1360c9c69d9",
   "execution_count": null
  },
  {
   "cell_type": "markdown",
   "source": [
    "The prompt is looking good. Let us now create a ChatOpenAI object and test it with the prompt."
   ],
   "metadata": {
    "collapsed": false
   },
   "id": "8974a3eb35f2ec24"
  },
  {
   "cell_type": "code",
   "outputs": [],
   "source": [
    "from openai import OpenAI\n",
    "\n",
    "client = OpenAI()\n",
    "completion = client.chat.completions.create(\n",
    "  temperature=0,\n",
    "  model=\"gpt-3.5-turbo\",\n",
    "  messages=[\n",
    "    {\"role\": \"system\", \"content\": \"You are an agent participating in a research study. You will be given a personality profile.\"},\n",
    "    {\"role\": \"user\", \"content\": prompt}\n",
    "  ]\n",
    ")\n",
    "completion"
   ],
   "metadata": {
    "collapsed": false
   },
   "id": "692028a1178040da",
   "execution_count": null
  },
  {
   "cell_type": "markdown",
   "source": [
    "# Generate completions for the entire dataset\n",
    "Now that we have tested the framework, and it works very well. Let us generate completions for the entire dataset."
   ],
   "metadata": {
    "collapsed": false
   },
   "id": "2ac5e0e39506aa70"
  },
  {
   "cell_type": "code",
   "outputs": [],
   "source": [
    "# define a function to get the completion of an individual\n",
    "def get_completion(person):\n",
    "    prompt = get_prompt(person['combined_bfi2'])\n",
    "    completion = client.chat.completions.create(\n",
    "        temperature=0, \n",
    "        model=\"gpt-3.5-turbo\",\n",
    "        messages=[\n",
    "            {\"role\": \"system\", \"content\": \"You are an agent participating in a research study. You will be given a personality profile.\"},\n",
    "            {\"role\": \"user\", \"content\": prompt}\n",
    "        ]\n",
    "    )\n",
    "    return completion"
   ],
   "metadata": {
    "collapsed": false
   },
   "id": "8b6d138d8acc79fd",
   "execution_count": null
  },
  {
   "cell_type": "code",
   "outputs": [],
   "source": [
    "# get completions for the entire dataset\n",
    "completions = data.apply(get_completion, axis=1)"
   ],
   "metadata": {
    "collapsed": false
   },
   "id": "5a8c41ec2ccdca30",
   "execution_count": null
  },
  {
   "cell_type": "code",
   "outputs": [],
   "source": [
    "# print the shape of df \n",
    "print(data.shape)\n",
    "\n",
    "# print the shape of completions\n",
    "print(completions.shape)"
   ],
   "metadata": {
    "collapsed": false
   },
   "id": "5a346bfed7d02939",
   "execution_count": null
  },
  {
   "cell_type": "code",
   "outputs": [],
   "source": [
    "import json\n",
    "\n",
    "# Define a custom serializer for Choice objects\n",
    "def serialize_choice(choice):\n",
    "    return {\n",
    "        \"finish_reason\": choice.finish_reason,\n",
    "        \"index\": choice.index,\n",
    "        \"logprobs\": choice.logprobs,\n",
    "        \"message\": {\n",
    "            \"content\": choice.message.content,\n",
    "            \"role\": choice.message.role,\n",
    "            \"function_call\": choice.message.function_call,\n",
    "            \"tool_calls\": choice.message.tool_calls\n",
    "        }\n",
    "    }\n",
    "\n",
    "# Define a custom serializer for ChatCompletion objects\n",
    "def serialize_chat_completion(completion):\n",
    "    return {\n",
    "        \"id\": completion.id,\n",
    "        \"choices\": [serialize_choice(choice) for choice in completion.choices],\n",
    "        \"created\": completion.created,\n",
    "        \"model\": completion.model,\n",
    "        \"object\": completion.object,\n",
    "        \"usage\": {\n",
    "            \"completion_tokens\": completion.usage.completion_tokens,\n",
    "            \"prompt_tokens\": completion.usage.prompt_tokens,\n",
    "            \"total_tokens\": completion.usage.total_tokens\n",
    "        }\n",
    "    }\n",
    "\n",
    "# Serialize the list of ChatCompletion objects to a JSON file\n",
    "with open('bfi_to_mini_temp0.json', 'w') as json_file:\n",
    "    json.dump([serialize_chat_completion(completion) for completion in completions], json_file, indent=4)"
   ],
   "metadata": {
    "collapsed": false
   },
   "id": "7512ba3fc0f64009",
   "execution_count": null
  }
 ],
 "metadata": {
  "kernelspec": {
   "display_name": "Python 3",
   "language": "python",
   "name": "python3"
  },
  "language_info": {
   "codemirror_mode": {
    "name": "ipython",
    "version": 2
   },
   "file_extension": ".py",
   "mimetype": "text/x-python",
   "name": "python",
   "nbconvert_exporter": "python",
   "pygments_lexer": "ipython2",
   "version": "2.7.6"
  }
 },
 "nbformat": 4,
 "nbformat_minor": 5
}
