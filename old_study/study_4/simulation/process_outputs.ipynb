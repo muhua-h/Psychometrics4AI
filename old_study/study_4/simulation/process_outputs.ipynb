{
 "cells": [
  {
   "cell_type": "code",
   "id": "initial_id",
   "metadata": {
    "collapsed": true,
    "ExecuteTime": {
     "end_time": "2024-10-05T20:33:41.619162Z",
     "start_time": "2024-10-05T20:33:41.461783Z"
    }
   },
   "source": [
    "import pandas as pd\n",
    "import json\n",
    "import os\n",
    "import glob\n",
    "\n",
    "def process_json_folder(df, folder_path, prefix):\n",
    "    json_files = glob.glob(os.path.join(folder_path, f'{prefix}_*.json'))\n",
    "    \n",
    "    for json_path in json_files:\n",
    "        with open(json_path, 'r') as f:\n",
    "            json_data = json.load(f)\n",
    "        \n",
    "        json_base_name = os.path.splitext(os.path.basename(json_path))[0]\n",
    "        \n",
    "        json_df = pd.DataFrame(json_data)\n",
    "        json_df.columns = [f\"{json_base_name}_{col}\" for col in json_df.columns]\n",
    "        \n",
    "        json_df[f\"{json_base_name}_sum\"] = json_df.sum(axis=1)\n",
    "        \n",
    "        df = pd.concat([df, json_df], axis=1)\n",
    "    \n",
    "    return df\n",
    "\n",
    "def combine_csv_json(csv_path, risk_folder, moral_folder, output_path):\n",
    "    # Read the CSV file\n",
    "    df = pd.read_csv(csv_path)\n",
    "    \n",
    "    # Process risk folder\n",
    "    df = process_json_folder(df, risk_folder, 'risk')\n",
    "    \n",
    "    # Process moral folder\n",
    "    df = process_json_folder(df, moral_folder, 'moral')\n",
    "    \n",
    "    # Write the combined DataFrame to a new CSV file\n",
    "    df.to_csv(output_path, index=False)\n",
    "    \n",
    "    print(f\"Combined data saved to {output_path}\")\n",
    "\n",
    "# Example usage\n",
    "csv_path = '../data/york_data_clean.csv'\n",
    "risk_folder = 'risk'\n",
    "moral_folder = 'moral'\n",
    "output_path = 'data_w_simulation.csv'\n",
    "\n",
    "combine_csv_json(csv_path, risk_folder, moral_folder, output_path)"
   ],
   "outputs": [
    {
     "name": "stdout",
     "output_type": "stream",
     "text": [
      "Combined data saved to data_w_simulation.csv\n"
     ]
    }
   ],
   "execution_count": 2
  }
 ],
 "metadata": {
  "kernelspec": {
   "display_name": "Python 3",
   "language": "python",
   "name": "python3"
  },
  "language_info": {
   "codemirror_mode": {
    "name": "ipython",
    "version": 2
   },
   "file_extension": ".py",
   "mimetype": "text/x-python",
   "name": "python",
   "nbconvert_exporter": "python",
   "pygments_lexer": "ipython2",
   "version": "2.7.6"
  }
 },
 "nbformat": 4,
 "nbformat_minor": 5
}
