{
 "cells": [
  {
   "cell_type": "code",
   "id": "initial_id",
   "metadata": {
    "collapsed": true,
    "ExecuteTime": {
     "end_time": "2024-10-07T05:25:15.099849Z",
     "start_time": "2024-10-07T05:25:14.976901Z"
    }
   },
   "source": [
    "import pandas as pd\n",
    "\n",
    "# load data \n",
    "data = pd.read_csv('../simulation/data_w_simulation.csv')\n",
    "\n",
    "print(data.shape)\n",
    "\n",
    "# remove 'Finished' having value 0\n",
    "data = data[data['Finished'] == 1]\n",
    "\n",
    "data = data[data['8) English language reading/comprehension ability:'] == 5]\n",
    "\n",
    "data = data.dropna(subset=[data.columns[17]])\n",
    "\n",
    "print(data.shape)"
   ],
   "outputs": [
    {
     "name": "stdout",
     "output_type": "stream",
     "text": [
      "(356, 240)\n",
      "(276, 240)\n"
     ]
    }
   ],
   "execution_count": 2
  },
  {
   "metadata": {
    "ExecuteTime": {
     "end_time": "2024-10-07T05:29:49.125306Z",
     "start_time": "2024-10-07T05:29:49.058379Z"
    }
   },
   "cell_type": "code",
   "source": [
    "# Age \n",
    "avg_age = data.iloc[:, 92].mean()  # Column 93 is at index 92 (0-indexed)\n",
    "sd_age = data.iloc[:, 92].std()\n",
    "\n",
    "print(f\"Average Age: {avg_age}\")\n",
    "print(f\"Standard Deviation of Age: {sd_age}\")"
   ],
   "id": "ed91523b3b68fad9",
   "outputs": [
    {
     "name": "stdout",
     "output_type": "stream",
     "text": [
      "Average Age: 19.64727272727273\n",
      "Standard Deviation of Age: 3.883704236065304\n"
     ]
    }
   ],
   "execution_count": 6
  },
  {
   "metadata": {
    "ExecuteTime": {
     "end_time": "2024-10-07T05:35:35.464243Z",
     "start_time": "2024-10-07T05:35:35.404899Z"
    }
   },
   "cell_type": "code",
   "source": [
    "# ethnicity\n",
    "\n",
    "\t# 1.\tEuropean / Caucasian\n",
    "\t# 2.\tEast Asian\n",
    "\t# 3.\tSouth Asian\n",
    "\t# 4.\tAfrican\n",
    "\t# 5.\tHispanic\n",
    "\t# 6.\tLatino\n",
    "\t# 7.\tAboriginal\n",
    "\t# 8.\tOther\n",
    "\n",
    "# Assuming 'data' is your dataframe and we are focusing on the 94th column\n",
    "race_counts = data.iloc[:, 93].value_counts()  # 94th column is indexed at 93 in pandas (0-based indexing)\n",
    "\n",
    "# Calculate the proportion by dividing the counts by the total number of rows\n",
    "race_proportion = race_counts / len(data)\n",
    "\n",
    "# Display the race distribution and proportions\n",
    "print(race_proportion)"
   ],
   "id": "cd473ed617c4feee",
   "outputs": [
    {
     "name": "stdout",
     "output_type": "stream",
     "text": [
      "4) Ethnicity (choose one): - Selected Choice\n",
      "8.0    0.282609\n",
      "1.0    0.268116\n",
      "3.0    0.250000\n",
      "4.0    0.072464\n",
      "2.0    0.068841\n",
      "6.0    0.025362\n",
      "5.0    0.025362\n",
      "Name: count, dtype: float64\n"
     ]
    }
   ],
   "execution_count": 7
  },
  {
   "metadata": {
    "ExecuteTime": {
     "end_time": "2024-10-07T05:39:07.957629Z",
     "start_time": "2024-10-07T05:39:07.917576Z"
    }
   },
   "cell_type": "code",
   "source": [
    "# gender \n",
    "\n",
    "# ethnicity\n",
    "\n",
    "# 1.\tEuropean / Caucasian\n",
    "# 2.\tEast Asian\n",
    "# 3.\tSouth Asian\n",
    "# 4.\tAfrican\n",
    "# 5.\tHispanic\n",
    "# 6.\tLatino\n",
    "# 7.\tAboriginal\n",
    "# 8.\tOther\n",
    "\n",
    "# Assuming 'data' is your dataframe and we are focusing on the 94th column\n",
    "gender_counts = data.iloc[:, 90].value_counts()  # 94th column is indexed at 93 in pandas (0-based indexing)\n",
    "\n",
    "# Calculate the proportion by dividing the counts by the total number of rows\n",
    "gender_proportion = gender_counts / len(data)\n",
    "\n",
    "# Display the race distribution and proportions\n",
    "print(gender_proportion)"
   ],
   "id": "78c760e1abf7bcad",
   "outputs": [
    {
     "name": "stdout",
     "output_type": "stream",
     "text": [
      "2) Gender identity (select all that apply): - Selected Choice\n",
      "2      0.804348\n",
      "1      0.155797\n",
      "6      0.018116\n",
      "3      0.007246\n",
      "2,3    0.007246\n",
      "4      0.003623\n",
      "3,4    0.003623\n",
      "Name: count, dtype: float64\n"
     ]
    }
   ],
   "execution_count": 8
  }
 ],
 "metadata": {
  "kernelspec": {
   "display_name": "Python 3",
   "language": "python",
   "name": "python3"
  },
  "language_info": {
   "codemirror_mode": {
    "name": "ipython",
    "version": 2
   },
   "file_extension": ".py",
   "mimetype": "text/x-python",
   "name": "python",
   "nbconvert_exporter": "python",
   "pygments_lexer": "ipython2",
   "version": "2.7.6"
  }
 },
 "nbformat": 4,
 "nbformat_minor": 5
}
