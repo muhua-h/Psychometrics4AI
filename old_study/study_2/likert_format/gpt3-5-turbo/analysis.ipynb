{
 "cells": [
  {
   "cell_type": "markdown",
   "source": [
    "# Analysis of convergence "
   ],
   "metadata": {
    "collapsed": false
   },
   "id": "e7e131b623961af1"
  },
  {
   "cell_type": "code",
   "outputs": [
    {
     "data": {
      "text/plain": "   case_id   age sex  ethnicity  rel_acquaintance  rel_friend  rel_roommate  \\\n0        1  27.0   M        2.0               NaN         NaN           NaN   \n1        2  26.0   M        3.0               NaN         NaN           NaN   \n2        3  24.0   F        4.0               NaN         NaN           NaN   \n\n   rel_boygirlfriend  rel_relative  rel_other  ... Unenvious  Unintellectual  \\\n0                NaN           NaN        NaN  ...         5               4   \n1                NaN           NaN        NaN  ...         4               4   \n2                NaN           NaN        NaN  ...         9               2   \n\n   Unsympathetic  Warm  Withdrawn  miniMarker_simulated_E  \\\n0              1     5          4                      47   \n1              4     4          4                      38   \n2              2     5          5                      28   \n\n   miniMarker_simulated_A  miniMarker_simulated_C  miniMarker_simulated_N  \\\n0                      53                      43                      24   \n1                      40                      40                      36   \n2                      48                      49                      20   \n\n   miniMarker_simulated_O  \n0                      26  \n1                      38  \n2                      38  \n\n[3 rows x 750 columns]",
      "text/html": "<div>\n<style scoped>\n    .dataframe tbody tr th:only-of-type {\n        vertical-align: middle;\n    }\n\n    .dataframe tbody tr th {\n        vertical-align: top;\n    }\n\n    .dataframe thead th {\n        text-align: right;\n    }\n</style>\n<table border=\"1\" class=\"dataframe\">\n  <thead>\n    <tr style=\"text-align: right;\">\n      <th></th>\n      <th>case_id</th>\n      <th>age</th>\n      <th>sex</th>\n      <th>ethnicity</th>\n      <th>rel_acquaintance</th>\n      <th>rel_friend</th>\n      <th>rel_roommate</th>\n      <th>rel_boygirlfriend</th>\n      <th>rel_relative</th>\n      <th>rel_other</th>\n      <th>...</th>\n      <th>Unenvious</th>\n      <th>Unintellectual</th>\n      <th>Unsympathetic</th>\n      <th>Warm</th>\n      <th>Withdrawn</th>\n      <th>miniMarker_simulated_E</th>\n      <th>miniMarker_simulated_A</th>\n      <th>miniMarker_simulated_C</th>\n      <th>miniMarker_simulated_N</th>\n      <th>miniMarker_simulated_O</th>\n    </tr>\n  </thead>\n  <tbody>\n    <tr>\n      <th>0</th>\n      <td>1</td>\n      <td>27.0</td>\n      <td>M</td>\n      <td>2.0</td>\n      <td>NaN</td>\n      <td>NaN</td>\n      <td>NaN</td>\n      <td>NaN</td>\n      <td>NaN</td>\n      <td>NaN</td>\n      <td>...</td>\n      <td>5</td>\n      <td>4</td>\n      <td>1</td>\n      <td>5</td>\n      <td>4</td>\n      <td>47</td>\n      <td>53</td>\n      <td>43</td>\n      <td>24</td>\n      <td>26</td>\n    </tr>\n    <tr>\n      <th>1</th>\n      <td>2</td>\n      <td>26.0</td>\n      <td>M</td>\n      <td>3.0</td>\n      <td>NaN</td>\n      <td>NaN</td>\n      <td>NaN</td>\n      <td>NaN</td>\n      <td>NaN</td>\n      <td>NaN</td>\n      <td>...</td>\n      <td>4</td>\n      <td>4</td>\n      <td>4</td>\n      <td>4</td>\n      <td>4</td>\n      <td>38</td>\n      <td>40</td>\n      <td>40</td>\n      <td>36</td>\n      <td>38</td>\n    </tr>\n    <tr>\n      <th>2</th>\n      <td>3</td>\n      <td>24.0</td>\n      <td>F</td>\n      <td>4.0</td>\n      <td>NaN</td>\n      <td>NaN</td>\n      <td>NaN</td>\n      <td>NaN</td>\n      <td>NaN</td>\n      <td>NaN</td>\n      <td>...</td>\n      <td>9</td>\n      <td>2</td>\n      <td>2</td>\n      <td>5</td>\n      <td>5</td>\n      <td>28</td>\n      <td>48</td>\n      <td>49</td>\n      <td>20</td>\n      <td>38</td>\n    </tr>\n  </tbody>\n</table>\n<p>3 rows × 750 columns</p>\n</div>"
     },
     "execution_count": 1,
     "metadata": {},
     "output_type": "execute_result"
    }
   ],
   "source": [
    "import pandas as pd\n",
    "\n",
    "data = pd.read_csv('study1_with_simulation_result.csv')\n",
    "\n",
    "# preview data \n",
    "data.head(3)"
   ],
   "metadata": {
    "collapsed": false,
    "ExecuteTime": {
     "end_time": "2024-03-03T05:21:20.229922Z",
     "start_time": "2024-03-03T05:21:19.810368Z"
    }
   },
   "id": "2906b8f6efd589d2",
   "execution_count": 1
  },
  {
   "cell_type": "code",
   "outputs": [],
   "source": [
    "# get original BFI score \n",
    "original_bfi2_e = data['bfi2_e']\n",
    "original_bfi2_a = data['bfi2_a']\n",
    "original_bfi2_c = data['bfi2_c']\n",
    "original_bfi2_n = data['bfi2_n']\n",
    "original_bfi2_o = data['bfi2_o']"
   ],
   "metadata": {
    "collapsed": false,
    "ExecuteTime": {
     "end_time": "2024-03-03T05:21:20.232095Z",
     "start_time": "2024-03-03T05:21:20.229909Z"
    }
   },
   "id": "12340da93b5528ad",
   "execution_count": 2
  },
  {
   "cell_type": "code",
   "outputs": [],
   "source": [
    "# get original mini_marker_score\n",
    "original_tda_a = data['tda_a']\n",
    "original_tda_e = data['tda_e']\n",
    "original_tda_n = data['tda_n']\n",
    "original_tda_c = data['tda_c']\n",
    "original_tda_o = data['tda_o']"
   ],
   "metadata": {
    "collapsed": false,
    "ExecuteTime": {
     "end_time": "2024-03-03T05:21:20.234211Z",
     "start_time": "2024-03-03T05:21:20.232332Z"
    }
   },
   "id": "977adb889acd4b0c",
   "execution_count": 3
  },
  {
   "cell_type": "code",
   "outputs": [],
   "source": [
    "# get simulated mini_marker_score\n",
    "sim_tda_a = data['miniMarker_simulated_A'] /8\n",
    "sim_tda_e = data['miniMarker_simulated_E'] /8\n",
    "sim_tda_n = data['miniMarker_simulated_N'] /8\n",
    "sim_tda_c = data['miniMarker_simulated_C'] /8\n",
    "sim_tda_o = data['miniMarker_simulated_O'] /8"
   ],
   "metadata": {
    "collapsed": false,
    "ExecuteTime": {
     "end_time": "2024-03-03T05:21:20.237712Z",
     "start_time": "2024-03-03T05:21:20.235254Z"
    }
   },
   "id": "5efff21930cebb5d",
   "execution_count": 4
  },
  {
   "cell_type": "code",
   "outputs": [
    {
     "data": {
      "text/plain": "     sim_tda_c  original_tda_c\n0        5.375           5.500\n1        5.000           4.500\n2        6.125           8.125\n3        5.000           4.500\n4        6.625           8.500\n..         ...             ...\n433      7.250           7.375\n434      5.125           6.125\n435      6.500           7.125\n436      6.125           6.625\n437      7.375           7.500\n\n[438 rows x 2 columns]",
      "text/html": "<div>\n<style scoped>\n    .dataframe tbody tr th:only-of-type {\n        vertical-align: middle;\n    }\n\n    .dataframe tbody tr th {\n        vertical-align: top;\n    }\n\n    .dataframe thead th {\n        text-align: right;\n    }\n</style>\n<table border=\"1\" class=\"dataframe\">\n  <thead>\n    <tr style=\"text-align: right;\">\n      <th></th>\n      <th>sim_tda_c</th>\n      <th>original_tda_c</th>\n    </tr>\n  </thead>\n  <tbody>\n    <tr>\n      <th>0</th>\n      <td>5.375</td>\n      <td>5.500</td>\n    </tr>\n    <tr>\n      <th>1</th>\n      <td>5.000</td>\n      <td>4.500</td>\n    </tr>\n    <tr>\n      <th>2</th>\n      <td>6.125</td>\n      <td>8.125</td>\n    </tr>\n    <tr>\n      <th>3</th>\n      <td>5.000</td>\n      <td>4.500</td>\n    </tr>\n    <tr>\n      <th>4</th>\n      <td>6.625</td>\n      <td>8.500</td>\n    </tr>\n    <tr>\n      <th>...</th>\n      <td>...</td>\n      <td>...</td>\n    </tr>\n    <tr>\n      <th>433</th>\n      <td>7.250</td>\n      <td>7.375</td>\n    </tr>\n    <tr>\n      <th>434</th>\n      <td>5.125</td>\n      <td>6.125</td>\n    </tr>\n    <tr>\n      <th>435</th>\n      <td>6.500</td>\n      <td>7.125</td>\n    </tr>\n    <tr>\n      <th>436</th>\n      <td>6.125</td>\n      <td>6.625</td>\n    </tr>\n    <tr>\n      <th>437</th>\n      <td>7.375</td>\n      <td>7.500</td>\n    </tr>\n  </tbody>\n</table>\n<p>438 rows × 2 columns</p>\n</div>"
     },
     "execution_count": 5,
     "metadata": {},
     "output_type": "execute_result"
    }
   ],
   "source": [
    "# create a df for [sim_tda_c, original_tda_c]\n",
    "df = pd.DataFrame({'sim_tda_c': sim_tda_c, 'original_tda_c': original_tda_c})\n",
    "df"
   ],
   "metadata": {
    "collapsed": false,
    "ExecuteTime": {
     "end_time": "2024-03-03T05:21:20.243854Z",
     "start_time": "2024-03-03T05:21:20.238898Z"
    }
   },
   "id": "1484e5b3289e7905",
   "execution_count": 5
  },
  {
   "cell_type": "markdown",
   "source": [
    "# Compute correlations"
   ],
   "metadata": {
    "collapsed": false
   },
   "id": "5015504e6679d097"
  },
  {
   "cell_type": "markdown",
   "source": [
    "## Replicating Soto's study"
   ],
   "metadata": {
    "collapsed": false
   },
   "id": "ff8a84536c992980"
  },
  {
   "cell_type": "code",
   "outputs": [
    {
     "data": {
      "text/plain": "0.801933672053827"
     },
     "execution_count": 6,
     "metadata": {},
     "output_type": "execute_result"
    }
   ],
   "source": [
    "from scipy.stats import pearsonr\n",
    "r_bfi_original_tda_e, _ = pearsonr(original_bfi2_e, original_tda_e)\n",
    "r_bfi_original_tda_a, _ = pearsonr(original_bfi2_a, original_tda_a)\n",
    "r_bfi_original_tda_n, _ = pearsonr(original_bfi2_n, original_tda_n)\n",
    "r_bfi_original_tda_c, _ = pearsonr(original_bfi2_c, original_tda_c)\n",
    "r_bfi_original_tda_o, _ = pearsonr(original_bfi2_o, original_tda_o)\n",
    "\n",
    "# compute the average correlation\n",
    "r_bfi_original_tda = (r_bfi_original_tda_e + r_bfi_original_tda_a + r_bfi_original_tda_n + r_bfi_original_tda_c + r_bfi_original_tda_o) / 5\n",
    "\n",
    "r_bfi_original_tda"
   ],
   "metadata": {
    "collapsed": false,
    "ExecuteTime": {
     "end_time": "2024-03-03T05:21:20.832798Z",
     "start_time": "2024-03-03T05:21:20.243754Z"
    }
   },
   "id": "f3d6498e808f4e0a",
   "execution_count": 6
  },
  {
   "cell_type": "code",
   "outputs": [
    {
     "name": "stdout",
     "output_type": "stream",
     "text": [
      "0.8845839782579082\n",
      "0.7962419547822508\n",
      "0.7384592648174876\n",
      "0.8399377903528379\n",
      "0.7504453720586505\n"
     ]
    }
   ],
   "source": [
    "print(r_bfi_original_tda_e)\n",
    "print(r_bfi_original_tda_a)\n",
    "print(r_bfi_original_tda_n)\n",
    "print(r_bfi_original_tda_c)\n",
    "print(r_bfi_original_tda_o)"
   ],
   "metadata": {
    "collapsed": false,
    "ExecuteTime": {
     "end_time": "2024-03-03T05:21:20.833815Z",
     "start_time": "2024-03-03T05:21:20.831199Z"
    }
   },
   "id": "c475d4904044ce6",
   "execution_count": 7
  },
  {
   "cell_type": "markdown",
   "source": [
    "## Examining the Simulation result: original BFI vs simulated mini_marker"
   ],
   "metadata": {
    "collapsed": false
   },
   "id": "63ad2905a1845913"
  },
  {
   "cell_type": "code",
   "outputs": [
    {
     "data": {
      "text/plain": "0.7279121341411778"
     },
     "execution_count": 8,
     "metadata": {},
     "output_type": "execute_result"
    }
   ],
   "source": [
    "r_bfi_sim_tda_e, _ = pearsonr(original_bfi2_e, sim_tda_e)\n",
    "r_bfi_sim_tda_a, _ = pearsonr(original_bfi2_a, sim_tda_a)\n",
    "r_bfi_sim_tda_n, _ = pearsonr(original_bfi2_n, sim_tda_n)\n",
    "r_bfi_sim_tda_c, _ = pearsonr(original_bfi2_c, sim_tda_c)\n",
    "r_bfi_sim_tda_o, _ = pearsonr(original_bfi2_o, sim_tda_o)\n",
    "\n",
    "# compute the average correlation\n",
    "r_bfi_sim_tda = (r_bfi_sim_tda_e + r_bfi_sim_tda_a + r_bfi_sim_tda_n + r_bfi_sim_tda_c + r_bfi_sim_tda_o) / 5\n",
    "\n",
    "r_bfi_sim_tda"
   ],
   "metadata": {
    "collapsed": false,
    "ExecuteTime": {
     "end_time": "2024-03-03T05:21:20.840613Z",
     "start_time": "2024-03-03T05:21:20.837512Z"
    }
   },
   "id": "3c706d141d0f773",
   "execution_count": 8
  },
  {
   "cell_type": "code",
   "outputs": [
    {
     "name": "stdout",
     "output_type": "stream",
     "text": [
      "0.8797848563029836\n",
      "0.6600330169807133\n",
      "0.726632203027543\n",
      "0.8432504706431299\n",
      "0.5298601237515194\n"
     ]
    }
   ],
   "source": [
    "print(r_bfi_sim_tda_e)\n",
    "print(r_bfi_sim_tda_a)\n",
    "print(r_bfi_sim_tda_n)\n",
    "print(r_bfi_sim_tda_c)\n",
    "print(r_bfi_sim_tda_o)"
   ],
   "metadata": {
    "collapsed": false,
    "ExecuteTime": {
     "end_time": "2024-03-03T05:21:20.844235Z",
     "start_time": "2024-03-03T05:21:20.839999Z"
    }
   },
   "id": "181bccba17b50e9c",
   "execution_count": 9
  },
  {
   "cell_type": "markdown",
   "source": [
    "## Examining the Simulation result: original BFI vs simulated mini_marker"
   ],
   "metadata": {
    "collapsed": false
   },
   "id": "8582b41d252328c0"
  },
  {
   "cell_type": "code",
   "outputs": [],
   "source": [
    "r_sim_tda_e, _ = pearsonr(sim_tda_e, original_tda_e)\n",
    "r_sim_tda_a, _ = pearsonr(sim_tda_a, original_tda_a)\n",
    "r_sim_tda_n, _ = pearsonr(sim_tda_n, original_tda_n)\n",
    "r_sim_tda_c, _ = pearsonr(sim_tda_c, original_tda_c)\n",
    "r_sim_tda_o, _ = pearsonr(sim_tda_o, original_tda_o)"
   ],
   "metadata": {
    "collapsed": false,
    "ExecuteTime": {
     "end_time": "2024-03-03T05:21:20.849745Z",
     "start_time": "2024-03-03T05:21:20.847007Z"
    }
   },
   "id": "8e76dc75dbbe66d3",
   "execution_count": 10
  },
  {
   "cell_type": "code",
   "outputs": [
    {
     "name": "stdout",
     "output_type": "stream",
     "text": [
      "0.8258845909130269\n",
      "0.613404134431669\n",
      "0.6547530290728373\n",
      "0.7408285832248059\n",
      "0.4856255949320598\n"
     ]
    }
   ],
   "source": [
    "print(r_sim_tda_e)\n",
    "print(r_sim_tda_a)\n",
    "print(r_sim_tda_n)\n",
    "print(r_sim_tda_c)\n",
    "print(r_sim_tda_o)"
   ],
   "metadata": {
    "collapsed": false,
    "ExecuteTime": {
     "end_time": "2024-03-03T05:21:20.883266Z",
     "start_time": "2024-03-03T05:21:20.849527Z"
    }
   },
   "id": "40516a8f7a5c483e",
   "execution_count": 11
  },
  {
   "cell_type": "code",
   "outputs": [
    {
     "data": {
      "text/plain": "0.6640991865148798"
     },
     "execution_count": 12,
     "metadata": {},
     "output_type": "execute_result"
    }
   ],
   "source": [
    "# compute the average correlation\n",
    "r_sim_tda = (r_sim_tda_e + r_sim_tda_a + r_sim_tda_n + r_sim_tda_c + r_sim_tda_o) / 5\n",
    "\n",
    "r_sim_tda"
   ],
   "metadata": {
    "collapsed": false,
    "ExecuteTime": {
     "end_time": "2024-03-03T05:21:20.883826Z",
     "start_time": "2024-03-03T05:21:20.852242Z"
    }
   },
   "id": "218aecf8cec3e13c",
   "execution_count": 12
  },
  {
   "cell_type": "code",
   "outputs": [
    {
     "data": {
      "text/plain": "PearsonRResult(statistic=0.7408285832248059, pvalue=2.281482158091737e-77)"
     },
     "execution_count": 13,
     "metadata": {},
     "output_type": "execute_result"
    }
   ],
   "source": [
    "pearsonr(sim_tda_c, original_tda_c)"
   ],
   "metadata": {
    "collapsed": false,
    "ExecuteTime": {
     "end_time": "2024-03-03T05:21:20.884094Z",
     "start_time": "2024-03-03T05:21:20.854513Z"
    }
   },
   "id": "c4207a16e26eb76",
   "execution_count": 13
  }
 ],
 "metadata": {
  "kernelspec": {
   "display_name": "Python 3",
   "language": "python",
   "name": "python3"
  },
  "language_info": {
   "codemirror_mode": {
    "name": "ipython",
    "version": 2
   },
   "file_extension": ".py",
   "mimetype": "text/x-python",
   "name": "python",
   "nbconvert_exporter": "python",
   "pygments_lexer": "ipython2",
   "version": "2.7.6"
  }
 },
 "nbformat": 4,
 "nbformat_minor": 5
}
