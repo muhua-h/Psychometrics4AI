{
 "cells": [
  {
   "cell_type": "markdown",
   "source": [
    "# Process Mini-Marker Simulation Data"
   ],
   "metadata": {
    "collapsed": false
   },
   "id": "ea4a60196412361e"
  },
  {
   "cell_type": "code",
   "source": [
    "import pandas as pd"
   ],
   "metadata": {
    "collapsed": false,
    "ExecuteTime": {
     "end_time": "2024-09-17T14:23:13.598449Z",
     "start_time": "2024-09-17T14:23:11.434609Z"
    }
   },
   "id": "792f46fb6101ed4c",
   "outputs": [],
   "execution_count": 1
  },
  {
   "cell_type": "code",
   "source": [
    "# load bfi_moral_temp0.7.json \n",
    "import json\n",
    "with open('bfi_to_mini_temp0.json') as f:\n",
    "    data = json.load(f)"
   ],
   "metadata": {
    "collapsed": true,
    "ExecuteTime": {
     "end_time": "2024-09-17T14:23:13.608563Z",
     "start_time": "2024-09-17T14:23:13.602547Z"
    }
   },
   "id": "initial_id",
   "outputs": [],
   "execution_count": 2
  },
  {
   "cell_type": "code",
   "source": [
    "response = []\n",
    "\n",
    "for obj in data:\n",
    "    # Iterate through each choice\n",
    "    for choice in obj['choices']:\n",
    "        # Extract the content field\n",
    "        content = choice['message']['content']\n",
    "        # Check if content starts with ```json\\n and ends with \\n```, and remove these parts\n",
    "        if content.startswith(\"```json\\n\") and content.endswith(\"\\n```\"):\n",
    "            content = content[7:-4]  # Remove the ```json\\n prefix and \\n``` suffix\n",
    "        # Parse the content as JSON\n",
    "        content_json = json.loads(content)\n",
    "        # Add the decision to the list of response\n",
    "        response.append(content_json)"
   ],
   "metadata": {
    "collapsed": false,
    "ExecuteTime": {
     "end_time": "2024-09-17T14:23:13.738585Z",
     "start_time": "2024-09-17T14:23:13.734110Z"
    }
   },
   "id": "6878a40fadc60a50",
   "outputs": [],
   "execution_count": 3
  },
  {
   "cell_type": "code",
   "source": [
    "decision_df = pd.DataFrame(response)\n",
    "\n",
    "# save decision_df to csv \n",
    "decision_df.to_csv('mini_marker_response.csv', index=False)"
   ],
   "metadata": {
    "collapsed": false,
    "ExecuteTime": {
     "end_time": "2024-09-17T14:23:13.751915Z",
     "start_time": "2024-09-17T14:23:13.744055Z"
    }
   },
   "id": "bb6fb9e476492a9d",
   "outputs": [],
   "execution_count": 4
  },
  {
   "cell_type": "code",
   "outputs": [
    {
     "data": {
      "text/plain": "   Bashful  Bold  Careless  Cold  Complex  Cooperative  Creative  Deep  \\\n0        6     2         5     4        7            6         8     7   \n1        2     6         2     3        3            5         6     3   \n2        6     2         2     3        7            6         8     7   \n3        2     8         4     4        8            6         8     8   \n4        6     2         5     3        8            7         8     8   \n\n   Disorganized  Efficient  ...  Systematic  Talkative  Temperamental  Touchy  \\\n0             9          3  ...           2          4              9       8   \n1             2          6  ...           8          5              6       5   \n2             4          5  ...           4          2              8       8   \n3             5          4  ...           4          8              5       4   \n4             4          4  ...           3          4              4       4   \n\n   Uncreative  Unenvious  Unintellectual  Unsympathetic  Warm  Withdrawn  \n0           4          8               4              3     8          6  \n1           2          8               3              2     4          3  \n2           2          8               2              2     6          6  \n3           3          7               3              3     7          3  \n4           3          8               3              3     8          6  \n\n[5 rows x 40 columns]",
      "text/html": "<div>\n<style scoped>\n    .dataframe tbody tr th:only-of-type {\n        vertical-align: middle;\n    }\n\n    .dataframe tbody tr th {\n        vertical-align: top;\n    }\n\n    .dataframe thead th {\n        text-align: right;\n    }\n</style>\n<table border=\"1\" class=\"dataframe\">\n  <thead>\n    <tr style=\"text-align: right;\">\n      <th></th>\n      <th>Bashful</th>\n      <th>Bold</th>\n      <th>Careless</th>\n      <th>Cold</th>\n      <th>Complex</th>\n      <th>Cooperative</th>\n      <th>Creative</th>\n      <th>Deep</th>\n      <th>Disorganized</th>\n      <th>Efficient</th>\n      <th>...</th>\n      <th>Systematic</th>\n      <th>Talkative</th>\n      <th>Temperamental</th>\n      <th>Touchy</th>\n      <th>Uncreative</th>\n      <th>Unenvious</th>\n      <th>Unintellectual</th>\n      <th>Unsympathetic</th>\n      <th>Warm</th>\n      <th>Withdrawn</th>\n    </tr>\n  </thead>\n  <tbody>\n    <tr>\n      <th>0</th>\n      <td>6</td>\n      <td>2</td>\n      <td>5</td>\n      <td>4</td>\n      <td>7</td>\n      <td>6</td>\n      <td>8</td>\n      <td>7</td>\n      <td>9</td>\n      <td>3</td>\n      <td>...</td>\n      <td>2</td>\n      <td>4</td>\n      <td>9</td>\n      <td>8</td>\n      <td>4</td>\n      <td>8</td>\n      <td>4</td>\n      <td>3</td>\n      <td>8</td>\n      <td>6</td>\n    </tr>\n    <tr>\n      <th>1</th>\n      <td>2</td>\n      <td>6</td>\n      <td>2</td>\n      <td>3</td>\n      <td>3</td>\n      <td>5</td>\n      <td>6</td>\n      <td>3</td>\n      <td>2</td>\n      <td>6</td>\n      <td>...</td>\n      <td>8</td>\n      <td>5</td>\n      <td>6</td>\n      <td>5</td>\n      <td>2</td>\n      <td>8</td>\n      <td>3</td>\n      <td>2</td>\n      <td>4</td>\n      <td>3</td>\n    </tr>\n    <tr>\n      <th>2</th>\n      <td>6</td>\n      <td>2</td>\n      <td>2</td>\n      <td>3</td>\n      <td>7</td>\n      <td>6</td>\n      <td>8</td>\n      <td>7</td>\n      <td>4</td>\n      <td>5</td>\n      <td>...</td>\n      <td>4</td>\n      <td>2</td>\n      <td>8</td>\n      <td>8</td>\n      <td>2</td>\n      <td>8</td>\n      <td>2</td>\n      <td>2</td>\n      <td>6</td>\n      <td>6</td>\n    </tr>\n    <tr>\n      <th>3</th>\n      <td>2</td>\n      <td>8</td>\n      <td>4</td>\n      <td>4</td>\n      <td>8</td>\n      <td>6</td>\n      <td>8</td>\n      <td>8</td>\n      <td>5</td>\n      <td>4</td>\n      <td>...</td>\n      <td>4</td>\n      <td>8</td>\n      <td>5</td>\n      <td>4</td>\n      <td>3</td>\n      <td>7</td>\n      <td>3</td>\n      <td>3</td>\n      <td>7</td>\n      <td>3</td>\n    </tr>\n    <tr>\n      <th>4</th>\n      <td>6</td>\n      <td>2</td>\n      <td>5</td>\n      <td>3</td>\n      <td>8</td>\n      <td>7</td>\n      <td>8</td>\n      <td>8</td>\n      <td>4</td>\n      <td>4</td>\n      <td>...</td>\n      <td>3</td>\n      <td>4</td>\n      <td>4</td>\n      <td>4</td>\n      <td>3</td>\n      <td>8</td>\n      <td>3</td>\n      <td>3</td>\n      <td>8</td>\n      <td>6</td>\n    </tr>\n  </tbody>\n</table>\n<p>5 rows × 40 columns</p>\n</div>"
     },
     "execution_count": 5,
     "metadata": {},
     "output_type": "execute_result"
    }
   ],
   "source": [
    "decision_df.head()"
   ],
   "metadata": {
    "collapsed": false,
    "ExecuteTime": {
     "end_time": "2024-04-21T19:50:35.059540Z",
     "start_time": "2024-04-21T19:50:35.036789Z"
    }
   },
   "id": "f81189fe63d978a9",
   "execution_count": 5
  },
  {
   "cell_type": "code",
   "outputs": [
    {
     "data": {
      "text/plain": "Bashful           0\nBold              0\nCareless          0\nCold              0\nComplex           0\nCooperative       0\nCreative          0\nDeep              0\nDisorganized      0\nEfficient         0\nEnergetic         0\nEnvious           0\nExtraverted       0\nFretful           0\nHarsh             0\nImaginative       0\nInefficient       0\nIntellectual      0\nJealous           0\nKind              0\nMoody             0\nOrganized         0\nPhilosophical     0\nPractical         0\nQuiet             0\nRelaxed           0\nRude              0\nShy               0\nSloppy            0\nSympathetic       0\nSystematic        0\nTalkative         0\nTemperamental     0\nTouchy            0\nUncreative        0\nUnenvious         0\nUnintellectual    0\nUnsympathetic     0\nWarm              0\nWithdrawn         0\ndtype: int64"
     },
     "execution_count": 6,
     "metadata": {},
     "output_type": "execute_result"
    }
   ],
   "source": [
    "# check if there is any missing value\n",
    "decision_df.isnull().sum()"
   ],
   "metadata": {
    "collapsed": false,
    "ExecuteTime": {
     "end_time": "2024-04-21T19:50:35.059871Z",
     "start_time": "2024-04-21T19:50:35.043993Z"
    }
   },
   "id": "78edbd1b276c74b6",
   "execution_count": 6
  },
  {
   "cell_type": "markdown",
   "source": [
    "Great, the data is complete and ready for analysis."
   ],
   "metadata": {
    "collapsed": false
   },
   "id": "13671ee6678a6962"
  },
  {
   "cell_type": "code",
   "outputs": [
    {
     "data": {
      "text/plain": "   miniMarker_simulated_E  miniMarker_simulated_A  miniMarker_simulated_C  \\\n0                      30                      56                      19   \n1                      51                      47                      59   \n2                      29                      55                      47   \n3                      61                      52                      40   \n4                      31                      60                      35   \n\n   miniMarker_simulated_N  miniMarker_simulated_O  \n0                      50                      56  \n1                      31                      39  \n2                      45                      60  \n3                      36                      60  \n4                      33                      59  ",
      "text/html": "<div>\n<style scoped>\n    .dataframe tbody tr th:only-of-type {\n        vertical-align: middle;\n    }\n\n    .dataframe tbody tr th {\n        vertical-align: top;\n    }\n\n    .dataframe thead th {\n        text-align: right;\n    }\n</style>\n<table border=\"1\" class=\"dataframe\">\n  <thead>\n    <tr style=\"text-align: right;\">\n      <th></th>\n      <th>miniMarker_simulated_E</th>\n      <th>miniMarker_simulated_A</th>\n      <th>miniMarker_simulated_C</th>\n      <th>miniMarker_simulated_N</th>\n      <th>miniMarker_simulated_O</th>\n    </tr>\n  </thead>\n  <tbody>\n    <tr>\n      <th>0</th>\n      <td>30</td>\n      <td>56</td>\n      <td>19</td>\n      <td>50</td>\n      <td>56</td>\n    </tr>\n    <tr>\n      <th>1</th>\n      <td>51</td>\n      <td>47</td>\n      <td>59</td>\n      <td>31</td>\n      <td>39</td>\n    </tr>\n    <tr>\n      <th>2</th>\n      <td>29</td>\n      <td>55</td>\n      <td>47</td>\n      <td>45</td>\n      <td>60</td>\n    </tr>\n    <tr>\n      <th>3</th>\n      <td>61</td>\n      <td>52</td>\n      <td>40</td>\n      <td>36</td>\n      <td>60</td>\n    </tr>\n    <tr>\n      <th>4</th>\n      <td>31</td>\n      <td>60</td>\n      <td>35</td>\n      <td>33</td>\n      <td>59</td>\n    </tr>\n  </tbody>\n</table>\n</div>"
     },
     "execution_count": 7,
     "metadata": {},
     "output_type": "execute_result"
    }
   ],
   "source": [
    "def reverse_score(score):\n",
    "    return 10 - score\n",
    "\n",
    "def calculate_big_five_scores(df):\n",
    "    # Mapping of dimensions to their items (with indication of whether to reverse-score the item)\n",
    "    dimensions = {\n",
    "        'miniMarker_simulated_E': [('Bashful', True), ('Bold', False), ('Energetic', False), ('Extraverted', False), ('Quiet', True), ('Shy', True), ('Talkative', False), ('Withdrawn', True)],\n",
    "        \n",
    "        'miniMarker_simulated_A': [('Cold', True), ('Cooperative', False), ('Harsh', True), ('Kind', False), ('Rude', True), ('Sympathetic', False), ('Unsympathetic', True), ('Warm', False)],\n",
    "        \n",
    "        'miniMarker_simulated_C': [('Careless', True), ('Disorganized', True), ('Efficient', False), ('Inefficient', True), ('Organized', False), ('Practical', False), ('Sloppy', True), ('Systematic', False)],\n",
    "        \n",
    "        'miniMarker_simulated_N': [('Envious', False), ('Fretful', False), ('Jealous', False), ('Moody', False), ('Relaxed', True), ('Temperamental', False), ('Touchy', False), ('Unenvious', True)],\n",
    "        \n",
    "        'miniMarker_simulated_O': [('Complex', False), ('Deep', False), ('Creative', False), ('Imaginative', False), ('Intellectual', False), ('Philosophical', False), ('Uncreative', True), ('Unintellectual', True)]\n",
    "    }\n",
    "\n",
    "    # Initialize a dictionary to hold the total scores for each dimension\n",
    "    scores = {dimension: 0 for dimension in dimensions}\n",
    "\n",
    "    # Iterate through each dimension and its items\n",
    "    for dimension, items in dimensions.items():\n",
    "        for item, reverse in items:\n",
    "            # Sum the scores for each item, reversing the score if necessary\n",
    "            if reverse:\n",
    "                scores[dimension] += df[item].apply(reverse_score)\n",
    "            else:\n",
    "                scores[dimension] += df[item]\n",
    "\n",
    "    # Convert the scores dictionary to a DataFrame for easier viewing\n",
    "    scores_df = pd.DataFrame(scores, index=df.index)\n",
    "\n",
    "    return scores_df\n",
    "\n",
    "domain_score = calculate_big_five_scores(decision_df)\n",
    "\n",
    "domain_score.head()"
   ],
   "metadata": {
    "collapsed": false,
    "ExecuteTime": {
     "end_time": "2024-04-21T19:50:35.060392Z",
     "start_time": "2024-04-21T19:50:35.054326Z"
    }
   },
   "id": "1e445d1a30cffb54",
   "execution_count": 7
  },
  {
   "cell_type": "code",
   "outputs": [
    {
     "data": {
      "text/plain": "   Bashful  Bold  Careless  Cold  Complex  Cooperative  Creative  Deep  \\\n0        6     2         5     4        7            6         8     7   \n1        2     6         2     3        3            5         6     3   \n2        6     2         2     3        7            6         8     7   \n\n   Disorganized  Efficient  ...  Unenvious  Unintellectual  Unsympathetic  \\\n0             9          3  ...          8               4              3   \n1             2          6  ...          8               3              2   \n2             4          5  ...          8               2              2   \n\n   Warm  Withdrawn  miniMarker_simulated_E  miniMarker_simulated_A  \\\n0     8          6                      30                      56   \n1     4          3                      51                      47   \n2     6          6                      29                      55   \n\n   miniMarker_simulated_C  miniMarker_simulated_N  miniMarker_simulated_O  \n0                      19                      50                      56  \n1                      59                      31                      39  \n2                      47                      45                      60  \n\n[3 rows x 45 columns]",
      "text/html": "<div>\n<style scoped>\n    .dataframe tbody tr th:only-of-type {\n        vertical-align: middle;\n    }\n\n    .dataframe tbody tr th {\n        vertical-align: top;\n    }\n\n    .dataframe thead th {\n        text-align: right;\n    }\n</style>\n<table border=\"1\" class=\"dataframe\">\n  <thead>\n    <tr style=\"text-align: right;\">\n      <th></th>\n      <th>Bashful</th>\n      <th>Bold</th>\n      <th>Careless</th>\n      <th>Cold</th>\n      <th>Complex</th>\n      <th>Cooperative</th>\n      <th>Creative</th>\n      <th>Deep</th>\n      <th>Disorganized</th>\n      <th>Efficient</th>\n      <th>...</th>\n      <th>Unenvious</th>\n      <th>Unintellectual</th>\n      <th>Unsympathetic</th>\n      <th>Warm</th>\n      <th>Withdrawn</th>\n      <th>miniMarker_simulated_E</th>\n      <th>miniMarker_simulated_A</th>\n      <th>miniMarker_simulated_C</th>\n      <th>miniMarker_simulated_N</th>\n      <th>miniMarker_simulated_O</th>\n    </tr>\n  </thead>\n  <tbody>\n    <tr>\n      <th>0</th>\n      <td>6</td>\n      <td>2</td>\n      <td>5</td>\n      <td>4</td>\n      <td>7</td>\n      <td>6</td>\n      <td>8</td>\n      <td>7</td>\n      <td>9</td>\n      <td>3</td>\n      <td>...</td>\n      <td>8</td>\n      <td>4</td>\n      <td>3</td>\n      <td>8</td>\n      <td>6</td>\n      <td>30</td>\n      <td>56</td>\n      <td>19</td>\n      <td>50</td>\n      <td>56</td>\n    </tr>\n    <tr>\n      <th>1</th>\n      <td>2</td>\n      <td>6</td>\n      <td>2</td>\n      <td>3</td>\n      <td>3</td>\n      <td>5</td>\n      <td>6</td>\n      <td>3</td>\n      <td>2</td>\n      <td>6</td>\n      <td>...</td>\n      <td>8</td>\n      <td>3</td>\n      <td>2</td>\n      <td>4</td>\n      <td>3</td>\n      <td>51</td>\n      <td>47</td>\n      <td>59</td>\n      <td>31</td>\n      <td>39</td>\n    </tr>\n    <tr>\n      <th>2</th>\n      <td>6</td>\n      <td>2</td>\n      <td>2</td>\n      <td>3</td>\n      <td>7</td>\n      <td>6</td>\n      <td>8</td>\n      <td>7</td>\n      <td>4</td>\n      <td>5</td>\n      <td>...</td>\n      <td>8</td>\n      <td>2</td>\n      <td>2</td>\n      <td>6</td>\n      <td>6</td>\n      <td>29</td>\n      <td>55</td>\n      <td>47</td>\n      <td>45</td>\n      <td>60</td>\n    </tr>\n  </tbody>\n</table>\n<p>3 rows × 45 columns</p>\n</div>"
     },
     "execution_count": 8,
     "metadata": {},
     "output_type": "execute_result"
    }
   ],
   "source": [
    "# concatenate the two dataframes\n",
    "simulation_df = pd.concat([decision_df, domain_score], axis=1)\n",
    "\n",
    "# preview the first 3 rows\n",
    "simulation_df.head(3)"
   ],
   "metadata": {
    "collapsed": false,
    "ExecuteTime": {
     "end_time": "2024-04-21T19:50:35.071894Z",
     "start_time": "2024-04-21T19:50:35.059634Z"
    }
   },
   "id": "68b53de505c92890",
   "execution_count": 8
  },
  {
   "cell_type": "markdown",
   "source": [
    "# Process BFI2 input data "
   ],
   "metadata": {
    "collapsed": false
   },
   "id": "ab3f35173759c403"
  },
  {
   "cell_type": "code",
   "outputs": [
    {
     "data": {
      "text/plain": "     bfi1  bfi16  bfi31  bfi46  bfi6  bfi21  bfi36  bfi51  bfi11  bfi26  ...  \\\n0     3.0    4.0    2.0    3.0   2.0    2.0    3.0    1.0    3.0    4.0  ...   \n1     4.0    4.0    3.0    3.0   3.0    3.0    3.0    4.0    3.0    2.0  ...   \n2     3.0    3.0    2.0    1.0   1.0    2.0    3.0    2.0    4.0    3.0  ...   \n3     5.0    5.0    4.0    5.0   5.0    5.0    5.0    5.0    4.0    4.0  ...   \n4     3.0    2.0    3.0    3.0   1.0    2.0    2.0    3.0    4.0    2.0  ...   \n..    ...    ...    ...    ...   ...    ...    ...    ...    ...    ...  ...   \n195   1.0    3.0    2.0    4.0   3.0    3.0    3.0    3.0    3.0    3.0  ...   \n196   4.0    5.0    4.0    4.0   5.0    3.0    5.0    4.0    3.0    2.0  ...   \n197   2.0    3.0    1.0    2.0   5.0    4.0    4.0    4.0    5.0    3.0  ...   \n198   3.0    4.0    2.0    3.0   3.0    3.0    5.0    3.0    4.0    4.0  ...   \n199   4.0    4.0    4.0    4.0   5.0    5.0    4.0    5.0    3.0    3.0  ...   \n\n     bfi_n_depression  bfi_n_emotional_volatility  \\\n0                2.00                        4.50   \n1                2.75                        4.50   \n2                2.00                        4.50   \n3                4.25                        2.25   \n4                3.00                        1.75   \n..                ...                         ...   \n195              3.25                        4.00   \n196              3.00                        2.00   \n197              3.50                        3.50   \n198              2.50                        2.75   \n199              1.75                        2.25   \n\n     bfi_o_intellectual_curiosity  bfi_o_aesthetic_sensitivity  \\\n0                            4.00                         4.50   \n1                            2.50                         3.25   \n2                            3.50                         4.75   \n3                            4.75                         4.25   \n4                            4.50                         4.00   \n..                            ...                          ...   \n195                          4.75                         3.75   \n196                          3.50                         4.50   \n197                          4.50                         3.50   \n198                          3.00                         2.50   \n199                          3.50                         2.75   \n\n     bfi_o_creative_imagination     bfi_e     bfi_a     bfi_c     bfi_n  \\\n0                          3.25  2.666667  3.833333  2.333333  3.750000   \n1                          3.00  3.250000  2.833333  4.083333  3.500000   \n2                          4.25  2.666667  2.750000  3.833333  3.833333   \n3                          3.75  4.583333  3.166667  2.916667  3.583333   \n4                          4.50  2.750000  4.333333  2.500000  3.000000   \n..                          ...       ...       ...       ...       ...   \n195                        4.50  3.000000  4.666667  3.250000  3.833333   \n196                        3.75  3.750000  2.250000  3.666667  2.250000   \n197                        4.75  3.500000  3.333333  2.583333  3.583333   \n198                        3.00  3.583333  3.666667  3.916667  2.666667   \n199                        2.50  4.000000  3.500000  3.250000  2.333333   \n\n        bfi_o  \n0    3.916667  \n1    2.916667  \n2    4.166667  \n3    4.250000  \n4    4.333333  \n..        ...  \n195  4.333333  \n196  3.916667  \n197  4.250000  \n198  2.833333  \n199  2.916667  \n\n[200 rows x 80 columns]",
      "text/html": "<div>\n<style scoped>\n    .dataframe tbody tr th:only-of-type {\n        vertical-align: middle;\n    }\n\n    .dataframe tbody tr th {\n        vertical-align: top;\n    }\n\n    .dataframe thead th {\n        text-align: right;\n    }\n</style>\n<table border=\"1\" class=\"dataframe\">\n  <thead>\n    <tr style=\"text-align: right;\">\n      <th></th>\n      <th>bfi1</th>\n      <th>bfi16</th>\n      <th>bfi31</th>\n      <th>bfi46</th>\n      <th>bfi6</th>\n      <th>bfi21</th>\n      <th>bfi36</th>\n      <th>bfi51</th>\n      <th>bfi11</th>\n      <th>bfi26</th>\n      <th>...</th>\n      <th>bfi_n_depression</th>\n      <th>bfi_n_emotional_volatility</th>\n      <th>bfi_o_intellectual_curiosity</th>\n      <th>bfi_o_aesthetic_sensitivity</th>\n      <th>bfi_o_creative_imagination</th>\n      <th>bfi_e</th>\n      <th>bfi_a</th>\n      <th>bfi_c</th>\n      <th>bfi_n</th>\n      <th>bfi_o</th>\n    </tr>\n  </thead>\n  <tbody>\n    <tr>\n      <th>0</th>\n      <td>3.0</td>\n      <td>4.0</td>\n      <td>2.0</td>\n      <td>3.0</td>\n      <td>2.0</td>\n      <td>2.0</td>\n      <td>3.0</td>\n      <td>1.0</td>\n      <td>3.0</td>\n      <td>4.0</td>\n      <td>...</td>\n      <td>2.00</td>\n      <td>4.50</td>\n      <td>4.00</td>\n      <td>4.50</td>\n      <td>3.25</td>\n      <td>2.666667</td>\n      <td>3.833333</td>\n      <td>2.333333</td>\n      <td>3.750000</td>\n      <td>3.916667</td>\n    </tr>\n    <tr>\n      <th>1</th>\n      <td>4.0</td>\n      <td>4.0</td>\n      <td>3.0</td>\n      <td>3.0</td>\n      <td>3.0</td>\n      <td>3.0</td>\n      <td>3.0</td>\n      <td>4.0</td>\n      <td>3.0</td>\n      <td>2.0</td>\n      <td>...</td>\n      <td>2.75</td>\n      <td>4.50</td>\n      <td>2.50</td>\n      <td>3.25</td>\n      <td>3.00</td>\n      <td>3.250000</td>\n      <td>2.833333</td>\n      <td>4.083333</td>\n      <td>3.500000</td>\n      <td>2.916667</td>\n    </tr>\n    <tr>\n      <th>2</th>\n      <td>3.0</td>\n      <td>3.0</td>\n      <td>2.0</td>\n      <td>1.0</td>\n      <td>1.0</td>\n      <td>2.0</td>\n      <td>3.0</td>\n      <td>2.0</td>\n      <td>4.0</td>\n      <td>3.0</td>\n      <td>...</td>\n      <td>2.00</td>\n      <td>4.50</td>\n      <td>3.50</td>\n      <td>4.75</td>\n      <td>4.25</td>\n      <td>2.666667</td>\n      <td>2.750000</td>\n      <td>3.833333</td>\n      <td>3.833333</td>\n      <td>4.166667</td>\n    </tr>\n    <tr>\n      <th>3</th>\n      <td>5.0</td>\n      <td>5.0</td>\n      <td>4.0</td>\n      <td>5.0</td>\n      <td>5.0</td>\n      <td>5.0</td>\n      <td>5.0</td>\n      <td>5.0</td>\n      <td>4.0</td>\n      <td>4.0</td>\n      <td>...</td>\n      <td>4.25</td>\n      <td>2.25</td>\n      <td>4.75</td>\n      <td>4.25</td>\n      <td>3.75</td>\n      <td>4.583333</td>\n      <td>3.166667</td>\n      <td>2.916667</td>\n      <td>3.583333</td>\n      <td>4.250000</td>\n    </tr>\n    <tr>\n      <th>4</th>\n      <td>3.0</td>\n      <td>2.0</td>\n      <td>3.0</td>\n      <td>3.0</td>\n      <td>1.0</td>\n      <td>2.0</td>\n      <td>2.0</td>\n      <td>3.0</td>\n      <td>4.0</td>\n      <td>2.0</td>\n      <td>...</td>\n      <td>3.00</td>\n      <td>1.75</td>\n      <td>4.50</td>\n      <td>4.00</td>\n      <td>4.50</td>\n      <td>2.750000</td>\n      <td>4.333333</td>\n      <td>2.500000</td>\n      <td>3.000000</td>\n      <td>4.333333</td>\n    </tr>\n    <tr>\n      <th>...</th>\n      <td>...</td>\n      <td>...</td>\n      <td>...</td>\n      <td>...</td>\n      <td>...</td>\n      <td>...</td>\n      <td>...</td>\n      <td>...</td>\n      <td>...</td>\n      <td>...</td>\n      <td>...</td>\n      <td>...</td>\n      <td>...</td>\n      <td>...</td>\n      <td>...</td>\n      <td>...</td>\n      <td>...</td>\n      <td>...</td>\n      <td>...</td>\n      <td>...</td>\n      <td>...</td>\n    </tr>\n    <tr>\n      <th>195</th>\n      <td>1.0</td>\n      <td>3.0</td>\n      <td>2.0</td>\n      <td>4.0</td>\n      <td>3.0</td>\n      <td>3.0</td>\n      <td>3.0</td>\n      <td>3.0</td>\n      <td>3.0</td>\n      <td>3.0</td>\n      <td>...</td>\n      <td>3.25</td>\n      <td>4.00</td>\n      <td>4.75</td>\n      <td>3.75</td>\n      <td>4.50</td>\n      <td>3.000000</td>\n      <td>4.666667</td>\n      <td>3.250000</td>\n      <td>3.833333</td>\n      <td>4.333333</td>\n    </tr>\n    <tr>\n      <th>196</th>\n      <td>4.0</td>\n      <td>5.0</td>\n      <td>4.0</td>\n      <td>4.0</td>\n      <td>5.0</td>\n      <td>3.0</td>\n      <td>5.0</td>\n      <td>4.0</td>\n      <td>3.0</td>\n      <td>2.0</td>\n      <td>...</td>\n      <td>3.00</td>\n      <td>2.00</td>\n      <td>3.50</td>\n      <td>4.50</td>\n      <td>3.75</td>\n      <td>3.750000</td>\n      <td>2.250000</td>\n      <td>3.666667</td>\n      <td>2.250000</td>\n      <td>3.916667</td>\n    </tr>\n    <tr>\n      <th>197</th>\n      <td>2.0</td>\n      <td>3.0</td>\n      <td>1.0</td>\n      <td>2.0</td>\n      <td>5.0</td>\n      <td>4.0</td>\n      <td>4.0</td>\n      <td>4.0</td>\n      <td>5.0</td>\n      <td>3.0</td>\n      <td>...</td>\n      <td>3.50</td>\n      <td>3.50</td>\n      <td>4.50</td>\n      <td>3.50</td>\n      <td>4.75</td>\n      <td>3.500000</td>\n      <td>3.333333</td>\n      <td>2.583333</td>\n      <td>3.583333</td>\n      <td>4.250000</td>\n    </tr>\n    <tr>\n      <th>198</th>\n      <td>3.0</td>\n      <td>4.0</td>\n      <td>2.0</td>\n      <td>3.0</td>\n      <td>3.0</td>\n      <td>3.0</td>\n      <td>5.0</td>\n      <td>3.0</td>\n      <td>4.0</td>\n      <td>4.0</td>\n      <td>...</td>\n      <td>2.50</td>\n      <td>2.75</td>\n      <td>3.00</td>\n      <td>2.50</td>\n      <td>3.00</td>\n      <td>3.583333</td>\n      <td>3.666667</td>\n      <td>3.916667</td>\n      <td>2.666667</td>\n      <td>2.833333</td>\n    </tr>\n    <tr>\n      <th>199</th>\n      <td>4.0</td>\n      <td>4.0</td>\n      <td>4.0</td>\n      <td>4.0</td>\n      <td>5.0</td>\n      <td>5.0</td>\n      <td>4.0</td>\n      <td>5.0</td>\n      <td>3.0</td>\n      <td>3.0</td>\n      <td>...</td>\n      <td>1.75</td>\n      <td>2.25</td>\n      <td>3.50</td>\n      <td>2.75</td>\n      <td>2.50</td>\n      <td>4.000000</td>\n      <td>3.500000</td>\n      <td>3.250000</td>\n      <td>2.333333</td>\n      <td>2.916667</td>\n    </tr>\n  </tbody>\n</table>\n<p>200 rows × 80 columns</p>\n</div>"
     },
     "execution_count": 9,
     "metadata": {},
     "output_type": "execute_result"
    }
   ],
   "source": [
    "# load facet_lvl_simulated_data.csv \n",
    "bfi2_df = pd.read_csv('facet_lvl_simulated_data.csv')\n",
    "bfi2_df"
   ],
   "metadata": {
    "collapsed": false,
    "ExecuteTime": {
     "end_time": "2024-04-21T19:50:35.103627Z",
     "start_time": "2024-04-21T19:50:35.065954Z"
    }
   },
   "id": "fc3cc47b42c80ae5",
   "execution_count": 9
  },
  {
   "cell_type": "code",
   "outputs": [
    {
     "data": {
      "text/plain": "     bfi1  bfi16  bfi31  bfi46  bfi6  bfi21  bfi36  bfi51  bfi11  bfi26  ...  \\\n0     3.0    4.0    2.0    3.0   2.0    2.0    3.0    1.0    3.0    4.0  ...   \n1     4.0    4.0    3.0    3.0   3.0    3.0    3.0    4.0    3.0    2.0  ...   \n2     3.0    3.0    2.0    1.0   1.0    2.0    3.0    2.0    4.0    3.0  ...   \n3     5.0    5.0    4.0    5.0   5.0    5.0    5.0    5.0    4.0    4.0  ...   \n4     3.0    2.0    3.0    3.0   1.0    2.0    2.0    3.0    4.0    2.0  ...   \n..    ...    ...    ...    ...   ...    ...    ...    ...    ...    ...  ...   \n195   1.0    3.0    2.0    4.0   3.0    3.0    3.0    3.0    3.0    3.0  ...   \n196   4.0    5.0    4.0    4.0   5.0    3.0    5.0    4.0    3.0    2.0  ...   \n197   2.0    3.0    1.0    2.0   5.0    4.0    4.0    4.0    5.0    3.0  ...   \n198   3.0    4.0    2.0    3.0   3.0    3.0    5.0    3.0    4.0    4.0  ...   \n199   4.0    4.0    4.0    4.0   5.0    5.0    4.0    5.0    3.0    3.0  ...   \n\n     Unenvious  Unintellectual  Unsympathetic  Warm  Withdrawn  \\\n0            8               4              3     8          6   \n1            8               3              2     4          3   \n2            8               2              2     6          6   \n3            7               3              3     7          3   \n4            8               3              3     8          6   \n..         ...             ...            ...   ...        ...   \n195          9               2              2     9          8   \n196          8               4              2     4          2   \n197          9               3              2     7          9   \n198          7               4              3     6          5   \n199          8               4              3     6          2   \n\n     miniMarker_simulated_E  miniMarker_simulated_A  miniMarker_simulated_C  \\\n0                        30                      56                      19   \n1                        51                      47                      59   \n2                        29                      55                      47   \n3                        61                      52                      40   \n4                        31                      60                      35   \n..                      ...                     ...                     ...   \n195                      22                      60                      39   \n196                      58                      44                      48   \n197                      15                      52                      33   \n198                      41                      53                      60   \n199                      58                      49                      43   \n\n     miniMarker_simulated_N  miniMarker_simulated_O  \n0                        50                      56  \n1                        31                      39  \n2                        45                      60  \n3                        36                      60  \n4                        33                      59  \n..                      ...                     ...  \n195                      43                      66  \n196                      26                      50  \n197                      37                      61  \n198                      30                      47  \n199                      25                      40  \n\n[200 rows x 125 columns]",
      "text/html": "<div>\n<style scoped>\n    .dataframe tbody tr th:only-of-type {\n        vertical-align: middle;\n    }\n\n    .dataframe tbody tr th {\n        vertical-align: top;\n    }\n\n    .dataframe thead th {\n        text-align: right;\n    }\n</style>\n<table border=\"1\" class=\"dataframe\">\n  <thead>\n    <tr style=\"text-align: right;\">\n      <th></th>\n      <th>bfi1</th>\n      <th>bfi16</th>\n      <th>bfi31</th>\n      <th>bfi46</th>\n      <th>bfi6</th>\n      <th>bfi21</th>\n      <th>bfi36</th>\n      <th>bfi51</th>\n      <th>bfi11</th>\n      <th>bfi26</th>\n      <th>...</th>\n      <th>Unenvious</th>\n      <th>Unintellectual</th>\n      <th>Unsympathetic</th>\n      <th>Warm</th>\n      <th>Withdrawn</th>\n      <th>miniMarker_simulated_E</th>\n      <th>miniMarker_simulated_A</th>\n      <th>miniMarker_simulated_C</th>\n      <th>miniMarker_simulated_N</th>\n      <th>miniMarker_simulated_O</th>\n    </tr>\n  </thead>\n  <tbody>\n    <tr>\n      <th>0</th>\n      <td>3.0</td>\n      <td>4.0</td>\n      <td>2.0</td>\n      <td>3.0</td>\n      <td>2.0</td>\n      <td>2.0</td>\n      <td>3.0</td>\n      <td>1.0</td>\n      <td>3.0</td>\n      <td>4.0</td>\n      <td>...</td>\n      <td>8</td>\n      <td>4</td>\n      <td>3</td>\n      <td>8</td>\n      <td>6</td>\n      <td>30</td>\n      <td>56</td>\n      <td>19</td>\n      <td>50</td>\n      <td>56</td>\n    </tr>\n    <tr>\n      <th>1</th>\n      <td>4.0</td>\n      <td>4.0</td>\n      <td>3.0</td>\n      <td>3.0</td>\n      <td>3.0</td>\n      <td>3.0</td>\n      <td>3.0</td>\n      <td>4.0</td>\n      <td>3.0</td>\n      <td>2.0</td>\n      <td>...</td>\n      <td>8</td>\n      <td>3</td>\n      <td>2</td>\n      <td>4</td>\n      <td>3</td>\n      <td>51</td>\n      <td>47</td>\n      <td>59</td>\n      <td>31</td>\n      <td>39</td>\n    </tr>\n    <tr>\n      <th>2</th>\n      <td>3.0</td>\n      <td>3.0</td>\n      <td>2.0</td>\n      <td>1.0</td>\n      <td>1.0</td>\n      <td>2.0</td>\n      <td>3.0</td>\n      <td>2.0</td>\n      <td>4.0</td>\n      <td>3.0</td>\n      <td>...</td>\n      <td>8</td>\n      <td>2</td>\n      <td>2</td>\n      <td>6</td>\n      <td>6</td>\n      <td>29</td>\n      <td>55</td>\n      <td>47</td>\n      <td>45</td>\n      <td>60</td>\n    </tr>\n    <tr>\n      <th>3</th>\n      <td>5.0</td>\n      <td>5.0</td>\n      <td>4.0</td>\n      <td>5.0</td>\n      <td>5.0</td>\n      <td>5.0</td>\n      <td>5.0</td>\n      <td>5.0</td>\n      <td>4.0</td>\n      <td>4.0</td>\n      <td>...</td>\n      <td>7</td>\n      <td>3</td>\n      <td>3</td>\n      <td>7</td>\n      <td>3</td>\n      <td>61</td>\n      <td>52</td>\n      <td>40</td>\n      <td>36</td>\n      <td>60</td>\n    </tr>\n    <tr>\n      <th>4</th>\n      <td>3.0</td>\n      <td>2.0</td>\n      <td>3.0</td>\n      <td>3.0</td>\n      <td>1.0</td>\n      <td>2.0</td>\n      <td>2.0</td>\n      <td>3.0</td>\n      <td>4.0</td>\n      <td>2.0</td>\n      <td>...</td>\n      <td>8</td>\n      <td>3</td>\n      <td>3</td>\n      <td>8</td>\n      <td>6</td>\n      <td>31</td>\n      <td>60</td>\n      <td>35</td>\n      <td>33</td>\n      <td>59</td>\n    </tr>\n    <tr>\n      <th>...</th>\n      <td>...</td>\n      <td>...</td>\n      <td>...</td>\n      <td>...</td>\n      <td>...</td>\n      <td>...</td>\n      <td>...</td>\n      <td>...</td>\n      <td>...</td>\n      <td>...</td>\n      <td>...</td>\n      <td>...</td>\n      <td>...</td>\n      <td>...</td>\n      <td>...</td>\n      <td>...</td>\n      <td>...</td>\n      <td>...</td>\n      <td>...</td>\n      <td>...</td>\n      <td>...</td>\n    </tr>\n    <tr>\n      <th>195</th>\n      <td>1.0</td>\n      <td>3.0</td>\n      <td>2.0</td>\n      <td>4.0</td>\n      <td>3.0</td>\n      <td>3.0</td>\n      <td>3.0</td>\n      <td>3.0</td>\n      <td>3.0</td>\n      <td>3.0</td>\n      <td>...</td>\n      <td>9</td>\n      <td>2</td>\n      <td>2</td>\n      <td>9</td>\n      <td>8</td>\n      <td>22</td>\n      <td>60</td>\n      <td>39</td>\n      <td>43</td>\n      <td>66</td>\n    </tr>\n    <tr>\n      <th>196</th>\n      <td>4.0</td>\n      <td>5.0</td>\n      <td>4.0</td>\n      <td>4.0</td>\n      <td>5.0</td>\n      <td>3.0</td>\n      <td>5.0</td>\n      <td>4.0</td>\n      <td>3.0</td>\n      <td>2.0</td>\n      <td>...</td>\n      <td>8</td>\n      <td>4</td>\n      <td>2</td>\n      <td>4</td>\n      <td>2</td>\n      <td>58</td>\n      <td>44</td>\n      <td>48</td>\n      <td>26</td>\n      <td>50</td>\n    </tr>\n    <tr>\n      <th>197</th>\n      <td>2.0</td>\n      <td>3.0</td>\n      <td>1.0</td>\n      <td>2.0</td>\n      <td>5.0</td>\n      <td>4.0</td>\n      <td>4.0</td>\n      <td>4.0</td>\n      <td>5.0</td>\n      <td>3.0</td>\n      <td>...</td>\n      <td>9</td>\n      <td>3</td>\n      <td>2</td>\n      <td>7</td>\n      <td>9</td>\n      <td>15</td>\n      <td>52</td>\n      <td>33</td>\n      <td>37</td>\n      <td>61</td>\n    </tr>\n    <tr>\n      <th>198</th>\n      <td>3.0</td>\n      <td>4.0</td>\n      <td>2.0</td>\n      <td>3.0</td>\n      <td>3.0</td>\n      <td>3.0</td>\n      <td>5.0</td>\n      <td>3.0</td>\n      <td>4.0</td>\n      <td>4.0</td>\n      <td>...</td>\n      <td>7</td>\n      <td>4</td>\n      <td>3</td>\n      <td>6</td>\n      <td>5</td>\n      <td>41</td>\n      <td>53</td>\n      <td>60</td>\n      <td>30</td>\n      <td>47</td>\n    </tr>\n    <tr>\n      <th>199</th>\n      <td>4.0</td>\n      <td>4.0</td>\n      <td>4.0</td>\n      <td>4.0</td>\n      <td>5.0</td>\n      <td>5.0</td>\n      <td>4.0</td>\n      <td>5.0</td>\n      <td>3.0</td>\n      <td>3.0</td>\n      <td>...</td>\n      <td>8</td>\n      <td>4</td>\n      <td>3</td>\n      <td>6</td>\n      <td>2</td>\n      <td>58</td>\n      <td>49</td>\n      <td>43</td>\n      <td>25</td>\n      <td>40</td>\n    </tr>\n  </tbody>\n</table>\n<p>200 rows × 125 columns</p>\n</div>"
     },
     "execution_count": 10,
     "metadata": {},
     "output_type": "execute_result"
    }
   ],
   "source": [
    "# combine bfi2_df and simulation_df\n",
    "combined_df = pd.concat([bfi2_df, simulation_df], axis=1)\n",
    "combined_df"
   ],
   "metadata": {
    "collapsed": false,
    "ExecuteTime": {
     "end_time": "2024-04-21T19:50:35.114013Z",
     "start_time": "2024-04-21T19:50:35.081426Z"
    }
   },
   "id": "f0859f1982c97c62",
   "execution_count": 10
  },
  {
   "cell_type": "markdown",
   "source": [
    "# Analysis of correlation between BFI2 and Mini-Marker scores"
   ],
   "metadata": {
    "collapsed": false
   },
   "id": "fc9ddddef18c24a0"
  },
  {
   "cell_type": "code",
   "outputs": [
    {
     "data": {
      "text/plain": "(0.8630640529275793,\n 0.699864168546856,\n 0.8030748980457976,\n 0.7115911148190766,\n 0.8308017148727106)"
     },
     "execution_count": 11,
     "metadata": {},
     "output_type": "execute_result"
    }
   ],
   "source": [
    "from scipy.stats import pearsonr\n",
    "r_bfi_tda_e, _ = pearsonr(combined_df['miniMarker_simulated_E'], combined_df['bfi_e'])\n",
    "r_bfi_tda_a, _ = pearsonr(combined_df['miniMarker_simulated_A'], combined_df['bfi_a'])\n",
    "r_bfi_tda_c, _ = pearsonr(combined_df['miniMarker_simulated_C'], combined_df['bfi_c'])\n",
    "r_bfi_tda_n, _ = pearsonr(combined_df['miniMarker_simulated_N'], combined_df['bfi_n'])\n",
    "r_bfi_tda_o, _ = pearsonr(combined_df['miniMarker_simulated_O'], combined_df['bfi_o'])\n",
    "\n",
    "r_bfi_tda_e, r_bfi_tda_a, r_bfi_tda_c, r_bfi_tda_n, r_bfi_tda_o"
   ],
   "metadata": {
    "collapsed": false,
    "ExecuteTime": {
     "end_time": "2024-04-21T19:50:35.587673Z",
     "start_time": "2024-04-21T19:50:35.093699Z"
    }
   },
   "id": "18066bbfa6e9635b",
   "execution_count": 11
  },
  {
   "cell_type": "code",
   "outputs": [
    {
     "data": {
      "text/plain": "0.7816791898424039"
     },
     "execution_count": 12,
     "metadata": {},
     "output_type": "execute_result"
    }
   ],
   "source": [
    "r_bfi_tda = (r_bfi_tda_e + r_bfi_tda_a + r_bfi_tda_c + r_bfi_tda_n + r_bfi_tda_o) / 5\n",
    "r_bfi_tda"
   ],
   "metadata": {
    "collapsed": false,
    "ExecuteTime": {
     "end_time": "2024-04-21T19:50:35.588201Z",
     "start_time": "2024-04-21T19:50:35.581096Z"
    }
   },
   "id": "1aadb31ad5f4899b",
   "execution_count": 12
  }
 ],
 "metadata": {
  "kernelspec": {
   "display_name": "Python 3",
   "language": "python",
   "name": "python3"
  },
  "language_info": {
   "codemirror_mode": {
    "name": "ipython",
    "version": 2
   },
   "file_extension": ".py",
   "mimetype": "text/x-python",
   "name": "python",
   "nbconvert_exporter": "python",
   "pygments_lexer": "ipython2",
   "version": "2.7.6"
  }
 },
 "nbformat": 4,
 "nbformat_minor": 5
}
