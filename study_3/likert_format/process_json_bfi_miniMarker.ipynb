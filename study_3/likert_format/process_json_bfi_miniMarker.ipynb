{
 "cells": [
  {
   "cell_type": "markdown",
   "source": [
    "# Process Mini-Marker Simulation Data"
   ],
   "metadata": {
    "collapsed": false
   },
   "id": "ea4a60196412361e"
  },
  {
   "cell_type": "code",
   "source": [
    "import pandas as pd"
   ],
   "metadata": {
    "collapsed": false,
    "ExecuteTime": {
     "end_time": "2024-09-17T14:13:44.800114Z",
     "start_time": "2024-09-17T14:13:42.415479Z"
    }
   },
   "id": "792f46fb6101ed4c",
   "outputs": [],
   "execution_count": 1
  },
  {
   "cell_type": "code",
   "source": [
    "# load bfi_moral_temp0.7.json \n",
    "import json\n",
    "with open('bfi_to_mini_temp0.json') as f:\n",
    "    data = json.load(f)"
   ],
   "metadata": {
    "collapsed": true,
    "ExecuteTime": {
     "end_time": "2024-09-17T14:13:44.817134Z",
     "start_time": "2024-09-17T14:13:44.812049Z"
    }
   },
   "id": "initial_id",
   "outputs": [],
   "execution_count": 2
  },
  {
   "cell_type": "code",
   "source": [
    "response = []\n",
    "\n",
    "for obj in data:\n",
    "    # Iterate through each choice\n",
    "    for choice in obj['choices']:\n",
    "        # Extract the content field\n",
    "        content = choice['message']['content']\n",
    "        # Check if content starts with ```json\\n and ends with \\n```, and remove these parts\n",
    "        if content.startswith(\"```json\\n\") and content.endswith(\"\\n```\"):\n",
    "            content = content[7:-4]  # Remove the ```json\\n prefix and \\n``` suffix\n",
    "        # Parse the content as JSON\n",
    "        content_json = json.loads(content)\n",
    "        # Add the decision to the list of response\n",
    "        response.append(content_json)"
   ],
   "metadata": {
    "collapsed": false,
    "ExecuteTime": {
     "end_time": "2024-09-17T14:13:44.824682Z",
     "start_time": "2024-09-17T14:13:44.820712Z"
    }
   },
   "id": "6878a40fadc60a50",
   "outputs": [],
   "execution_count": 3
  },
  {
   "cell_type": "code",
   "source": [
    "decision_df = pd.DataFrame(response)\n",
    "\n",
    "# save decision_df to csv \n",
    "decision_df.to_csv('mini_marker_response.csv', index=False)"
   ],
   "metadata": {
    "collapsed": false,
    "ExecuteTime": {
     "end_time": "2024-09-17T14:21:55.146330Z",
     "start_time": "2024-09-17T14:21:55.082749Z"
    }
   },
   "id": "bb6fb9e476492a9d",
   "outputs": [],
   "execution_count": 4
  },
  {
   "cell_type": "code",
   "outputs": [
    {
     "data": {
      "text/plain": "   Bashful  Bold  Careless  Cold  Complex  Cooperative  Creative  Deep  \\\n0        4     2         3     2        4            3         3     4   \n1        2     4         2     3        2            4         2     2   \n2        4     2         2     4        9            7         7     9   \n3        2     8         4     3        8            8         7     8   \n4        4     2         4     1        8            9         6     8   \n\n   Disorganized  Efficient  ...  Systematic  Talkative  Temperamental  Touchy  \\\n0             5          3  ...           2          3              4       2   \n1             1          3  ...           5          3              4       4   \n2             5          4  ...           5          2              4       4   \n3             4          4  ...           4          8              4       4   \n4             4          4  ...           4          3              4       4   \n\n   Uncreative  Unenvious  Unintellectual  Unsympathetic  Warm  Withdrawn  \n0           3          4               2              2     4          4  \n1           3          4               3              3     4          2  \n2           2          8               2              2     7          4  \n3           4          7               4              3     7          2  \n4           2          8               4              1     9          4  \n\n[5 rows x 40 columns]",
      "text/html": "<div>\n<style scoped>\n    .dataframe tbody tr th:only-of-type {\n        vertical-align: middle;\n    }\n\n    .dataframe tbody tr th {\n        vertical-align: top;\n    }\n\n    .dataframe thead th {\n        text-align: right;\n    }\n</style>\n<table border=\"1\" class=\"dataframe\">\n  <thead>\n    <tr style=\"text-align: right;\">\n      <th></th>\n      <th>Bashful</th>\n      <th>Bold</th>\n      <th>Careless</th>\n      <th>Cold</th>\n      <th>Complex</th>\n      <th>Cooperative</th>\n      <th>Creative</th>\n      <th>Deep</th>\n      <th>Disorganized</th>\n      <th>Efficient</th>\n      <th>...</th>\n      <th>Systematic</th>\n      <th>Talkative</th>\n      <th>Temperamental</th>\n      <th>Touchy</th>\n      <th>Uncreative</th>\n      <th>Unenvious</th>\n      <th>Unintellectual</th>\n      <th>Unsympathetic</th>\n      <th>Warm</th>\n      <th>Withdrawn</th>\n    </tr>\n  </thead>\n  <tbody>\n    <tr>\n      <th>0</th>\n      <td>4</td>\n      <td>2</td>\n      <td>3</td>\n      <td>2</td>\n      <td>4</td>\n      <td>3</td>\n      <td>3</td>\n      <td>4</td>\n      <td>5</td>\n      <td>3</td>\n      <td>...</td>\n      <td>2</td>\n      <td>3</td>\n      <td>4</td>\n      <td>2</td>\n      <td>3</td>\n      <td>4</td>\n      <td>2</td>\n      <td>2</td>\n      <td>4</td>\n      <td>4</td>\n    </tr>\n    <tr>\n      <th>1</th>\n      <td>2</td>\n      <td>4</td>\n      <td>2</td>\n      <td>3</td>\n      <td>2</td>\n      <td>4</td>\n      <td>2</td>\n      <td>2</td>\n      <td>1</td>\n      <td>3</td>\n      <td>...</td>\n      <td>5</td>\n      <td>3</td>\n      <td>4</td>\n      <td>4</td>\n      <td>3</td>\n      <td>4</td>\n      <td>3</td>\n      <td>3</td>\n      <td>4</td>\n      <td>2</td>\n    </tr>\n    <tr>\n      <th>2</th>\n      <td>4</td>\n      <td>2</td>\n      <td>2</td>\n      <td>4</td>\n      <td>9</td>\n      <td>7</td>\n      <td>7</td>\n      <td>9</td>\n      <td>5</td>\n      <td>4</td>\n      <td>...</td>\n      <td>5</td>\n      <td>2</td>\n      <td>4</td>\n      <td>4</td>\n      <td>2</td>\n      <td>8</td>\n      <td>2</td>\n      <td>2</td>\n      <td>7</td>\n      <td>4</td>\n    </tr>\n    <tr>\n      <th>3</th>\n      <td>2</td>\n      <td>8</td>\n      <td>4</td>\n      <td>3</td>\n      <td>8</td>\n      <td>8</td>\n      <td>7</td>\n      <td>8</td>\n      <td>4</td>\n      <td>4</td>\n      <td>...</td>\n      <td>4</td>\n      <td>8</td>\n      <td>4</td>\n      <td>4</td>\n      <td>4</td>\n      <td>7</td>\n      <td>4</td>\n      <td>3</td>\n      <td>7</td>\n      <td>2</td>\n    </tr>\n    <tr>\n      <th>4</th>\n      <td>4</td>\n      <td>2</td>\n      <td>4</td>\n      <td>1</td>\n      <td>8</td>\n      <td>9</td>\n      <td>6</td>\n      <td>8</td>\n      <td>4</td>\n      <td>4</td>\n      <td>...</td>\n      <td>4</td>\n      <td>3</td>\n      <td>4</td>\n      <td>4</td>\n      <td>2</td>\n      <td>8</td>\n      <td>4</td>\n      <td>1</td>\n      <td>9</td>\n      <td>4</td>\n    </tr>\n  </tbody>\n</table>\n<p>5 rows × 40 columns</p>\n</div>"
     },
     "execution_count": 5,
     "metadata": {},
     "output_type": "execute_result"
    }
   ],
   "source": [
    "decision_df.head()"
   ],
   "metadata": {
    "collapsed": false,
    "ExecuteTime": {
     "end_time": "2024-04-17T06:21:19.260773Z",
     "start_time": "2024-04-17T06:21:19.254657Z"
    }
   },
   "id": "f81189fe63d978a9",
   "execution_count": 5
  },
  {
   "cell_type": "code",
   "outputs": [
    {
     "data": {
      "text/plain": "Bashful           0\nBold              0\nCareless          0\nCold              0\nComplex           0\nCooperative       0\nCreative          0\nDeep              0\nDisorganized      0\nEfficient         0\nEnergetic         0\nEnvious           0\nExtraverted       0\nFretful           0\nHarsh             0\nImaginative       0\nInefficient       0\nIntellectual      0\nJealous           0\nKind              0\nMoody             0\nOrganized         0\nPhilosophical     0\nPractical         0\nQuiet             0\nRelaxed           0\nRude              0\nShy               0\nSloppy            0\nSympathetic       0\nSystematic        0\nTalkative         0\nTemperamental     0\nTouchy            0\nUncreative        0\nUnenvious         0\nUnintellectual    0\nUnsympathetic     0\nWarm              0\nWithdrawn         0\ndtype: int64"
     },
     "execution_count": 6,
     "metadata": {},
     "output_type": "execute_result"
    }
   ],
   "source": [
    "# check if there is any missing value\n",
    "decision_df.isnull().sum()"
   ],
   "metadata": {
    "collapsed": false,
    "ExecuteTime": {
     "end_time": "2024-04-17T06:21:19.267040Z",
     "start_time": "2024-04-17T06:21:19.262238Z"
    }
   },
   "id": "78edbd1b276c74b6",
   "execution_count": 6
  },
  {
   "cell_type": "markdown",
   "source": [
    "Great, the data is complete and ready for analysis."
   ],
   "metadata": {
    "collapsed": false
   },
   "id": "13671ee6678a6962"
  },
  {
   "cell_type": "code",
   "outputs": [
    {
     "data": {
      "text/plain": "   miniMarker_simulated_E  miniMarker_simulated_A  miniMarker_simulated_C  \\\n0                      36                      48                      35   \n1                      47                      45                      50   \n2                      36                      56                      47   \n3                      63                      57                      40   \n4                      36                      71                      40   \n\n   miniMarker_simulated_N  miniMarker_simulated_O  \n0                      35                      33  \n1                      34                      29  \n2                      37                      62  \n3                      31                      56  \n4                      30                      50  ",
      "text/html": "<div>\n<style scoped>\n    .dataframe tbody tr th:only-of-type {\n        vertical-align: middle;\n    }\n\n    .dataframe tbody tr th {\n        vertical-align: top;\n    }\n\n    .dataframe thead th {\n        text-align: right;\n    }\n</style>\n<table border=\"1\" class=\"dataframe\">\n  <thead>\n    <tr style=\"text-align: right;\">\n      <th></th>\n      <th>miniMarker_simulated_E</th>\n      <th>miniMarker_simulated_A</th>\n      <th>miniMarker_simulated_C</th>\n      <th>miniMarker_simulated_N</th>\n      <th>miniMarker_simulated_O</th>\n    </tr>\n  </thead>\n  <tbody>\n    <tr>\n      <th>0</th>\n      <td>36</td>\n      <td>48</td>\n      <td>35</td>\n      <td>35</td>\n      <td>33</td>\n    </tr>\n    <tr>\n      <th>1</th>\n      <td>47</td>\n      <td>45</td>\n      <td>50</td>\n      <td>34</td>\n      <td>29</td>\n    </tr>\n    <tr>\n      <th>2</th>\n      <td>36</td>\n      <td>56</td>\n      <td>47</td>\n      <td>37</td>\n      <td>62</td>\n    </tr>\n    <tr>\n      <th>3</th>\n      <td>63</td>\n      <td>57</td>\n      <td>40</td>\n      <td>31</td>\n      <td>56</td>\n    </tr>\n    <tr>\n      <th>4</th>\n      <td>36</td>\n      <td>71</td>\n      <td>40</td>\n      <td>30</td>\n      <td>50</td>\n    </tr>\n  </tbody>\n</table>\n</div>"
     },
     "execution_count": 7,
     "metadata": {},
     "output_type": "execute_result"
    }
   ],
   "source": [
    "def reverse_score(score):\n",
    "    return 10 - score\n",
    "\n",
    "def calculate_big_five_scores(df):\n",
    "    # Mapping of dimensions to their items (with indication of whether to reverse-score the item)\n",
    "    dimensions = {\n",
    "        'miniMarker_simulated_E': [('Bashful', True), ('Bold', False), ('Energetic', False), ('Extraverted', False), ('Quiet', True), ('Shy', True), ('Talkative', False), ('Withdrawn', True)],\n",
    "        \n",
    "        'miniMarker_simulated_A': [('Cold', True), ('Cooperative', False), ('Harsh', True), ('Kind', False), ('Rude', True), ('Sympathetic', False), ('Unsympathetic', True), ('Warm', False)],\n",
    "        \n",
    "        'miniMarker_simulated_C': [('Careless', True), ('Disorganized', True), ('Efficient', False), ('Inefficient', True), ('Organized', False), ('Practical', False), ('Sloppy', True), ('Systematic', False)],\n",
    "        \n",
    "        'miniMarker_simulated_N': [('Envious', False), ('Fretful', False), ('Jealous', False), ('Moody', False), ('Relaxed', True), ('Temperamental', False), ('Touchy', False), ('Unenvious', True)],\n",
    "        \n",
    "        'miniMarker_simulated_O': [('Complex', False), ('Deep', False), ('Creative', False), ('Imaginative', False), ('Intellectual', False), ('Philosophical', False), ('Uncreative', True), ('Unintellectual', True)]\n",
    "    }\n",
    "\n",
    "    # Initialize a dictionary to hold the total scores for each dimension\n",
    "    scores = {dimension: 0 for dimension in dimensions}\n",
    "\n",
    "    # Iterate through each dimension and its items\n",
    "    for dimension, items in dimensions.items():\n",
    "        for item, reverse in items:\n",
    "            # Sum the scores for each item, reversing the score if necessary\n",
    "            if reverse:\n",
    "                scores[dimension] += df[item].apply(reverse_score)\n",
    "            else:\n",
    "                scores[dimension] += df[item]\n",
    "\n",
    "    # Convert the scores dictionary to a DataFrame for easier viewing\n",
    "    scores_df = pd.DataFrame(scores, index=df.index)\n",
    "\n",
    "    return scores_df\n",
    "\n",
    "domain_score = calculate_big_five_scores(decision_df)\n",
    "\n",
    "domain_score.head()"
   ],
   "metadata": {
    "collapsed": false,
    "ExecuteTime": {
     "end_time": "2024-04-17T06:21:19.312760Z",
     "start_time": "2024-04-17T06:21:19.271817Z"
    }
   },
   "id": "1e445d1a30cffb54",
   "execution_count": 7
  },
  {
   "cell_type": "code",
   "outputs": [
    {
     "data": {
      "text/plain": "   Bashful  Bold  Careless  Cold  Complex  Cooperative  Creative  Deep  \\\n0        4     2         3     2        4            3         3     4   \n1        2     4         2     3        2            4         2     2   \n2        4     2         2     4        9            7         7     9   \n\n   Disorganized  Efficient  ...  Unenvious  Unintellectual  Unsympathetic  \\\n0             5          3  ...          4               2              2   \n1             1          3  ...          4               3              3   \n2             5          4  ...          8               2              2   \n\n   Warm  Withdrawn  miniMarker_simulated_E  miniMarker_simulated_A  \\\n0     4          4                      36                      48   \n1     4          2                      47                      45   \n2     7          4                      36                      56   \n\n   miniMarker_simulated_C  miniMarker_simulated_N  miniMarker_simulated_O  \n0                      35                      35                      33  \n1                      50                      34                      29  \n2                      47                      37                      62  \n\n[3 rows x 45 columns]",
      "text/html": "<div>\n<style scoped>\n    .dataframe tbody tr th:only-of-type {\n        vertical-align: middle;\n    }\n\n    .dataframe tbody tr th {\n        vertical-align: top;\n    }\n\n    .dataframe thead th {\n        text-align: right;\n    }\n</style>\n<table border=\"1\" class=\"dataframe\">\n  <thead>\n    <tr style=\"text-align: right;\">\n      <th></th>\n      <th>Bashful</th>\n      <th>Bold</th>\n      <th>Careless</th>\n      <th>Cold</th>\n      <th>Complex</th>\n      <th>Cooperative</th>\n      <th>Creative</th>\n      <th>Deep</th>\n      <th>Disorganized</th>\n      <th>Efficient</th>\n      <th>...</th>\n      <th>Unenvious</th>\n      <th>Unintellectual</th>\n      <th>Unsympathetic</th>\n      <th>Warm</th>\n      <th>Withdrawn</th>\n      <th>miniMarker_simulated_E</th>\n      <th>miniMarker_simulated_A</th>\n      <th>miniMarker_simulated_C</th>\n      <th>miniMarker_simulated_N</th>\n      <th>miniMarker_simulated_O</th>\n    </tr>\n  </thead>\n  <tbody>\n    <tr>\n      <th>0</th>\n      <td>4</td>\n      <td>2</td>\n      <td>3</td>\n      <td>2</td>\n      <td>4</td>\n      <td>3</td>\n      <td>3</td>\n      <td>4</td>\n      <td>5</td>\n      <td>3</td>\n      <td>...</td>\n      <td>4</td>\n      <td>2</td>\n      <td>2</td>\n      <td>4</td>\n      <td>4</td>\n      <td>36</td>\n      <td>48</td>\n      <td>35</td>\n      <td>35</td>\n      <td>33</td>\n    </tr>\n    <tr>\n      <th>1</th>\n      <td>2</td>\n      <td>4</td>\n      <td>2</td>\n      <td>3</td>\n      <td>2</td>\n      <td>4</td>\n      <td>2</td>\n      <td>2</td>\n      <td>1</td>\n      <td>3</td>\n      <td>...</td>\n      <td>4</td>\n      <td>3</td>\n      <td>3</td>\n      <td>4</td>\n      <td>2</td>\n      <td>47</td>\n      <td>45</td>\n      <td>50</td>\n      <td>34</td>\n      <td>29</td>\n    </tr>\n    <tr>\n      <th>2</th>\n      <td>4</td>\n      <td>2</td>\n      <td>2</td>\n      <td>4</td>\n      <td>9</td>\n      <td>7</td>\n      <td>7</td>\n      <td>9</td>\n      <td>5</td>\n      <td>4</td>\n      <td>...</td>\n      <td>8</td>\n      <td>2</td>\n      <td>2</td>\n      <td>7</td>\n      <td>4</td>\n      <td>36</td>\n      <td>56</td>\n      <td>47</td>\n      <td>37</td>\n      <td>62</td>\n    </tr>\n  </tbody>\n</table>\n<p>3 rows × 45 columns</p>\n</div>"
     },
     "execution_count": 8,
     "metadata": {},
     "output_type": "execute_result"
    }
   ],
   "source": [
    "# concatenate the two dataframes\n",
    "simulation_df = pd.concat([decision_df, domain_score], axis=1)\n",
    "\n",
    "# preview the first 3 rows\n",
    "simulation_df.head(3)"
   ],
   "metadata": {
    "collapsed": false,
    "ExecuteTime": {
     "end_time": "2024-04-17T06:21:19.322944Z",
     "start_time": "2024-04-17T06:21:19.282072Z"
    }
   },
   "id": "68b53de505c92890",
   "execution_count": 8
  },
  {
   "cell_type": "markdown",
   "source": [
    "# Process BFI2 input data "
   ],
   "metadata": {
    "collapsed": false
   },
   "id": "ab3f35173759c403"
  },
  {
   "cell_type": "code",
   "outputs": [
    {
     "data": {
      "text/plain": "     bfi1  bfi16  bfi31  bfi46  bfi6  bfi21  bfi36  bfi51  bfi11  bfi26  ...  \\\n0     3.0    2.0    4.0    3.0   2.0    2.0    3.0    5.0    3.0    2.0  ...   \n1     4.0    2.0    3.0    3.0   3.0    3.0    3.0    2.0    3.0    4.0  ...   \n2     3.0    3.0    4.0    1.0   1.0    2.0    3.0    4.0    2.0    3.0  ...   \n3     5.0    1.0    2.0    5.0   5.0    5.0    1.0    1.0    2.0    2.0  ...   \n4     3.0    4.0    3.0    3.0   1.0    2.0    4.0    3.0    2.0    4.0  ...   \n..    ...    ...    ...    ...   ...    ...    ...    ...    ...    ...  ...   \n195   1.0    3.0    4.0    4.0   3.0    3.0    3.0    3.0    3.0    3.0  ...   \n196   4.0    1.0    2.0    4.0   5.0    3.0    1.0    2.0    3.0    4.0  ...   \n197   2.0    3.0    5.0    2.0   5.0    4.0    2.0    2.0    1.0    3.0  ...   \n198   3.0    2.0    4.0    3.0   3.0    3.0    1.0    3.0    2.0    2.0  ...   \n199   4.0    2.0    2.0    4.0   5.0    5.0    2.0    1.0    3.0    3.0  ...   \n\n     bfi_n_depression  bfi_n_emotional_volatility  \\\n0                2.00                        4.50   \n1                2.75                        4.50   \n2                2.00                        4.50   \n3                4.25                        2.25   \n4                3.00                        1.75   \n..                ...                         ...   \n195              3.25                        4.00   \n196              3.00                        2.00   \n197              3.50                        3.50   \n198              2.50                        2.75   \n199              1.75                        2.25   \n\n     bfi_o_intellectual_curiosity  bfi_o_aesthetic_sensitivity  \\\n0                            4.00                         4.50   \n1                            2.50                         3.25   \n2                            3.50                         4.75   \n3                            4.75                         4.25   \n4                            4.50                         4.00   \n..                            ...                          ...   \n195                          4.75                         3.75   \n196                          3.50                         4.50   \n197                          4.50                         3.50   \n198                          3.00                         2.50   \n199                          3.50                         2.75   \n\n     bfi_o_creative_imagination     bfi_e     bfi_a     bfi_c     bfi_n  \\\n0                          3.25  2.666667  3.833333  2.333333  3.750000   \n1                          3.00  3.250000  2.833333  4.083333  3.500000   \n2                          4.25  2.666667  2.750000  3.833333  3.833333   \n3                          3.75  4.583333  3.166667  2.916667  3.583333   \n4                          4.50  2.750000  4.333333  2.500000  3.000000   \n..                          ...       ...       ...       ...       ...   \n195                        4.50  3.000000  4.666667  3.250000  3.833333   \n196                        3.75  3.750000  2.250000  3.666667  2.250000   \n197                        4.75  3.500000  3.333333  2.583333  3.583333   \n198                        3.00  3.583333  3.666667  3.916667  2.666667   \n199                        2.50  4.000000  3.500000  3.250000  2.333333   \n\n        bfi_o  \n0    3.916667  \n1    2.916667  \n2    4.166667  \n3    4.250000  \n4    4.333333  \n..        ...  \n195  4.333333  \n196  3.916667  \n197  4.250000  \n198  2.833333  \n199  2.916667  \n\n[200 rows x 80 columns]",
      "text/html": "<div>\n<style scoped>\n    .dataframe tbody tr th:only-of-type {\n        vertical-align: middle;\n    }\n\n    .dataframe tbody tr th {\n        vertical-align: top;\n    }\n\n    .dataframe thead th {\n        text-align: right;\n    }\n</style>\n<table border=\"1\" class=\"dataframe\">\n  <thead>\n    <tr style=\"text-align: right;\">\n      <th></th>\n      <th>bfi1</th>\n      <th>bfi16</th>\n      <th>bfi31</th>\n      <th>bfi46</th>\n      <th>bfi6</th>\n      <th>bfi21</th>\n      <th>bfi36</th>\n      <th>bfi51</th>\n      <th>bfi11</th>\n      <th>bfi26</th>\n      <th>...</th>\n      <th>bfi_n_depression</th>\n      <th>bfi_n_emotional_volatility</th>\n      <th>bfi_o_intellectual_curiosity</th>\n      <th>bfi_o_aesthetic_sensitivity</th>\n      <th>bfi_o_creative_imagination</th>\n      <th>bfi_e</th>\n      <th>bfi_a</th>\n      <th>bfi_c</th>\n      <th>bfi_n</th>\n      <th>bfi_o</th>\n    </tr>\n  </thead>\n  <tbody>\n    <tr>\n      <th>0</th>\n      <td>3.0</td>\n      <td>2.0</td>\n      <td>4.0</td>\n      <td>3.0</td>\n      <td>2.0</td>\n      <td>2.0</td>\n      <td>3.0</td>\n      <td>5.0</td>\n      <td>3.0</td>\n      <td>2.0</td>\n      <td>...</td>\n      <td>2.00</td>\n      <td>4.50</td>\n      <td>4.00</td>\n      <td>4.50</td>\n      <td>3.25</td>\n      <td>2.666667</td>\n      <td>3.833333</td>\n      <td>2.333333</td>\n      <td>3.750000</td>\n      <td>3.916667</td>\n    </tr>\n    <tr>\n      <th>1</th>\n      <td>4.0</td>\n      <td>2.0</td>\n      <td>3.0</td>\n      <td>3.0</td>\n      <td>3.0</td>\n      <td>3.0</td>\n      <td>3.0</td>\n      <td>2.0</td>\n      <td>3.0</td>\n      <td>4.0</td>\n      <td>...</td>\n      <td>2.75</td>\n      <td>4.50</td>\n      <td>2.50</td>\n      <td>3.25</td>\n      <td>3.00</td>\n      <td>3.250000</td>\n      <td>2.833333</td>\n      <td>4.083333</td>\n      <td>3.500000</td>\n      <td>2.916667</td>\n    </tr>\n    <tr>\n      <th>2</th>\n      <td>3.0</td>\n      <td>3.0</td>\n      <td>4.0</td>\n      <td>1.0</td>\n      <td>1.0</td>\n      <td>2.0</td>\n      <td>3.0</td>\n      <td>4.0</td>\n      <td>2.0</td>\n      <td>3.0</td>\n      <td>...</td>\n      <td>2.00</td>\n      <td>4.50</td>\n      <td>3.50</td>\n      <td>4.75</td>\n      <td>4.25</td>\n      <td>2.666667</td>\n      <td>2.750000</td>\n      <td>3.833333</td>\n      <td>3.833333</td>\n      <td>4.166667</td>\n    </tr>\n    <tr>\n      <th>3</th>\n      <td>5.0</td>\n      <td>1.0</td>\n      <td>2.0</td>\n      <td>5.0</td>\n      <td>5.0</td>\n      <td>5.0</td>\n      <td>1.0</td>\n      <td>1.0</td>\n      <td>2.0</td>\n      <td>2.0</td>\n      <td>...</td>\n      <td>4.25</td>\n      <td>2.25</td>\n      <td>4.75</td>\n      <td>4.25</td>\n      <td>3.75</td>\n      <td>4.583333</td>\n      <td>3.166667</td>\n      <td>2.916667</td>\n      <td>3.583333</td>\n      <td>4.250000</td>\n    </tr>\n    <tr>\n      <th>4</th>\n      <td>3.0</td>\n      <td>4.0</td>\n      <td>3.0</td>\n      <td>3.0</td>\n      <td>1.0</td>\n      <td>2.0</td>\n      <td>4.0</td>\n      <td>3.0</td>\n      <td>2.0</td>\n      <td>4.0</td>\n      <td>...</td>\n      <td>3.00</td>\n      <td>1.75</td>\n      <td>4.50</td>\n      <td>4.00</td>\n      <td>4.50</td>\n      <td>2.750000</td>\n      <td>4.333333</td>\n      <td>2.500000</td>\n      <td>3.000000</td>\n      <td>4.333333</td>\n    </tr>\n    <tr>\n      <th>...</th>\n      <td>...</td>\n      <td>...</td>\n      <td>...</td>\n      <td>...</td>\n      <td>...</td>\n      <td>...</td>\n      <td>...</td>\n      <td>...</td>\n      <td>...</td>\n      <td>...</td>\n      <td>...</td>\n      <td>...</td>\n      <td>...</td>\n      <td>...</td>\n      <td>...</td>\n      <td>...</td>\n      <td>...</td>\n      <td>...</td>\n      <td>...</td>\n      <td>...</td>\n      <td>...</td>\n    </tr>\n    <tr>\n      <th>195</th>\n      <td>1.0</td>\n      <td>3.0</td>\n      <td>4.0</td>\n      <td>4.0</td>\n      <td>3.0</td>\n      <td>3.0</td>\n      <td>3.0</td>\n      <td>3.0</td>\n      <td>3.0</td>\n      <td>3.0</td>\n      <td>...</td>\n      <td>3.25</td>\n      <td>4.00</td>\n      <td>4.75</td>\n      <td>3.75</td>\n      <td>4.50</td>\n      <td>3.000000</td>\n      <td>4.666667</td>\n      <td>3.250000</td>\n      <td>3.833333</td>\n      <td>4.333333</td>\n    </tr>\n    <tr>\n      <th>196</th>\n      <td>4.0</td>\n      <td>1.0</td>\n      <td>2.0</td>\n      <td>4.0</td>\n      <td>5.0</td>\n      <td>3.0</td>\n      <td>1.0</td>\n      <td>2.0</td>\n      <td>3.0</td>\n      <td>4.0</td>\n      <td>...</td>\n      <td>3.00</td>\n      <td>2.00</td>\n      <td>3.50</td>\n      <td>4.50</td>\n      <td>3.75</td>\n      <td>3.750000</td>\n      <td>2.250000</td>\n      <td>3.666667</td>\n      <td>2.250000</td>\n      <td>3.916667</td>\n    </tr>\n    <tr>\n      <th>197</th>\n      <td>2.0</td>\n      <td>3.0</td>\n      <td>5.0</td>\n      <td>2.0</td>\n      <td>5.0</td>\n      <td>4.0</td>\n      <td>2.0</td>\n      <td>2.0</td>\n      <td>1.0</td>\n      <td>3.0</td>\n      <td>...</td>\n      <td>3.50</td>\n      <td>3.50</td>\n      <td>4.50</td>\n      <td>3.50</td>\n      <td>4.75</td>\n      <td>3.500000</td>\n      <td>3.333333</td>\n      <td>2.583333</td>\n      <td>3.583333</td>\n      <td>4.250000</td>\n    </tr>\n    <tr>\n      <th>198</th>\n      <td>3.0</td>\n      <td>2.0</td>\n      <td>4.0</td>\n      <td>3.0</td>\n      <td>3.0</td>\n      <td>3.0</td>\n      <td>1.0</td>\n      <td>3.0</td>\n      <td>2.0</td>\n      <td>2.0</td>\n      <td>...</td>\n      <td>2.50</td>\n      <td>2.75</td>\n      <td>3.00</td>\n      <td>2.50</td>\n      <td>3.00</td>\n      <td>3.583333</td>\n      <td>3.666667</td>\n      <td>3.916667</td>\n      <td>2.666667</td>\n      <td>2.833333</td>\n    </tr>\n    <tr>\n      <th>199</th>\n      <td>4.0</td>\n      <td>2.0</td>\n      <td>2.0</td>\n      <td>4.0</td>\n      <td>5.0</td>\n      <td>5.0</td>\n      <td>2.0</td>\n      <td>1.0</td>\n      <td>3.0</td>\n      <td>3.0</td>\n      <td>...</td>\n      <td>1.75</td>\n      <td>2.25</td>\n      <td>3.50</td>\n      <td>2.75</td>\n      <td>2.50</td>\n      <td>4.000000</td>\n      <td>3.500000</td>\n      <td>3.250000</td>\n      <td>2.333333</td>\n      <td>2.916667</td>\n    </tr>\n  </tbody>\n</table>\n<p>200 rows × 80 columns</p>\n</div>"
     },
     "execution_count": 9,
     "metadata": {},
     "output_type": "execute_result"
    }
   ],
   "source": [
    "# load facet_lvl_simulated_data.csv \n",
    "bfi2_df = pd.read_csv('facet_lvl_simulated_data.csv')\n",
    "bfi2_df"
   ],
   "metadata": {
    "collapsed": false,
    "ExecuteTime": {
     "end_time": "2024-04-17T06:21:19.327909Z",
     "start_time": "2024-04-17T06:21:19.288214Z"
    }
   },
   "id": "fc3cc47b42c80ae5",
   "execution_count": 9
  },
  {
   "cell_type": "code",
   "outputs": [
    {
     "data": {
      "text/plain": "     bfi1  bfi16  bfi31  bfi46  bfi6  bfi21  bfi36  bfi51  bfi11  bfi26  ...  \\\n0     3.0    2.0    4.0    3.0   2.0    2.0    3.0    5.0    3.0    2.0  ...   \n1     4.0    2.0    3.0    3.0   3.0    3.0    3.0    2.0    3.0    4.0  ...   \n2     3.0    3.0    4.0    1.0   1.0    2.0    3.0    4.0    2.0    3.0  ...   \n3     5.0    1.0    2.0    5.0   5.0    5.0    1.0    1.0    2.0    2.0  ...   \n4     3.0    4.0    3.0    3.0   1.0    2.0    4.0    3.0    2.0    4.0  ...   \n..    ...    ...    ...    ...   ...    ...    ...    ...    ...    ...  ...   \n195   1.0    3.0    4.0    4.0   3.0    3.0    3.0    3.0    3.0    3.0  ...   \n196   4.0    1.0    2.0    4.0   5.0    3.0    1.0    2.0    3.0    4.0  ...   \n197   2.0    3.0    5.0    2.0   5.0    4.0    2.0    2.0    1.0    3.0  ...   \n198   3.0    2.0    4.0    3.0   3.0    3.0    1.0    3.0    2.0    2.0  ...   \n199   4.0    2.0    2.0    4.0   5.0    5.0    2.0    1.0    3.0    3.0  ...   \n\n     Unenvious  Unintellectual  Unsympathetic  Warm  Withdrawn  \\\n0            4               2              2     4          4   \n1            4               3              3     4          2   \n2            8               2              2     7          4   \n3            7               4              3     7          2   \n4            8               4              1     9          4   \n..         ...             ...            ...   ...        ...   \n195          5               1              1     4          4   \n196          6               4              4     6          2   \n197          6               4              4     6          8   \n198          4               3              4     4          4   \n199          8               4              2     8          4   \n\n     miniMarker_simulated_E  miniMarker_simulated_A  miniMarker_simulated_C  \\\n0                        36                      48                      35   \n1                        47                      45                      50   \n2                        36                      56                      47   \n3                        63                      57                      40   \n4                        36                      71                      40   \n..                      ...                     ...                     ...   \n195                      37                      53                      41   \n196                      58                      44                      40   \n197                      40                      48                      40   \n198                      39                      43                      49   \n199                      48                      64                      41   \n\n     miniMarker_simulated_N  miniMarker_simulated_O  \n0                        35                      33  \n1                        34                      29  \n2                        37                      62  \n3                        31                      56  \n4                        30                      50  \n..                      ...                     ...  \n195                      33                      37  \n196                      32                      50  \n197                      34                      56  \n198                      30                      36  \n199                      23                      36  \n\n[200 rows x 125 columns]",
      "text/html": "<div>\n<style scoped>\n    .dataframe tbody tr th:only-of-type {\n        vertical-align: middle;\n    }\n\n    .dataframe tbody tr th {\n        vertical-align: top;\n    }\n\n    .dataframe thead th {\n        text-align: right;\n    }\n</style>\n<table border=\"1\" class=\"dataframe\">\n  <thead>\n    <tr style=\"text-align: right;\">\n      <th></th>\n      <th>bfi1</th>\n      <th>bfi16</th>\n      <th>bfi31</th>\n      <th>bfi46</th>\n      <th>bfi6</th>\n      <th>bfi21</th>\n      <th>bfi36</th>\n      <th>bfi51</th>\n      <th>bfi11</th>\n      <th>bfi26</th>\n      <th>...</th>\n      <th>Unenvious</th>\n      <th>Unintellectual</th>\n      <th>Unsympathetic</th>\n      <th>Warm</th>\n      <th>Withdrawn</th>\n      <th>miniMarker_simulated_E</th>\n      <th>miniMarker_simulated_A</th>\n      <th>miniMarker_simulated_C</th>\n      <th>miniMarker_simulated_N</th>\n      <th>miniMarker_simulated_O</th>\n    </tr>\n  </thead>\n  <tbody>\n    <tr>\n      <th>0</th>\n      <td>3.0</td>\n      <td>2.0</td>\n      <td>4.0</td>\n      <td>3.0</td>\n      <td>2.0</td>\n      <td>2.0</td>\n      <td>3.0</td>\n      <td>5.0</td>\n      <td>3.0</td>\n      <td>2.0</td>\n      <td>...</td>\n      <td>4</td>\n      <td>2</td>\n      <td>2</td>\n      <td>4</td>\n      <td>4</td>\n      <td>36</td>\n      <td>48</td>\n      <td>35</td>\n      <td>35</td>\n      <td>33</td>\n    </tr>\n    <tr>\n      <th>1</th>\n      <td>4.0</td>\n      <td>2.0</td>\n      <td>3.0</td>\n      <td>3.0</td>\n      <td>3.0</td>\n      <td>3.0</td>\n      <td>3.0</td>\n      <td>2.0</td>\n      <td>3.0</td>\n      <td>4.0</td>\n      <td>...</td>\n      <td>4</td>\n      <td>3</td>\n      <td>3</td>\n      <td>4</td>\n      <td>2</td>\n      <td>47</td>\n      <td>45</td>\n      <td>50</td>\n      <td>34</td>\n      <td>29</td>\n    </tr>\n    <tr>\n      <th>2</th>\n      <td>3.0</td>\n      <td>3.0</td>\n      <td>4.0</td>\n      <td>1.0</td>\n      <td>1.0</td>\n      <td>2.0</td>\n      <td>3.0</td>\n      <td>4.0</td>\n      <td>2.0</td>\n      <td>3.0</td>\n      <td>...</td>\n      <td>8</td>\n      <td>2</td>\n      <td>2</td>\n      <td>7</td>\n      <td>4</td>\n      <td>36</td>\n      <td>56</td>\n      <td>47</td>\n      <td>37</td>\n      <td>62</td>\n    </tr>\n    <tr>\n      <th>3</th>\n      <td>5.0</td>\n      <td>1.0</td>\n      <td>2.0</td>\n      <td>5.0</td>\n      <td>5.0</td>\n      <td>5.0</td>\n      <td>1.0</td>\n      <td>1.0</td>\n      <td>2.0</td>\n      <td>2.0</td>\n      <td>...</td>\n      <td>7</td>\n      <td>4</td>\n      <td>3</td>\n      <td>7</td>\n      <td>2</td>\n      <td>63</td>\n      <td>57</td>\n      <td>40</td>\n      <td>31</td>\n      <td>56</td>\n    </tr>\n    <tr>\n      <th>4</th>\n      <td>3.0</td>\n      <td>4.0</td>\n      <td>3.0</td>\n      <td>3.0</td>\n      <td>1.0</td>\n      <td>2.0</td>\n      <td>4.0</td>\n      <td>3.0</td>\n      <td>2.0</td>\n      <td>4.0</td>\n      <td>...</td>\n      <td>8</td>\n      <td>4</td>\n      <td>1</td>\n      <td>9</td>\n      <td>4</td>\n      <td>36</td>\n      <td>71</td>\n      <td>40</td>\n      <td>30</td>\n      <td>50</td>\n    </tr>\n    <tr>\n      <th>...</th>\n      <td>...</td>\n      <td>...</td>\n      <td>...</td>\n      <td>...</td>\n      <td>...</td>\n      <td>...</td>\n      <td>...</td>\n      <td>...</td>\n      <td>...</td>\n      <td>...</td>\n      <td>...</td>\n      <td>...</td>\n      <td>...</td>\n      <td>...</td>\n      <td>...</td>\n      <td>...</td>\n      <td>...</td>\n      <td>...</td>\n      <td>...</td>\n      <td>...</td>\n      <td>...</td>\n    </tr>\n    <tr>\n      <th>195</th>\n      <td>1.0</td>\n      <td>3.0</td>\n      <td>4.0</td>\n      <td>4.0</td>\n      <td>3.0</td>\n      <td>3.0</td>\n      <td>3.0</td>\n      <td>3.0</td>\n      <td>3.0</td>\n      <td>3.0</td>\n      <td>...</td>\n      <td>5</td>\n      <td>1</td>\n      <td>1</td>\n      <td>4</td>\n      <td>4</td>\n      <td>37</td>\n      <td>53</td>\n      <td>41</td>\n      <td>33</td>\n      <td>37</td>\n    </tr>\n    <tr>\n      <th>196</th>\n      <td>4.0</td>\n      <td>1.0</td>\n      <td>2.0</td>\n      <td>4.0</td>\n      <td>5.0</td>\n      <td>3.0</td>\n      <td>1.0</td>\n      <td>2.0</td>\n      <td>3.0</td>\n      <td>4.0</td>\n      <td>...</td>\n      <td>6</td>\n      <td>4</td>\n      <td>4</td>\n      <td>6</td>\n      <td>2</td>\n      <td>58</td>\n      <td>44</td>\n      <td>40</td>\n      <td>32</td>\n      <td>50</td>\n    </tr>\n    <tr>\n      <th>197</th>\n      <td>2.0</td>\n      <td>3.0</td>\n      <td>5.0</td>\n      <td>2.0</td>\n      <td>5.0</td>\n      <td>4.0</td>\n      <td>2.0</td>\n      <td>2.0</td>\n      <td>1.0</td>\n      <td>3.0</td>\n      <td>...</td>\n      <td>6</td>\n      <td>4</td>\n      <td>4</td>\n      <td>6</td>\n      <td>8</td>\n      <td>40</td>\n      <td>48</td>\n      <td>40</td>\n      <td>34</td>\n      <td>56</td>\n    </tr>\n    <tr>\n      <th>198</th>\n      <td>3.0</td>\n      <td>2.0</td>\n      <td>4.0</td>\n      <td>3.0</td>\n      <td>3.0</td>\n      <td>3.0</td>\n      <td>1.0</td>\n      <td>3.0</td>\n      <td>2.0</td>\n      <td>2.0</td>\n      <td>...</td>\n      <td>4</td>\n      <td>3</td>\n      <td>4</td>\n      <td>4</td>\n      <td>4</td>\n      <td>39</td>\n      <td>43</td>\n      <td>49</td>\n      <td>30</td>\n      <td>36</td>\n    </tr>\n    <tr>\n      <th>199</th>\n      <td>4.0</td>\n      <td>2.0</td>\n      <td>2.0</td>\n      <td>4.0</td>\n      <td>5.0</td>\n      <td>5.0</td>\n      <td>2.0</td>\n      <td>1.0</td>\n      <td>3.0</td>\n      <td>3.0</td>\n      <td>...</td>\n      <td>8</td>\n      <td>4</td>\n      <td>2</td>\n      <td>8</td>\n      <td>4</td>\n      <td>48</td>\n      <td>64</td>\n      <td>41</td>\n      <td>23</td>\n      <td>36</td>\n    </tr>\n  </tbody>\n</table>\n<p>200 rows × 125 columns</p>\n</div>"
     },
     "execution_count": 10,
     "metadata": {},
     "output_type": "execute_result"
    }
   ],
   "source": [
    "# combine bfi2_df and simulation_df\n",
    "combined_df = pd.concat([bfi2_df, simulation_df], axis=1)\n",
    "combined_df"
   ],
   "metadata": {
    "collapsed": false,
    "ExecuteTime": {
     "end_time": "2024-04-17T06:21:19.331335Z",
     "start_time": "2024-04-17T06:21:19.298796Z"
    }
   },
   "id": "f0859f1982c97c62",
   "execution_count": 10
  },
  {
   "cell_type": "markdown",
   "source": [
    "# Analysis of correlation between BFI2 and Mini-Marker scores"
   ],
   "metadata": {
    "collapsed": false
   },
   "id": "fc9ddddef18c24a0"
  },
  {
   "cell_type": "code",
   "outputs": [
    {
     "data": {
      "text/plain": "(0.8871256075892594,\n 0.591491760960283,\n 0.8435240493692607,\n 0.6210621712583648,\n 0.45243618778784633)"
     },
     "execution_count": 11,
     "metadata": {},
     "output_type": "execute_result"
    }
   ],
   "source": [
    "from scipy.stats import pearsonr\n",
    "r_bfi_tda_e, _ = pearsonr(combined_df['miniMarker_simulated_E'], combined_df['bfi_e'])\n",
    "r_bfi_tda_a, _ = pearsonr(combined_df['miniMarker_simulated_A'], combined_df['bfi_a'])\n",
    "r_bfi_tda_c, _ = pearsonr(combined_df['miniMarker_simulated_C'], combined_df['bfi_c'])\n",
    "r_bfi_tda_n, _ = pearsonr(combined_df['miniMarker_simulated_N'], combined_df['bfi_n'])\n",
    "r_bfi_tda_o, _ = pearsonr(combined_df['miniMarker_simulated_O'], combined_df['bfi_o'])\n",
    "\n",
    "r_bfi_tda_e, r_bfi_tda_a, r_bfi_tda_c, r_bfi_tda_n, r_bfi_tda_o"
   ],
   "metadata": {
    "collapsed": false,
    "ExecuteTime": {
     "end_time": "2024-04-17T06:21:19.683850Z",
     "start_time": "2024-04-17T06:21:19.310515Z"
    }
   },
   "id": "18066bbfa6e9635b",
   "execution_count": 11
  },
  {
   "cell_type": "code",
   "outputs": [
    {
     "data": {
      "text/plain": "0.6791279553930029"
     },
     "execution_count": 12,
     "metadata": {},
     "output_type": "execute_result"
    }
   ],
   "source": [
    "r_bfi_tda = (r_bfi_tda_e + r_bfi_tda_a + r_bfi_tda_c + r_bfi_tda_n + r_bfi_tda_o) / 5\n",
    "r_bfi_tda"
   ],
   "metadata": {
    "collapsed": false,
    "ExecuteTime": {
     "end_time": "2024-04-17T06:21:19.689791Z",
     "start_time": "2024-04-17T06:21:19.685444Z"
    }
   },
   "id": "1aadb31ad5f4899b",
   "execution_count": 12
  }
 ],
 "metadata": {
  "kernelspec": {
   "display_name": "Python 3",
   "language": "python",
   "name": "python3"
  },
  "language_info": {
   "codemirror_mode": {
    "name": "ipython",
    "version": 2
   },
   "file_extension": ".py",
   "mimetype": "text/x-python",
   "name": "python",
   "nbconvert_exporter": "python",
   "pygments_lexer": "ipython2",
   "version": "2.7.6"
  }
 },
 "nbformat": 4,
 "nbformat_minor": 5
}
