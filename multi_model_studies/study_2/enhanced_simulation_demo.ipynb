{
  "cells": [
    {
      "cell_type": "raw",
      "metadata": {
        "vscode": {
          "languageId": "raw"
        }
      },
      "source": [
        "# Enhanced Simulation with Early Detection & Regeneration\n",
        "\n",
        "This notebook demonstrates the improved simulation system that preserves ALL participant data through:\n",
        "\n",
        "1. **Early Detection**: Validates responses immediately after generation\n",
        "2. **Smart Regeneration**: Automatically retries failed responses with enhanced prompts\n",
        "3. **Data Salvaging**: Recovers partial responses by filling missing traits\n",
        "4. **Complete Preservation**: Guarantees no participants are lost\n",
        "\n",
        "## Key Features\n",
        "\n",
        "- **Response Validation**: Checks for all 40 expected Mini-Marker traits\n",
        "- **Error Detection**: Identifies specific failure patterns (missing traits, invalid values, generic keys)\n",
        "- **Progressive Retries**: Enhances prompts based on specific errors encountered\n",
        "- **Fallback Strategies**: Salvages partial responses with neutral values for missing traits\n",
        "- **Comprehensive Logging**: Tracks all attempts, successes, and recovery operations\n"
      ]
    },
    {
      "cell_type": "code",
      "execution_count": null,
      "metadata": {},
      "outputs": [],
      "source": [
        "import pandas as pd\n",
        "import sys\n",
        "from pathlib import Path\n",
        "\n",
        "# Add shared modules to path\n",
        "sys.path.append('../shared')\n",
        "\n",
        "from enhanced_simulation_utils import (\n",
        "    SimulationConfig,\n",
        "    EnhancedPersonalitySimulator, \n",
        "    ResponseValidator,\n",
        "    run_enhanced_bfi_to_minimarker_simulation\n",
        ")\n",
        "from mini_marker_prompt import get_likert_prompt\n"
      ]
    }
  ],
  "metadata": {
    "language_info": {
      "name": "python"
    }
  },
  "nbformat": 4,
  "nbformat_minor": 2
}
