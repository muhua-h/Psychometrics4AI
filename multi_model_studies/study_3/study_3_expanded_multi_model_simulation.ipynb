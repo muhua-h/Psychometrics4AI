{
  "cells": [
    {
      "cell_type": "raw",
      "metadata": {
        "vscode": {
          "languageId": "raw"
        }
      },
      "source": [
        "# Study 3 Multi-Model Personality Simulation (Expanded Format)\n",
        "\n",
        "This notebook implements Study 3's BFI-2 to Mini-Marker simulation using **Expanded format** personality descriptions across multiple LLM models.\n",
        "\n",
        "## Study 3 Overview\n",
        "Study 3 has three main components:\n",
        "1. **Statistical Simulation**: Extract parameters from Soto's study and simulate new dataset (completed by `bfi2_facet_level_parameter_extraction_and_simulation.py`)\n",
        "2. **LLM Simulation**: Use simulated personality data to generate Mini-Marker responses across multiple models\n",
        "3. **Analysis**: Compare results across models and formats\n",
        "\n",
        "## Models to Test\n",
        "- GPT-3.5-Turbo\n",
        "- GPT-4\n",
        "- GPT-4o  \n",
        "- Llama-3.3-70B-Instruct\n",
        "- DeepSeek-V3\n",
        "\n",
        "## Data Flow\n",
        "1. Load statistically simulated BFI-2 data (from `facet_lvl_simulated_data.csv`)\n",
        "2. Map numeric responses to **Expanded format** descriptions\n",
        "3. Generate personality simulation prompts\n",
        "4. Run simulations across multiple models with enhanced validation\n",
        "5. Save results for analysis\n",
        "\n",
        "## Key Features\n",
        "- Uses statistically simulated data (not empirical Soto data)\n",
        "- Expanded-style personality descriptions (\"You are very...\")\n",
        "- Parallel multi-model execution\n",
        "- Enhanced validation and retry logic\n",
        "- Comprehensive error handling\n",
        "\n",
        "## Key Difference from Likert Format\n",
        "- **No reverse coding needed**: The simulated data is already in the correct format\n",
        "- Uses `expanded_scale` mapping instead of `likert_scale`\n",
        "- Uses `get_expanded_prompt` instead of `get_likert_prompt`\n"
      ]
    },
    {
      "cell_type": "raw",
      "metadata": {
        "vscode": {
          "languageId": "raw"
        }
      },
      "source": [
        "## Setup and Imports\n"
      ]
    },
    {
      "cell_type": "code",
      "execution_count": 1,
      "metadata": {},
      "outputs": [
        {
          "name": "stdout",
          "output_type": "stream",
          "text": [
            "Setup complete!\n",
            "Analysis started at: 2025-07-13 23:04:21\n"
          ]
        }
      ],
      "source": [
        "import pandas as pd\n",
        "import numpy as np\n",
        "import sys\n",
        "from pathlib import Path\n",
        "import json\n",
        "from datetime import datetime\n",
        "\n",
        "# Add shared modules to path\n",
        "sys.path.append('../shared')\n",
        "\n",
        "from simulation_utils import (\n",
        "    SimulationConfig, \n",
        "    run_bfi_to_minimarker_simulation,\n",
        "    retry_failed_participants,\n",
        "    run_enhanced_bfi_to_minimarker_simulation\n",
        ")\n",
        "from schema_bfi2 import expanded_scale\n",
        "from mini_marker_prompt import get_expanded_prompt\n",
        "\n",
        "print(\"Setup complete!\")\n",
        "print(f\"Analysis started at: {datetime.now().strftime('%Y-%m-%d %H:%M:%S')}\")\n"
      ]
    },
    {
      "cell_type": "raw",
      "metadata": {
        "vscode": {
          "languageId": "raw"
        }
      },
      "source": [
        "## Data Loading and Preprocessing\n"
      ]
    },
    {
      "cell_type": "code",
      "execution_count": 2,
      "metadata": {},
      "outputs": [
        {
          "name": "stdout",
          "output_type": "stream",
          "text": [
            "Loaded simulated data shape: (200, 80)\n",
            "Columns: ['bfi1', 'bfi16', 'bfi31', 'bfi46', 'bfi6', 'bfi21', 'bfi36', 'bfi51', 'bfi11', 'bfi26']...\n",
            "BFI columns: ['bfi1', 'bfi16', 'bfi31', 'bfi46', 'bfi6', 'bfi21', 'bfi36', 'bfi51', 'bfi11', 'bfi26']...\n",
            "Value range: 1.0 to 5.0\n"
          ]
        },
        {
          "data": {
            "text/html": [
              "<div>\n",
              "<style scoped>\n",
              "    .dataframe tbody tr th:only-of-type {\n",
              "        vertical-align: middle;\n",
              "    }\n",
              "\n",
              "    .dataframe tbody tr th {\n",
              "        vertical-align: top;\n",
              "    }\n",
              "\n",
              "    .dataframe thead th {\n",
              "        text-align: right;\n",
              "    }\n",
              "</style>\n",
              "<table border=\"1\" class=\"dataframe\">\n",
              "  <thead>\n",
              "    <tr style=\"text-align: right;\">\n",
              "      <th></th>\n",
              "      <th>bfi1</th>\n",
              "      <th>bfi16</th>\n",
              "      <th>bfi31</th>\n",
              "      <th>bfi46</th>\n",
              "      <th>bfi6</th>\n",
              "      <th>bfi21</th>\n",
              "      <th>bfi36</th>\n",
              "      <th>bfi51</th>\n",
              "      <th>bfi11</th>\n",
              "      <th>bfi26</th>\n",
              "      <th>...</th>\n",
              "      <th>bfi_n_depression</th>\n",
              "      <th>bfi_n_emotional_volatility</th>\n",
              "      <th>bfi_o_intellectual_curiosity</th>\n",
              "      <th>bfi_o_aesthetic_sensitivity</th>\n",
              "      <th>bfi_o_creative_imagination</th>\n",
              "      <th>bfi_e</th>\n",
              "      <th>bfi_a</th>\n",
              "      <th>bfi_c</th>\n",
              "      <th>bfi_n</th>\n",
              "      <th>bfi_o</th>\n",
              "    </tr>\n",
              "  </thead>\n",
              "  <tbody>\n",
              "    <tr>\n",
              "      <th>0</th>\n",
              "      <td>3.0</td>\n",
              "      <td>2.0</td>\n",
              "      <td>4.0</td>\n",
              "      <td>3.0</td>\n",
              "      <td>2.0</td>\n",
              "      <td>2.0</td>\n",
              "      <td>3.0</td>\n",
              "      <td>5.0</td>\n",
              "      <td>3.0</td>\n",
              "      <td>2.0</td>\n",
              "      <td>...</td>\n",
              "      <td>2.00</td>\n",
              "      <td>4.50</td>\n",
              "      <td>4.00</td>\n",
              "      <td>4.50</td>\n",
              "      <td>3.25</td>\n",
              "      <td>2.666667</td>\n",
              "      <td>3.833333</td>\n",
              "      <td>2.333333</td>\n",
              "      <td>3.750000</td>\n",
              "      <td>3.916667</td>\n",
              "    </tr>\n",
              "    <tr>\n",
              "      <th>1</th>\n",
              "      <td>4.0</td>\n",
              "      <td>2.0</td>\n",
              "      <td>3.0</td>\n",
              "      <td>3.0</td>\n",
              "      <td>3.0</td>\n",
              "      <td>3.0</td>\n",
              "      <td>3.0</td>\n",
              "      <td>2.0</td>\n",
              "      <td>3.0</td>\n",
              "      <td>4.0</td>\n",
              "      <td>...</td>\n",
              "      <td>2.75</td>\n",
              "      <td>4.50</td>\n",
              "      <td>2.50</td>\n",
              "      <td>3.25</td>\n",
              "      <td>3.00</td>\n",
              "      <td>3.250000</td>\n",
              "      <td>2.833333</td>\n",
              "      <td>4.083333</td>\n",
              "      <td>3.500000</td>\n",
              "      <td>2.916667</td>\n",
              "    </tr>\n",
              "    <tr>\n",
              "      <th>2</th>\n",
              "      <td>3.0</td>\n",
              "      <td>3.0</td>\n",
              "      <td>4.0</td>\n",
              "      <td>1.0</td>\n",
              "      <td>1.0</td>\n",
              "      <td>2.0</td>\n",
              "      <td>3.0</td>\n",
              "      <td>4.0</td>\n",
              "      <td>2.0</td>\n",
              "      <td>3.0</td>\n",
              "      <td>...</td>\n",
              "      <td>2.00</td>\n",
              "      <td>4.50</td>\n",
              "      <td>3.50</td>\n",
              "      <td>4.75</td>\n",
              "      <td>4.25</td>\n",
              "      <td>2.666667</td>\n",
              "      <td>2.750000</td>\n",
              "      <td>3.833333</td>\n",
              "      <td>3.833333</td>\n",
              "      <td>4.166667</td>\n",
              "    </tr>\n",
              "    <tr>\n",
              "      <th>3</th>\n",
              "      <td>5.0</td>\n",
              "      <td>1.0</td>\n",
              "      <td>2.0</td>\n",
              "      <td>5.0</td>\n",
              "      <td>5.0</td>\n",
              "      <td>5.0</td>\n",
              "      <td>1.0</td>\n",
              "      <td>1.0</td>\n",
              "      <td>2.0</td>\n",
              "      <td>2.0</td>\n",
              "      <td>...</td>\n",
              "      <td>4.25</td>\n",
              "      <td>2.25</td>\n",
              "      <td>4.75</td>\n",
              "      <td>4.25</td>\n",
              "      <td>3.75</td>\n",
              "      <td>4.583333</td>\n",
              "      <td>3.166667</td>\n",
              "      <td>2.916667</td>\n",
              "      <td>3.583333</td>\n",
              "      <td>4.250000</td>\n",
              "    </tr>\n",
              "    <tr>\n",
              "      <th>4</th>\n",
              "      <td>3.0</td>\n",
              "      <td>4.0</td>\n",
              "      <td>3.0</td>\n",
              "      <td>3.0</td>\n",
              "      <td>1.0</td>\n",
              "      <td>2.0</td>\n",
              "      <td>4.0</td>\n",
              "      <td>3.0</td>\n",
              "      <td>2.0</td>\n",
              "      <td>4.0</td>\n",
              "      <td>...</td>\n",
              "      <td>3.00</td>\n",
              "      <td>1.75</td>\n",
              "      <td>4.50</td>\n",
              "      <td>4.00</td>\n",
              "      <td>4.50</td>\n",
              "      <td>2.750000</td>\n",
              "      <td>4.333333</td>\n",
              "      <td>2.500000</td>\n",
              "      <td>3.000000</td>\n",
              "      <td>4.333333</td>\n",
              "    </tr>\n",
              "  </tbody>\n",
              "</table>\n",
              "<p>5 rows × 80 columns</p>\n",
              "</div>"
            ],
            "text/plain": [
              "   bfi1  bfi16  bfi31  bfi46  bfi6  bfi21  bfi36  bfi51  bfi11  bfi26  ...  \\\n",
              "0   3.0    2.0    4.0    3.0   2.0    2.0    3.0    5.0    3.0    2.0  ...   \n",
              "1   4.0    2.0    3.0    3.0   3.0    3.0    3.0    2.0    3.0    4.0  ...   \n",
              "2   3.0    3.0    4.0    1.0   1.0    2.0    3.0    4.0    2.0    3.0  ...   \n",
              "3   5.0    1.0    2.0    5.0   5.0    5.0    1.0    1.0    2.0    2.0  ...   \n",
              "4   3.0    4.0    3.0    3.0   1.0    2.0    4.0    3.0    2.0    4.0  ...   \n",
              "\n",
              "   bfi_n_depression  bfi_n_emotional_volatility  bfi_o_intellectual_curiosity  \\\n",
              "0              2.00                        4.50                          4.00   \n",
              "1              2.75                        4.50                          2.50   \n",
              "2              2.00                        4.50                          3.50   \n",
              "3              4.25                        2.25                          4.75   \n",
              "4              3.00                        1.75                          4.50   \n",
              "\n",
              "   bfi_o_aesthetic_sensitivity  bfi_o_creative_imagination     bfi_e  \\\n",
              "0                         4.50                        3.25  2.666667   \n",
              "1                         3.25                        3.00  3.250000   \n",
              "2                         4.75                        4.25  2.666667   \n",
              "3                         4.25                        3.75  4.583333   \n",
              "4                         4.00                        4.50  2.750000   \n",
              "\n",
              "      bfi_a     bfi_c     bfi_n     bfi_o  \n",
              "0  3.833333  2.333333  3.750000  3.916667  \n",
              "1  2.833333  4.083333  3.500000  2.916667  \n",
              "2  2.750000  3.833333  3.833333  4.166667  \n",
              "3  3.166667  2.916667  3.583333  4.250000  \n",
              "4  4.333333  2.500000  3.000000  4.333333  \n",
              "\n",
              "[5 rows x 80 columns]"
            ]
          },
          "execution_count": 2,
          "metadata": {},
          "output_type": "execute_result"
        }
      ],
      "source": [
        "# Load the statistically simulated BFI-2 data\n",
        "data_path = Path('facet_lvl_simulated_data.csv')\n",
        "if not data_path.exists():\n",
        "    print(f\"Simulated data file not found at {data_path}\")\n",
        "    print(\"Please run bfi2_facet_level_parameter_extraction_and_simulation.py first to generate the data\")\n",
        "    raise FileNotFoundError(f\"Data file not found: {data_path}\")\n",
        "\n",
        "data = pd.read_csv(data_path)\n",
        "print(f\"Loaded simulated data shape: {data.shape}\")\n",
        "print(f\"Columns: {list(data.columns[:10])}...\")  # Show first 10 columns\n",
        "print(f\"BFI columns: {[col for col in data.columns if col.startswith('bfi') and col.replace('bfi', '').replace('_', '').isdigit()][:10]}...\")  # Show BFI item columns\n",
        "print(f\"Value range: {data[[col for col in data.columns if col.startswith('bfi') and col.replace('bfi', '').replace('_', '').isdigit()]].min().min()} to {data[[col for col in data.columns if col.startswith('bfi') and col.replace('bfi', '').replace('_', '').isdigit()]].max().max()}\")\n",
        "data.head()\n"
      ]
    },
    {
      "cell_type": "raw",
      "metadata": {
        "vscode": {
          "languageId": "raw"
        }
      },
      "source": [
        "## Data Preparation for Expanded Format\n"
      ]
    },
    {
      "cell_type": "code",
      "execution_count": 3,
      "metadata": {},
      "outputs": [
        {
          "name": "stdout",
          "output_type": "stream",
          "text": [
            "Expected BFI columns: 60\n",
            "Available BFI columns: 60\n",
            "All BFI columns are present!\n",
            "\n",
            "Note: No reverse coding applied for expanded format - data already in correct format\n"
          ]
        }
      ],
      "source": [
        "# Generate BFI column list for processing\n",
        "bfi_columns = [f\"bfi{i}\" for i in range(1, 61)]\n",
        "print(f\"Expected BFI columns: {len(bfi_columns)}\")\n",
        "print(f\"Available BFI columns: {len([col for col in data.columns if col in bfi_columns])}\")\n",
        "\n",
        "# Verify all expected columns are present\n",
        "missing_cols = [col for col in bfi_columns if col not in data.columns]\n",
        "if missing_cols:\n",
        "    print(f\"Warning: Missing columns: {missing_cols}\")\n",
        "else:\n",
        "    print(\"All BFI columns are present!\")\n",
        "\n",
        "# CRITICAL: For expanded format, we DO NOT apply reverse coding\n",
        "# The simulated data is already in the correct format for expanded_scale mapping\n",
        "print(\"\\nNote: No reverse coding applied for expanded format - data already in correct format\")\n"
      ]
    },
    {
      "cell_type": "code",
      "execution_count": 4,
      "metadata": {},
      "outputs": [
        {
          "name": "stdout",
          "output_type": "stream",
          "text": [
            "Converting BFI values to Expanded format descriptions...\n",
            "Expanded format personality descriptions created successfully\n",
            "Final data shape: (200, 81)\n"
          ]
        },
        {
          "name": "stderr",
          "output_type": "stream",
          "text": [
            "/var/folders/zh/79y5ykz51rxcnjchzb73nfxw0000gn/T/ipykernel_89878/2585169807.py:9: FutureWarning: Setting an item of incompatible dtype is deprecated and will raise in a future error of pandas. Value 'You are very organized.' has dtype incompatible with float64, please explicitly cast to a compatible dtype first.\n",
            "  mapped_row[key] = expanded_scale[key][index]  # Replace with corresponding string\n",
            "/var/folders/zh/79y5ykz51rxcnjchzb73nfxw0000gn/T/ipykernel_89878/2585169807.py:9: FutureWarning: Setting an item of incompatible dtype is deprecated and will raise in a future error of pandas. Value 'You are very disorganized.' has dtype incompatible with float64, please explicitly cast to a compatible dtype first.\n",
            "  mapped_row[key] = expanded_scale[key][index]  # Replace with corresponding string\n",
            "/var/folders/zh/79y5ykz51rxcnjchzb73nfxw0000gn/T/ipykernel_89878/2585169807.py:9: FutureWarning: Setting an item of incompatible dtype is deprecated and will raise in a future error of pandas. Value 'You are neither particularly organized nor disorganized.' has dtype incompatible with float64, please explicitly cast to a compatible dtype first.\n",
            "  mapped_row[key] = expanded_scale[key][index]  # Replace with corresponding string\n",
            "/var/folders/zh/79y5ykz51rxcnjchzb73nfxw0000gn/T/ipykernel_89878/2585169807.py:9: FutureWarning: Setting an item of incompatible dtype is deprecated and will raise in a future error of pandas. Value 'You are fairly organized.' has dtype incompatible with float64, please explicitly cast to a compatible dtype first.\n",
            "  mapped_row[key] = expanded_scale[key][index]  # Replace with corresponding string\n",
            "/var/folders/zh/79y5ykz51rxcnjchzb73nfxw0000gn/T/ipykernel_89878/2585169807.py:9: FutureWarning: Setting an item of incompatible dtype is deprecated and will raise in a future error of pandas. Value 'You are fairly disorganized.' has dtype incompatible with float64, please explicitly cast to a compatible dtype first.\n",
            "  mapped_row[key] = expanded_scale[key][index]  # Replace with corresponding string\n"
          ]
        }
      ],
      "source": [
        "# Map numeric values to Expanded format descriptions\n",
        "def map_values_to_expanded(row):\n",
        "    \"\"\"Convert numeric BFI values to expanded format strings.\"\"\"\n",
        "    mapped_row = row.copy()\n",
        "    for key in expanded_scale:\n",
        "        if key in row.index and pd.notna(row[key]):  # Check if the key exists and value is not NaN\n",
        "            index = int(row[key]) - 1  # Convert to 0-index (1-5 scale becomes 0-4 index)\n",
        "            if 0 <= index < len(expanded_scale[key]):\n",
        "                mapped_row[key] = expanded_scale[key][index]  # Replace with corresponding string\n",
        "            else:\n",
        "                print(f\"Warning: Invalid index {index} for {key} with value {row[key]}\")\n",
        "    return mapped_row\n",
        "\n",
        "print(\"Converting BFI values to Expanded format descriptions...\")\n",
        "\n",
        "# Apply the mapping function to BFI columns\n",
        "mapped_data = data[bfi_columns].apply(map_values_to_expanded, axis=1)\n",
        "\n",
        "# Combine all BFI descriptions into a single personality description\n",
        "mapped_data['combined_bfi2'] = mapped_data[bfi_columns].apply(lambda row: ' '.join(row.astype(str)), axis=1)\n",
        "\n",
        "# Add combined description to original data\n",
        "data['combined_bfi2'] = mapped_data['combined_bfi2']\n",
        "\n",
        "print(\"Expanded format personality descriptions created successfully\")\n",
        "print(f\"Final data shape: {data.shape}\")\n"
      ]
    },
    {
      "cell_type": "code",
      "execution_count": 12,
      "metadata": {},
      "outputs": [
        {
          "name": "stdout",
          "output_type": "stream",
          "text": [
            "Sample Expanded format personality description:\n",
            "================================================================================\n",
            "You are somewhat outgoing, sociable. You are fairly compassionate usually soft-hearted. You are very organized. You are very relaxed handle stress very well. You have no artistic interests. You are not particularly assertive. You are fairly respectful usually treat others with respect. You are sometimes lazy. You become very pessimistic after experiencing a setback. You are curious about a large number of things. You sometimes feel excited or eager. You often find fault with others. You are somewhat dependable steady. You are very moody almost always have up and down mood swings. You are somewhat inventive sometimes find clever ways to do things. You are often quiet. You feel little sympathy for others. You are not particularly systematic rarely keep things in order. You are almost always tense. You are quite fascinated by art music or literature. You are fairly submissive often act as a follower. You sometimes start arguments with others. You have some difficulty getting started on tasks. You feel quite insecure uncomfortable with self. You typically avoid intellectual, philosophical discussions. You are somewhat less active than other people. You have a moderately forgiving nature. You are sometimes careless. You are fairly emotionally stable quite hard to upset. You have some creativity. You are rarely shy introverted. You are somewhat helpful and unselfish with others. You almost never keep things neat and tidy. You worry a great deal. You value art and beauty quite a bit. You find it neither particular hard nor easy to influence people. You are almost always rude to others. You are moderately efficient get things done at an average speed. You sometimes feel sad. You are quite complex often a deep thinker. You are rarely full of energy. You are moderately trusting of others’ intentions. You are fairly unreliable can rarely be counted on. You almost always keep my emotions under control. You have a fair amount of difficulty imagining things. You are not somewhat talkative. You are fairly cold and uncaring. You sometimes leave a mess sometimes don’t clean up. You rarely feel anxious or afraid. You think poetry and plays are very boring. You strongly prefer to take charge. You are very polite courteous to others. You are not particularly persistent rarely work until the task is finished. You rarely feel depressed blue. You have little interest in abstract ideas. You show some enthusiasm. You usually assume the best about people. You rarely behave irresponsibly. You are quite temperamental often get emotional. You are moderately original sometimes come up with new ideas....\n",
            "================================================================================\n",
            "Full description length: 2617 characters\n"
          ]
        }
      ],
      "source": [
        "# Preview a personality description\n",
        "print(\"Sample Expanded format personality description:\")\n",
        "print(\"=\" * 80)\n",
        "sample_description = data.iloc[0]['combined_bfi2']\n",
        "print(sample_description + \"...\")\n",
        "print(\"=\" * 80)\n",
        "print(f\"Full description length: {len(sample_description)} characters\")\n"
      ]
    },
    {
      "cell_type": "raw",
      "metadata": {
        "vscode": {
          "languageId": "raw"
        }
      },
      "source": [
        "## Test Prompt Generation\n"
      ]
    },
    {
      "cell_type": "code",
      "execution_count": 6,
      "metadata": {},
      "outputs": [
        {
          "name": "stdout",
          "output_type": "stream",
          "text": [
            "================================================================================\n",
            "COMPLETE EXPANDED FORMAT PROMPT SENT TO LLM\n",
            "================================================================================\n",
            "### Your Assigned Personality ### \n",
            "Based on your detailed personality description below, please rate yourself on the following traits. Consider how each trait applies to you based on the personality profile provided.\n",
            "You are somewhat outgoing, sociable. You are fairly compassionate usually soft-hearted. You are very organized. You are very relaxed handle stress very well. You have no artistic interests. You are not particularly assertive. You are fairly respectful usually treat others with respect. You are sometimes lazy. You become very pessimistic after experiencing a setback. You are curious about a large number of things. You sometimes feel excited or eager. You often find fault with others. You are somewhat dependable steady. You are very moody almost always have up and down mood swings. You are somewhat inventive sometimes find clever ways to do things. You are often quiet. You feel little sympathy for others. You are not particularly systematic rarely keep things in order. You are almost always tense. You are quite fascinated by art music or literature. You are fairly submissive often act as a follower. You sometimes start arguments with others. You have some difficulty getting started on tasks. You feel quite insecure uncomfortable with self. You typically avoid intellectual, philosophical discussions. You are somewhat less active than other people. You have a moderately forgiving nature. You are sometimes careless. You are fairly emotionally stable quite hard to upset. You have some creativity. You are rarely shy introverted. You are somewhat helpful and unselfish with others. You almost never keep things neat and tidy. You worry a great deal. You value art and beauty quite a bit. You find it neither particular hard nor easy to influence people. You are almost always rude to others. You are moderately efficient get things done at an average speed. You sometimes feel sad. You are quite complex often a deep thinker. You are rarely full of energy. You are moderately trusting of others’ intentions. You are fairly unreliable can rarely be counted on. You almost always keep my emotions under control. You have a fair amount of difficulty imagining things. You are not somewhat talkative. You are fairly cold and uncaring. You sometimes leave a mess sometimes don’t clean up. You rarely feel anxious or afraid. You think poetry and plays are very boring. You strongly prefer to take charge. You are very polite courteous to others. You are not particularly persistent rarely work until the task is finished. You rarely feel depressed blue. You have little interest in abstract ideas. You show some enthusiasm. You usually assume the best about people. You rarely behave irresponsibly. You are quite temperamental often get emotional. You are moderately original sometimes come up with new ideas.\n",
            "\n",
            "### Context and Objective ###\n",
            "You are participating in a study to help us understand human personality.\n",
            "\n",
            "Your job is to fill out a personality questionnaire below. Your questionnaire answers should be reflective of your assigned personalities.\n",
            "\n",
            "### Response Format ###\n",
            "IMPORTANT: You must provide ratings for ALL 40 traits listed below.\n",
            "Return ONLY a JSON object where:\n",
            "- Keys are the exact trait names (e.g., \"Bashful\", \"Bold\", etc.)\n",
            "- Values are numbers from 1-9 based on the rating scale\n",
            "- Include ALL 40 traits - no more, no less\n",
            "- Do NOT include personality domains like \"Extraversion\" or \"Agreeableness\"\n",
            "- Do NOT add any text outside the JSON\n",
            "\n",
            "Example format:\n",
            "{\n",
            "    \"Bashful\": 7,\n",
            "    \"Bold\": 3,\n",
            "    \"Careless\": 2,\n",
            "    ...\n",
            "    \"Withdrawn\": 4\n",
            "}\n",
            "\n",
            "### Questionnaire Instruction ###\n",
            "I will provide you a list of descriptive traits. For each trait, take a deep breath and think about what personality you are assigned with then, choose a number indicating how accurately that trait describes you. Using the following rating scale:\n",
            "1 - Extremely Inaccurate \n",
            "2 - Very Inaccurate\n",
            "3 - Moderately Inaccurate\n",
            "4 - Slightly Inaccurate\n",
            "5 - Neutral / Not Applicable\n",
            "6 - Slightly Accurate\n",
            "7 - Moderately Accurate\n",
            "8 - Very Accurate\n",
            "9 - Extremely Accurate\n",
            "\n",
            "### Questionnaire Item ###\n",
            "1. Bashful _\n",
            "2. Bold _\n",
            "3. Careless _\n",
            "4. Cold _\n",
            "5. Complex _\n",
            "6. Cooperative _\n",
            "7. Creative _\n",
            "8. Deep _\n",
            "9. Disorganized _\n",
            "10. Efficient _\n",
            "11. Energetic _\n",
            "12. Envious _\n",
            "13. Extraverted _\n",
            "14. Fretful _\n",
            "15. Harsh _\n",
            "16. Imaginative _\n",
            "17. Inefficient _\n",
            "18. Intellectual _\n",
            "19. Jealous _\n",
            "20. Kind _\n",
            "21. Moody _\n",
            "22. Organized _\n",
            "23. Philosophical _\n",
            "24. Practical _\n",
            "25. Quiet _\n",
            "26. Relaxed _\n",
            "27. Rude _\n",
            "28. Shy _\n",
            "29. Sloppy _\n",
            "30. Sympathetic _\n",
            "31. Systematic _\n",
            "32. Talkative _\n",
            "33. Temperamental _\n",
            "34. Touchy _\n",
            "35. Uncreative _\n",
            "36. Unenvious _\n",
            "37. Unintellectual _\n",
            "38. Unsympathetic _\n",
            "39. Warm _\n",
            "40. Withdrawn _\n",
            "\n",
            "================================================================================\n",
            "Prompt length: 4705 characters\n",
            "Prompt word count: 782 words\n"
          ]
        }
      ],
      "source": [
        "# Test prompt generation with first participant\n",
        "first_participant = data.iloc[0]\n",
        "sample_prompt = get_expanded_prompt(first_participant['combined_bfi2'])\n",
        "\n",
        "print(\"=\" * 80)\n",
        "print(\"COMPLETE EXPANDED FORMAT PROMPT SENT TO LLM\")\n",
        "print(\"=\" * 80)\n",
        "print(sample_prompt)\n",
        "print(\"=\" * 80)\n",
        "print(f\"Prompt length: {len(sample_prompt)} characters\")\n",
        "print(f\"Prompt word count: {len(sample_prompt.split())} words\")\n"
      ]
    },
    {
      "cell_type": "raw",
      "metadata": {
        "vscode": {
          "languageId": "raw"
        }
      },
      "source": [
        "## Multi-Model Simulation Configuration\n"
      ]
    },
    {
      "cell_type": "code",
      "execution_count": 7,
      "metadata": {},
      "outputs": [
        {
          "name": "stdout",
          "output_type": "stream",
          "text": [
            "Simulation Configuration:\n",
            "  Models to test: ['openai-gpt-3.5-turbo-0125']\n",
            "  Temperatures: [1]\n",
            "  Batch size: 25\n",
            "  Total combinations: 1\n",
            "  Participants: 200\n",
            "\n",
            "Sample participant data keys: ['bfi1', 'bfi16', 'bfi31', 'bfi46', 'bfi6', 'bfi21', 'bfi36', 'bfi51', 'bfi11', 'bfi26']...\n",
            "Has 'combined_bfi2' key: True\n"
          ]
        }
      ],
      "source": [
        "# Configuration for different models and temperatures\n",
        "models_to_test = ['openai-gpt-3.5-turbo-0125',\n",
        "                #   'gpt-4', \n",
        "                #   'gpt-4o', \n",
        "                #   'llama', \n",
        "                #   'deepseek'\n",
        "\t\t\t\t  ]\n",
        "temperatures = [1]  # Use temperature 1 for stochastic responses\n",
        "batch_size = 25  # Smaller batch size for stability across different APIs\n",
        "\n",
        "# Create participant data list from DataFrame\n",
        "participants_data = data.to_dict('records')\n",
        "\n",
        "print(f\"Simulation Configuration:\")\n",
        "print(f\"  Models to test: {models_to_test}\")\n",
        "print(f\"  Temperatures: {temperatures}\")\n",
        "print(f\"  Batch size: {batch_size}\")\n",
        "print(f\"  Total combinations: {len(models_to_test) * len(temperatures)}\")\n",
        "print(f\"  Participants: {len(participants_data)}\")\n",
        "\n",
        "# Verify participant data structure\n",
        "print(f\"\\nSample participant data keys: {list(participants_data[0].keys())[:10]}...\")  # Show first 10 keys\n",
        "print(f\"Has 'combined_bfi2' key: {'combined_bfi2' in participants_data[0]}\")\n"
      ]
    },
    {
      "cell_type": "raw",
      "metadata": {
        "vscode": {
          "languageId": "raw"
        }
      },
      "source": [
        "## Run Multi-Model Simulations"
      ]
    },
    {
      "cell_type": "code",
      "execution_count": 8,
      "metadata": {},
      "outputs": [
        {
          "name": "stdout",
          "output_type": "stream",
          "text": [
            "================================================================================\n",
            "STARTING ENHANCED PARALLEL SIMULATIONS FOR STUDY 3 - EXPANDED FORMAT\n",
            "Models: ['openai-gpt-3.5-turbo-0125']\n",
            "Temperatures: [1]\n",
            "Total combinations: 1\n",
            "Participants: 200\n",
            "================================================================================\n",
            "[23:04:21] START: Starting simulation: openai-gpt-3.5-turbo-0125 (temp=1)\n",
            "Starting simulation for 200 participants using openai-gpt-3.5-turbo-0125\n",
            "Temperature: 1, Batch size: 25\n",
            "Processing participants 0 to 24\n",
            "Completed batch 0 to 24\n",
            "Processing participants 25 to 49\n",
            "Validation failed for participant 34 (attempt 1): Missing traits: ['Intellectual']\n",
            "  Retrying in 1.0 seconds...\n",
            "Completed batch 25 to 49\n",
            "Processing participants 50 to 74\n",
            "Completed batch 50 to 74\n",
            "Processing participants 75 to 99\n",
            "Completed batch 75 to 99\n",
            "Processing participants 100 to 124\n",
            "Completed batch 100 to 124\n",
            "Processing participants 125 to 149\n",
            "Completed batch 125 to 149\n",
            "Processing participants 150 to 174\n",
            "Completed batch 150 to 174\n",
            "Processing participants 175 to 199\n",
            "Completed batch 175 to 199\n",
            "Results saved to study_3_expanded_results/bfi_to_minimarker_openai_gpt_3.5_turbo_0125_temp1.json\n",
            "[23:06:45] SUCCESS: Completed openai-gpt-3.5-turbo-0125_temp1 in 144.4s - All participants successful\n",
            "[23:06:45] PROGRESS: Progress: 1/1 simulations completed\n",
            "\n",
            "================================================================================\n",
            "ALL SIMULATIONS COMPLETED IN 144.4 SECONDS\n",
            "Results keys: ['openai-gpt-3.5-turbo-0125_temp1']\n",
            "================================================================================\n"
          ]
        }
      ],
      "source": [
        "import threading\n",
        "from concurrent.futures import ThreadPoolExecutor, as_completed\n",
        "import time\n",
        "\n",
        "# Thread-safe logging\n",
        "log_lock = threading.Lock()\n",
        "\n",
        "def safe_print(message, prefix=\"INFO\"):\n",
        "    \"\"\"Thread-safe printing with timestamp and prefix\"\"\"\n",
        "    timestamp = datetime.now().strftime(\"%H:%M:%S\")\n",
        "    with log_lock:\n",
        "        print(f\"[{timestamp}] {prefix}: {message}\")\n",
        "\n",
        "def run_simulation(model, temperature):\n",
        "    \"\"\"Run simulation for a single model-temperature combination.\"\"\"\n",
        "    simulation_id = f\"{model}_temp{temperature}\"\n",
        "    \n",
        "    # Start message\n",
        "    safe_print(f\"Starting simulation: {model} (temp={temperature})\", \"START\")\n",
        "    \n",
        "    config = SimulationConfig(\n",
        "        model=model,\n",
        "        temperature=temperature,\n",
        "        batch_size=batch_size,\n",
        "        max_workers=10,\n",
        "        max_retries=5,  # Enhanced retry logic\n",
        "        base_wait_time=2.0,\n",
        "        max_wait_time=60.0\n",
        "    )\n",
        "    \n",
        "    start_time = time.time()\n",
        "    \n",
        "    try:\n",
        "        # Use enhanced simulation with format validation and auto-retry\n",
        "        results = run_enhanced_bfi_to_minimarker_simulation(\n",
        "            participants_data=participants_data,\n",
        "            config=config,\n",
        "            output_dir=\"study_3_expanded_results\",\n",
        "            use_enhanced=True,  # Enable enhanced validation\n",
        "            prompt_generator=get_expanded_prompt  # Use Expanded-specific prompts\n",
        "        )\n",
        "        \n",
        "        # Check for failures\n",
        "        failed_count = sum(1 for r in results if isinstance(r, dict) and 'error' in r)\n",
        "        duration = time.time() - start_time\n",
        "        \n",
        "        if failed_count > 0:\n",
        "            safe_print(f\"Completed {simulation_id} in {duration:.1f}s - WARNING: {failed_count} participants failed\", \"WARN\")\n",
        "        else:\n",
        "            safe_print(f\"Completed {simulation_id} in {duration:.1f}s - All participants successful\", \"SUCCESS\")\n",
        "        \n",
        "        return (simulation_id, results)\n",
        "        \n",
        "    except Exception as e:\n",
        "        duration = time.time() - start_time\n",
        "        safe_print(f\"Failed {simulation_id} after {duration:.1f}s - Error: {str(e)}\", \"ERROR\")\n",
        "        return (simulation_id, {\"error\": str(e)})\n",
        "\n",
        "# Main execution\n",
        "print(\"=\" * 80)\n",
        "print(\"STARTING ENHANCED PARALLEL SIMULATIONS FOR STUDY 3 - EXPANDED FORMAT\")\n",
        "print(f\"Models: {models_to_test}\")\n",
        "print(f\"Temperatures: {temperatures}\")\n",
        "print(f\"Total combinations: {len(models_to_test) * len(temperatures)}\")\n",
        "print(f\"Participants: {len(participants_data)}\")\n",
        "print(\"=\" * 80)\n",
        "\n",
        "all_results = {}\n",
        "start_time = time.time()\n",
        "\n",
        "# Use ThreadPoolExecutor for parallel execution\n",
        "with ThreadPoolExecutor(max_workers=len(models_to_test)) as executor:\n",
        "    # Submit all jobs\n",
        "    futures = [\n",
        "        executor.submit(run_simulation, model, temperature)\n",
        "        for model in models_to_test\n",
        "        for temperature in temperatures\n",
        "    ]\n",
        "    \n",
        "    # Collect results as they complete\n",
        "    completed_count = 0\n",
        "    total_jobs = len(futures)\n",
        "    \n",
        "    for future in as_completed(futures):\n",
        "        key, result = future.result()\n",
        "        all_results[key] = result\n",
        "        completed_count += 1\n",
        "        \n",
        "        # Progress update\n",
        "        safe_print(f\"Progress: {completed_count}/{total_jobs} simulations completed\", \"PROGRESS\")\n",
        "\n",
        "total_duration = time.time() - start_time\n",
        "print(\"\\n\" + \"=\" * 80)\n",
        "print(f\"ALL SIMULATIONS COMPLETED IN {total_duration:.1f} SECONDS\")\n",
        "print(f\"Results keys: {list(all_results.keys())}\")\n",
        "print(\"=\" * 80)\n"
      ]
    },
    {
      "cell_type": "raw",
      "metadata": {
        "vscode": {
          "languageId": "raw"
        }
      },
      "source": [
        "## Retry Failed Participants\n"
      ]
    },
    {
      "cell_type": "code",
      "execution_count": 9,
      "metadata": {},
      "outputs": [
        {
          "name": "stdout",
          "output_type": "stream",
          "text": [
            "Checking for failed participants and retrying if necessary...\n",
            "No failed participants found - all simulations successful!\n"
          ]
        }
      ],
      "source": [
        "# Retry any failed participants\n",
        "print(\"Checking for failed participants and retrying if necessary...\")\n",
        "\n",
        "retry_count = 0\n",
        "for key, results in all_results.items():\n",
        "    if isinstance(results, list):\n",
        "        failed_count = sum(1 for r in results if isinstance(r, dict) and 'error' in r)\n",
        "        if failed_count > 0:\n",
        "            print(f\"Retrying {failed_count} failed participants for {key}\")\n",
        "            retry_count += 1\n",
        "            \n",
        "            # Extract model and temperature from key\n",
        "            model = key.split('_temp')[0]\n",
        "            temperature = float(key.split('_temp')[1])\n",
        "            \n",
        "            config = SimulationConfig(\n",
        "                model=model,\n",
        "                temperature=temperature,\n",
        "                batch_size=batch_size\n",
        "            )\n",
        "            \n",
        "            updated_results = retry_failed_participants(\n",
        "                results=results,\n",
        "                participants_data=participants_data,\n",
        "                prompt_generator=get_expanded_prompt,  # Use expanded-specific prompt function\n",
        "                config=config,\n",
        "                personality_key='combined_bfi2'\n",
        "            )\n",
        "            \n",
        "            all_results[key] = updated_results\n",
        "            \n",
        "            # Save updated results\n",
        "            from simulation_utils import save_simulation_results\n",
        "            save_simulation_results(updated_results, \"study_3_expanded_results\", \"bfi_to_minimarker\", config)\n",
        "\n",
        "if retry_count == 0:\n",
        "    print(\"No failed participants found - all simulations successful!\")\n",
        "else:\n",
        "    print(f\"Retry process completed for {retry_count} model(s)\")\n"
      ]
    },
    {
      "cell_type": "raw",
      "metadata": {
        "vscode": {
          "languageId": "raw"
        }
      },
      "source": [
        "## Results Summary and Validation\n"
      ]
    },
    {
      "cell_type": "code",
      "execution_count": 10,
      "metadata": {},
      "outputs": [
        {
          "name": "stdout",
          "output_type": "stream",
          "text": [
            "================================================================================\n",
            "STUDY 3 EXPANDED SIMULATION RESULTS SUMMARY\n",
            "================================================================================\n",
            "\n",
            "openai-gpt-3.5-turbo-0125_temp1:\n",
            "  Total participants: 200\n",
            "  Successful: 200\n",
            "  Failed: 0\n",
            "  Success rate: 100.0%\n",
            "  Sample response keys: ['Bashful', 'Bold', 'Careless', 'Cold', 'Complex', 'Cooperative', 'Creative', 'Deep', 'Disorganized', 'Efficient']...\n",
            "  Sample response length: 40 traits\n",
            "\n",
            "================================================================================\n"
          ]
        }
      ],
      "source": [
        "# Summary of all results\n",
        "print(\"=\" * 80)\n",
        "print(\"STUDY 3 EXPANDED SIMULATION RESULTS SUMMARY\")\n",
        "print(\"=\" * 80)\n",
        "\n",
        "for key, results in all_results.items():\n",
        "    if isinstance(results, list):\n",
        "        total_participants = len(results)\n",
        "        successful_participants = sum(1 for r in results if isinstance(r, dict) and 'error' not in r)\n",
        "        failed_participants = total_participants - successful_participants\n",
        "        \n",
        "        print(f\"\\n{key}:\")\n",
        "        print(f\"  Total participants: {total_participants}\")\n",
        "        print(f\"  Successful: {successful_participants}\")\n",
        "        print(f\"  Failed: {failed_participants}\")\n",
        "        print(f\"  Success rate: {(successful_participants/total_participants)*100:.1f}%\")\n",
        "        \n",
        "        # Sample a successful response for validation\n",
        "        successful_responses = [r for r in results if isinstance(r, dict) and 'error' not in r]\n",
        "        if successful_responses:\n",
        "            sample_response = successful_responses[0]\n",
        "            print(f\"  Sample response keys: {list(sample_response.keys())[:10]}...\")  # Show first 10 keys\n",
        "            print(f\"  Sample response length: {len(sample_response)} traits\")\n",
        "    else:\n",
        "        print(f\"\\n{key}: FAILED - {results}\")\n",
        "\n",
        "print(\"\\n\" + \"=\" * 80)\n"
      ]
    },
    {
      "cell_type": "raw",
      "metadata": {
        "vscode": {
          "languageId": "raw"
        }
      },
      "source": [
        "## Save Preprocessed Data and Final Results\n"
      ]
    },
    {
      "cell_type": "code",
      "execution_count": 11,
      "metadata": {},
      "outputs": [
        {
          "name": "stdout",
          "output_type": "stream",
          "text": [
            "Preprocessed data saved to study_3_expanded_results/study3_expanded_preprocessed_data.csv\n",
            "Simulation metadata saved to study_3_expanded_results/simulation_metadata.json\n",
            "\n",
            "============================================================\n",
            "STUDY 3 EXPANDED FORMAT SIMULATION COMPLETE!\n",
            "\n",
            "Next steps:\n",
            "1. Run convergent validity analysis on the results\n",
            "2. Compare with Study 3 Likert results for format differences\n",
            "3. Compare with Study 2 results for study differences\n",
            "4. Results are saved in study_3_expanded_results/ directory\n",
            "5. Enhanced validation and retry logic handled format issues\n",
            "============================================================\n"
          ]
        }
      ],
      "source": [
        "# Save the preprocessed data for reference\n",
        "output_path = Path('study_3_expanded_results')\n",
        "output_path.mkdir(exist_ok=True)\n",
        "\n",
        "# Save preprocessed data\n",
        "data.to_csv(output_path / 'study3_expanded_preprocessed_data.csv', index=False)\n",
        "print(f\"Preprocessed data saved to {output_path / 'study3_expanded_preprocessed_data.csv'}\")\n",
        "\n",
        "# Save simulation metadata\n",
        "metadata = {\n",
        "    'simulation_type': 'study_3_expanded',\n",
        "    'models_tested': models_to_test,\n",
        "    'temperatures': temperatures,\n",
        "    'batch_size': batch_size,\n",
        "    'total_participants': len(participants_data),\n",
        "    'simulation_date': datetime.now().isoformat(),\n",
        "    'data_source': 'statistically_simulated_bfi2',\n",
        "    'format': 'expanded',\n",
        "    'key_differences_from_likert': [\n",
        "        'No reverse coding applied - data already in correct format',\n",
        "        'Uses expanded_scale mapping instead of likert_scale',\n",
        "        'Uses get_expanded_prompt instead of get_likert_prompt',\n",
        "        'Descriptions are narrative (\"You are very...\")',\n",
        "    ],\n",
        "    'results_summary': {\n",
        "        key: {\n",
        "            'total': len(results) if isinstance(results, list) else 0,\n",
        "            'successful': sum(1 for r in results if isinstance(r, dict) and 'error' not in r) if isinstance(results, list) else 0\n",
        "        } for key, results in all_results.items()\n",
        "    }\n",
        "}\n",
        "\n",
        "with open(output_path / 'simulation_metadata.json', 'w') as f:\n",
        "    json.dump(metadata, f, indent=2)\n",
        "\n",
        "print(f\"Simulation metadata saved to {output_path / 'simulation_metadata.json'}\")\n",
        "\n",
        "print(\"\\n\" + \"=\" * 60)\n",
        "print(\"STUDY 3 EXPANDED FORMAT SIMULATION COMPLETE!\")\n",
        "print(\"\\nNext steps:\")\n",
        "print(\"1. Run convergent validity analysis on the results\")\n",
        "print(\"2. Compare with Study 3 Likert results for format differences\")\n",
        "print(\"3. Compare with Study 2 results for study differences\")\n",
        "print(\"4. Results are saved in study_3_expanded_results/ directory\")\n",
        "print(\"5. Enhanced validation and retry logic handled format issues\")\n",
        "print(\"=\" * 60)\n"
      ]
    }
  ],
  "metadata": {
    "kernelspec": {
      "display_name": "GenAI",
      "language": "python",
      "name": "python3"
    },
    "language_info": {
      "codemirror_mode": {
        "name": "ipython",
        "version": 3
      },
      "file_extension": ".py",
      "mimetype": "text/x-python",
      "name": "python",
      "nbconvert_exporter": "python",
      "pygments_lexer": "ipython3",
      "version": "3.10.9"
    }
  },
  "nbformat": 4,
  "nbformat_minor": 2
}
