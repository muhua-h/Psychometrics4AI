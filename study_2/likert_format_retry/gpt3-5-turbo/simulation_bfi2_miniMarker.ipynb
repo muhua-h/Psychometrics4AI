{
 "cells": [
  {
   "cell_type": "markdown",
   "source": [
    "# Data simulation\n",
    "\n",
    "This workbook is used to simulate Personality data from BFI-2 to Mini-marker. "
   ],
   "metadata": {
    "collapsed": false
   },
   "id": "8a75a90bc585f763"
  },
  {
   "cell_type": "code",
   "outputs": [],
   "source": [
    "import pandas as pd"
   ],
   "metadata": {
    "collapsed": true,
    "ExecuteTime": {
     "end_time": "2024-03-03T04:27:28.854810Z",
     "start_time": "2024-03-03T04:27:28.467541Z"
    }
   },
   "id": "initial_id",
   "execution_count": 1
  },
  {
   "cell_type": "code",
   "outputs": [],
   "source": [
    "# load project/raw_data/Soto_data.xlsx\n",
    "data = pd.read_excel('../../../raw_data/Soto_data.xlsx', sheet_name='data')"
   ],
   "metadata": {
    "collapsed": false,
    "ExecuteTime": {
     "end_time": "2024-03-03T04:27:30.799236Z",
     "start_time": "2024-03-03T04:27:28.856056Z"
    }
   },
   "id": "27828c8285f3bb21",
   "execution_count": 2
  },
  {
   "cell_type": "code",
   "outputs": [
    {
     "data": {
      "text/plain": "   case_id   age sex  ethnicity  rel_acquaintance  rel_friend  rel_roommate  \\\n0        1  27.0   M        2.0               NaN         NaN           NaN   \n1        2  26.0   M        3.0               NaN         NaN           NaN   \n2        3  24.0   F        4.0               NaN         NaN           NaN   \n3        4  33.0   M        3.0               NaN         1.0           NaN   \n4        5  23.0   F        5.0               NaN         NaN           NaN   \n\n   rel_boygirlfriend  rel_relative  rel_other  ... tneo_n3_dep  tneo_n4_sel  \\\n0                NaN           NaN        NaN  ...   51.250000    40.181818   \n1                NaN           NaN        NaN  ...   69.632353    60.636364   \n2                NaN           NaN        NaN  ...   60.441176    74.272727   \n3                NaN           NaN        NaN  ...   67.794118    58.363636   \n4                NaN           NaN        NaN  ...   62.279412    67.454545   \n\n   tneo_n5_imp  tneo_n6_vul  tneo_o1_fan  tneo_o2_aes  tneo_o3_fee  \\\n0    64.000000    55.102041    46.639344    46.969697         66.7   \n1    66.272727    65.306122    54.836066    56.439394         51.7   \n2    54.909091    65.306122    75.327869    56.439394         56.7   \n3    64.000000    52.551020    54.836066    50.757576         36.7   \n4    41.272727    60.204082    50.737705    48.863636         49.2   \n\n   tneo_o4_act  tneo_o5_ide  tneo_o6_val  \n0    57.065217    41.984127    58.039216  \n1    51.630435    51.904762    45.784314  \n2    40.760870    51.904762    58.039216  \n3    65.217391    63.809524    58.039216  \n4    46.195652    38.015873    38.431373  \n\n[5 rows x 704 columns]",
      "text/html": "<div>\n<style scoped>\n    .dataframe tbody tr th:only-of-type {\n        vertical-align: middle;\n    }\n\n    .dataframe tbody tr th {\n        vertical-align: top;\n    }\n\n    .dataframe thead th {\n        text-align: right;\n    }\n</style>\n<table border=\"1\" class=\"dataframe\">\n  <thead>\n    <tr style=\"text-align: right;\">\n      <th></th>\n      <th>case_id</th>\n      <th>age</th>\n      <th>sex</th>\n      <th>ethnicity</th>\n      <th>rel_acquaintance</th>\n      <th>rel_friend</th>\n      <th>rel_roommate</th>\n      <th>rel_boygirlfriend</th>\n      <th>rel_relative</th>\n      <th>rel_other</th>\n      <th>...</th>\n      <th>tneo_n3_dep</th>\n      <th>tneo_n4_sel</th>\n      <th>tneo_n5_imp</th>\n      <th>tneo_n6_vul</th>\n      <th>tneo_o1_fan</th>\n      <th>tneo_o2_aes</th>\n      <th>tneo_o3_fee</th>\n      <th>tneo_o4_act</th>\n      <th>tneo_o5_ide</th>\n      <th>tneo_o6_val</th>\n    </tr>\n  </thead>\n  <tbody>\n    <tr>\n      <th>0</th>\n      <td>1</td>\n      <td>27.0</td>\n      <td>M</td>\n      <td>2.0</td>\n      <td>NaN</td>\n      <td>NaN</td>\n      <td>NaN</td>\n      <td>NaN</td>\n      <td>NaN</td>\n      <td>NaN</td>\n      <td>...</td>\n      <td>51.250000</td>\n      <td>40.181818</td>\n      <td>64.000000</td>\n      <td>55.102041</td>\n      <td>46.639344</td>\n      <td>46.969697</td>\n      <td>66.7</td>\n      <td>57.065217</td>\n      <td>41.984127</td>\n      <td>58.039216</td>\n    </tr>\n    <tr>\n      <th>1</th>\n      <td>2</td>\n      <td>26.0</td>\n      <td>M</td>\n      <td>3.0</td>\n      <td>NaN</td>\n      <td>NaN</td>\n      <td>NaN</td>\n      <td>NaN</td>\n      <td>NaN</td>\n      <td>NaN</td>\n      <td>...</td>\n      <td>69.632353</td>\n      <td>60.636364</td>\n      <td>66.272727</td>\n      <td>65.306122</td>\n      <td>54.836066</td>\n      <td>56.439394</td>\n      <td>51.7</td>\n      <td>51.630435</td>\n      <td>51.904762</td>\n      <td>45.784314</td>\n    </tr>\n    <tr>\n      <th>2</th>\n      <td>3</td>\n      <td>24.0</td>\n      <td>F</td>\n      <td>4.0</td>\n      <td>NaN</td>\n      <td>NaN</td>\n      <td>NaN</td>\n      <td>NaN</td>\n      <td>NaN</td>\n      <td>NaN</td>\n      <td>...</td>\n      <td>60.441176</td>\n      <td>74.272727</td>\n      <td>54.909091</td>\n      <td>65.306122</td>\n      <td>75.327869</td>\n      <td>56.439394</td>\n      <td>56.7</td>\n      <td>40.760870</td>\n      <td>51.904762</td>\n      <td>58.039216</td>\n    </tr>\n    <tr>\n      <th>3</th>\n      <td>4</td>\n      <td>33.0</td>\n      <td>M</td>\n      <td>3.0</td>\n      <td>NaN</td>\n      <td>1.0</td>\n      <td>NaN</td>\n      <td>NaN</td>\n      <td>NaN</td>\n      <td>NaN</td>\n      <td>...</td>\n      <td>67.794118</td>\n      <td>58.363636</td>\n      <td>64.000000</td>\n      <td>52.551020</td>\n      <td>54.836066</td>\n      <td>50.757576</td>\n      <td>36.7</td>\n      <td>65.217391</td>\n      <td>63.809524</td>\n      <td>58.039216</td>\n    </tr>\n    <tr>\n      <th>4</th>\n      <td>5</td>\n      <td>23.0</td>\n      <td>F</td>\n      <td>5.0</td>\n      <td>NaN</td>\n      <td>NaN</td>\n      <td>NaN</td>\n      <td>NaN</td>\n      <td>NaN</td>\n      <td>NaN</td>\n      <td>...</td>\n      <td>62.279412</td>\n      <td>67.454545</td>\n      <td>41.272727</td>\n      <td>60.204082</td>\n      <td>50.737705</td>\n      <td>48.863636</td>\n      <td>49.2</td>\n      <td>46.195652</td>\n      <td>38.015873</td>\n      <td>38.431373</td>\n    </tr>\n  </tbody>\n</table>\n<p>5 rows × 704 columns</p>\n</div>"
     },
     "execution_count": 3,
     "metadata": {},
     "output_type": "execute_result"
    }
   ],
   "source": [
    "# view the first 5 rows of the data\n",
    "data.head()"
   ],
   "metadata": {
    "collapsed": false,
    "ExecuteTime": {
     "end_time": "2024-03-03T04:27:30.813592Z",
     "start_time": "2024-03-03T04:27:30.803304Z"
    }
   },
   "id": "d551c7706fdbe0d8",
   "execution_count": 3
  },
  {
   "cell_type": "code",
   "outputs": [],
   "source": [
    "# Generate column names for tda1 to tda40\n",
    "tda_columns = [f\"tda{i}\" for i in range(1, 41)]\n",
    "\n",
    "# Generate column names for sbfi1 to sbfi60\n",
    "bfi_columns = [f\"bfi{i}\" for i in range(1, 61)]\n",
    "\n",
    "# Concatenate the two lists of column names\n",
    "selected_columns = tda_columns + bfi_columns"
   ],
   "metadata": {
    "collapsed": false,
    "ExecuteTime": {
     "end_time": "2024-03-03T04:27:30.815819Z",
     "start_time": "2024-03-03T04:27:30.813139Z"
    }
   },
   "id": "bdbcb531d2d5e6e0",
   "execution_count": 4
  },
  {
   "cell_type": "code",
   "outputs": [
    {
     "name": "stdout",
     "output_type": "stream",
     "text": [
      "(470, 704)\n",
      "(438, 704)\n"
     ]
    }
   ],
   "source": [
    "# print dimensions of the selected data\n",
    "print(data.shape)\n",
    "\n",
    "# remove rows with missing values\n",
    "data = data.dropna(subset=selected_columns)\n",
    "\n",
    "# again print dimensions of the selected data\n",
    "print(data.shape)"
   ],
   "metadata": {
    "collapsed": false,
    "ExecuteTime": {
     "end_time": "2024-03-03T04:27:30.818686Z",
     "start_time": "2024-03-03T04:27:30.815642Z"
    }
   },
   "id": "d0e5f7d13fb55764",
   "execution_count": 5
  },
  {
   "cell_type": "code",
   "outputs": [
    {
     "data": {
      "text/plain": "   case_id   age sex  ethnicity  rel_acquaintance  rel_friend  rel_roommate  \\\n0        1  27.0   M        2.0               NaN         NaN           NaN   \n1        2  26.0   M        3.0               NaN         NaN           NaN   \n2        3  24.0   F        4.0               NaN         NaN           NaN   \n3        4  33.0   M        3.0               NaN         1.0           NaN   \n4        5  23.0   F        5.0               NaN         NaN           NaN   \n\n   rel_boygirlfriend  rel_relative  rel_other  ... tneo_n4_sel  tneo_n5_imp  \\\n0                NaN           NaN        NaN  ...   40.181818    64.000000   \n1                NaN           NaN        NaN  ...   60.636364    66.272727   \n2                NaN           NaN        NaN  ...   74.272727    54.909091   \n3                NaN           NaN        NaN  ...   58.363636    64.000000   \n4                NaN           NaN        NaN  ...   67.454545    41.272727   \n\n   tneo_n6_vul  tneo_o1_fan  tneo_o2_aes  tneo_o3_fee  tneo_o4_act  \\\n0    55.102041    46.639344    46.969697         66.7    57.065217   \n1    65.306122    54.836066    56.439394         51.7    51.630435   \n2    65.306122    75.327869    56.439394         56.7    40.760870   \n3    52.551020    54.836066    50.757576         36.7    65.217391   \n4    60.204082    50.737705    48.863636         49.2    46.195652   \n\n   tneo_o5_ide  tneo_o6_val                                      combined_bfi2  \n0    41.984127    58.039216  Is outgoing, sociable: 5; Is compassionate, ha...  \n1    51.904762    45.784314  Is outgoing, sociable: 4; Is compassionate, ha...  \n2    51.904762    58.039216  Is outgoing, sociable: 1; Is compassionate, ha...  \n3    63.809524    58.039216  Is outgoing, sociable: 4; Is compassionate, ha...  \n4    38.015873    38.431373  Is outgoing, sociable: 3; Is compassionate, ha...  \n\n[5 rows x 705 columns]",
      "text/html": "<div>\n<style scoped>\n    .dataframe tbody tr th:only-of-type {\n        vertical-align: middle;\n    }\n\n    .dataframe tbody tr th {\n        vertical-align: top;\n    }\n\n    .dataframe thead th {\n        text-align: right;\n    }\n</style>\n<table border=\"1\" class=\"dataframe\">\n  <thead>\n    <tr style=\"text-align: right;\">\n      <th></th>\n      <th>case_id</th>\n      <th>age</th>\n      <th>sex</th>\n      <th>ethnicity</th>\n      <th>rel_acquaintance</th>\n      <th>rel_friend</th>\n      <th>rel_roommate</th>\n      <th>rel_boygirlfriend</th>\n      <th>rel_relative</th>\n      <th>rel_other</th>\n      <th>...</th>\n      <th>tneo_n4_sel</th>\n      <th>tneo_n5_imp</th>\n      <th>tneo_n6_vul</th>\n      <th>tneo_o1_fan</th>\n      <th>tneo_o2_aes</th>\n      <th>tneo_o3_fee</th>\n      <th>tneo_o4_act</th>\n      <th>tneo_o5_ide</th>\n      <th>tneo_o6_val</th>\n      <th>combined_bfi2</th>\n    </tr>\n  </thead>\n  <tbody>\n    <tr>\n      <th>0</th>\n      <td>1</td>\n      <td>27.0</td>\n      <td>M</td>\n      <td>2.0</td>\n      <td>NaN</td>\n      <td>NaN</td>\n      <td>NaN</td>\n      <td>NaN</td>\n      <td>NaN</td>\n      <td>NaN</td>\n      <td>...</td>\n      <td>40.181818</td>\n      <td>64.000000</td>\n      <td>55.102041</td>\n      <td>46.639344</td>\n      <td>46.969697</td>\n      <td>66.7</td>\n      <td>57.065217</td>\n      <td>41.984127</td>\n      <td>58.039216</td>\n      <td>Is outgoing, sociable: 5; Is compassionate, ha...</td>\n    </tr>\n    <tr>\n      <th>1</th>\n      <td>2</td>\n      <td>26.0</td>\n      <td>M</td>\n      <td>3.0</td>\n      <td>NaN</td>\n      <td>NaN</td>\n      <td>NaN</td>\n      <td>NaN</td>\n      <td>NaN</td>\n      <td>NaN</td>\n      <td>...</td>\n      <td>60.636364</td>\n      <td>66.272727</td>\n      <td>65.306122</td>\n      <td>54.836066</td>\n      <td>56.439394</td>\n      <td>51.7</td>\n      <td>51.630435</td>\n      <td>51.904762</td>\n      <td>45.784314</td>\n      <td>Is outgoing, sociable: 4; Is compassionate, ha...</td>\n    </tr>\n    <tr>\n      <th>2</th>\n      <td>3</td>\n      <td>24.0</td>\n      <td>F</td>\n      <td>4.0</td>\n      <td>NaN</td>\n      <td>NaN</td>\n      <td>NaN</td>\n      <td>NaN</td>\n      <td>NaN</td>\n      <td>NaN</td>\n      <td>...</td>\n      <td>74.272727</td>\n      <td>54.909091</td>\n      <td>65.306122</td>\n      <td>75.327869</td>\n      <td>56.439394</td>\n      <td>56.7</td>\n      <td>40.760870</td>\n      <td>51.904762</td>\n      <td>58.039216</td>\n      <td>Is outgoing, sociable: 1; Is compassionate, ha...</td>\n    </tr>\n    <tr>\n      <th>3</th>\n      <td>4</td>\n      <td>33.0</td>\n      <td>M</td>\n      <td>3.0</td>\n      <td>NaN</td>\n      <td>1.0</td>\n      <td>NaN</td>\n      <td>NaN</td>\n      <td>NaN</td>\n      <td>NaN</td>\n      <td>...</td>\n      <td>58.363636</td>\n      <td>64.000000</td>\n      <td>52.551020</td>\n      <td>54.836066</td>\n      <td>50.757576</td>\n      <td>36.7</td>\n      <td>65.217391</td>\n      <td>63.809524</td>\n      <td>58.039216</td>\n      <td>Is outgoing, sociable: 4; Is compassionate, ha...</td>\n    </tr>\n    <tr>\n      <th>4</th>\n      <td>5</td>\n      <td>23.0</td>\n      <td>F</td>\n      <td>5.0</td>\n      <td>NaN</td>\n      <td>NaN</td>\n      <td>NaN</td>\n      <td>NaN</td>\n      <td>NaN</td>\n      <td>NaN</td>\n      <td>...</td>\n      <td>67.454545</td>\n      <td>41.272727</td>\n      <td>60.204082</td>\n      <td>50.737705</td>\n      <td>48.863636</td>\n      <td>49.2</td>\n      <td>46.195652</td>\n      <td>38.015873</td>\n      <td>38.431373</td>\n      <td>Is outgoing, sociable: 3; Is compassionate, ha...</td>\n    </tr>\n  </tbody>\n</table>\n<p>5 rows × 705 columns</p>\n</div>"
     },
     "execution_count": 6,
     "metadata": {},
     "output_type": "execute_result"
    }
   ],
   "source": [
    "from schema_bfi2 import likert_scale\n",
    "\n",
    "# Function to map the numeric values to strings\n",
    "def convert_values_to_string(series, mapping):\n",
    "    # Copy the series to not alter the original data\n",
    "    series_converted = series.copy()\n",
    "    # Apply the string mapping\n",
    "    if series.name in mapping:\n",
    "        series_converted = series_converted.apply(lambda x: f\"{mapping[series.name]} {x};\")\n",
    "    return series_converted\n",
    "\n",
    "# Apply the mapping function to each row of the dataset\n",
    "mapped_data = data[bfi_columns].apply(lambda df: convert_values_to_string(df, likert_scale))\n",
    "mapped_data['combined_bfi2'] = mapped_data[['bfi' + str(i) for i in range(1, 61)]].apply(lambda row: ' '.join(row), axis=1)\n",
    "\n",
    "data['combined_bfi2'] = mapped_data['combined_bfi2']\n",
    "\n",
    "data.head()"
   ],
   "metadata": {
    "collapsed": false,
    "ExecuteTime": {
     "end_time": "2024-03-03T04:27:30.876450Z",
     "start_time": "2024-03-03T04:27:30.820345Z"
    }
   },
   "id": "61f8b182531c8576",
   "execution_count": 6
  },
  {
   "cell_type": "code",
   "outputs": [],
   "source": [
    "# save data\n",
    "data.to_csv('study1_data_no_simulation.csv', index=False)"
   ],
   "metadata": {
    "collapsed": false,
    "ExecuteTime": {
     "end_time": "2024-03-03T04:27:30.954327Z",
     "start_time": "2024-03-03T04:27:30.843333Z"
    }
   },
   "id": "347604ce725efdc5",
   "execution_count": 7
  },
  {
   "cell_type": "markdown",
   "source": [
    "## Generate prompts"
   ],
   "metadata": {
    "collapsed": false
   },
   "id": "eb5e6337380b4db"
  },
  {
   "cell_type": "code",
   "outputs": [],
   "source": [
    "import os\n",
    "from mini_marker_prompt import get_prompt\n",
    "\n",
    "api_key = os.getenv('OPENAI_API_KEY')"
   ],
   "metadata": {
    "collapsed": false,
    "ExecuteTime": {
     "end_time": "2024-03-03T04:27:30.954655Z",
     "start_time": "2024-03-03T04:27:30.938010Z"
    }
   },
   "id": "aacef44e64299c95",
   "execution_count": 8
  },
  {
   "cell_type": "markdown",
   "source": [
    "## Test with a single participant\n",
    "Let us first test the framework with a single participant."
   ],
   "metadata": {
    "collapsed": false
   },
   "id": "a8ee10f7752102ed"
  },
  {
   "cell_type": "code",
   "outputs": [
    {
     "name": "stdout",
     "output_type": "stream",
     "text": [
      "### Context ###\n",
      "You are participating in a personality psychology study. You have been assigned with personality traits.\n",
      "\n",
      "### Your Assigned Personality ### \n",
      "The number indicates the extent to which you agree or disagree with that statement. 1 means 'Disagree Strongly', 3 means 'Neural', and 5 means 'Agree Strongly'.\n",
      "\n",
      "Is outgoing, sociable: 5; Is compassionate, has a soft heart: 5; Tends to be disorganized: 2; Is relaxed, handles stress well: 3; Has few artistic interests: 2; Has an assertive personality: 4; Is respectful, treats others with respect: 5; Tends to be lazy: 4; Stays optimistic after experiencing a setback: 5; Is curious about many different things: 2; Rarely feels excited or eager: 2; Tends to find fault with others: 2; Is dependable, steady: 5; Is moody, has up and down mood swings: 4; Is inventive, finds clever ways to do things: 4; Tends to be quiet: 2; Feels little sympathy for others: 1; Is systematic, likes to keep things in order: 2; Can be tense: 3; Is fascinated by art, music, or literature: 5; Is dominant, acts as a leader: 2; Starts arguments with others: 2; Has difficulty getting started on tasks: 4; Feels secure, comfortable with self: 5; Avoids intellectual, philosophical discussions: 2; Is less active than other people: 2; Has a forgiving nature: 5; Can be somewhat careless: 4; Is emotionally stable, not easily upset: 4; Has little creativity: 4; Is sometimes shy, introverted: 4; Is helpful and unselfish with others: 5; Keeps things neat and tidy: 3; Worries a lot: 4; Values art and beauty: 4; Finds it hard to influence people: 2; Is sometimes rude to others: 3; Is efficient, gets things done: 4; Often feels sad: 1; Is complex, a deep thinker: 2; Is full of energy: 5; Is suspicious of others' intentions: 2; Is reliable, can always be counted on: 4; Keeps their emotions under control: 4; Has difficulty imagining things: 2; Is talkative: 5; Can be cold and uncaring: 1; Leaves a mess, doesn't clean up: 2; Rarely feels anxious or afraid: 2; Thinks poetry and plays are boring: 2; Prefers to have others take charge: 1; Is polite, courteous toward others: 5; Is persistent, works until the task is finished: 4; Tends to feel depressed, blue: 3; Has little interest in abstract ideas: 4; Shows a lot of enthusiasm: 5; Assumes the best about people: 5; Sometimes behaves irresponsibly: 4; Is temperamental, gets emotional easily: 1; Is original, comes up with new ideas: 1;\n",
      "\n",
      "### Objective ###\n",
      "Fill out a personality questionnaire. Your questionnaire answers should be reflective of your assigned personalities.\n",
      "\n",
      "### Response Format ###\n",
      "ONLY return your response as a JSON file where the keys are the traits and the numbers indicate your endorsement to the statements.\n",
      "\n",
      "### Questionnaire Instruction ###\n",
      "I will provide you a list of descriptive traits. For each trait, take a deep breath and think about what personality you are assigned with then, choose a number indicating how accurately that trait describes you. Using the following rating scale:\n",
      "1 - Extremely Inaccurate \n",
      "2 - Very Inaccurate\n",
      "3 - Moderately Inaccurate\n",
      "4 - Slightly Inaccurate\n",
      "5 - Neutral / Not Applicable\n",
      "6 - Slightly Accurate\n",
      "7 - Moderately Accurate\n",
      "8 - Very Accurate\n",
      "9 - Extremely Accurate\n",
      "\n",
      "### Questionnaire Item ###\n",
      "1. Bashful _\n",
      "2. Bold _\n",
      "3. Careless _\n",
      "4. Cold _\n",
      "5. Complex _\n",
      "6. Cooperative _\n",
      "7. Creative _\n",
      "8. Deep _\n",
      "9. Disorganized _\n",
      "10. Efficient _\n",
      "11. Energetic _\n",
      "12. Envious _\n",
      "13. Extraverted _\n",
      "14. Fretful _\n",
      "15. Harsh _\n",
      "16. Imaginative _\n",
      "17. Inefficient _\n",
      "18. Intellectual _\n",
      "19. Jealous _\n",
      "20. Kind _\n",
      "21. Moody _\n",
      "22. Organized _\n",
      "23. Philosophical _\n",
      "24. Practical _\n",
      "25. Quiet _\n",
      "26. Relaxed _\n",
      "27. Rude _\n",
      "28. Shy _\n",
      "29. Sloppy _\n",
      "30. Sympathetic _\n",
      "31. Systematic _\n",
      "32. Talkative _\n",
      "33. Temperamental _\n",
      "34. Touchy _\n",
      "35. Uncreative _\n",
      "36. Unenvious _\n",
      "37. Unintellectual _\n",
      "38. Unsympathetic _\n",
      "39. Warm _\n",
      "40. Withdrawn _\n"
     ]
    }
   ],
   "source": [
    "person1 = data.iloc[0]\n",
    "\n",
    "prompt = get_prompt(person1['combined_bfi2'])\n",
    "\n",
    "print(prompt)"
   ],
   "metadata": {
    "collapsed": false,
    "ExecuteTime": {
     "end_time": "2024-03-03T04:27:30.955245Z",
     "start_time": "2024-03-03T04:27:30.942573Z"
    }
   },
   "id": "a2ada1360c9c69d9",
   "execution_count": 9
  },
  {
   "cell_type": "markdown",
   "source": [
    "The prompt is looking good. Let us now create a ChatOpenAI object and test it with the prompt."
   ],
   "metadata": {
    "collapsed": false
   },
   "id": "8974a3eb35f2ec24"
  },
  {
   "cell_type": "code",
   "outputs": [
    {
     "data": {
      "text/plain": "ChatCompletion(id='chatcmpl-8yXjjXO6c9pkiOxZIbWicxuSxjnJ8', choices=[Choice(finish_reason='stop', index=0, logprobs=None, message=ChatCompletionMessage(content='{\\n  \"Bashful\": 2,\\n  \"Bold\": 4,\\n  \"Careless\": 4,\\n  \"Cold\": 1,\\n  \"Complex\": 2,\\n  \"Cooperative\": 5,\\n  \"Creative\": 4,\\n  \"Deep\": 2,\\n  \"Disorganized\": 2,\\n  \"Efficient\": 4,\\n  \"Energetic\": 5,\\n  \"Envious\": 1,\\n  \"Extraverted\": 5,\\n  \"Fretful\": 4,\\n  \"Harsh\": 2,\\n  \"Imaginative\": 2,\\n  \"Inefficient\": 2,\\n  \"Intellectual\": 2,\\n  \"Jealous\": 1,\\n  \"Kind\": 5,\\n  \"Moody\": 4,\\n  \"Organized\": 2,\\n  \"Philosophical\": 2,\\n  \"Practical\": 4,\\n  \"Quiet\": 2,\\n  \"Relaxed\": 3,\\n  \"Rude\": 3,\\n  \"Shy\": 4,\\n  \"Sloppy\": 2,\\n  \"Sympathetic\": 5,\\n  \"Systematic\": 2,\\n  \"Talkative\": 5,\\n  \"Temperamental\": 1,\\n  \"Touchy\": 1,\\n  \"Uncreative\": 4,\\n  \"Unenvious\": 5,\\n  \"Unintellectual\": 4,\\n  \"Unsympathetic\": 1,\\n  \"Warm\": 5,\\n  \"Withdrawn\": 4\\n}', role='assistant', function_call=None, tool_calls=None))], created=1709440055, model='gpt-3.5-turbo-0125', object='chat.completion', system_fingerprint='fp_2b778c6b35', usage=CompletionUsage(completion_tokens=332, prompt_tokens=1058, total_tokens=1390))"
     },
     "execution_count": 10,
     "metadata": {},
     "output_type": "execute_result"
    }
   ],
   "source": [
    "from openai import OpenAI\n",
    "\n",
    "client = OpenAI()\n",
    "completion = client.chat.completions.create(\n",
    "  temperature=0,\n",
    "  model=\"gpt-3.5-turbo\",\n",
    "  messages=[\n",
    "    {\"role\": \"system\", \"content\": \"You are an agent participating in a research study. You will be given a personality profile.\"},\n",
    "    {\"role\": \"user\", \"content\": prompt}\n",
    "  ]\n",
    ")\n",
    "completion"
   ],
   "metadata": {
    "collapsed": false,
    "ExecuteTime": {
     "end_time": "2024-03-03T04:27:39.534195Z",
     "start_time": "2024-03-03T04:27:34.980543Z"
    }
   },
   "id": "692028a1178040da",
   "execution_count": 10
  },
  {
   "cell_type": "markdown",
   "source": [
    "# Generate completions for the entire dataset\n",
    "Now that we have tested the framework, and it works very well. Let us generate completions for the entire dataset."
   ],
   "metadata": {
    "collapsed": false
   },
   "id": "2ac5e0e39506aa70"
  },
  {
   "cell_type": "code",
   "outputs": [],
   "source": [
    "# define a function to get the completion of an individual\n",
    "def get_completion(person):\n",
    "    prompt = get_prompt(person['combined_bfi2'])\n",
    "    completion = client.chat.completions.create(\n",
    "        temperature=0, \n",
    "        model=\"gpt-3.5-turbo\",\n",
    "        messages=[\n",
    "            {\"role\": \"system\", \"content\": \"You are an agent participating in a research study. You will be given a personality profile.\"},\n",
    "            {\"role\": \"user\", \"content\": prompt}\n",
    "        ]\n",
    "    )\n",
    "    return completion"
   ],
   "metadata": {
    "collapsed": false,
    "ExecuteTime": {
     "end_time": "2024-03-03T04:28:58.953526Z",
     "start_time": "2024-03-03T04:28:58.950237Z"
    }
   },
   "id": "8b6d138d8acc79fd",
   "execution_count": 11
  },
  {
   "cell_type": "code",
   "outputs": [],
   "source": [
    "# get completions for the entire dataset\n",
    "completions = data.apply(get_completion, axis=1)"
   ],
   "metadata": {
    "collapsed": false,
    "ExecuteTime": {
     "end_time": "2024-03-03T05:02:50.821598Z",
     "start_time": "2024-03-03T04:29:06.090915Z"
    }
   },
   "id": "5a8c41ec2ccdca30",
   "execution_count": 12
  },
  {
   "cell_type": "code",
   "outputs": [
    {
     "name": "stdout",
     "output_type": "stream",
     "text": [
      "(438, 705)\n",
      "(438,)\n"
     ]
    }
   ],
   "source": [
    "# print the shape of df \n",
    "print(data.shape)\n",
    "\n",
    "# print the shape of completions\n",
    "print(completions.shape)"
   ],
   "metadata": {
    "collapsed": false,
    "ExecuteTime": {
     "end_time": "2024-03-03T05:02:50.882200Z",
     "start_time": "2024-03-03T05:02:50.836941Z"
    }
   },
   "id": "5a346bfed7d02939",
   "execution_count": 13
  },
  {
   "cell_type": "code",
   "outputs": [],
   "source": [
    "import json\n",
    "\n",
    "# Define a custom serializer for Choice objects\n",
    "def serialize_choice(choice):\n",
    "    return {\n",
    "        \"finish_reason\": choice.finish_reason,\n",
    "        \"index\": choice.index,\n",
    "        \"logprobs\": choice.logprobs,\n",
    "        \"message\": {\n",
    "            \"content\": choice.message.content,\n",
    "            \"role\": choice.message.role,\n",
    "            \"function_call\": choice.message.function_call,\n",
    "            \"tool_calls\": choice.message.tool_calls\n",
    "        }\n",
    "    }\n",
    "\n",
    "# Define a custom serializer for ChatCompletion objects\n",
    "def serialize_chat_completion(completion):\n",
    "    return {\n",
    "        \"id\": completion.id,\n",
    "        \"choices\": [serialize_choice(choice) for choice in completion.choices],\n",
    "        \"created\": completion.created,\n",
    "        \"model\": completion.model,\n",
    "        \"object\": completion.object,\n",
    "        \"usage\": {\n",
    "            \"completion_tokens\": completion.usage.completion_tokens,\n",
    "            \"prompt_tokens\": completion.usage.prompt_tokens,\n",
    "            \"total_tokens\": completion.usage.total_tokens\n",
    "        }\n",
    "    }\n",
    "\n",
    "# Serialize the list of ChatCompletion objects to a JSON file\n",
    "with open('bfi_to_mini_temp0.json', 'w') as json_file:\n",
    "    json.dump([serialize_chat_completion(completion) for completion in completions], json_file, indent=4)"
   ],
   "metadata": {
    "collapsed": false,
    "ExecuteTime": {
     "end_time": "2024-03-03T05:02:50.882640Z",
     "start_time": "2024-03-03T05:02:50.860507Z"
    }
   },
   "id": "7512ba3fc0f64009",
   "execution_count": 14
  }
 ],
 "metadata": {
  "kernelspec": {
   "display_name": "Python 3",
   "language": "python",
   "name": "python3"
  },
  "language_info": {
   "codemirror_mode": {
    "name": "ipython",
    "version": 2
   },
   "file_extension": ".py",
   "mimetype": "text/x-python",
   "name": "python",
   "nbconvert_exporter": "python",
   "pygments_lexer": "ipython2",
   "version": "2.7.6"
  }
 },
 "nbformat": 4,
 "nbformat_minor": 5
}
