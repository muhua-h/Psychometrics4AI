{
 "cells": [
  {
   "cell_type": "markdown",
   "source": [
    "# Data simulation\n",
    "\n",
    "This workbook is used to simulate Personality data from BFI-2 to Mini-marker. "
   ],
   "metadata": {
    "collapsed": false
   },
   "id": "8a75a90bc585f763"
  },
  {
   "cell_type": "code",
   "outputs": [],
   "source": [
    "import pandas as pd"
   ],
   "metadata": {
    "collapsed": true,
    "ExecuteTime": {
     "end_time": "2024-04-18T02:09:15.603875Z",
     "start_time": "2024-04-18T02:09:15.056004Z"
    }
   },
   "id": "initial_id",
   "execution_count": 1
  },
  {
   "cell_type": "code",
   "outputs": [],
   "source": [
    "# load project/raw_data/Soto_data.xlsx\n",
    "data = pd.read_excel('/Users/mhhuang/Library/CloudStorage/OneDrive-TheUniversityofChicago/UChi_Course/MPCS 57200/project/raw_data/Soto_data.xlsx', sheet_name='data')"
   ],
   "metadata": {
    "collapsed": false,
    "ExecuteTime": {
     "end_time": "2024-04-18T02:09:17.654768Z",
     "start_time": "2024-04-18T02:09:15.604558Z"
    }
   },
   "id": "27828c8285f3bb21",
   "execution_count": 2
  },
  {
   "cell_type": "code",
   "outputs": [
    {
     "data": {
      "text/plain": "   case_id   age sex  ethnicity  rel_acquaintance  rel_friend  rel_roommate  \\\n0        1  27.0   M        2.0               NaN         NaN           NaN   \n1        2  26.0   M        3.0               NaN         NaN           NaN   \n2        3  24.0   F        4.0               NaN         NaN           NaN   \n3        4  33.0   M        3.0               NaN         1.0           NaN   \n4        5  23.0   F        5.0               NaN         NaN           NaN   \n\n   rel_boygirlfriend  rel_relative  rel_other  ... tneo_n3_dep  tneo_n4_sel  \\\n0                NaN           NaN        NaN  ...   51.250000    40.181818   \n1                NaN           NaN        NaN  ...   69.632353    60.636364   \n2                NaN           NaN        NaN  ...   60.441176    74.272727   \n3                NaN           NaN        NaN  ...   67.794118    58.363636   \n4                NaN           NaN        NaN  ...   62.279412    67.454545   \n\n   tneo_n5_imp  tneo_n6_vul  tneo_o1_fan  tneo_o2_aes  tneo_o3_fee  \\\n0    64.000000    55.102041    46.639344    46.969697         66.7   \n1    66.272727    65.306122    54.836066    56.439394         51.7   \n2    54.909091    65.306122    75.327869    56.439394         56.7   \n3    64.000000    52.551020    54.836066    50.757576         36.7   \n4    41.272727    60.204082    50.737705    48.863636         49.2   \n\n   tneo_o4_act  tneo_o5_ide  tneo_o6_val  \n0    57.065217    41.984127    58.039216  \n1    51.630435    51.904762    45.784314  \n2    40.760870    51.904762    58.039216  \n3    65.217391    63.809524    58.039216  \n4    46.195652    38.015873    38.431373  \n\n[5 rows x 704 columns]",
      "text/html": "<div>\n<style scoped>\n    .dataframe tbody tr th:only-of-type {\n        vertical-align: middle;\n    }\n\n    .dataframe tbody tr th {\n        vertical-align: top;\n    }\n\n    .dataframe thead th {\n        text-align: right;\n    }\n</style>\n<table border=\"1\" class=\"dataframe\">\n  <thead>\n    <tr style=\"text-align: right;\">\n      <th></th>\n      <th>case_id</th>\n      <th>age</th>\n      <th>sex</th>\n      <th>ethnicity</th>\n      <th>rel_acquaintance</th>\n      <th>rel_friend</th>\n      <th>rel_roommate</th>\n      <th>rel_boygirlfriend</th>\n      <th>rel_relative</th>\n      <th>rel_other</th>\n      <th>...</th>\n      <th>tneo_n3_dep</th>\n      <th>tneo_n4_sel</th>\n      <th>tneo_n5_imp</th>\n      <th>tneo_n6_vul</th>\n      <th>tneo_o1_fan</th>\n      <th>tneo_o2_aes</th>\n      <th>tneo_o3_fee</th>\n      <th>tneo_o4_act</th>\n      <th>tneo_o5_ide</th>\n      <th>tneo_o6_val</th>\n    </tr>\n  </thead>\n  <tbody>\n    <tr>\n      <th>0</th>\n      <td>1</td>\n      <td>27.0</td>\n      <td>M</td>\n      <td>2.0</td>\n      <td>NaN</td>\n      <td>NaN</td>\n      <td>NaN</td>\n      <td>NaN</td>\n      <td>NaN</td>\n      <td>NaN</td>\n      <td>...</td>\n      <td>51.250000</td>\n      <td>40.181818</td>\n      <td>64.000000</td>\n      <td>55.102041</td>\n      <td>46.639344</td>\n      <td>46.969697</td>\n      <td>66.7</td>\n      <td>57.065217</td>\n      <td>41.984127</td>\n      <td>58.039216</td>\n    </tr>\n    <tr>\n      <th>1</th>\n      <td>2</td>\n      <td>26.0</td>\n      <td>M</td>\n      <td>3.0</td>\n      <td>NaN</td>\n      <td>NaN</td>\n      <td>NaN</td>\n      <td>NaN</td>\n      <td>NaN</td>\n      <td>NaN</td>\n      <td>...</td>\n      <td>69.632353</td>\n      <td>60.636364</td>\n      <td>66.272727</td>\n      <td>65.306122</td>\n      <td>54.836066</td>\n      <td>56.439394</td>\n      <td>51.7</td>\n      <td>51.630435</td>\n      <td>51.904762</td>\n      <td>45.784314</td>\n    </tr>\n    <tr>\n      <th>2</th>\n      <td>3</td>\n      <td>24.0</td>\n      <td>F</td>\n      <td>4.0</td>\n      <td>NaN</td>\n      <td>NaN</td>\n      <td>NaN</td>\n      <td>NaN</td>\n      <td>NaN</td>\n      <td>NaN</td>\n      <td>...</td>\n      <td>60.441176</td>\n      <td>74.272727</td>\n      <td>54.909091</td>\n      <td>65.306122</td>\n      <td>75.327869</td>\n      <td>56.439394</td>\n      <td>56.7</td>\n      <td>40.760870</td>\n      <td>51.904762</td>\n      <td>58.039216</td>\n    </tr>\n    <tr>\n      <th>3</th>\n      <td>4</td>\n      <td>33.0</td>\n      <td>M</td>\n      <td>3.0</td>\n      <td>NaN</td>\n      <td>1.0</td>\n      <td>NaN</td>\n      <td>NaN</td>\n      <td>NaN</td>\n      <td>NaN</td>\n      <td>...</td>\n      <td>67.794118</td>\n      <td>58.363636</td>\n      <td>64.000000</td>\n      <td>52.551020</td>\n      <td>54.836066</td>\n      <td>50.757576</td>\n      <td>36.7</td>\n      <td>65.217391</td>\n      <td>63.809524</td>\n      <td>58.039216</td>\n    </tr>\n    <tr>\n      <th>4</th>\n      <td>5</td>\n      <td>23.0</td>\n      <td>F</td>\n      <td>5.0</td>\n      <td>NaN</td>\n      <td>NaN</td>\n      <td>NaN</td>\n      <td>NaN</td>\n      <td>NaN</td>\n      <td>NaN</td>\n      <td>...</td>\n      <td>62.279412</td>\n      <td>67.454545</td>\n      <td>41.272727</td>\n      <td>60.204082</td>\n      <td>50.737705</td>\n      <td>48.863636</td>\n      <td>49.2</td>\n      <td>46.195652</td>\n      <td>38.015873</td>\n      <td>38.431373</td>\n    </tr>\n  </tbody>\n</table>\n<p>5 rows × 704 columns</p>\n</div>"
     },
     "execution_count": 3,
     "metadata": {},
     "output_type": "execute_result"
    }
   ],
   "source": [
    "# view the first 5 rows of the data\n",
    "data.head()"
   ],
   "metadata": {
    "collapsed": false,
    "ExecuteTime": {
     "end_time": "2024-04-18T02:09:17.677329Z",
     "start_time": "2024-04-18T02:09:17.657232Z"
    }
   },
   "id": "d551c7706fdbe0d8",
   "execution_count": 3
  },
  {
   "cell_type": "code",
   "outputs": [],
   "source": [
    "# Generate column names for tda1 to tda40\n",
    "tda_columns = [f\"tda{i}\" for i in range(1, 41)]\n",
    "\n",
    "# Generate column names for sbfi1 to sbfi60\n",
    "sbfi_columns = [f\"bfi{i}\" for i in range(1, 61)]\n",
    "\n",
    "# Concatenate the two lists of column names\n",
    "selected_columns = tda_columns + sbfi_columns"
   ],
   "metadata": {
    "collapsed": false,
    "ExecuteTime": {
     "end_time": "2024-04-18T02:09:17.677921Z",
     "start_time": "2024-04-18T02:09:17.666714Z"
    }
   },
   "id": "bdbcb531d2d5e6e0",
   "execution_count": 4
  },
  {
   "cell_type": "code",
   "outputs": [
    {
     "name": "stdout",
     "output_type": "stream",
     "text": [
      "(470, 704)\n",
      "(438, 704)\n"
     ]
    }
   ],
   "source": [
    "# print dimensions of the selected data\n",
    "print(data.shape)\n",
    "\n",
    "# remove rows with missing values\n",
    "data = data.dropna(subset=selected_columns)\n",
    "\n",
    "# again print dimensions of the selected data\n",
    "print(data.shape)"
   ],
   "metadata": {
    "collapsed": false,
    "ExecuteTime": {
     "end_time": "2024-04-18T02:09:17.678378Z",
     "start_time": "2024-04-18T02:09:17.670048Z"
    }
   },
   "id": "d0e5f7d13fb55764",
   "execution_count": 5
  },
  {
   "cell_type": "code",
   "outputs": [
    {
     "data": {
      "text/plain": "     case_id   age sex  ethnicity  rel_acquaintance  rel_friend  rel_roommate  \\\n0          1  27.0   M        2.0               NaN         NaN           NaN   \n1          2  26.0   M        3.0               NaN         NaN           NaN   \n2          3  24.0   F        4.0               NaN         NaN           NaN   \n3          4  33.0   M        3.0               NaN         1.0           NaN   \n4          5  23.0   F        5.0               NaN         NaN           NaN   \n..       ...   ...  ..        ...               ...         ...           ...   \n465      466  20.0   F        3.0               NaN         NaN           NaN   \n466      467  27.0   M        4.0               NaN         NaN           NaN   \n467      468  21.0   F        3.0               NaN         NaN           NaN   \n468      469  20.0   F        3.0               NaN         NaN           NaN   \n469      470  21.0   M        2.0               NaN         NaN           NaN   \n\n     rel_boygirlfriend  rel_relative  rel_other  ... tneo_n3_dep  tneo_n4_sel  \\\n0                  NaN           NaN        NaN  ...   51.250000    40.181818   \n1                  NaN           NaN        NaN  ...   69.632353    60.636364   \n2                  NaN           NaN        NaN  ...   60.441176    74.272727   \n3                  NaN           NaN        NaN  ...   67.794118    58.363636   \n4                  NaN           NaN        NaN  ...   62.279412    67.454545   \n..                 ...           ...        ...  ...         ...          ...   \n465                NaN           NaN        NaN  ...   38.382353    40.181818   \n466                NaN           NaN        NaN  ...   76.985294    72.000000   \n467                NaN           NaN        NaN  ...   54.926471    62.909091   \n468                NaN           NaN        NaN  ...   47.573529    37.909091   \n469                NaN           NaN        NaN  ...   49.411765    44.727273   \n\n     tneo_n5_imp  tneo_n6_vul  tneo_o1_fan  tneo_o2_aes  tneo_o3_fee  \\\n0      64.000000    55.102041    46.639344    46.969697         66.7   \n1      66.272727    65.306122    54.836066    56.439394         51.7   \n2      54.909091    65.306122    75.327869    56.439394         56.7   \n3      64.000000    52.551020    54.836066    50.757576         36.7   \n4      41.272727    60.204082    50.737705    48.863636         49.2   \n..           ...          ...          ...          ...          ...   \n465    23.090909    27.040816    56.885246    73.484848         69.2   \n466    68.545455    75.510204    71.229508    75.378788         61.7   \n467    39.000000    62.755102    52.786885    62.121212         69.2   \n468    57.181818    39.795918    63.032787    45.075758         36.7   \n469    50.363636    29.591837    69.180328    67.803030         64.2   \n\n     tneo_o4_act  tneo_o5_ide  tneo_o6_val  \n0      57.065217    41.984127    58.039216  \n1      51.630435    51.904762    45.784314  \n2      40.760870    51.904762    58.039216  \n3      65.217391    63.809524    58.039216  \n4      46.195652    38.015873    38.431373  \n..           ...          ...          ...  \n465    57.065217    71.746032    67.843137  \n466    67.934783    67.777778    58.039216  \n467    59.782609    47.936508    62.941176  \n468    59.782609    41.984127    55.588235  \n469    76.086957    73.730159    50.686275  \n\n[438 rows x 704 columns]",
      "text/html": "<div>\n<style scoped>\n    .dataframe tbody tr th:only-of-type {\n        vertical-align: middle;\n    }\n\n    .dataframe tbody tr th {\n        vertical-align: top;\n    }\n\n    .dataframe thead th {\n        text-align: right;\n    }\n</style>\n<table border=\"1\" class=\"dataframe\">\n  <thead>\n    <tr style=\"text-align: right;\">\n      <th></th>\n      <th>case_id</th>\n      <th>age</th>\n      <th>sex</th>\n      <th>ethnicity</th>\n      <th>rel_acquaintance</th>\n      <th>rel_friend</th>\n      <th>rel_roommate</th>\n      <th>rel_boygirlfriend</th>\n      <th>rel_relative</th>\n      <th>rel_other</th>\n      <th>...</th>\n      <th>tneo_n3_dep</th>\n      <th>tneo_n4_sel</th>\n      <th>tneo_n5_imp</th>\n      <th>tneo_n6_vul</th>\n      <th>tneo_o1_fan</th>\n      <th>tneo_o2_aes</th>\n      <th>tneo_o3_fee</th>\n      <th>tneo_o4_act</th>\n      <th>tneo_o5_ide</th>\n      <th>tneo_o6_val</th>\n    </tr>\n  </thead>\n  <tbody>\n    <tr>\n      <th>0</th>\n      <td>1</td>\n      <td>27.0</td>\n      <td>M</td>\n      <td>2.0</td>\n      <td>NaN</td>\n      <td>NaN</td>\n      <td>NaN</td>\n      <td>NaN</td>\n      <td>NaN</td>\n      <td>NaN</td>\n      <td>...</td>\n      <td>51.250000</td>\n      <td>40.181818</td>\n      <td>64.000000</td>\n      <td>55.102041</td>\n      <td>46.639344</td>\n      <td>46.969697</td>\n      <td>66.7</td>\n      <td>57.065217</td>\n      <td>41.984127</td>\n      <td>58.039216</td>\n    </tr>\n    <tr>\n      <th>1</th>\n      <td>2</td>\n      <td>26.0</td>\n      <td>M</td>\n      <td>3.0</td>\n      <td>NaN</td>\n      <td>NaN</td>\n      <td>NaN</td>\n      <td>NaN</td>\n      <td>NaN</td>\n      <td>NaN</td>\n      <td>...</td>\n      <td>69.632353</td>\n      <td>60.636364</td>\n      <td>66.272727</td>\n      <td>65.306122</td>\n      <td>54.836066</td>\n      <td>56.439394</td>\n      <td>51.7</td>\n      <td>51.630435</td>\n      <td>51.904762</td>\n      <td>45.784314</td>\n    </tr>\n    <tr>\n      <th>2</th>\n      <td>3</td>\n      <td>24.0</td>\n      <td>F</td>\n      <td>4.0</td>\n      <td>NaN</td>\n      <td>NaN</td>\n      <td>NaN</td>\n      <td>NaN</td>\n      <td>NaN</td>\n      <td>NaN</td>\n      <td>...</td>\n      <td>60.441176</td>\n      <td>74.272727</td>\n      <td>54.909091</td>\n      <td>65.306122</td>\n      <td>75.327869</td>\n      <td>56.439394</td>\n      <td>56.7</td>\n      <td>40.760870</td>\n      <td>51.904762</td>\n      <td>58.039216</td>\n    </tr>\n    <tr>\n      <th>3</th>\n      <td>4</td>\n      <td>33.0</td>\n      <td>M</td>\n      <td>3.0</td>\n      <td>NaN</td>\n      <td>1.0</td>\n      <td>NaN</td>\n      <td>NaN</td>\n      <td>NaN</td>\n      <td>NaN</td>\n      <td>...</td>\n      <td>67.794118</td>\n      <td>58.363636</td>\n      <td>64.000000</td>\n      <td>52.551020</td>\n      <td>54.836066</td>\n      <td>50.757576</td>\n      <td>36.7</td>\n      <td>65.217391</td>\n      <td>63.809524</td>\n      <td>58.039216</td>\n    </tr>\n    <tr>\n      <th>4</th>\n      <td>5</td>\n      <td>23.0</td>\n      <td>F</td>\n      <td>5.0</td>\n      <td>NaN</td>\n      <td>NaN</td>\n      <td>NaN</td>\n      <td>NaN</td>\n      <td>NaN</td>\n      <td>NaN</td>\n      <td>...</td>\n      <td>62.279412</td>\n      <td>67.454545</td>\n      <td>41.272727</td>\n      <td>60.204082</td>\n      <td>50.737705</td>\n      <td>48.863636</td>\n      <td>49.2</td>\n      <td>46.195652</td>\n      <td>38.015873</td>\n      <td>38.431373</td>\n    </tr>\n    <tr>\n      <th>...</th>\n      <td>...</td>\n      <td>...</td>\n      <td>...</td>\n      <td>...</td>\n      <td>...</td>\n      <td>...</td>\n      <td>...</td>\n      <td>...</td>\n      <td>...</td>\n      <td>...</td>\n      <td>...</td>\n      <td>...</td>\n      <td>...</td>\n      <td>...</td>\n      <td>...</td>\n      <td>...</td>\n      <td>...</td>\n      <td>...</td>\n      <td>...</td>\n      <td>...</td>\n      <td>...</td>\n    </tr>\n    <tr>\n      <th>465</th>\n      <td>466</td>\n      <td>20.0</td>\n      <td>F</td>\n      <td>3.0</td>\n      <td>NaN</td>\n      <td>NaN</td>\n      <td>NaN</td>\n      <td>NaN</td>\n      <td>NaN</td>\n      <td>NaN</td>\n      <td>...</td>\n      <td>38.382353</td>\n      <td>40.181818</td>\n      <td>23.090909</td>\n      <td>27.040816</td>\n      <td>56.885246</td>\n      <td>73.484848</td>\n      <td>69.2</td>\n      <td>57.065217</td>\n      <td>71.746032</td>\n      <td>67.843137</td>\n    </tr>\n    <tr>\n      <th>466</th>\n      <td>467</td>\n      <td>27.0</td>\n      <td>M</td>\n      <td>4.0</td>\n      <td>NaN</td>\n      <td>NaN</td>\n      <td>NaN</td>\n      <td>NaN</td>\n      <td>NaN</td>\n      <td>NaN</td>\n      <td>...</td>\n      <td>76.985294</td>\n      <td>72.000000</td>\n      <td>68.545455</td>\n      <td>75.510204</td>\n      <td>71.229508</td>\n      <td>75.378788</td>\n      <td>61.7</td>\n      <td>67.934783</td>\n      <td>67.777778</td>\n      <td>58.039216</td>\n    </tr>\n    <tr>\n      <th>467</th>\n      <td>468</td>\n      <td>21.0</td>\n      <td>F</td>\n      <td>3.0</td>\n      <td>NaN</td>\n      <td>NaN</td>\n      <td>NaN</td>\n      <td>NaN</td>\n      <td>NaN</td>\n      <td>NaN</td>\n      <td>...</td>\n      <td>54.926471</td>\n      <td>62.909091</td>\n      <td>39.000000</td>\n      <td>62.755102</td>\n      <td>52.786885</td>\n      <td>62.121212</td>\n      <td>69.2</td>\n      <td>59.782609</td>\n      <td>47.936508</td>\n      <td>62.941176</td>\n    </tr>\n    <tr>\n      <th>468</th>\n      <td>469</td>\n      <td>20.0</td>\n      <td>F</td>\n      <td>3.0</td>\n      <td>NaN</td>\n      <td>NaN</td>\n      <td>NaN</td>\n      <td>NaN</td>\n      <td>NaN</td>\n      <td>NaN</td>\n      <td>...</td>\n      <td>47.573529</td>\n      <td>37.909091</td>\n      <td>57.181818</td>\n      <td>39.795918</td>\n      <td>63.032787</td>\n      <td>45.075758</td>\n      <td>36.7</td>\n      <td>59.782609</td>\n      <td>41.984127</td>\n      <td>55.588235</td>\n    </tr>\n    <tr>\n      <th>469</th>\n      <td>470</td>\n      <td>21.0</td>\n      <td>M</td>\n      <td>2.0</td>\n      <td>NaN</td>\n      <td>NaN</td>\n      <td>NaN</td>\n      <td>NaN</td>\n      <td>NaN</td>\n      <td>NaN</td>\n      <td>...</td>\n      <td>49.411765</td>\n      <td>44.727273</td>\n      <td>50.363636</td>\n      <td>29.591837</td>\n      <td>69.180328</td>\n      <td>67.803030</td>\n      <td>64.2</td>\n      <td>76.086957</td>\n      <td>73.730159</td>\n      <td>50.686275</td>\n    </tr>\n  </tbody>\n</table>\n<p>438 rows × 704 columns</p>\n</div>"
     },
     "execution_count": 6,
     "metadata": {},
     "output_type": "execute_result"
    }
   ],
   "source": [
    "data"
   ],
   "metadata": {
    "collapsed": false,
    "ExecuteTime": {
     "end_time": "2024-04-18T02:09:17.693156Z",
     "start_time": "2024-04-18T02:09:17.673733Z"
    }
   },
   "id": "a661a9c8abda4e74",
   "execution_count": 6
  },
  {
   "cell_type": "markdown",
   "source": [
    "Because some items are reversely words, we need to reverse the values of these items before we can map them to the expanded scale."
   ],
   "metadata": {
    "collapsed": false
   },
   "id": "6d8c8351a8496153"
  },
  {
   "cell_type": "code",
   "outputs": [
    {
     "data": {
      "text/plain": "     case_id   age sex  ethnicity  rel_acquaintance  rel_friend  rel_roommate  \\\n0          1  27.0   M        2.0               NaN         NaN           NaN   \n1          2  26.0   M        3.0               NaN         NaN           NaN   \n2          3  24.0   F        4.0               NaN         NaN           NaN   \n3          4  33.0   M        3.0               NaN         1.0           NaN   \n4          5  23.0   F        5.0               NaN         NaN           NaN   \n..       ...   ...  ..        ...               ...         ...           ...   \n465      466  20.0   F        3.0               NaN         NaN           NaN   \n466      467  27.0   M        4.0               NaN         NaN           NaN   \n467      468  21.0   F        3.0               NaN         NaN           NaN   \n468      469  20.0   F        3.0               NaN         NaN           NaN   \n469      470  21.0   M        2.0               NaN         NaN           NaN   \n\n     rel_boygirlfriend  rel_relative  rel_other  ... tneo_n3_dep  tneo_n4_sel  \\\n0                  NaN           NaN        NaN  ...   51.250000    40.181818   \n1                  NaN           NaN        NaN  ...   69.632353    60.636364   \n2                  NaN           NaN        NaN  ...   60.441176    74.272727   \n3                  NaN           NaN        NaN  ...   67.794118    58.363636   \n4                  NaN           NaN        NaN  ...   62.279412    67.454545   \n..                 ...           ...        ...  ...         ...          ...   \n465                NaN           NaN        NaN  ...   38.382353    40.181818   \n466                NaN           NaN        NaN  ...   76.985294    72.000000   \n467                NaN           NaN        NaN  ...   54.926471    62.909091   \n468                NaN           NaN        NaN  ...   47.573529    37.909091   \n469                NaN           NaN        NaN  ...   49.411765    44.727273   \n\n     tneo_n5_imp  tneo_n6_vul  tneo_o1_fan  tneo_o2_aes  tneo_o3_fee  \\\n0      64.000000    55.102041    46.639344    46.969697         66.7   \n1      66.272727    65.306122    54.836066    56.439394         51.7   \n2      54.909091    65.306122    75.327869    56.439394         56.7   \n3      64.000000    52.551020    54.836066    50.757576         36.7   \n4      41.272727    60.204082    50.737705    48.863636         49.2   \n..           ...          ...          ...          ...          ...   \n465    23.090909    27.040816    56.885246    73.484848         69.2   \n466    68.545455    75.510204    71.229508    75.378788         61.7   \n467    39.000000    62.755102    52.786885    62.121212         69.2   \n468    57.181818    39.795918    63.032787    45.075758         36.7   \n469    50.363636    29.591837    69.180328    67.803030         64.2   \n\n     tneo_o4_act  tneo_o5_ide  tneo_o6_val  \n0      57.065217    41.984127    58.039216  \n1      51.630435    51.904762    45.784314  \n2      40.760870    51.904762    58.039216  \n3      65.217391    63.809524    58.039216  \n4      46.195652    38.015873    38.431373  \n..           ...          ...          ...  \n465    57.065217    71.746032    67.843137  \n466    67.934783    67.777778    58.039216  \n467    59.782609    47.936508    62.941176  \n468    59.782609    41.984127    55.588235  \n469    76.086957    73.730159    50.686275  \n\n[438 rows x 704 columns]",
      "text/html": "<div>\n<style scoped>\n    .dataframe tbody tr th:only-of-type {\n        vertical-align: middle;\n    }\n\n    .dataframe tbody tr th {\n        vertical-align: top;\n    }\n\n    .dataframe thead th {\n        text-align: right;\n    }\n</style>\n<table border=\"1\" class=\"dataframe\">\n  <thead>\n    <tr style=\"text-align: right;\">\n      <th></th>\n      <th>case_id</th>\n      <th>age</th>\n      <th>sex</th>\n      <th>ethnicity</th>\n      <th>rel_acquaintance</th>\n      <th>rel_friend</th>\n      <th>rel_roommate</th>\n      <th>rel_boygirlfriend</th>\n      <th>rel_relative</th>\n      <th>rel_other</th>\n      <th>...</th>\n      <th>tneo_n3_dep</th>\n      <th>tneo_n4_sel</th>\n      <th>tneo_n5_imp</th>\n      <th>tneo_n6_vul</th>\n      <th>tneo_o1_fan</th>\n      <th>tneo_o2_aes</th>\n      <th>tneo_o3_fee</th>\n      <th>tneo_o4_act</th>\n      <th>tneo_o5_ide</th>\n      <th>tneo_o6_val</th>\n    </tr>\n  </thead>\n  <tbody>\n    <tr>\n      <th>0</th>\n      <td>1</td>\n      <td>27.0</td>\n      <td>M</td>\n      <td>2.0</td>\n      <td>NaN</td>\n      <td>NaN</td>\n      <td>NaN</td>\n      <td>NaN</td>\n      <td>NaN</td>\n      <td>NaN</td>\n      <td>...</td>\n      <td>51.250000</td>\n      <td>40.181818</td>\n      <td>64.000000</td>\n      <td>55.102041</td>\n      <td>46.639344</td>\n      <td>46.969697</td>\n      <td>66.7</td>\n      <td>57.065217</td>\n      <td>41.984127</td>\n      <td>58.039216</td>\n    </tr>\n    <tr>\n      <th>1</th>\n      <td>2</td>\n      <td>26.0</td>\n      <td>M</td>\n      <td>3.0</td>\n      <td>NaN</td>\n      <td>NaN</td>\n      <td>NaN</td>\n      <td>NaN</td>\n      <td>NaN</td>\n      <td>NaN</td>\n      <td>...</td>\n      <td>69.632353</td>\n      <td>60.636364</td>\n      <td>66.272727</td>\n      <td>65.306122</td>\n      <td>54.836066</td>\n      <td>56.439394</td>\n      <td>51.7</td>\n      <td>51.630435</td>\n      <td>51.904762</td>\n      <td>45.784314</td>\n    </tr>\n    <tr>\n      <th>2</th>\n      <td>3</td>\n      <td>24.0</td>\n      <td>F</td>\n      <td>4.0</td>\n      <td>NaN</td>\n      <td>NaN</td>\n      <td>NaN</td>\n      <td>NaN</td>\n      <td>NaN</td>\n      <td>NaN</td>\n      <td>...</td>\n      <td>60.441176</td>\n      <td>74.272727</td>\n      <td>54.909091</td>\n      <td>65.306122</td>\n      <td>75.327869</td>\n      <td>56.439394</td>\n      <td>56.7</td>\n      <td>40.760870</td>\n      <td>51.904762</td>\n      <td>58.039216</td>\n    </tr>\n    <tr>\n      <th>3</th>\n      <td>4</td>\n      <td>33.0</td>\n      <td>M</td>\n      <td>3.0</td>\n      <td>NaN</td>\n      <td>1.0</td>\n      <td>NaN</td>\n      <td>NaN</td>\n      <td>NaN</td>\n      <td>NaN</td>\n      <td>...</td>\n      <td>67.794118</td>\n      <td>58.363636</td>\n      <td>64.000000</td>\n      <td>52.551020</td>\n      <td>54.836066</td>\n      <td>50.757576</td>\n      <td>36.7</td>\n      <td>65.217391</td>\n      <td>63.809524</td>\n      <td>58.039216</td>\n    </tr>\n    <tr>\n      <th>4</th>\n      <td>5</td>\n      <td>23.0</td>\n      <td>F</td>\n      <td>5.0</td>\n      <td>NaN</td>\n      <td>NaN</td>\n      <td>NaN</td>\n      <td>NaN</td>\n      <td>NaN</td>\n      <td>NaN</td>\n      <td>...</td>\n      <td>62.279412</td>\n      <td>67.454545</td>\n      <td>41.272727</td>\n      <td>60.204082</td>\n      <td>50.737705</td>\n      <td>48.863636</td>\n      <td>49.2</td>\n      <td>46.195652</td>\n      <td>38.015873</td>\n      <td>38.431373</td>\n    </tr>\n    <tr>\n      <th>...</th>\n      <td>...</td>\n      <td>...</td>\n      <td>...</td>\n      <td>...</td>\n      <td>...</td>\n      <td>...</td>\n      <td>...</td>\n      <td>...</td>\n      <td>...</td>\n      <td>...</td>\n      <td>...</td>\n      <td>...</td>\n      <td>...</td>\n      <td>...</td>\n      <td>...</td>\n      <td>...</td>\n      <td>...</td>\n      <td>...</td>\n      <td>...</td>\n      <td>...</td>\n      <td>...</td>\n    </tr>\n    <tr>\n      <th>465</th>\n      <td>466</td>\n      <td>20.0</td>\n      <td>F</td>\n      <td>3.0</td>\n      <td>NaN</td>\n      <td>NaN</td>\n      <td>NaN</td>\n      <td>NaN</td>\n      <td>NaN</td>\n      <td>NaN</td>\n      <td>...</td>\n      <td>38.382353</td>\n      <td>40.181818</td>\n      <td>23.090909</td>\n      <td>27.040816</td>\n      <td>56.885246</td>\n      <td>73.484848</td>\n      <td>69.2</td>\n      <td>57.065217</td>\n      <td>71.746032</td>\n      <td>67.843137</td>\n    </tr>\n    <tr>\n      <th>466</th>\n      <td>467</td>\n      <td>27.0</td>\n      <td>M</td>\n      <td>4.0</td>\n      <td>NaN</td>\n      <td>NaN</td>\n      <td>NaN</td>\n      <td>NaN</td>\n      <td>NaN</td>\n      <td>NaN</td>\n      <td>...</td>\n      <td>76.985294</td>\n      <td>72.000000</td>\n      <td>68.545455</td>\n      <td>75.510204</td>\n      <td>71.229508</td>\n      <td>75.378788</td>\n      <td>61.7</td>\n      <td>67.934783</td>\n      <td>67.777778</td>\n      <td>58.039216</td>\n    </tr>\n    <tr>\n      <th>467</th>\n      <td>468</td>\n      <td>21.0</td>\n      <td>F</td>\n      <td>3.0</td>\n      <td>NaN</td>\n      <td>NaN</td>\n      <td>NaN</td>\n      <td>NaN</td>\n      <td>NaN</td>\n      <td>NaN</td>\n      <td>...</td>\n      <td>54.926471</td>\n      <td>62.909091</td>\n      <td>39.000000</td>\n      <td>62.755102</td>\n      <td>52.786885</td>\n      <td>62.121212</td>\n      <td>69.2</td>\n      <td>59.782609</td>\n      <td>47.936508</td>\n      <td>62.941176</td>\n    </tr>\n    <tr>\n      <th>468</th>\n      <td>469</td>\n      <td>20.0</td>\n      <td>F</td>\n      <td>3.0</td>\n      <td>NaN</td>\n      <td>NaN</td>\n      <td>NaN</td>\n      <td>NaN</td>\n      <td>NaN</td>\n      <td>NaN</td>\n      <td>...</td>\n      <td>47.573529</td>\n      <td>37.909091</td>\n      <td>57.181818</td>\n      <td>39.795918</td>\n      <td>63.032787</td>\n      <td>45.075758</td>\n      <td>36.7</td>\n      <td>59.782609</td>\n      <td>41.984127</td>\n      <td>55.588235</td>\n    </tr>\n    <tr>\n      <th>469</th>\n      <td>470</td>\n      <td>21.0</td>\n      <td>M</td>\n      <td>2.0</td>\n      <td>NaN</td>\n      <td>NaN</td>\n      <td>NaN</td>\n      <td>NaN</td>\n      <td>NaN</td>\n      <td>NaN</td>\n      <td>...</td>\n      <td>49.411765</td>\n      <td>44.727273</td>\n      <td>50.363636</td>\n      <td>29.591837</td>\n      <td>69.180328</td>\n      <td>67.803030</td>\n      <td>64.2</td>\n      <td>76.086957</td>\n      <td>73.730159</td>\n      <td>50.686275</td>\n    </tr>\n  </tbody>\n</table>\n<p>438 rows × 704 columns</p>\n</div>"
     },
     "execution_count": 7,
     "metadata": {},
     "output_type": "execute_result"
    }
   ],
   "source": [
    "reverse_coding_map = {'bfi1': 'bfi1',\n",
    " 'bfi2': 'bfi2',\n",
    " 'bfi3': 'bfi3R',\n",
    " 'bfi4': 'bfi4R',\n",
    " 'bfi5': 'bfi5R',\n",
    " 'bfi6': 'bfi6',\n",
    " 'bfi7': 'bfi7',\n",
    " 'bfi8': 'bfi8R',\n",
    " 'bfi9': 'bfi9R',\n",
    " 'bfi10': 'bfi10',\n",
    " 'bfi11': 'bfi11R',\n",
    " 'bfi12': 'bfi12R',\n",
    " 'bfi13': 'bfi13',\n",
    " 'bfi14': 'bfi14',\n",
    " 'bfi15': 'bfi15',\n",
    " 'bfi16': 'bfi16R',\n",
    " 'bfi17': 'bfi17R',\n",
    " 'bfi18': 'bfi18',\n",
    " 'bfi19': 'bfi19',\n",
    " 'bfi20': 'bfi20',\n",
    " 'bfi21': 'bfi21',\n",
    " 'bfi22': 'bfi22R',\n",
    " 'bfi23': 'bfi23R',\n",
    " 'bfi24': 'bfi24R',\n",
    " 'bfi25': 'bfi25R',\n",
    " 'bfi26': 'bfi26R',\n",
    " 'bfi27': 'bfi27',\n",
    " 'bfi28': 'bfi28R',\n",
    " 'bfi29': 'bfi29R',\n",
    " 'bfi30': 'bfi30R',\n",
    " 'bfi31': 'bfi31R',\n",
    " 'bfi32': 'bfi32',\n",
    " 'bfi33': 'bfi33',\n",
    " 'bfi34': 'bfi34',\n",
    " 'bfi35': 'bfi35',\n",
    " 'bfi36': 'bfi36R',\n",
    " 'bfi37': 'bfi37R',\n",
    " 'bfi38': 'bfi38',\n",
    " 'bfi39': 'bfi39',\n",
    " 'bfi40': 'bfi40',\n",
    " 'bfi41': 'bfi41',\n",
    " 'bfi42': 'bfi42R',\n",
    " 'bfi43': 'bfi43',\n",
    " 'bfi44': 'bfi44R',\n",
    " 'bfi45': 'bfi45R',\n",
    " 'bfi46': 'bfi46',\n",
    " 'bfi47': 'bfi47R',\n",
    " 'bfi48': 'bfi48R',\n",
    " 'bfi49': 'bfi49R',\n",
    " 'bfi50': 'bfi50R',\n",
    " 'bfi51': 'bfi51R',\n",
    " 'bfi52': 'bfi52',\n",
    " 'bfi53': 'bfi53',\n",
    " 'bfi54': 'bfi54',\n",
    " 'bfi55': 'bfi55R',\n",
    " 'bfi56': 'bfi56',\n",
    " 'bfi57': 'bfi57',\n",
    " 'bfi58': 'bfi58R',\n",
    " 'bfi59': 'bfi59',\n",
    " 'bfi60': 'bfi60'}\n",
    "\n",
    "# Perform reverse coding\n",
    "for key, value in reverse_coding_map.items():\n",
    "    if value.endswith('R'):  # Reverse coded\n",
    "        data[key] = 6 - data[key]\n",
    "    else:  # Not reverse coded\n",
    "        data[key] = data[key]\n",
    "        \n",
    "data"
   ],
   "metadata": {
    "collapsed": false,
    "ExecuteTime": {
     "end_time": "2024-04-18T02:09:17.763102Z",
     "start_time": "2024-04-18T02:09:17.689700Z"
    }
   },
   "id": "6deca2577363cefc",
   "execution_count": 7
  },
  {
   "cell_type": "code",
   "outputs": [],
   "source": [
    "from schema_bfi2 import expanded_scale\n",
    "\n",
    "# Function to map the numeric values to strings\n",
    "def map_values(row):\n",
    "    for key in expanded_scale:\n",
    "        if pd.notna(row[key]):  # Check if the value is not NaN\n",
    "            index = int(row[key]) - 1  # Convert to 0-index\n",
    "            row[key] = expanded_scale[key][index]  # Replace the value with the corresponding string\n",
    "    return row"
   ],
   "metadata": {
    "collapsed": false,
    "ExecuteTime": {
     "end_time": "2024-04-18T02:09:17.763735Z",
     "start_time": "2024-04-18T02:09:17.703717Z"
    }
   },
   "id": "ba1c95100c494407",
   "execution_count": 8
  },
  {
   "cell_type": "code",
   "outputs": [
    {
     "name": "stderr",
     "output_type": "stream",
     "text": [
      "/var/folders/zh/79y5ykz51rxcnjchzb73nfxw0000gn/T/ipykernel_31618/1418642924.py:8: FutureWarning: Setting an item of incompatible dtype is deprecated and will raise in a future error of pandas. Value 'I am fairly organized.' has dtype incompatible with int64, please explicitly cast to a compatible dtype first.\n",
      "  row[key] = expanded_scale[key][index]  # Replace the value with the corresponding string\n",
      "/var/folders/zh/79y5ykz51rxcnjchzb73nfxw0000gn/T/ipykernel_31618/1418642924.py:8: FutureWarning: Setting an item of incompatible dtype is deprecated and will raise in a future error of pandas. Value 'I am fairly disorganized.' has dtype incompatible with int64, please explicitly cast to a compatible dtype first.\n",
      "  row[key] = expanded_scale[key][index]  # Replace the value with the corresponding string\n",
      "/var/folders/zh/79y5ykz51rxcnjchzb73nfxw0000gn/T/ipykernel_31618/1418642924.py:8: FutureWarning: Setting an item of incompatible dtype is deprecated and will raise in a future error of pandas. Value 'I am very organized.' has dtype incompatible with int64, please explicitly cast to a compatible dtype first.\n",
      "  row[key] = expanded_scale[key][index]  # Replace the value with the corresponding string\n",
      "/var/folders/zh/79y5ykz51rxcnjchzb73nfxw0000gn/T/ipykernel_31618/1418642924.py:8: FutureWarning: Setting an item of incompatible dtype is deprecated and will raise in a future error of pandas. Value 'I am neither particularly organized nor disorganized.' has dtype incompatible with int64, please explicitly cast to a compatible dtype first.\n",
      "  row[key] = expanded_scale[key][index]  # Replace the value with the corresponding string\n",
      "/var/folders/zh/79y5ykz51rxcnjchzb73nfxw0000gn/T/ipykernel_31618/1418642924.py:8: FutureWarning: Setting an item of incompatible dtype is deprecated and will raise in a future error of pandas. Value 'I am very disorganized.' has dtype incompatible with int64, please explicitly cast to a compatible dtype first.\n",
      "  row[key] = expanded_scale[key][index]  # Replace the value with the corresponding string\n"
     ]
    },
    {
     "data": {
      "text/plain": "   case_id   age sex  ethnicity  rel_acquaintance  rel_friend  rel_roommate  \\\n0        1  27.0   M        2.0               NaN         NaN           NaN   \n1        2  26.0   M        3.0               NaN         NaN           NaN   \n2        3  24.0   F        4.0               NaN         NaN           NaN   \n3        4  33.0   M        3.0               NaN         1.0           NaN   \n4        5  23.0   F        5.0               NaN         NaN           NaN   \n\n   rel_boygirlfriend  rel_relative  rel_other  ... tneo_n4_sel  tneo_n5_imp  \\\n0                NaN           NaN        NaN  ...   40.181818    64.000000   \n1                NaN           NaN        NaN  ...   60.636364    66.272727   \n2                NaN           NaN        NaN  ...   74.272727    54.909091   \n3                NaN           NaN        NaN  ...   58.363636    64.000000   \n4                NaN           NaN        NaN  ...   67.454545    41.272727   \n\n   tneo_n6_vul  tneo_o1_fan  tneo_o2_aes  tneo_o3_fee  tneo_o4_act  \\\n0    55.102041    46.639344    46.969697         66.7    57.065217   \n1    65.306122    54.836066    56.439394         51.7    51.630435   \n2    65.306122    75.327869    56.439394         56.7    40.760870   \n3    52.551020    54.836066    50.757576         36.7    65.217391   \n4    60.204082    50.737705    48.863636         49.2    46.195652   \n\n   tneo_o5_ide  tneo_o6_val                                      combined_bfi2  \n0    41.984127    58.039216  I am very outgoing, sociable. I am very compas...  \n1    51.904762    45.784314  I am quite outgoing, sociable. I am fairly com...  \n2    51.904762    58.039216  I am very reserved, unsociable. I am very comp...  \n3    63.809524    58.039216  I am quite outgoing, sociable. I am fairly com...  \n4    38.015873    38.431373  I am somewhat outgoing, sociable. I am fairly ...  \n\n[5 rows x 705 columns]",
      "text/html": "<div>\n<style scoped>\n    .dataframe tbody tr th:only-of-type {\n        vertical-align: middle;\n    }\n\n    .dataframe tbody tr th {\n        vertical-align: top;\n    }\n\n    .dataframe thead th {\n        text-align: right;\n    }\n</style>\n<table border=\"1\" class=\"dataframe\">\n  <thead>\n    <tr style=\"text-align: right;\">\n      <th></th>\n      <th>case_id</th>\n      <th>age</th>\n      <th>sex</th>\n      <th>ethnicity</th>\n      <th>rel_acquaintance</th>\n      <th>rel_friend</th>\n      <th>rel_roommate</th>\n      <th>rel_boygirlfriend</th>\n      <th>rel_relative</th>\n      <th>rel_other</th>\n      <th>...</th>\n      <th>tneo_n4_sel</th>\n      <th>tneo_n5_imp</th>\n      <th>tneo_n6_vul</th>\n      <th>tneo_o1_fan</th>\n      <th>tneo_o2_aes</th>\n      <th>tneo_o3_fee</th>\n      <th>tneo_o4_act</th>\n      <th>tneo_o5_ide</th>\n      <th>tneo_o6_val</th>\n      <th>combined_bfi2</th>\n    </tr>\n  </thead>\n  <tbody>\n    <tr>\n      <th>0</th>\n      <td>1</td>\n      <td>27.0</td>\n      <td>M</td>\n      <td>2.0</td>\n      <td>NaN</td>\n      <td>NaN</td>\n      <td>NaN</td>\n      <td>NaN</td>\n      <td>NaN</td>\n      <td>NaN</td>\n      <td>...</td>\n      <td>40.181818</td>\n      <td>64.000000</td>\n      <td>55.102041</td>\n      <td>46.639344</td>\n      <td>46.969697</td>\n      <td>66.7</td>\n      <td>57.065217</td>\n      <td>41.984127</td>\n      <td>58.039216</td>\n      <td>I am very outgoing, sociable. I am very compas...</td>\n    </tr>\n    <tr>\n      <th>1</th>\n      <td>2</td>\n      <td>26.0</td>\n      <td>M</td>\n      <td>3.0</td>\n      <td>NaN</td>\n      <td>NaN</td>\n      <td>NaN</td>\n      <td>NaN</td>\n      <td>NaN</td>\n      <td>NaN</td>\n      <td>...</td>\n      <td>60.636364</td>\n      <td>66.272727</td>\n      <td>65.306122</td>\n      <td>54.836066</td>\n      <td>56.439394</td>\n      <td>51.7</td>\n      <td>51.630435</td>\n      <td>51.904762</td>\n      <td>45.784314</td>\n      <td>I am quite outgoing, sociable. I am fairly com...</td>\n    </tr>\n    <tr>\n      <th>2</th>\n      <td>3</td>\n      <td>24.0</td>\n      <td>F</td>\n      <td>4.0</td>\n      <td>NaN</td>\n      <td>NaN</td>\n      <td>NaN</td>\n      <td>NaN</td>\n      <td>NaN</td>\n      <td>NaN</td>\n      <td>...</td>\n      <td>74.272727</td>\n      <td>54.909091</td>\n      <td>65.306122</td>\n      <td>75.327869</td>\n      <td>56.439394</td>\n      <td>56.7</td>\n      <td>40.760870</td>\n      <td>51.904762</td>\n      <td>58.039216</td>\n      <td>I am very reserved, unsociable. I am very comp...</td>\n    </tr>\n    <tr>\n      <th>3</th>\n      <td>4</td>\n      <td>33.0</td>\n      <td>M</td>\n      <td>3.0</td>\n      <td>NaN</td>\n      <td>1.0</td>\n      <td>NaN</td>\n      <td>NaN</td>\n      <td>NaN</td>\n      <td>NaN</td>\n      <td>...</td>\n      <td>58.363636</td>\n      <td>64.000000</td>\n      <td>52.551020</td>\n      <td>54.836066</td>\n      <td>50.757576</td>\n      <td>36.7</td>\n      <td>65.217391</td>\n      <td>63.809524</td>\n      <td>58.039216</td>\n      <td>I am quite outgoing, sociable. I am fairly com...</td>\n    </tr>\n    <tr>\n      <th>4</th>\n      <td>5</td>\n      <td>23.0</td>\n      <td>F</td>\n      <td>5.0</td>\n      <td>NaN</td>\n      <td>NaN</td>\n      <td>NaN</td>\n      <td>NaN</td>\n      <td>NaN</td>\n      <td>NaN</td>\n      <td>...</td>\n      <td>67.454545</td>\n      <td>41.272727</td>\n      <td>60.204082</td>\n      <td>50.737705</td>\n      <td>48.863636</td>\n      <td>49.2</td>\n      <td>46.195652</td>\n      <td>38.015873</td>\n      <td>38.431373</td>\n      <td>I am somewhat outgoing, sociable. I am fairly ...</td>\n    </tr>\n  </tbody>\n</table>\n<p>5 rows × 705 columns</p>\n</div>"
     },
     "execution_count": 9,
     "metadata": {},
     "output_type": "execute_result"
    }
   ],
   "source": [
    "# Apply the mapping function to each row of the dataset\n",
    "mapped_data = data[sbfi_columns].apply(map_values, axis=1)\n",
    "\n",
    "mapped_data['combined_bfi2'] = mapped_data[['bfi' + str(i) for i in range(1, 61)]].apply(lambda row: ' '.join(row), axis=1)\n",
    "\n",
    "data['combined_bfi2'] = mapped_data['combined_bfi2']\n",
    "\n",
    "data.head()"
   ],
   "metadata": {
    "collapsed": false,
    "ExecuteTime": {
     "end_time": "2024-04-18T02:09:17.942843Z",
     "start_time": "2024-04-18T02:09:17.709177Z"
    }
   },
   "id": "61f8b182531c8576",
   "execution_count": 9
  },
  {
   "cell_type": "code",
   "outputs": [],
   "source": [
    "# save data\n",
    "data.to_csv('study1_data_no_simulation.csv', index=False)"
   ],
   "metadata": {
    "collapsed": false,
    "ExecuteTime": {
     "end_time": "2024-04-18T02:09:18.056597Z",
     "start_time": "2024-04-18T02:09:17.928819Z"
    }
   },
   "id": "347604ce725efdc5",
   "execution_count": 10
  },
  {
   "cell_type": "markdown",
   "source": [
    "## Generate prompts"
   ],
   "metadata": {
    "collapsed": false
   },
   "id": "eb5e6337380b4db"
  },
  {
   "cell_type": "code",
   "outputs": [],
   "source": [
    "import os\n",
    "from mini_marker_prompt import get_prompt\n",
    "\n",
    "api_key = os.getenv('OPENAI_API_KEY')"
   ],
   "metadata": {
    "collapsed": false,
    "ExecuteTime": {
     "end_time": "2024-04-18T02:09:18.057253Z",
     "start_time": "2024-04-18T02:09:18.032652Z"
    }
   },
   "id": "aacef44e64299c95",
   "execution_count": 11
  },
  {
   "cell_type": "markdown",
   "source": [
    "## Test with a single participant\n",
    "Let us first test the framework with a single participant."
   ],
   "metadata": {
    "collapsed": false
   },
   "id": "a8ee10f7752102ed"
  },
  {
   "cell_type": "code",
   "outputs": [
    {
     "name": "stdout",
     "output_type": "stream",
     "text": [
      "### Your Personality ### \n",
      "I am very outgoing, sociable. I am very compassionate almost always soft-hearted. I am fairly organized. I am somewhat relaxed handle stress somewhat well. I have some artistic interests. I am quite assertive. I am very respectful almost always treat others with respect. I am often lazy. I stay very optimistic after experiencing a setback. I am curious about few things. I often feel excited or eager. I rarely find fault with others. I am very dependable steady. I am fairly moody often have up and down mood swings. I am fairly inventive often find clever ways to do things. I am rarely quiet. I feel a great deal of sympathy for others. I am not particularly systematic rarely keep things in order. I am sometimes tense. I am very much fascinated by art music or literature. I am fairly submissive often act as a follower. I rarely start arguments with others. I have a fair amount of difficulty getting started on tasks. I feel very secure comfortable with self. I typically seek out intellectual, philosophical discussions. I am somewhat more active than other people. I have a very forgiving nature. I am often careless. I am fairly emotionally stable quite hard to upset. I have little creativity. I am often shy introverted. I am very helpful and unselfish with others. I sometimes keep things neat and tidy. I worry quite a lot. I value art and beauty quite a bit. I find it fairly easy to influence people. I am sometimes rude to others. I am fairly efficient get things done fairly quickly. I almost never feel sad. I am not particularly complex rarely a deep thinker. I am almost always full of energy. I am quite trusting of others’ intentions. I am fairly reliable can usually be counted on. I usually keep my emotions under control. I have a bit of difficulty imagining things. I am very talkative. I am very warm and caring. I rarely leave a mess usually clean up. I often feel anxious or afraid. I think poetry and plays are fairly interesting. I strongly prefer to take charge. I am very polite courteous to others. I am fairly persistent usually work until the task is finished. I sometimes feel depressed blue. I have little interest in abstract ideas. I show a lot of enthusiasm. I almost always assume the best about people. I often behave irresponsibly. I am not at all temperamental almost never get emotional. I am not at all original almost never come up with new ideas.\n",
      "\n",
      "### Background ###\n",
      "You are participating in a study to help us understand huamn personality. \n",
      "\n",
      "### Response Format ###\n",
      "ONLY return your response as a JSON file where the keys are the traits and the number that best describes you. Do not say anything else.\n",
      "\n",
      "### Questionnaire Instruction ###\n",
      "Please use this list of common traits to describe yourself as accurately as possible. Describe yourself as you see yourself at the present time, not as you wish to be in the future. Describe yourself as you are generally or typically, as compared with your peers. For each trait, please write a number indicating how accurately that trait describes you, using the following rating scale:\n",
      "1 - Extremely Inaccurate \n",
      "2 - Very Inaccurate\n",
      "3 - Moderately Inaccurate\n",
      "4 - Slightly Inaccurate\n",
      "5 - Neutral / Not Applicable\n",
      "6 - Slightly Accurate\n",
      "7 - Moderately Accurate\n",
      "8 - Very Accurate\n",
      "9 - Extremely Accurate\n",
      "\n",
      "### Questionnaire Item ###\n",
      "1. Bashful _\n",
      "2. Bold _\n",
      "3. Careless _\n",
      "4. Cold _\n",
      "5. Complex _\n",
      "6. Cooperative _\n",
      "7. Creative _\n",
      "8. Deep _\n",
      "9. Disorganized _\n",
      "10. Efficient _\n",
      "11. Energetic _\n",
      "12. Envious _\n",
      "13. Extraverted _\n",
      "14. Fretful _\n",
      "15. Harsh _\n",
      "16. Imaginative _\n",
      "17. Inefficient _\n",
      "18. Intellectual _\n",
      "19. Jealous _\n",
      "20. Kind _\n",
      "21. Moody _\n",
      "22. Organized _\n",
      "23. Philosophical _\n",
      "24. Practical _\n",
      "25. Quiet _\n",
      "26. Relaxed _\n",
      "27. Rude _\n",
      "28. Shy _\n",
      "29. Sloppy _\n",
      "30. Sympathetic _\n",
      "31. Systematic _\n",
      "32. Talkative _\n",
      "33. Temperamental _\n",
      "34. Touchy _\n",
      "35. Uncreative _\n",
      "36. Unenvious _\n",
      "37. Unintellectual _\n",
      "38. Unsympathetic _\n",
      "39. Warm _\n",
      "40. Withdrawn _\n"
     ]
    }
   ],
   "source": [
    "person1 = data.iloc[0]\n",
    "\n",
    "prompt = get_prompt(person1['combined_bfi2'])\n",
    "\n",
    "print(prompt)"
   ],
   "metadata": {
    "collapsed": false,
    "ExecuteTime": {
     "end_time": "2024-04-18T02:09:18.057714Z",
     "start_time": "2024-04-18T02:09:18.037048Z"
    }
   },
   "id": "a2ada1360c9c69d9",
   "execution_count": 12
  },
  {
   "cell_type": "markdown",
   "source": [
    "The prompt is looking good. Let us now create a ChatOpenAI object and test it with the prompt."
   ],
   "metadata": {
    "collapsed": false
   },
   "id": "8974a3eb35f2ec24"
  },
  {
   "cell_type": "code",
   "outputs": [],
   "source": [
    "from openai import OpenAI\n",
    "\n",
    "client = OpenAI()\n",
    "completion = client.chat.completions.create(\n",
    "  temperature=0,\n",
    "  model=\"gpt-3.5-turbo\",\n",
    "  messages=[\n",
    "    {\"role\": \"system\", \"content\": \"You are a person with the given personality traits\"},\n",
    "    {\"role\": \"user\", \"content\": prompt}\n",
    "  ]\n",
    ")"
   ],
   "metadata": {
    "collapsed": false,
    "ExecuteTime": {
     "end_time": "2024-04-18T02:09:26.063431Z",
     "start_time": "2024-04-18T02:09:18.039905Z"
    }
   },
   "id": "5638f4886c486a59",
   "execution_count": 13
  },
  {
   "cell_type": "code",
   "outputs": [
    {
     "data": {
      "text/plain": "ChatCompletion(id='chatcmpl-9FBV8aYeJJP5Ewtyf8gPZ4goou59G', choices=[Choice(finish_reason='stop', index=0, logprobs=None, message=ChatCompletionMessage(content='{\\n  \"Bashful\": 2,\\n  \"Bold\": 7,\\n  \"Careless\": 4,\\n  \"Cold\": 2,\\n  \"Complex\": 2,\\n  \"Cooperative\": 8,\\n  \"Creative\": 6,\\n  \"Deep\": 3,\\n  \"Disorganized\": 4,\\n  \"Efficient\": 6,\\n  \"Energetic\": 8,\\n  \"Envious\": 2,\\n  \"Extraverted\": 9,\\n  \"Fretful\": 5,\\n  \"Harsh\": 3,\\n  \"Imaginative\": 6,\\n  \"Inefficient\": 4,\\n  \"Intellectual\": 7,\\n  \"Jealous\": 2,\\n  \"Kind\": 8,\\n  \"Moody\": 6,\\n  \"Organized\": 6,\\n  \"Philosophical\": 7,\\n  \"Practical\": 6,\\n  \"Quiet\": 3,\\n  \"Relaxed\": 6,\\n  \"Rude\": 2,\\n  \"Shy\": 3,\\n  \"Sloppy\": 4,\\n  \"Sympathetic\": 9,\\n  \"Systematic\": 6,\\n  \"Talkative\": 8,\\n  \"Temperamental\": 5,\\n  \"Touchy\": 4,\\n  \"Uncreative\": 3,\\n  \"Unenvious\": 8,\\n  \"Unintellectual\": 3,\\n  \"Unsympathetic\": 2,\\n  \"Warm\": 9,\\n  \"Withdrawn\": 3\\n}', role='assistant', function_call=None, tool_calls=None))], created=1713406158, model='gpt-3.5-turbo-0125', object='chat.completion', system_fingerprint='fp_c2295e73ad', usage=CompletionUsage(completion_tokens=332, prompt_tokens=921, total_tokens=1253))"
     },
     "execution_count": 14,
     "metadata": {},
     "output_type": "execute_result"
    }
   ],
   "source": [
    "completion"
   ],
   "metadata": {
    "collapsed": false,
    "ExecuteTime": {
     "end_time": "2024-04-18T02:09:26.068544Z",
     "start_time": "2024-04-18T02:09:26.064898Z"
    }
   },
   "id": "692028a1178040da",
   "execution_count": 14
  },
  {
   "cell_type": "markdown",
   "source": [
    "# Generate completions for the entire dataset\n",
    "Now that we have tested the framework, and it works very well. Let us generate completions for the entire dataset."
   ],
   "metadata": {
    "collapsed": false
   },
   "id": "2ac5e0e39506aa70"
  },
  {
   "cell_type": "code",
   "outputs": [],
   "source": [
    "# define a function to get the completion of an individual\n",
    "def get_completion(person):\n",
    "    prompt = get_prompt(person['combined_bfi2'])\n",
    "    completion = client.chat.completions.create(\n",
    "        temperature=0, \n",
    "        model=\"gpt-3.5-turbo\",\n",
    "        messages=[\n",
    "            {\"role\": \"system\", \"content\": \"You are a person with the given personality traits\"},\n",
    "            {\"role\": \"user\", \"content\": prompt}\n",
    "        ]\n",
    "    )\n",
    "    return completion"
   ],
   "metadata": {
    "collapsed": false,
    "ExecuteTime": {
     "end_time": "2024-04-18T02:09:26.076476Z",
     "start_time": "2024-04-18T02:09:26.068040Z"
    }
   },
   "id": "8b6d138d8acc79fd",
   "execution_count": 15
  },
  {
   "cell_type": "code",
   "outputs": [],
   "source": [
    "# get completions for the entire dataset\n",
    "completions = data.apply(get_completion, axis=1)"
   ],
   "metadata": {
    "collapsed": false,
    "ExecuteTime": {
     "end_time": "2024-04-18T03:17:06.315891Z",
     "start_time": "2024-04-18T02:09:26.071826Z"
    }
   },
   "id": "5a8c41ec2ccdca30",
   "execution_count": 16
  },
  {
   "cell_type": "code",
   "outputs": [
    {
     "name": "stdout",
     "output_type": "stream",
     "text": [
      "(438, 705)\n",
      "(438,)\n"
     ]
    }
   ],
   "source": [
    "# print the shape of df \n",
    "print(data.shape)\n",
    "\n",
    "# print the shape of completions\n",
    "print(completions.shape)"
   ],
   "metadata": {
    "collapsed": false,
    "ExecuteTime": {
     "end_time": "2024-04-18T03:17:06.373228Z",
     "start_time": "2024-04-18T03:17:06.314465Z"
    }
   },
   "id": "5a346bfed7d02939",
   "execution_count": 17
  },
  {
   "cell_type": "code",
   "outputs": [],
   "source": [
    "import json\n",
    "\n",
    "# Define a custom serializer for Choice objects\n",
    "def serialize_choice(choice):\n",
    "    return {\n",
    "        \"finish_reason\": choice.finish_reason,\n",
    "        \"index\": choice.index,\n",
    "        \"logprobs\": choice.logprobs,\n",
    "        \"message\": {\n",
    "            \"content\": choice.message.content,\n",
    "            \"role\": choice.message.role,\n",
    "            \"function_call\": choice.message.function_call,\n",
    "            \"tool_calls\": choice.message.tool_calls\n",
    "        }\n",
    "    }\n",
    "\n",
    "# Define a custom serializer for ChatCompletion objects\n",
    "def serialize_chat_completion(completion):\n",
    "    return {\n",
    "        \"id\": completion.id,\n",
    "        \"choices\": [serialize_choice(choice) for choice in completion.choices],\n",
    "        \"created\": completion.created,\n",
    "        \"model\": completion.model,\n",
    "        \"object\": completion.object,\n",
    "        \"usage\": {\n",
    "            \"completion_tokens\": completion.usage.completion_tokens,\n",
    "            \"prompt_tokens\": completion.usage.prompt_tokens,\n",
    "            \"total_tokens\": completion.usage.total_tokens\n",
    "        }\n",
    "    }\n",
    "\n",
    "# Serialize the list of ChatCompletion objects to a JSON file\n",
    "with open('bfi_to_mini_temp0.json', 'w') as json_file:\n",
    "    json.dump([serialize_chat_completion(completion) for completion in completions], json_file, indent=4)"
   ],
   "metadata": {
    "collapsed": false,
    "ExecuteTime": {
     "end_time": "2024-04-18T03:17:06.513075Z",
     "start_time": "2024-04-18T03:17:06.330920Z"
    }
   },
   "id": "7512ba3fc0f64009",
   "execution_count": 18
  }
 ],
 "metadata": {
  "kernelspec": {
   "display_name": "Python 3",
   "language": "python",
   "name": "python3"
  },
  "language_info": {
   "codemirror_mode": {
    "name": "ipython",
    "version": 2
   },
   "file_extension": ".py",
   "mimetype": "text/x-python",
   "name": "python",
   "nbconvert_exporter": "python",
   "pygments_lexer": "ipython2",
   "version": "2.7.6"
  }
 },
 "nbformat": 4,
 "nbformat_minor": 5
}
