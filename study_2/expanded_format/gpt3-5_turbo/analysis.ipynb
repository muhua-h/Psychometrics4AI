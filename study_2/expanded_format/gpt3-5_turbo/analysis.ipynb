{
 "cells": [
  {
   "cell_type": "markdown",
   "source": [
    "# Analysis of convergence "
   ],
   "metadata": {
    "collapsed": false
   },
   "id": "e7e131b623961af1"
  },
  {
   "cell_type": "code",
   "outputs": [
    {
     "data": {
      "text/plain": "   case_id   age sex  ethnicity  rel_acquaintance  rel_friend  rel_roommate  \\\n0        1  27.0   M        2.0               NaN         NaN           NaN   \n1        2  26.0   M        3.0               NaN         NaN           NaN   \n2        3  24.0   F        4.0               NaN         NaN           NaN   \n\n   rel_boygirlfriend  rel_relative  rel_other  ... Unenvious  Unintellectual  \\\n0                NaN           NaN        NaN  ...         9               2   \n1                NaN           NaN        NaN  ...         7               4   \n2                NaN           NaN        NaN  ...         8               2   \n\n   Unsympathetic  Warm  Withdrawn  miniMarker_simulated_E  \\\n0              2     9          3                      61   \n1              3     7          4                      51   \n2              2     8          9                      14   \n\n   miniMarker_simulated_A  miniMarker_simulated_C  miniMarker_simulated_N  \\\n0                      66                      48                      28   \n1                      56                      44                      29   \n2                      63                      47                      33   \n\n   miniMarker_simulated_O  \n0                      47  \n1                      49  \n2                      61  \n\n[3 rows x 750 columns]",
      "text/html": "<div>\n<style scoped>\n    .dataframe tbody tr th:only-of-type {\n        vertical-align: middle;\n    }\n\n    .dataframe tbody tr th {\n        vertical-align: top;\n    }\n\n    .dataframe thead th {\n        text-align: right;\n    }\n</style>\n<table border=\"1\" class=\"dataframe\">\n  <thead>\n    <tr style=\"text-align: right;\">\n      <th></th>\n      <th>case_id</th>\n      <th>age</th>\n      <th>sex</th>\n      <th>ethnicity</th>\n      <th>rel_acquaintance</th>\n      <th>rel_friend</th>\n      <th>rel_roommate</th>\n      <th>rel_boygirlfriend</th>\n      <th>rel_relative</th>\n      <th>rel_other</th>\n      <th>...</th>\n      <th>Unenvious</th>\n      <th>Unintellectual</th>\n      <th>Unsympathetic</th>\n      <th>Warm</th>\n      <th>Withdrawn</th>\n      <th>miniMarker_simulated_E</th>\n      <th>miniMarker_simulated_A</th>\n      <th>miniMarker_simulated_C</th>\n      <th>miniMarker_simulated_N</th>\n      <th>miniMarker_simulated_O</th>\n    </tr>\n  </thead>\n  <tbody>\n    <tr>\n      <th>0</th>\n      <td>1</td>\n      <td>27.0</td>\n      <td>M</td>\n      <td>2.0</td>\n      <td>NaN</td>\n      <td>NaN</td>\n      <td>NaN</td>\n      <td>NaN</td>\n      <td>NaN</td>\n      <td>NaN</td>\n      <td>...</td>\n      <td>9</td>\n      <td>2</td>\n      <td>2</td>\n      <td>9</td>\n      <td>3</td>\n      <td>61</td>\n      <td>66</td>\n      <td>48</td>\n      <td>28</td>\n      <td>47</td>\n    </tr>\n    <tr>\n      <th>1</th>\n      <td>2</td>\n      <td>26.0</td>\n      <td>M</td>\n      <td>3.0</td>\n      <td>NaN</td>\n      <td>NaN</td>\n      <td>NaN</td>\n      <td>NaN</td>\n      <td>NaN</td>\n      <td>NaN</td>\n      <td>...</td>\n      <td>7</td>\n      <td>4</td>\n      <td>3</td>\n      <td>7</td>\n      <td>4</td>\n      <td>51</td>\n      <td>56</td>\n      <td>44</td>\n      <td>29</td>\n      <td>49</td>\n    </tr>\n    <tr>\n      <th>2</th>\n      <td>3</td>\n      <td>24.0</td>\n      <td>F</td>\n      <td>4.0</td>\n      <td>NaN</td>\n      <td>NaN</td>\n      <td>NaN</td>\n      <td>NaN</td>\n      <td>NaN</td>\n      <td>NaN</td>\n      <td>...</td>\n      <td>8</td>\n      <td>2</td>\n      <td>2</td>\n      <td>8</td>\n      <td>9</td>\n      <td>14</td>\n      <td>63</td>\n      <td>47</td>\n      <td>33</td>\n      <td>61</td>\n    </tr>\n  </tbody>\n</table>\n<p>3 rows × 750 columns</p>\n</div>"
     },
     "execution_count": 1,
     "metadata": {},
     "output_type": "execute_result"
    }
   ],
   "source": [
    "import pandas as pd\n",
    "\n",
    "data = pd.read_csv('study1_with_simulation_result.csv')\n",
    "\n",
    "# preview data \n",
    "data.head(3)"
   ],
   "metadata": {
    "collapsed": false,
    "ExecuteTime": {
     "end_time": "2024-04-18T04:48:09.541781Z",
     "start_time": "2024-04-18T04:48:09.141589Z"
    }
   },
   "id": "2906b8f6efd589d2",
   "execution_count": 1
  },
  {
   "cell_type": "code",
   "outputs": [],
   "source": [
    "# get original BFI score \n",
    "original_bfi2_e = data['bfi2_e']\n",
    "original_bfi2_a = data['bfi2_a']\n",
    "original_bfi2_c = data['bfi2_c']\n",
    "original_bfi2_n = data['bfi2_n']\n",
    "original_bfi2_o = data['bfi2_o']"
   ],
   "metadata": {
    "collapsed": false,
    "ExecuteTime": {
     "end_time": "2024-04-18T04:48:09.542612Z",
     "start_time": "2024-04-18T04:48:09.539436Z"
    }
   },
   "id": "12340da93b5528ad",
   "execution_count": 2
  },
  {
   "cell_type": "code",
   "outputs": [],
   "source": [
    "# get original mini_marker_score\n",
    "original_tda_a = data['tda_a']\n",
    "original_tda_e = data['tda_e']\n",
    "original_tda_n = data['tda_n']\n",
    "original_tda_c = data['tda_c']\n",
    "original_tda_o = data['tda_o']"
   ],
   "metadata": {
    "collapsed": false,
    "ExecuteTime": {
     "end_time": "2024-04-18T04:48:09.547255Z",
     "start_time": "2024-04-18T04:48:09.543377Z"
    }
   },
   "id": "977adb889acd4b0c",
   "execution_count": 3
  },
  {
   "cell_type": "code",
   "outputs": [],
   "source": [
    "# get simulated mini_marker_score\n",
    "sim_tda_a = data['miniMarker_simulated_A'] /8\n",
    "sim_tda_e = data['miniMarker_simulated_E'] /8\n",
    "sim_tda_n = data['miniMarker_simulated_N'] /8\n",
    "sim_tda_c = data['miniMarker_simulated_C'] /8\n",
    "sim_tda_o = data['miniMarker_simulated_O'] /8"
   ],
   "metadata": {
    "collapsed": false,
    "ExecuteTime": {
     "end_time": "2024-04-18T04:48:09.549971Z",
     "start_time": "2024-04-18T04:48:09.547661Z"
    }
   },
   "id": "5efff21930cebb5d",
   "execution_count": 4
  },
  {
   "cell_type": "markdown",
   "source": [
    "# Compute correlations"
   ],
   "metadata": {
    "collapsed": false
   },
   "id": "5015504e6679d097"
  },
  {
   "cell_type": "markdown",
   "source": [
    "## Replicating Soto's study"
   ],
   "metadata": {
    "collapsed": false
   },
   "id": "ff8a84536c992980"
  },
  {
   "cell_type": "code",
   "outputs": [
    {
     "data": {
      "text/plain": "0.801933672053827"
     },
     "execution_count": 5,
     "metadata": {},
     "output_type": "execute_result"
    }
   ],
   "source": [
    "from scipy.stats import pearsonr\n",
    "r_bfi_original_tda_e, _ = pearsonr(original_bfi2_e, original_tda_e)\n",
    "r_bfi_original_tda_a, _ = pearsonr(original_bfi2_a, original_tda_a)\n",
    "r_bfi_original_tda_n, _ = pearsonr(original_bfi2_n, original_tda_n)\n",
    "r_bfi_original_tda_c, _ = pearsonr(original_bfi2_c, original_tda_c)\n",
    "r_bfi_original_tda_o, _ = pearsonr(original_bfi2_o, original_tda_o)\n",
    "\n",
    "# compute the average correlation\n",
    "r_bfi_original_tda = (r_bfi_original_tda_e + r_bfi_original_tda_a + r_bfi_original_tda_n + r_bfi_original_tda_c + r_bfi_original_tda_o) / 5\n",
    "\n",
    "r_bfi_original_tda"
   ],
   "metadata": {
    "collapsed": false,
    "ExecuteTime": {
     "end_time": "2024-04-18T04:48:10.489129Z",
     "start_time": "2024-04-18T04:48:09.550608Z"
    }
   },
   "id": "f3d6498e808f4e0a",
   "execution_count": 5
  },
  {
   "cell_type": "code",
   "outputs": [
    {
     "name": "stdout",
     "output_type": "stream",
     "text": [
      "0.8845839782579082\n",
      "0.7962419547822508\n",
      "0.7384592648174876\n",
      "0.8399377903528379\n",
      "0.7504453720586505\n"
     ]
    }
   ],
   "source": [
    "print(r_bfi_original_tda_e)\n",
    "print(r_bfi_original_tda_a)\n",
    "print(r_bfi_original_tda_n)\n",
    "print(r_bfi_original_tda_c)\n",
    "print(r_bfi_original_tda_o)"
   ],
   "metadata": {
    "collapsed": false,
    "ExecuteTime": {
     "end_time": "2024-04-18T04:48:10.489650Z",
     "start_time": "2024-04-18T04:48:10.486873Z"
    }
   },
   "id": "c475d4904044ce6",
   "execution_count": 6
  },
  {
   "cell_type": "markdown",
   "source": [
    "## Examining the Simulation result: original BFI vs simulated mini_marker"
   ],
   "metadata": {
    "collapsed": false
   },
   "id": "63ad2905a1845913"
  },
  {
   "cell_type": "code",
   "outputs": [
    {
     "data": {
      "text/plain": "0.7895051847417606"
     },
     "execution_count": 7,
     "metadata": {},
     "output_type": "execute_result"
    }
   ],
   "source": [
    "r_bfi_sim_tda_e, _ = pearsonr(original_bfi2_e, sim_tda_e)\n",
    "r_bfi_sim_tda_a, _ = pearsonr(original_bfi2_a, sim_tda_a)\n",
    "r_bfi_sim_tda_n, _ = pearsonr(original_bfi2_n, sim_tda_n)\n",
    "r_bfi_sim_tda_c, _ = pearsonr(original_bfi2_c, sim_tda_c)\n",
    "r_bfi_sim_tda_o, _ = pearsonr(original_bfi2_o, sim_tda_o)\n",
    "\n",
    "# compute the average correlation\n",
    "r_bfi_sim_tda = (r_bfi_sim_tda_e + r_bfi_sim_tda_a + r_bfi_sim_tda_n + r_bfi_sim_tda_c + r_bfi_sim_tda_o) / 5\n",
    "\n",
    "r_bfi_sim_tda"
   ],
   "metadata": {
    "collapsed": false,
    "ExecuteTime": {
     "end_time": "2024-04-18T04:48:10.496284Z",
     "start_time": "2024-04-18T04:48:10.492789Z"
    }
   },
   "id": "3c706d141d0f773",
   "execution_count": 7
  },
  {
   "cell_type": "code",
   "outputs": [
    {
     "name": "stdout",
     "output_type": "stream",
     "text": [
      "0.8334198294450234\n",
      "0.648158418113815\n",
      "0.8032903599629935\n",
      "0.839532633898929\n",
      "0.8231246822880419\n"
     ]
    }
   ],
   "source": [
    "print(r_bfi_sim_tda_e)\n",
    "print(r_bfi_sim_tda_a)\n",
    "print(r_bfi_sim_tda_n)\n",
    "print(r_bfi_sim_tda_c)\n",
    "print(r_bfi_sim_tda_o)"
   ],
   "metadata": {
    "collapsed": false,
    "ExecuteTime": {
     "end_time": "2024-04-18T04:48:10.499650Z",
     "start_time": "2024-04-18T04:48:10.495968Z"
    }
   },
   "id": "181bccba17b50e9c",
   "execution_count": 8
  },
  {
   "cell_type": "markdown",
   "source": [
    "## Examining the Simulation result: original BFI vs simulated mini_marker"
   ],
   "metadata": {
    "collapsed": false
   },
   "id": "8582b41d252328c0"
  },
  {
   "cell_type": "code",
   "outputs": [],
   "source": [
    "r_sim_tda_e, _ = pearsonr(sim_tda_e, original_tda_e)\n",
    "r_sim_tda_a, _ = pearsonr(sim_tda_a, original_tda_a)\n",
    "r_sim_tda_n, _ = pearsonr(sim_tda_n, original_tda_n)\n",
    "r_sim_tda_c, _ = pearsonr(sim_tda_c, original_tda_c)\n",
    "r_sim_tda_o, _ = pearsonr(sim_tda_o, original_tda_o)"
   ],
   "metadata": {
    "collapsed": false,
    "ExecuteTime": {
     "end_time": "2024-04-18T04:48:10.505536Z",
     "start_time": "2024-04-18T04:48:10.501654Z"
    }
   },
   "id": "8e76dc75dbbe66d3",
   "execution_count": 9
  },
  {
   "cell_type": "code",
   "outputs": [
    {
     "name": "stdout",
     "output_type": "stream",
     "text": [
      "0.7780370453234239\n",
      "0.635373366790835\n",
      "0.6168498575984267\n",
      "0.7473372679463908\n",
      "0.6700430484351185\n"
     ]
    }
   ],
   "source": [
    "print(r_sim_tda_e)\n",
    "print(r_sim_tda_a)\n",
    "print(r_sim_tda_n)\n",
    "print(r_sim_tda_c)\n",
    "print(r_sim_tda_o)"
   ],
   "metadata": {
    "collapsed": false,
    "ExecuteTime": {
     "end_time": "2024-04-18T04:48:10.540482Z",
     "start_time": "2024-04-18T04:48:10.504948Z"
    }
   },
   "id": "40516a8f7a5c483e",
   "execution_count": 10
  },
  {
   "cell_type": "code",
   "outputs": [
    {
     "data": {
      "text/plain": "0.689528117218839"
     },
     "execution_count": 11,
     "metadata": {},
     "output_type": "execute_result"
    }
   ],
   "source": [
    "# compute the average correlation\n",
    "r_sim_tda = (r_sim_tda_e + r_sim_tda_a + r_sim_tda_n + r_sim_tda_c + r_sim_tda_o) / 5\n",
    "\n",
    "r_sim_tda"
   ],
   "metadata": {
    "collapsed": false,
    "ExecuteTime": {
     "end_time": "2024-04-18T04:48:10.540880Z",
     "start_time": "2024-04-18T04:48:10.508812Z"
    }
   },
   "id": "218aecf8cec3e13c",
   "execution_count": 11
  }
 ],
 "metadata": {
  "kernelspec": {
   "display_name": "Python 3",
   "language": "python",
   "name": "python3"
  },
  "language_info": {
   "codemirror_mode": {
    "name": "ipython",
    "version": 2
   },
   "file_extension": ".py",
   "mimetype": "text/x-python",
   "name": "python",
   "nbconvert_exporter": "python",
   "pygments_lexer": "ipython2",
   "version": "2.7.6"
  }
 },
 "nbformat": 4,
 "nbformat_minor": 5
}
