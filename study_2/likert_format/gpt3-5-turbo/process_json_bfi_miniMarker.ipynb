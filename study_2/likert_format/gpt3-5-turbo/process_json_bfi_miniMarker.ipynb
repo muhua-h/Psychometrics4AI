{
 "cells": [
  {
   "cell_type": "code",
   "outputs": [],
   "source": [
    "import pandas as pd"
   ],
   "metadata": {
    "collapsed": false,
    "ExecuteTime": {
     "end_time": "2024-03-03T05:21:13.964982Z",
     "start_time": "2024-03-03T05:21:13.370857Z"
    }
   },
   "id": "792f46fb6101ed4c",
   "execution_count": 1
  },
  {
   "cell_type": "code",
   "outputs": [],
   "source": [
    "# load bfi_moral_temp0.7.json \n",
    "import json\n",
    "with open('bfi_to_mini_temp0.json') as f:\n",
    "    data = json.load(f)"
   ],
   "metadata": {
    "collapsed": true,
    "ExecuteTime": {
     "end_time": "2024-03-03T05:21:13.970496Z",
     "start_time": "2024-03-03T05:21:13.965723Z"
    }
   },
   "id": "initial_id",
   "execution_count": 2
  },
  {
   "cell_type": "code",
   "outputs": [],
   "source": [
    "response = []\n",
    "\n",
    "for obj in data:\n",
    "    # Iterate through each choice\n",
    "    for choice in obj['choices']:\n",
    "        # Extract the content field\n",
    "        content = choice['message']['content']\n",
    "        # Check if content starts with ```json\\n and ends with \\n```, and remove these parts\n",
    "        if content.startswith(\"```json\\n\") and content.endswith(\"\\n```\"):\n",
    "            content = content[7:-4]  # Remove the ```json\\n prefix and \\n``` suffix\n",
    "        # Parse the content as JSON\n",
    "        content_json = json.loads(content)\n",
    "        # Add the decision to the list of response\n",
    "        response.append(content_json)"
   ],
   "metadata": {
    "collapsed": false,
    "ExecuteTime": {
     "end_time": "2024-03-03T05:21:13.976438Z",
     "start_time": "2024-03-03T05:21:13.974597Z"
    }
   },
   "id": "6878a40fadc60a50",
   "execution_count": 3
  },
  {
   "cell_type": "code",
   "outputs": [],
   "source": [
    "decision_df = pd.DataFrame(response)"
   ],
   "metadata": {
    "collapsed": false,
    "ExecuteTime": {
     "end_time": "2024-03-03T05:21:13.982971Z",
     "start_time": "2024-03-03T05:21:13.981146Z"
    }
   },
   "id": "bb6fb9e476492a9d",
   "execution_count": 4
  },
  {
   "cell_type": "code",
   "outputs": [
    {
     "data": {
      "text/plain": "   Bashful  Bold  Careless  Cold  Complex  Cooperative  Creative  Deep  \\\n0        2     4         4     1        2            5         4     2   \n1        4     2         4     4        4            4         4     4   \n2        5     3         4     2        4            5         5     4   \n3        6     6         4     4        6            6         6     6   \n4        4     4         2     3        3            4         4     3   \n\n   Disorganized  Efficient  ...  Systematic  Talkative  Temperamental  Touchy  \\\n0             2          4  ...           2          5              1       1   \n1             4          4  ...           4          4              4       4   \n2             2          4  ...           5          1              1       1   \n3             4          4  ...           4          6              4       4   \n4             1          5  ...           5          3              3       4   \n\n   Uncreative  Unenvious  Unintellectual  Unsympathetic  Warm  Withdrawn  \n0           4          5               4              1     5          4  \n1           2          4               4              4     4          4  \n2           2          9               2              2     5          5  \n3           4          6               4              4     6          4  \n4           2          5               2              2     4          4  \n\n[5 rows x 40 columns]",
      "text/html": "<div>\n<style scoped>\n    .dataframe tbody tr th:only-of-type {\n        vertical-align: middle;\n    }\n\n    .dataframe tbody tr th {\n        vertical-align: top;\n    }\n\n    .dataframe thead th {\n        text-align: right;\n    }\n</style>\n<table border=\"1\" class=\"dataframe\">\n  <thead>\n    <tr style=\"text-align: right;\">\n      <th></th>\n      <th>Bashful</th>\n      <th>Bold</th>\n      <th>Careless</th>\n      <th>Cold</th>\n      <th>Complex</th>\n      <th>Cooperative</th>\n      <th>Creative</th>\n      <th>Deep</th>\n      <th>Disorganized</th>\n      <th>Efficient</th>\n      <th>...</th>\n      <th>Systematic</th>\n      <th>Talkative</th>\n      <th>Temperamental</th>\n      <th>Touchy</th>\n      <th>Uncreative</th>\n      <th>Unenvious</th>\n      <th>Unintellectual</th>\n      <th>Unsympathetic</th>\n      <th>Warm</th>\n      <th>Withdrawn</th>\n    </tr>\n  </thead>\n  <tbody>\n    <tr>\n      <th>0</th>\n      <td>2</td>\n      <td>4</td>\n      <td>4</td>\n      <td>1</td>\n      <td>2</td>\n      <td>5</td>\n      <td>4</td>\n      <td>2</td>\n      <td>2</td>\n      <td>4</td>\n      <td>...</td>\n      <td>2</td>\n      <td>5</td>\n      <td>1</td>\n      <td>1</td>\n      <td>4</td>\n      <td>5</td>\n      <td>4</td>\n      <td>1</td>\n      <td>5</td>\n      <td>4</td>\n    </tr>\n    <tr>\n      <th>1</th>\n      <td>4</td>\n      <td>2</td>\n      <td>4</td>\n      <td>4</td>\n      <td>4</td>\n      <td>4</td>\n      <td>4</td>\n      <td>4</td>\n      <td>4</td>\n      <td>4</td>\n      <td>...</td>\n      <td>4</td>\n      <td>4</td>\n      <td>4</td>\n      <td>4</td>\n      <td>2</td>\n      <td>4</td>\n      <td>4</td>\n      <td>4</td>\n      <td>4</td>\n      <td>4</td>\n    </tr>\n    <tr>\n      <th>2</th>\n      <td>5</td>\n      <td>3</td>\n      <td>4</td>\n      <td>2</td>\n      <td>4</td>\n      <td>5</td>\n      <td>5</td>\n      <td>4</td>\n      <td>2</td>\n      <td>4</td>\n      <td>...</td>\n      <td>5</td>\n      <td>1</td>\n      <td>1</td>\n      <td>1</td>\n      <td>2</td>\n      <td>9</td>\n      <td>2</td>\n      <td>2</td>\n      <td>5</td>\n      <td>5</td>\n    </tr>\n    <tr>\n      <th>3</th>\n      <td>6</td>\n      <td>6</td>\n      <td>4</td>\n      <td>4</td>\n      <td>6</td>\n      <td>6</td>\n      <td>6</td>\n      <td>6</td>\n      <td>4</td>\n      <td>4</td>\n      <td>...</td>\n      <td>4</td>\n      <td>6</td>\n      <td>4</td>\n      <td>4</td>\n      <td>4</td>\n      <td>6</td>\n      <td>4</td>\n      <td>4</td>\n      <td>6</td>\n      <td>4</td>\n    </tr>\n    <tr>\n      <th>4</th>\n      <td>4</td>\n      <td>4</td>\n      <td>2</td>\n      <td>3</td>\n      <td>3</td>\n      <td>4</td>\n      <td>4</td>\n      <td>3</td>\n      <td>1</td>\n      <td>5</td>\n      <td>...</td>\n      <td>5</td>\n      <td>3</td>\n      <td>3</td>\n      <td>4</td>\n      <td>2</td>\n      <td>5</td>\n      <td>2</td>\n      <td>2</td>\n      <td>4</td>\n      <td>4</td>\n    </tr>\n  </tbody>\n</table>\n<p>5 rows × 40 columns</p>\n</div>"
     },
     "execution_count": 5,
     "metadata": {},
     "output_type": "execute_result"
    }
   ],
   "source": [
    "decision_df.head()"
   ],
   "metadata": {
    "collapsed": false,
    "ExecuteTime": {
     "end_time": "2024-03-03T05:21:13.994816Z",
     "start_time": "2024-03-03T05:21:13.987318Z"
    }
   },
   "id": "f81189fe63d978a9",
   "execution_count": 5
  },
  {
   "cell_type": "code",
   "outputs": [
    {
     "data": {
      "text/plain": "Bashful           0\nBold              0\nCareless          0\nCold              0\nComplex           0\nCooperative       0\nCreative          0\nDeep              0\nDisorganized      0\nEfficient         0\nEnergetic         0\nEnvious           0\nExtraverted       0\nFretful           0\nHarsh             0\nImaginative       0\nInefficient       0\nIntellectual      0\nJealous           0\nKind              0\nMoody             0\nOrganized         0\nPhilosophical     0\nPractical         0\nQuiet             0\nRelaxed           0\nRude              0\nShy               0\nSloppy            0\nSympathetic       0\nSystematic        0\nTalkative         0\nTemperamental     0\nTouchy            0\nUncreative        0\nUnenvious         0\nUnintellectual    0\nUnsympathetic     0\nWarm              0\nWithdrawn         0\ndtype: int64"
     },
     "execution_count": 6,
     "metadata": {},
     "output_type": "execute_result"
    }
   ],
   "source": [
    "# check if there is any missing value\n",
    "decision_df.isnull().sum()"
   ],
   "metadata": {
    "collapsed": false,
    "ExecuteTime": {
     "end_time": "2024-03-03T05:21:13.997047Z",
     "start_time": "2024-03-03T05:21:13.993948Z"
    }
   },
   "id": "78edbd1b276c74b6",
   "execution_count": 6
  },
  {
   "cell_type": "markdown",
   "source": [
    "Great, the data is complete and ready for analysis."
   ],
   "metadata": {
    "collapsed": false
   },
   "id": "13671ee6678a6962"
  },
  {
   "cell_type": "code",
   "outputs": [
    {
     "data": {
      "text/plain": "   miniMarker_simulated_E  miniMarker_simulated_A  miniMarker_simulated_C  \\\n0                      47                      53                      43   \n1                      38                      40                      40   \n2                      28                      48                      49   \n3                      44                      48                      40   \n4                      37                      44                      53   \n\n   miniMarker_simulated_N  miniMarker_simulated_O  \n0                      24                      26  \n1                      36                      38  \n2                      20                      38  \n3                      34                      48  \n4                      31                      37  ",
      "text/html": "<div>\n<style scoped>\n    .dataframe tbody tr th:only-of-type {\n        vertical-align: middle;\n    }\n\n    .dataframe tbody tr th {\n        vertical-align: top;\n    }\n\n    .dataframe thead th {\n        text-align: right;\n    }\n</style>\n<table border=\"1\" class=\"dataframe\">\n  <thead>\n    <tr style=\"text-align: right;\">\n      <th></th>\n      <th>miniMarker_simulated_E</th>\n      <th>miniMarker_simulated_A</th>\n      <th>miniMarker_simulated_C</th>\n      <th>miniMarker_simulated_N</th>\n      <th>miniMarker_simulated_O</th>\n    </tr>\n  </thead>\n  <tbody>\n    <tr>\n      <th>0</th>\n      <td>47</td>\n      <td>53</td>\n      <td>43</td>\n      <td>24</td>\n      <td>26</td>\n    </tr>\n    <tr>\n      <th>1</th>\n      <td>38</td>\n      <td>40</td>\n      <td>40</td>\n      <td>36</td>\n      <td>38</td>\n    </tr>\n    <tr>\n      <th>2</th>\n      <td>28</td>\n      <td>48</td>\n      <td>49</td>\n      <td>20</td>\n      <td>38</td>\n    </tr>\n    <tr>\n      <th>3</th>\n      <td>44</td>\n      <td>48</td>\n      <td>40</td>\n      <td>34</td>\n      <td>48</td>\n    </tr>\n    <tr>\n      <th>4</th>\n      <td>37</td>\n      <td>44</td>\n      <td>53</td>\n      <td>31</td>\n      <td>37</td>\n    </tr>\n  </tbody>\n</table>\n</div>"
     },
     "execution_count": 7,
     "metadata": {},
     "output_type": "execute_result"
    }
   ],
   "source": [
    "def reverse_score(score):\n",
    "    return 10 - score\n",
    "\n",
    "def calculate_big_five_scores(df):\n",
    "    # Mapping of dimensions to their items (with indication of whether to reverse-score the item)\n",
    "    dimensions = {\n",
    "        'miniMarker_simulated_E': [('Bashful', True), ('Bold', False), ('Energetic', False), ('Extraverted', False), ('Quiet', True), ('Shy', True), ('Talkative', False), ('Withdrawn', True)],\n",
    "        \n",
    "        'miniMarker_simulated_A': [('Cold', True), ('Cooperative', False), ('Harsh', True), ('Kind', False), ('Rude', True), ('Sympathetic', False), ('Unsympathetic', True), ('Warm', False)],\n",
    "        \n",
    "        'miniMarker_simulated_C': [('Careless', True), ('Disorganized', True), ('Efficient', False), ('Inefficient', True), ('Organized', False), ('Practical', False), ('Sloppy', True), ('Systematic', False)],\n",
    "        \n",
    "        'miniMarker_simulated_N': [('Envious', False), ('Fretful', False), ('Jealous', False), ('Moody', False), ('Relaxed', True), ('Temperamental', False), ('Touchy', False), ('Unenvious', True)],\n",
    "        \n",
    "        'miniMarker_simulated_O': [('Complex', False), ('Deep', False), ('Creative', False), ('Imaginative', False), ('Intellectual', False), ('Philosophical', False), ('Uncreative', True), ('Unintellectual', True)]\n",
    "    }\n",
    "\n",
    "    # Initialize a dictionary to hold the total scores for each dimension\n",
    "    scores = {dimension: 0 for dimension in dimensions}\n",
    "\n",
    "    # Iterate through each dimension and its items\n",
    "    for dimension, items in dimensions.items():\n",
    "        for item, reverse in items:\n",
    "            # Sum the scores for each item, reversing the score if necessary\n",
    "            if reverse:\n",
    "                scores[dimension] += df[item].apply(reverse_score)\n",
    "            else:\n",
    "                scores[dimension] += df[item]\n",
    "\n",
    "    # Convert the scores dictionary to a DataFrame for easier viewing\n",
    "    scores_df = pd.DataFrame(scores, index=df.index)\n",
    "\n",
    "    return scores_df\n",
    "\n",
    "domain_score = calculate_big_five_scores(decision_df)\n",
    "\n",
    "domain_score.head()"
   ],
   "metadata": {
    "collapsed": false,
    "ExecuteTime": {
     "end_time": "2024-03-03T05:21:14.017617Z",
     "start_time": "2024-03-03T05:21:14.007989Z"
    }
   },
   "id": "1e445d1a30cffb54",
   "execution_count": 7
  },
  {
   "cell_type": "code",
   "outputs": [
    {
     "data": {
      "text/plain": "   Bashful  Bold  Careless  Cold  Complex  Cooperative  Creative  Deep  \\\n0        2     4         4     1        2            5         4     2   \n1        4     2         4     4        4            4         4     4   \n2        5     3         4     2        4            5         5     4   \n\n   Disorganized  Efficient  ...  Unenvious  Unintellectual  Unsympathetic  \\\n0             2          4  ...          5               4              1   \n1             4          4  ...          4               4              4   \n2             2          4  ...          9               2              2   \n\n   Warm  Withdrawn  miniMarker_simulated_E  miniMarker_simulated_A  \\\n0     5          4                      47                      53   \n1     4          4                      38                      40   \n2     5          5                      28                      48   \n\n   miniMarker_simulated_C  miniMarker_simulated_N  miniMarker_simulated_O  \n0                      43                      24                      26  \n1                      40                      36                      38  \n2                      49                      20                      38  \n\n[3 rows x 45 columns]",
      "text/html": "<div>\n<style scoped>\n    .dataframe tbody tr th:only-of-type {\n        vertical-align: middle;\n    }\n\n    .dataframe tbody tr th {\n        vertical-align: top;\n    }\n\n    .dataframe thead th {\n        text-align: right;\n    }\n</style>\n<table border=\"1\" class=\"dataframe\">\n  <thead>\n    <tr style=\"text-align: right;\">\n      <th></th>\n      <th>Bashful</th>\n      <th>Bold</th>\n      <th>Careless</th>\n      <th>Cold</th>\n      <th>Complex</th>\n      <th>Cooperative</th>\n      <th>Creative</th>\n      <th>Deep</th>\n      <th>Disorganized</th>\n      <th>Efficient</th>\n      <th>...</th>\n      <th>Unenvious</th>\n      <th>Unintellectual</th>\n      <th>Unsympathetic</th>\n      <th>Warm</th>\n      <th>Withdrawn</th>\n      <th>miniMarker_simulated_E</th>\n      <th>miniMarker_simulated_A</th>\n      <th>miniMarker_simulated_C</th>\n      <th>miniMarker_simulated_N</th>\n      <th>miniMarker_simulated_O</th>\n    </tr>\n  </thead>\n  <tbody>\n    <tr>\n      <th>0</th>\n      <td>2</td>\n      <td>4</td>\n      <td>4</td>\n      <td>1</td>\n      <td>2</td>\n      <td>5</td>\n      <td>4</td>\n      <td>2</td>\n      <td>2</td>\n      <td>4</td>\n      <td>...</td>\n      <td>5</td>\n      <td>4</td>\n      <td>1</td>\n      <td>5</td>\n      <td>4</td>\n      <td>47</td>\n      <td>53</td>\n      <td>43</td>\n      <td>24</td>\n      <td>26</td>\n    </tr>\n    <tr>\n      <th>1</th>\n      <td>4</td>\n      <td>2</td>\n      <td>4</td>\n      <td>4</td>\n      <td>4</td>\n      <td>4</td>\n      <td>4</td>\n      <td>4</td>\n      <td>4</td>\n      <td>4</td>\n      <td>...</td>\n      <td>4</td>\n      <td>4</td>\n      <td>4</td>\n      <td>4</td>\n      <td>4</td>\n      <td>38</td>\n      <td>40</td>\n      <td>40</td>\n      <td>36</td>\n      <td>38</td>\n    </tr>\n    <tr>\n      <th>2</th>\n      <td>5</td>\n      <td>3</td>\n      <td>4</td>\n      <td>2</td>\n      <td>4</td>\n      <td>5</td>\n      <td>5</td>\n      <td>4</td>\n      <td>2</td>\n      <td>4</td>\n      <td>...</td>\n      <td>9</td>\n      <td>2</td>\n      <td>2</td>\n      <td>5</td>\n      <td>5</td>\n      <td>28</td>\n      <td>48</td>\n      <td>49</td>\n      <td>20</td>\n      <td>38</td>\n    </tr>\n  </tbody>\n</table>\n<p>3 rows × 45 columns</p>\n</div>"
     },
     "execution_count": 8,
     "metadata": {},
     "output_type": "execute_result"
    }
   ],
   "source": [
    "# concatenate the two dataframes\n",
    "simulation_df = pd.concat([decision_df, domain_score], axis=1)\n",
    "\n",
    "# preview the first 3 rows\n",
    "simulation_df.head(3)"
   ],
   "metadata": {
    "collapsed": false,
    "ExecuteTime": {
     "end_time": "2024-03-03T05:21:14.053803Z",
     "start_time": "2024-03-03T05:21:14.010380Z"
    }
   },
   "id": "68b53de505c92890",
   "execution_count": 8
  },
  {
   "cell_type": "code",
   "outputs": [
    {
     "data": {
      "text/plain": "   case_id   age sex  ethnicity  rel_acquaintance  rel_friend  rel_roommate  \\\n0        1  27.0   M        2.0               NaN         NaN           NaN   \n1        2  26.0   M        3.0               NaN         NaN           NaN   \n2        3  24.0   F        4.0               NaN         NaN           NaN   \n\n   rel_boygirlfriend  rel_relative  rel_other  ... Unenvious  Unintellectual  \\\n0                NaN           NaN        NaN  ...         5               4   \n1                NaN           NaN        NaN  ...         4               4   \n2                NaN           NaN        NaN  ...         9               2   \n\n   Unsympathetic  Warm  Withdrawn  miniMarker_simulated_E  \\\n0              1     5          4                      47   \n1              4     4          4                      38   \n2              2     5          5                      28   \n\n   miniMarker_simulated_A  miniMarker_simulated_C  miniMarker_simulated_N  \\\n0                      53                      43                      24   \n1                      40                      40                      36   \n2                      48                      49                      20   \n\n   miniMarker_simulated_O  \n0                      26  \n1                      38  \n2                      38  \n\n[3 rows x 750 columns]",
      "text/html": "<div>\n<style scoped>\n    .dataframe tbody tr th:only-of-type {\n        vertical-align: middle;\n    }\n\n    .dataframe tbody tr th {\n        vertical-align: top;\n    }\n\n    .dataframe thead th {\n        text-align: right;\n    }\n</style>\n<table border=\"1\" class=\"dataframe\">\n  <thead>\n    <tr style=\"text-align: right;\">\n      <th></th>\n      <th>case_id</th>\n      <th>age</th>\n      <th>sex</th>\n      <th>ethnicity</th>\n      <th>rel_acquaintance</th>\n      <th>rel_friend</th>\n      <th>rel_roommate</th>\n      <th>rel_boygirlfriend</th>\n      <th>rel_relative</th>\n      <th>rel_other</th>\n      <th>...</th>\n      <th>Unenvious</th>\n      <th>Unintellectual</th>\n      <th>Unsympathetic</th>\n      <th>Warm</th>\n      <th>Withdrawn</th>\n      <th>miniMarker_simulated_E</th>\n      <th>miniMarker_simulated_A</th>\n      <th>miniMarker_simulated_C</th>\n      <th>miniMarker_simulated_N</th>\n      <th>miniMarker_simulated_O</th>\n    </tr>\n  </thead>\n  <tbody>\n    <tr>\n      <th>0</th>\n      <td>1</td>\n      <td>27.0</td>\n      <td>M</td>\n      <td>2.0</td>\n      <td>NaN</td>\n      <td>NaN</td>\n      <td>NaN</td>\n      <td>NaN</td>\n      <td>NaN</td>\n      <td>NaN</td>\n      <td>...</td>\n      <td>5</td>\n      <td>4</td>\n      <td>1</td>\n      <td>5</td>\n      <td>4</td>\n      <td>47</td>\n      <td>53</td>\n      <td>43</td>\n      <td>24</td>\n      <td>26</td>\n    </tr>\n    <tr>\n      <th>1</th>\n      <td>2</td>\n      <td>26.0</td>\n      <td>M</td>\n      <td>3.0</td>\n      <td>NaN</td>\n      <td>NaN</td>\n      <td>NaN</td>\n      <td>NaN</td>\n      <td>NaN</td>\n      <td>NaN</td>\n      <td>...</td>\n      <td>4</td>\n      <td>4</td>\n      <td>4</td>\n      <td>4</td>\n      <td>4</td>\n      <td>38</td>\n      <td>40</td>\n      <td>40</td>\n      <td>36</td>\n      <td>38</td>\n    </tr>\n    <tr>\n      <th>2</th>\n      <td>3</td>\n      <td>24.0</td>\n      <td>F</td>\n      <td>4.0</td>\n      <td>NaN</td>\n      <td>NaN</td>\n      <td>NaN</td>\n      <td>NaN</td>\n      <td>NaN</td>\n      <td>NaN</td>\n      <td>...</td>\n      <td>9</td>\n      <td>2</td>\n      <td>2</td>\n      <td>5</td>\n      <td>5</td>\n      <td>28</td>\n      <td>48</td>\n      <td>49</td>\n      <td>20</td>\n      <td>38</td>\n    </tr>\n  </tbody>\n</table>\n<p>3 rows × 750 columns</p>\n</div>"
     },
     "execution_count": 9,
     "metadata": {},
     "output_type": "execute_result"
    }
   ],
   "source": [
    "# load soto's data \n",
    "soto_df = pd.read_csv('study1_data_no_simulation.csv')\n",
    "\n",
    "# concatenate the two dataframes\n",
    "df = pd.concat([soto_df, simulation_df], axis=1)\n",
    "\n",
    "# preview the first 3 rows\n",
    "df.head(3)"
   ],
   "metadata": {
    "collapsed": false,
    "ExecuteTime": {
     "end_time": "2024-03-03T05:21:14.105573Z",
     "start_time": "2024-03-03T05:21:14.019065Z"
    }
   },
   "id": "4ab58f7ebdca3473",
   "execution_count": 9
  },
  {
   "cell_type": "code",
   "outputs": [],
   "source": [
    "# save the dataframe to a csv file\n",
    "df.to_csv('study1_with_simulation_result.csv', index=False)"
   ],
   "metadata": {
    "collapsed": false,
    "ExecuteTime": {
     "end_time": "2024-03-03T05:21:14.169366Z",
     "start_time": "2024-03-03T05:21:14.063768Z"
    }
   },
   "id": "df4aea515a7a4fc7",
   "execution_count": 10
  }
 ],
 "metadata": {
  "kernelspec": {
   "display_name": "Python 3",
   "language": "python",
   "name": "python3"
  },
  "language_info": {
   "codemirror_mode": {
    "name": "ipython",
    "version": 2
   },
   "file_extension": ".py",
   "mimetype": "text/x-python",
   "name": "python",
   "nbconvert_exporter": "python",
   "pygments_lexer": "ipython2",
   "version": "2.7.6"
  }
 },
 "nbformat": 4,
 "nbformat_minor": 5
}
